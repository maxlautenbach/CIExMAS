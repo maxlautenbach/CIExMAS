{
 "cells": [
  {
   "cell_type": "code",
   "id": "initial_id",
   "metadata": {
    "collapsed": true,
    "ExecuteTime": {
     "end_time": "2025-05-19T14:26:22.269333Z",
     "start_time": "2025-05-19T14:26:18.435429Z"
    }
   },
   "source": [
    "from helper_tools.base_setup import label_vector_store, model\n",
    "from helper_tools.validation import validate_turtle_response\n",
    "\n",
    "label_vector_store.similarity_search_with_score(\"Government\")"
   ],
   "outputs": [
    {
     "name": "stdout",
     "output_type": "stream",
     "text": [
      "Initializing Meta-Llama-3.3-70B-Instruct at SambaNova - 80.0 RPM\n"
     ]
    },
    {
     "data": {
      "text/plain": [
       "[(Document(metadata={'uri': 'http://www.wikidata.org/entity/Q327333', 'description': 'organisational part of a government responsible for specific public services, such as health, judiciary, education, transportation, foreign affairs, etc', 'type': 'entity', '_id': 'a7706c70-7f78-4b09-a079-1443f6c7a77c', '_collection_name': 'wikidata_labels'}, page_content='Government_agency'),\n",
       "  0.77123475),\n",
       " (Document(metadata={'uri': 'http://www.wikidata.org/entity/Q1140115', 'description': 'highest federal executive body in the Russian Federation, headed by the Prime Minister', 'type': 'entity', '_id': '8056e4fb-e662-4c1c-999c-412b4a98fc8b', '_collection_name': 'wikidata_labels'}, page_content='Government_of_Russia'),\n",
       "  0.7359689),\n",
       " (Document(metadata={'uri': 'http://www.wikidata.org/entity/Q82955', 'description': 'person involved in politics, person who holds or seeks positions in government', 'type': 'entity', '_id': '0c623392-8b2e-4214-b1bd-5c757c1df64d', '_collection_name': 'wikidata_labels'}, page_content='Politician'),\n",
       "  0.70299876),\n",
       " (Document(metadata={'uri': 'http://www.wikidata.org/entity/Q41176', 'description': 'structure, typically with a roof and walls, standing more or less permanently in one place', 'type': 'entity', '_id': '8403d24c-7e8f-4c02-9c42-dc9826805fc2', '_collection_name': 'wikidata_labels'}, page_content='Building'),\n",
       "  0.66425425)]"
      ]
     },
     "execution_count": 1,
     "metadata": {},
     "output_type": "execute_result"
    }
   ],
   "execution_count": 1
  },
  {
   "metadata": {
    "ExecuteTime": {
     "end_time": "2025-05-19T14:26:22.417589Z",
     "start_time": "2025-05-19T14:26:22.414285Z"
    }
   },
   "cell_type": "code",
   "source": [
    "validate_turtle_response(\"\"\"\n",
    "@prefix wd: <http://www.wikidata.org/entity/> .\n",
    "wd:Q18020434 wd:P1366 wd:Q50839256 .\n",
    "wd:Q50839256 wd:P749 wd:Q59261 .\n",
    "wd:Q18020434 wd:P749 wd:Q59261 .\n",
    "wd:Q50839256 wd:P159 wd:Q393454 .\n",
    "wd:Q18020434 wd:P31 wd:Q327333 .\n",
    "wd:Q50839256 wd:P31 wd:Q327333 .\n",
    "\"\"\")"
   ],
   "id": "f84025c09fbba554",
   "outputs": [
    {
     "data": {
      "text/plain": [
       "(True, '')"
      ]
     },
     "execution_count": 2,
     "metadata": {},
     "output_type": "execute_result"
    }
   ],
   "execution_count": 2
  },
  {
   "metadata": {
    "ExecuteTime": {
     "end_time": "2025-05-20T07:55:41.533848Z",
     "start_time": "2025-05-20T07:55:05.512814Z"
    }
   },
   "cell_type": "code",
   "source": [
    "import importlib\n",
    "from helper_tools.validation import *\n",
    "import helper_tools.validation\n",
    "\n",
    "importlib.reload(helper_tools.validation)\n",
    "\n",
    "get_entity_types(\"http://www.wikidata.org/entity/Q567\", \"http://www.wikidata.org/entity/P4100\", \"http://www.wikidata.org/entity/Q1023134\")"
   ],
   "id": "430a76c54946a7fd",
   "outputs": [
    {
     "name": "stdout",
     "output_type": "stream",
     "text": [
      "Initializing llama-3.3-70b at Cerebras - 30.0 RPM\n"
     ]
    },
    {
     "data": {
      "text/plain": [
       "(['Human'],\n",
       " ['Bundestag parliamentary group'],\n",
       " [{'uri': 'http://www.wikidata.org/entity/Q5',\n",
       "   'label': 'human',\n",
       "   'matches': False},\n",
       "  {'uri': 'http://www.wikidata.org/entity/Q7278',\n",
       "   'label': 'political party',\n",
       "   'matches': False}],\n",
       " [])"
      ]
     },
     "execution_count": 1,
     "metadata": {},
     "output_type": "execute_result"
    }
   ],
   "execution_count": 1
  },
  {
   "metadata": {},
   "cell_type": "code",
   "outputs": [],
   "execution_count": null,
   "source": "",
   "id": "6c3a9b855d837fbc"
  }
 ],
 "metadata": {
  "kernelspec": {
   "display_name": "Python 3",
   "language": "python",
   "name": "python3"
  },
  "language_info": {
   "codemirror_mode": {
    "name": "ipython",
    "version": 2
   },
   "file_extension": ".py",
   "mimetype": "text/x-python",
   "name": "python",
   "nbconvert_exporter": "python",
   "pygments_lexer": "ipython2",
   "version": "2.7.6"
  }
 },
 "nbformat": 4,
 "nbformat_minor": 5
}
