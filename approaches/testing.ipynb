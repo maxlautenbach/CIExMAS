{
 "cells": [
  {
   "cell_type": "code",
   "id": "initial_id",
   "metadata": {
    "collapsed": true,
    "ExecuteTime": {
     "end_time": "2025-05-15T08:52:21.388821Z",
     "start_time": "2025-05-15T08:52:21.153037Z"
    }
   },
   "source": [
    "from helper_tools.base_setup import label_vector_store\n",
    "\n",
    "label_vector_store.similarity_search_with_score(\"Government\")"
   ],
   "outputs": [
    {
     "data": {
      "text/plain": [
       "[(Document(metadata={'uri': 'http://www.wikidata.org/entity/Q327333', 'description': 'organisational part of a government responsible for specific public services, such as health, judiciary, education, transportation, foreign affairs, etc', 'type': 'entity', '_id': 'a7706c70-7f78-4b09-a079-1443f6c7a77c', '_collection_name': 'wikidata_labels'}, page_content='Government_agency'),\n",
       "  0.77123475),\n",
       " (Document(metadata={'uri': 'http://www.wikidata.org/entity/Q1140115', 'description': 'highest federal executive body in the Russian Federation, headed by the Prime Minister', 'type': 'entity', '_id': '8056e4fb-e662-4c1c-999c-412b4a98fc8b', '_collection_name': 'wikidata_labels'}, page_content='Government_of_Russia'),\n",
       "  0.7359689),\n",
       " (Document(metadata={'uri': 'http://www.wikidata.org/entity/Q82955', 'description': 'person involved in politics, person who holds or seeks positions in government', 'type': 'entity', '_id': '0c623392-8b2e-4214-b1bd-5c757c1df64d', '_collection_name': 'wikidata_labels'}, page_content='Politician'),\n",
       "  0.70299876),\n",
       " (Document(metadata={'uri': 'http://www.wikidata.org/entity/Q41176', 'description': 'structure, typically with a roof and walls, standing more or less permanently in one place', 'type': 'entity', '_id': '8403d24c-7e8f-4c02-9c42-dc9826805fc2', '_collection_name': 'wikidata_labels'}, page_content='Building'),\n",
       "  0.66425425)]"
      ]
     },
     "execution_count": 18,
     "metadata": {},
     "output_type": "execute_result"
    }
   ],
   "execution_count": 18
  },
  {
   "metadata": {},
   "cell_type": "code",
   "outputs": [],
   "execution_count": null,
   "source": "",
   "id": "f84025c09fbba554"
  }
 ],
 "metadata": {
  "kernelspec": {
   "display_name": "Python 3",
   "language": "python",
   "name": "python3"
  },
  "language_info": {
   "codemirror_mode": {
    "name": "ipython",
    "version": 2
   },
   "file_extension": ".py",
   "mimetype": "text/x-python",
   "name": "python",
   "nbconvert_exporter": "python",
   "pygments_lexer": "ipython2",
   "version": "2.7.6"
  }
 },
 "nbformat": 4,
 "nbformat_minor": 5
}
