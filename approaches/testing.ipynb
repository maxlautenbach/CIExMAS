{
 "cells": [
  {
   "cell_type": "code",
   "id": "initial_id",
   "metadata": {
    "collapsed": true,
    "ExecuteTime": {
     "end_time": "2025-05-08T10:51:02.104615Z",
     "start_time": "2025-05-08T10:51:01.885535Z"
    }
   },
   "source": [
    "from helper_tools.base_setup import example_vector_store\n",
    "\n",
    "example_vector_store.similarity_search_with_score(\"Corfe_Castle_railway_station (railway station) located in Corfe_Castle (village)\")"
   ],
   "outputs": [
    {
     "data": {
      "text/plain": [
       "[(Document(metadata={'uri': 'http://www.wikidata.org/entity/P81', 'label': 'connecting line', 'description': 'railway line(s) subject is directly connected to', 'type': 'predicate', '_id': '3aa25f74-125e-4a60-bb4c-72beb06fcdc0', '_collection_name': 'wikidata_examples'}, page_content='Watford Junction railway station connecting line Watford DC Line'),\n",
       "  0.50496733),\n",
       " (Document(metadata={'uri': 'http://www.wikidata.org/entity/P3842', 'label': 'located in present-day administrative territorial entity', 'description': 'the item was located in the territory of this present-day administrative unit; however the two did not at any point coexist in time', 'type': 'predicate', '_id': '982ce10f-6f4d-4603-ad31-246601a1ef01', '_collection_name': 'wikidata_examples'}, page_content='Metropolitan Borough of St Marylebone located in present-day administrative territorial entity City of Westminster'),\n",
       "  0.422709),\n",
       " (Document(metadata={'uri': 'http://www.wikidata.org/entity/P421', 'label': 'located in time zone', 'description': 'time zone for this item', 'type': 'predicate', '_id': 'a008942d-aff2-486a-b98e-893aed0f7037', '_collection_name': 'wikidata_examples'}, page_content='Germany located in time zone UTC+01:00'),\n",
       "  0.42128158),\n",
       " (Document(metadata={'uri': 'http://www.wikidata.org/entity/P59', 'label': 'constellation', 'description': 'the area of the celestial sphere of which the subject is a part (from a scientific standpoint, not an astrological one)', 'type': 'predicate', '_id': '155a0d4f-2f83-4d82-b0ec-e9d561683c71', '_collection_name': 'wikidata_examples'}, page_content='Andromeda Galaxy constellation Andromeda'),\n",
       "  0.40227348)]"
      ]
     },
     "execution_count": 16,
     "metadata": {},
     "output_type": "execute_result"
    }
   ],
   "execution_count": 16
  },
  {
   "metadata": {
    "ExecuteTime": {
     "end_time": "2025-05-08T10:51:24.739984Z",
     "start_time": "2025-05-08T10:51:24.492203Z"
    }
   },
   "cell_type": "code",
   "source": "example_vector_store.similarity_search_with_score(\"railway station located in village\")",
   "id": "e39fc4d1b727b588",
   "outputs": [
    {
     "data": {
      "text/plain": [
       "[(Document(metadata={'uri': 'http://www.wikidata.org/entity/P527', 'label': 'has part', 'description': 'part of this subject; inverse property of \"part of\" (P361). See also \"has parts of the class\" (P2670).', 'type': 'predicate', '_id': '952377eb-5894-4a61-bd5f-e47cf5572b32', '_collection_name': 'wikidata_examples'}, page_content='human has part human body'),\n",
       "  0.47851694),\n",
       " (Document(metadata={'uri': 'http://www.wikidata.org/entity/P206', 'label': 'located in or next to body of water', 'description': 'body of water on or next to which a place is located', 'type': 'predicate', '_id': '59f06b5d-de8a-4d10-bb17-34032dec6503', '_collection_name': 'wikidata_examples'}, page_content='Saint Petersburg located in or next to body of water Neva'),\n",
       "  0.4249379),\n",
       " (Document(metadata={'uri': 'http://www.wikidata.org/entity/P150', 'label': 'contains administrative territorial entity', 'description': '(list of) direct subdivisions of an administrative territorial entity', 'type': 'predicate', '_id': '95bb7f22-cc8f-4d7b-9799-ff0e1accba85', '_collection_name': 'wikidata_examples'}, page_content='United Kingdom contains administrative territorial entity England'),\n",
       "  0.42120987),\n",
       " (Document(metadata={'uri': 'http://www.wikidata.org/entity/P131', 'label': 'located in the administrative territorial entity', 'description': 'the item is located on the territory of the following administrative entity. Use P276 for specifying locations that are non-administrative places and for items about events. Use P1382 if the item falls only partially into the administrative entity.', 'type': 'predicate', '_id': 'd039023c-725f-4eec-a3ed-1304a55fd8e9', '_collection_name': 'wikidata_examples'}, page_content='Eiffel Tower located in the administrative territorial entity 7th arrondissement of Paris'),\n",
       "  0.41957504)]"
      ]
     },
     "execution_count": 17,
     "metadata": {},
     "output_type": "execute_result"
    }
   ],
   "execution_count": 17
  },
  {
   "metadata": {
    "ExecuteTime": {
     "end_time": "2025-05-08T10:50:28.526258Z",
     "start_time": "2025-05-08T10:50:28.298648Z"
    }
   },
   "cell_type": "code",
   "source": "example_vector_store.similarity_search_with_score(\"Corfe_Castle_railway_station located in Corfe_Castle\")",
   "id": "2bf07498fcfa59e5",
   "outputs": [
    {
     "data": {
      "text/plain": [
       "[(Document(metadata={'uri': 'http://www.wikidata.org/entity/P81', 'label': 'connecting line', 'description': 'railway line(s) subject is directly connected to', 'type': 'predicate', '_id': '3aa25f74-125e-4a60-bb4c-72beb06fcdc0', '_collection_name': 'wikidata_examples'}, page_content='Watford Junction railway station connecting line Watford DC Line'),\n",
       "  0.4979161),\n",
       " (Document(metadata={'uri': 'http://www.wikidata.org/entity/P421', 'label': 'located in time zone', 'description': 'time zone for this item', 'type': 'predicate', '_id': 'a008942d-aff2-486a-b98e-893aed0f7037', '_collection_name': 'wikidata_examples'}, page_content='Germany located in time zone UTC+01:00'),\n",
       "  0.457407),\n",
       " (Document(metadata={'uri': 'http://www.wikidata.org/entity/P3842', 'label': 'located in present-day administrative territorial entity', 'description': 'the item was located in the territory of this present-day administrative unit; however the two did not at any point coexist in time', 'type': 'predicate', '_id': '982ce10f-6f4d-4603-ad31-246601a1ef01', '_collection_name': 'wikidata_examples'}, page_content='Metropolitan Borough of St Marylebone located in present-day administrative territorial entity City of Westminster'),\n",
       "  0.44852817),\n",
       " (Document(metadata={'uri': 'http://www.wikidata.org/entity/P131', 'label': 'located in the administrative territorial entity', 'description': 'the item is located on the territory of the following administrative entity. Use P276 for specifying locations that are non-administrative places and for items about events. Use P1382 if the item falls only partially into the administrative entity.', 'type': 'predicate', '_id': 'd039023c-725f-4eec-a3ed-1304a55fd8e9', '_collection_name': 'wikidata_examples'}, page_content='Eiffel Tower located in the administrative territorial entity 7th arrondissement of Paris'),\n",
       "  0.41103244)]"
      ]
     },
     "execution_count": 14,
     "metadata": {},
     "output_type": "execute_result"
    }
   ],
   "execution_count": 14
  },
  {
   "metadata": {},
   "cell_type": "code",
   "outputs": [],
   "execution_count": null,
   "source": "",
   "id": "c4cb5e7d63bbc6f0"
  }
 ],
 "metadata": {
  "kernelspec": {
   "display_name": "Python 3",
   "language": "python",
   "name": "python3"
  },
  "language_info": {
   "codemirror_mode": {
    "name": "ipython",
    "version": 2
   },
   "file_extension": ".py",
   "mimetype": "text/x-python",
   "name": "python",
   "nbconvert_exporter": "python",
   "pygments_lexer": "ipython2",
   "version": "2.7.6"
  }
 },
 "nbformat": 4,
 "nbformat_minor": 5
}
