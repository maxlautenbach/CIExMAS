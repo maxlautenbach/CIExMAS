{
 "cells": [
  {
   "cell_type": "code",
   "id": "initial_id",
   "metadata": {
    "collapsed": true,
    "ExecuteTime": {
     "end_time": "2025-05-19T14:26:22.269333Z",
     "start_time": "2025-05-19T14:26:18.435429Z"
    }
   },
   "source": [
    "from helper_tools.base_setup import label_vector_store, model\n",
    "from helper_tools.validation import validate_turtle_response\n",
    "\n",
    "label_vector_store.similarity_search_with_score(\"Government\")"
   ],
   "outputs": [
    {
     "name": "stdout",
     "output_type": "stream",
     "text": [
      "Initializing Meta-Llama-3.3-70B-Instruct at SambaNova - 80.0 RPM\n"
     ]
    },
    {
     "data": {
      "text/plain": [
       "[(Document(metadata={'uri': 'http://www.wikidata.org/entity/Q327333', 'description': 'organisational part of a government responsible for specific public services, such as health, judiciary, education, transportation, foreign affairs, etc', 'type': 'entity', '_id': 'a7706c70-7f78-4b09-a079-1443f6c7a77c', '_collection_name': 'wikidata_labels'}, page_content='Government_agency'),\n",
       "  0.77123475),\n",
       " (Document(metadata={'uri': 'http://www.wikidata.org/entity/Q1140115', 'description': 'highest federal executive body in the Russian Federation, headed by the Prime Minister', 'type': 'entity', '_id': '8056e4fb-e662-4c1c-999c-412b4a98fc8b', '_collection_name': 'wikidata_labels'}, page_content='Government_of_Russia'),\n",
       "  0.7359689),\n",
       " (Document(metadata={'uri': 'http://www.wikidata.org/entity/Q82955', 'description': 'person involved in politics, person who holds or seeks positions in government', 'type': 'entity', '_id': '0c623392-8b2e-4214-b1bd-5c757c1df64d', '_collection_name': 'wikidata_labels'}, page_content='Politician'),\n",
       "  0.70299876),\n",
       " (Document(metadata={'uri': 'http://www.wikidata.org/entity/Q41176', 'description': 'structure, typically with a roof and walls, standing more or less permanently in one place', 'type': 'entity', '_id': '8403d24c-7e8f-4c02-9c42-dc9826805fc2', '_collection_name': 'wikidata_labels'}, page_content='Building'),\n",
       "  0.66425425)]"
      ]
     },
     "execution_count": 1,
     "metadata": {},
     "output_type": "execute_result"
    }
   ],
   "execution_count": 1
  },
  {
   "metadata": {
    "ExecuteTime": {
     "end_time": "2025-05-19T14:26:22.417589Z",
     "start_time": "2025-05-19T14:26:22.414285Z"
    }
   },
   "cell_type": "code",
   "source": [
    "validate_turtle_response(\"\"\"\n",
    "@prefix wd: <http://www.wikidata.org/entity/> .\n",
    "wd:Q18020434 wd:P1366 wd:Q50839256 .\n",
    "wd:Q50839256 wd:P749 wd:Q59261 .\n",
    "wd:Q18020434 wd:P749 wd:Q59261 .\n",
    "wd:Q50839256 wd:P159 wd:Q393454 .\n",
    "wd:Q18020434 wd:P31 wd:Q327333 .\n",
    "wd:Q50839256 wd:P31 wd:Q327333 .\n",
    "\"\"\")"
   ],
   "id": "f84025c09fbba554",
   "outputs": [
    {
     "data": {
      "text/plain": [
       "(True, '')"
      ]
     },
     "execution_count": 2,
     "metadata": {},
     "output_type": "execute_result"
    }
   ],
   "execution_count": 2
  },
  {
   "metadata": {
    "ExecuteTime": {
     "end_time": "2025-05-19T14:26:25.434434Z",
     "start_time": "2025-05-19T14:26:22.433267Z"
    }
   },
   "cell_type": "code",
   "source": "model.invoke(\"Was ist SAP?\")",
   "id": "430a76c54946a7fd",
   "outputs": [
    {
     "name": "stderr",
     "output_type": "stream",
     "text": [
      "/Users/i538914/Documents/Uni/Masterarbeit/CIExMAS/.pyvenv311/lib/python3.11/site-packages/pydantic/main.py:390: UserWarning: Pydantic serializer warnings:\n",
      "  Expected `int` but got `float` with value `1747664825.2645774` - serialized value may not be as expected\n",
      "  return self.__pydantic_serializer__.to_python(\n"
     ]
    },
    {
     "data": {
      "text/plain": [
       "AIMessage(content='SAP (Systems, Applications und Products in der Datenverarbeitung) ist ein deutsches Softwareunternehmen, das Lösungen für die Unternehmenssoftware anbietet. Es wurde 1972 von fünf ehemaligen IBM-Mitarbeitern in Mannheim gegründet und hat seinen Hauptsitz heute in Walldorf, Deutschland.\\n\\nSAP ist vor allem bekannt für seine ERP-Systeme (Enterprise Resource Planning), die Unternehmen bei der Verwaltung und Steuerung ihrer Geschäftsprozesse unterstützen. Die Software von SAP deckt eine breite Palette von Funktionen ab, darunter:\\n\\n1. **Finanzwesen**: Rechnungswesen, Controlling, Steuern und mehr.\\n2. **Personalwesen**: Personalmanagement, Lohnabrechnung, Zeiterfassung und mehr.\\n3. **Logistik**: Beschaffung, Lagerverwaltung, Produktion und mehr.\\n4. **Vertrieb**: Kundenbeziehungsmanagement, Vertriebsmanagement und mehr.\\n5. **Produktionsplanung**: Planung und Steuerung von Produktionsprozessen.\\n\\nSAP bietet auch Lösungen für spezifische Branchen wie die chemische Industrie, die Automobilindustrie, die Gesundheitsbranche und viele mehr an.\\n\\nEinige der bekanntesten Produkte von SAP sind:\\n\\n* **SAP ERP**: Das Flaggschiff-Produkt von SAP, das eine umfassende Lösung für die Unternehmensverwaltung bietet.\\n* **SAP S/4HANA**: Eine Cloud-basierte ERP-Lösung, die auf der HANA-Datenbanktechnologie basiert.\\n* **SAP CRM**: Ein Kundenbeziehungsmanagement-System, das Unternehmen bei der Verwaltung von Kundenbeziehungen unterstützt.\\n* **SAP SCM**: Ein Supply-Chain-Management-System, das Unternehmen bei der Verwaltung von Lieferketten unterstützt.\\n\\nSAP ist eines der größten Softwareunternehmen der Welt und hat Kunden in über 180 Ländern. Die Unternehmen setzen auf SAP-Produkte, um ihre Geschäftsprozesse zu optimieren, die Effizienz zu steigern und die Wettbewerbsfähigkeit zu verbessern.', additional_kwargs={'refusal': None}, response_metadata={'token_usage': {'completion_tokens': 489, 'prompt_tokens': 39, 'total_tokens': 528, 'completion_tokens_details': None, 'prompt_tokens_details': {'audio_tokens': None, 'cached_tokens': 0}, 'completion_tokens_after_first_per_sec': 342.8365661678211, 'completion_tokens_after_first_per_sec_first_ten': 344.4738403281792, 'completion_tokens_per_sec': 332.45950142252326, 'end_time': 1747664825.2645261, 'is_last_response': True, 'start_time': 1747664823.7898078, 'stop_reason': 'stop', 'time_to_first_token': 0.0512995719909668, 'total_latency': 1.4708558423136453, 'total_tokens_per_sec': 358.9746763826018}, 'model_name': 'Meta-Llama-3.3-70B-Instruct', 'system_fingerprint': 'fastcoe', 'id': '7b49d9fe-7e0d-4fdd-be56-612a96037cb3', 'finish_reason': 'stop', 'logprobs': None}, id='run-41c80999-4f50-4ab1-9504-005f549d977d-0', usage_metadata={'input_tokens': 39, 'output_tokens': 489, 'total_tokens': 528, 'input_token_details': {'cache_read': 0}, 'output_token_details': {}})"
      ]
     },
     "execution_count": 3,
     "metadata": {},
     "output_type": "execute_result"
    }
   ],
   "execution_count": 3
  },
  {
   "metadata": {},
   "cell_type": "code",
   "outputs": [],
   "execution_count": null,
   "source": "",
   "id": "6c3a9b855d837fbc"
  }
 ],
 "metadata": {
  "kernelspec": {
   "display_name": "Python 3",
   "language": "python",
   "name": "python3"
  },
  "language_info": {
   "codemirror_mode": {
    "name": "ipython",
    "version": 2
   },
   "file_extension": ".py",
   "mimetype": "text/x-python",
   "name": "python",
   "nbconvert_exporter": "python",
   "pygments_lexer": "ipython2",
   "version": "2.7.6"
  }
 },
 "nbformat": 4,
 "nbformat_minor": 5
}
