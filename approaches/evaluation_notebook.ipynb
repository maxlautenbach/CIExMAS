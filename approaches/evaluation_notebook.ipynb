{
 "cells": [
  {
   "cell_type": "code",
   "id": "initial_id",
   "metadata": {
    "ExecuteTime": {
     "end_time": "2025-03-28T08:18:47.668246Z",
     "start_time": "2025-03-28T08:18:37.113929Z"
    }
   },
   "source": [
    "import pandas as pd\n",
    "\n",
    "from helper_tools.evaluation import generate_report\n",
    "\n",
    "generate_report(\"evaluation_logs/baseline/evaluation_log-OpenAI_o3-mini.xlsx\")"
   ],
   "outputs": [
    {
     "data": {
      "text/plain": [
       "           Precision    Recall  F1-Score\n",
       "Relation    0.446667  0.366667  0.387879\n",
       "Subject     1.000000  1.000000  1.000000\n",
       "Predicate   0.516667  0.420000  0.448485\n",
       "Object      0.780000  0.766667  0.725541\n",
       "Entity      0.821429  0.811429  0.785897"
      ],
      "text/html": [
       "<div>\n",
       "<style scoped>\n",
       "    .dataframe tbody tr th:only-of-type {\n",
       "        vertical-align: middle;\n",
       "    }\n",
       "\n",
       "    .dataframe tbody tr th {\n",
       "        vertical-align: top;\n",
       "    }\n",
       "\n",
       "    .dataframe thead th {\n",
       "        text-align: right;\n",
       "    }\n",
       "</style>\n",
       "<table border=\"1\" class=\"dataframe\">\n",
       "  <thead>\n",
       "    <tr style=\"text-align: right;\">\n",
       "      <th></th>\n",
       "      <th>Precision</th>\n",
       "      <th>Recall</th>\n",
       "      <th>F1-Score</th>\n",
       "    </tr>\n",
       "  </thead>\n",
       "  <tbody>\n",
       "    <tr>\n",
       "      <th>Relation</th>\n",
       "      <td>0.446667</td>\n",
       "      <td>0.366667</td>\n",
       "      <td>0.387879</td>\n",
       "    </tr>\n",
       "    <tr>\n",
       "      <th>Subject</th>\n",
       "      <td>1.000000</td>\n",
       "      <td>1.000000</td>\n",
       "      <td>1.000000</td>\n",
       "    </tr>\n",
       "    <tr>\n",
       "      <th>Predicate</th>\n",
       "      <td>0.516667</td>\n",
       "      <td>0.420000</td>\n",
       "      <td>0.448485</td>\n",
       "    </tr>\n",
       "    <tr>\n",
       "      <th>Object</th>\n",
       "      <td>0.780000</td>\n",
       "      <td>0.766667</td>\n",
       "      <td>0.725541</td>\n",
       "    </tr>\n",
       "    <tr>\n",
       "      <th>Entity</th>\n",
       "      <td>0.821429</td>\n",
       "      <td>0.811429</td>\n",
       "      <td>0.785897</td>\n",
       "    </tr>\n",
       "  </tbody>\n",
       "</table>\n",
       "</div>"
      ]
     },
     "execution_count": 1,
     "metadata": {},
     "output_type": "execute_result"
    }
   ],
   "execution_count": 1
  },
  {
   "cell_type": "code",
   "id": "ceff37ab7f68db57",
   "metadata": {
    "ExecuteTime": {
     "end_time": "2025-03-28T08:18:47.776735Z",
     "start_time": "2025-03-28T08:18:47.758569Z"
    }
   },
   "source": [
    "generate_report(\"evaluation_logs/baseline/evaluation_log-SambaNova_Meta-Llama-3.3-70B-Instruct.xlsx\")"
   ],
   "outputs": [
    {
     "data": {
      "text/plain": [
       "           Precision  Recall  F1-Score\n",
       "Relation    0.513333    0.66  0.561962\n",
       "Subject     0.766667    1.00  0.833333\n",
       "Predicate   0.633333    0.72  0.652814\n",
       "Object      0.816667    0.90  0.829437\n",
       "Entity      0.846984    0.92  0.865171"
      ],
      "text/html": [
       "<div>\n",
       "<style scoped>\n",
       "    .dataframe tbody tr th:only-of-type {\n",
       "        vertical-align: middle;\n",
       "    }\n",
       "\n",
       "    .dataframe tbody tr th {\n",
       "        vertical-align: top;\n",
       "    }\n",
       "\n",
       "    .dataframe thead th {\n",
       "        text-align: right;\n",
       "    }\n",
       "</style>\n",
       "<table border=\"1\" class=\"dataframe\">\n",
       "  <thead>\n",
       "    <tr style=\"text-align: right;\">\n",
       "      <th></th>\n",
       "      <th>Precision</th>\n",
       "      <th>Recall</th>\n",
       "      <th>F1-Score</th>\n",
       "    </tr>\n",
       "  </thead>\n",
       "  <tbody>\n",
       "    <tr>\n",
       "      <th>Relation</th>\n",
       "      <td>0.513333</td>\n",
       "      <td>0.66</td>\n",
       "      <td>0.561962</td>\n",
       "    </tr>\n",
       "    <tr>\n",
       "      <th>Subject</th>\n",
       "      <td>0.766667</td>\n",
       "      <td>1.00</td>\n",
       "      <td>0.833333</td>\n",
       "    </tr>\n",
       "    <tr>\n",
       "      <th>Predicate</th>\n",
       "      <td>0.633333</td>\n",
       "      <td>0.72</td>\n",
       "      <td>0.652814</td>\n",
       "    </tr>\n",
       "    <tr>\n",
       "      <th>Object</th>\n",
       "      <td>0.816667</td>\n",
       "      <td>0.90</td>\n",
       "      <td>0.829437</td>\n",
       "    </tr>\n",
       "    <tr>\n",
       "      <th>Entity</th>\n",
       "      <td>0.846984</td>\n",
       "      <td>0.92</td>\n",
       "      <td>0.865171</td>\n",
       "    </tr>\n",
       "  </tbody>\n",
       "</table>\n",
       "</div>"
      ]
     },
     "execution_count": 2,
     "metadata": {},
     "output_type": "execute_result"
    }
   ],
   "execution_count": 2
  },
  {
   "cell_type": "code",
   "id": "b36edd19c0d18203",
   "metadata": {
    "ExecuteTime": {
     "end_time": "2025-03-28T08:18:47.839381Z",
     "start_time": "2025-03-28T08:18:47.821490Z"
    }
   },
   "source": [
    "generate_report(\"evaluation_logs/baseline/evaluation_log-Ollama_llama3.3.xlsx\")"
   ],
   "outputs": [
    {
     "data": {
      "text/plain": [
       "           Precision  Recall  F1-Score\n",
       "Relation    0.448333    0.56  0.494603\n",
       "Subject     0.700000    1.00  0.793333\n",
       "Predicate   0.670000    0.72  0.687143\n",
       "Object      0.783333    0.90  0.831429\n",
       "Entity      0.865556    0.92  0.884206"
      ],
      "text/html": [
       "<div>\n",
       "<style scoped>\n",
       "    .dataframe tbody tr th:only-of-type {\n",
       "        vertical-align: middle;\n",
       "    }\n",
       "\n",
       "    .dataframe tbody tr th {\n",
       "        vertical-align: top;\n",
       "    }\n",
       "\n",
       "    .dataframe thead th {\n",
       "        text-align: right;\n",
       "    }\n",
       "</style>\n",
       "<table border=\"1\" class=\"dataframe\">\n",
       "  <thead>\n",
       "    <tr style=\"text-align: right;\">\n",
       "      <th></th>\n",
       "      <th>Precision</th>\n",
       "      <th>Recall</th>\n",
       "      <th>F1-Score</th>\n",
       "    </tr>\n",
       "  </thead>\n",
       "  <tbody>\n",
       "    <tr>\n",
       "      <th>Relation</th>\n",
       "      <td>0.448333</td>\n",
       "      <td>0.56</td>\n",
       "      <td>0.494603</td>\n",
       "    </tr>\n",
       "    <tr>\n",
       "      <th>Subject</th>\n",
       "      <td>0.700000</td>\n",
       "      <td>1.00</td>\n",
       "      <td>0.793333</td>\n",
       "    </tr>\n",
       "    <tr>\n",
       "      <th>Predicate</th>\n",
       "      <td>0.670000</td>\n",
       "      <td>0.72</td>\n",
       "      <td>0.687143</td>\n",
       "    </tr>\n",
       "    <tr>\n",
       "      <th>Object</th>\n",
       "      <td>0.783333</td>\n",
       "      <td>0.90</td>\n",
       "      <td>0.831429</td>\n",
       "    </tr>\n",
       "    <tr>\n",
       "      <th>Entity</th>\n",
       "      <td>0.865556</td>\n",
       "      <td>0.92</td>\n",
       "      <td>0.884206</td>\n",
       "    </tr>\n",
       "  </tbody>\n",
       "</table>\n",
       "</div>"
      ]
     },
     "execution_count": 3,
     "metadata": {},
     "output_type": "execute_result"
    }
   ],
   "execution_count": 3
  },
  {
   "cell_type": "code",
   "id": "3d988f7e4c3e999a",
   "metadata": {
    "ExecuteTime": {
     "end_time": "2025-03-28T08:18:48.078938Z",
     "start_time": "2025-03-28T08:18:48.076108Z"
    }
   },
   "source": [],
   "outputs": [],
   "execution_count": null
  }
 ],
 "metadata": {
  "kernelspec": {
   "display_name": "Python 3 (ipykernel)",
   "language": "python",
   "name": "python3"
  },
  "language_info": {
   "codemirror_mode": {
    "name": "ipython",
    "version": 3
   },
   "file_extension": ".py",
   "mimetype": "text/x-python",
   "name": "python",
   "nbconvert_exporter": "python",
   "pygments_lexer": "ipython3",
   "version": "3.11.0"
  }
 },
 "nbformat": 4,
 "nbformat_minor": 5
}
