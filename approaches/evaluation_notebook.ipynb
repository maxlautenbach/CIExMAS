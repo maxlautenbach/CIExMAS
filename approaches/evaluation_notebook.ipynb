{
 "cells": [
  {
   "metadata": {
    "ExecuteTime": {
     "end_time": "2025-03-31T12:22:50.622120Z",
     "start_time": "2025-03-31T12:22:49.946477Z"
    }
   },
   "cell_type": "code",
   "source": [
    "import pandas as pd\n",
    "\n",
    "from helper_tools.evaluation import generate_report"
   ],
   "id": "a999c20678494ab6",
   "outputs": [],
   "execution_count": 1
  },
  {
   "metadata": {},
   "cell_type": "markdown",
   "source": "# 5 Trials - Train",
   "id": "13e4e4f859fcfd39"
  },
  {
   "cell_type": "code",
   "id": "initial_id",
   "metadata": {
    "ExecuteTime": {
     "end_time": "2025-03-28T08:18:47.668246Z",
     "start_time": "2025-03-28T08:18:37.113929Z"
    }
   },
   "source": "generate_report(\"evaluation_logs/baseline/evaluation_log-OpenAI_o3-mini.xlsx\")",
   "outputs": [
    {
     "data": {
      "text/plain": [
       "           Precision    Recall  F1-Score\n",
       "Relation    0.446667  0.366667  0.387879\n",
       "Subject     1.000000  1.000000  1.000000\n",
       "Predicate   0.516667  0.420000  0.448485\n",
       "Object      0.780000  0.766667  0.725541\n",
       "Entity      0.821429  0.811429  0.785897"
      ],
      "text/html": [
       "<div>\n",
       "<style scoped>\n",
       "    .dataframe tbody tr th:only-of-type {\n",
       "        vertical-align: middle;\n",
       "    }\n",
       "\n",
       "    .dataframe tbody tr th {\n",
       "        vertical-align: top;\n",
       "    }\n",
       "\n",
       "    .dataframe thead th {\n",
       "        text-align: right;\n",
       "    }\n",
       "</style>\n",
       "<table border=\"1\" class=\"dataframe\">\n",
       "  <thead>\n",
       "    <tr style=\"text-align: right;\">\n",
       "      <th></th>\n",
       "      <th>Precision</th>\n",
       "      <th>Recall</th>\n",
       "      <th>F1-Score</th>\n",
       "    </tr>\n",
       "  </thead>\n",
       "  <tbody>\n",
       "    <tr>\n",
       "      <th>Relation</th>\n",
       "      <td>0.446667</td>\n",
       "      <td>0.366667</td>\n",
       "      <td>0.387879</td>\n",
       "    </tr>\n",
       "    <tr>\n",
       "      <th>Subject</th>\n",
       "      <td>1.000000</td>\n",
       "      <td>1.000000</td>\n",
       "      <td>1.000000</td>\n",
       "    </tr>\n",
       "    <tr>\n",
       "      <th>Predicate</th>\n",
       "      <td>0.516667</td>\n",
       "      <td>0.420000</td>\n",
       "      <td>0.448485</td>\n",
       "    </tr>\n",
       "    <tr>\n",
       "      <th>Object</th>\n",
       "      <td>0.780000</td>\n",
       "      <td>0.766667</td>\n",
       "      <td>0.725541</td>\n",
       "    </tr>\n",
       "    <tr>\n",
       "      <th>Entity</th>\n",
       "      <td>0.821429</td>\n",
       "      <td>0.811429</td>\n",
       "      <td>0.785897</td>\n",
       "    </tr>\n",
       "  </tbody>\n",
       "</table>\n",
       "</div>"
      ]
     },
     "execution_count": 1,
     "metadata": {},
     "output_type": "execute_result"
    }
   ],
   "execution_count": 1
  },
  {
   "cell_type": "code",
   "id": "ceff37ab7f68db57",
   "metadata": {
    "ExecuteTime": {
     "end_time": "2025-03-28T08:18:47.776735Z",
     "start_time": "2025-03-28T08:18:47.758569Z"
    }
   },
   "source": [
    "generate_report(\"evaluation_logs/baseline/evaluation_log-SambaNova_Meta-Llama-3.3-70B-Instruct.xlsx\")"
   ],
   "outputs": [
    {
     "data": {
      "text/plain": [
       "           Precision  Recall  F1-Score\n",
       "Relation    0.513333    0.66  0.561962\n",
       "Subject     0.766667    1.00  0.833333\n",
       "Predicate   0.633333    0.72  0.652814\n",
       "Object      0.816667    0.90  0.829437\n",
       "Entity      0.846984    0.92  0.865171"
      ],
      "text/html": [
       "<div>\n",
       "<style scoped>\n",
       "    .dataframe tbody tr th:only-of-type {\n",
       "        vertical-align: middle;\n",
       "    }\n",
       "\n",
       "    .dataframe tbody tr th {\n",
       "        vertical-align: top;\n",
       "    }\n",
       "\n",
       "    .dataframe thead th {\n",
       "        text-align: right;\n",
       "    }\n",
       "</style>\n",
       "<table border=\"1\" class=\"dataframe\">\n",
       "  <thead>\n",
       "    <tr style=\"text-align: right;\">\n",
       "      <th></th>\n",
       "      <th>Precision</th>\n",
       "      <th>Recall</th>\n",
       "      <th>F1-Score</th>\n",
       "    </tr>\n",
       "  </thead>\n",
       "  <tbody>\n",
       "    <tr>\n",
       "      <th>Relation</th>\n",
       "      <td>0.513333</td>\n",
       "      <td>0.66</td>\n",
       "      <td>0.561962</td>\n",
       "    </tr>\n",
       "    <tr>\n",
       "      <th>Subject</th>\n",
       "      <td>0.766667</td>\n",
       "      <td>1.00</td>\n",
       "      <td>0.833333</td>\n",
       "    </tr>\n",
       "    <tr>\n",
       "      <th>Predicate</th>\n",
       "      <td>0.633333</td>\n",
       "      <td>0.72</td>\n",
       "      <td>0.652814</td>\n",
       "    </tr>\n",
       "    <tr>\n",
       "      <th>Object</th>\n",
       "      <td>0.816667</td>\n",
       "      <td>0.90</td>\n",
       "      <td>0.829437</td>\n",
       "    </tr>\n",
       "    <tr>\n",
       "      <th>Entity</th>\n",
       "      <td>0.846984</td>\n",
       "      <td>0.92</td>\n",
       "      <td>0.865171</td>\n",
       "    </tr>\n",
       "  </tbody>\n",
       "</table>\n",
       "</div>"
      ]
     },
     "execution_count": 2,
     "metadata": {},
     "output_type": "execute_result"
    }
   ],
   "execution_count": 2
  },
  {
   "cell_type": "code",
   "id": "b36edd19c0d18203",
   "metadata": {
    "ExecuteTime": {
     "end_time": "2025-03-31T12:22:59.453467Z",
     "start_time": "2025-03-31T12:22:59.439207Z"
    }
   },
   "source": [
    "generate_report(\"evaluation_logs/baseline/evaluation_log-Ollama_llama3.3.xlsx\")"
   ],
   "outputs": [
    {
     "data": {
      "text/plain": [
       "           Precision  Recall  F1-Score\n",
       "Relation    0.448333    0.56  0.494603\n",
       "Subject     0.700000    1.00  0.793333\n",
       "Predicate   0.670000    0.72  0.687143\n",
       "Object      0.783333    0.90  0.831429\n",
       "Entity      0.865556    0.92  0.884206"
      ],
      "text/html": [
       "<div>\n",
       "<style scoped>\n",
       "    .dataframe tbody tr th:only-of-type {\n",
       "        vertical-align: middle;\n",
       "    }\n",
       "\n",
       "    .dataframe tbody tr th {\n",
       "        vertical-align: top;\n",
       "    }\n",
       "\n",
       "    .dataframe thead th {\n",
       "        text-align: right;\n",
       "    }\n",
       "</style>\n",
       "<table border=\"1\" class=\"dataframe\">\n",
       "  <thead>\n",
       "    <tr style=\"text-align: right;\">\n",
       "      <th></th>\n",
       "      <th>Precision</th>\n",
       "      <th>Recall</th>\n",
       "      <th>F1-Score</th>\n",
       "    </tr>\n",
       "  </thead>\n",
       "  <tbody>\n",
       "    <tr>\n",
       "      <th>Relation</th>\n",
       "      <td>0.448333</td>\n",
       "      <td>0.56</td>\n",
       "      <td>0.494603</td>\n",
       "    </tr>\n",
       "    <tr>\n",
       "      <th>Subject</th>\n",
       "      <td>0.700000</td>\n",
       "      <td>1.00</td>\n",
       "      <td>0.793333</td>\n",
       "    </tr>\n",
       "    <tr>\n",
       "      <th>Predicate</th>\n",
       "      <td>0.670000</td>\n",
       "      <td>0.72</td>\n",
       "      <td>0.687143</td>\n",
       "    </tr>\n",
       "    <tr>\n",
       "      <th>Object</th>\n",
       "      <td>0.783333</td>\n",
       "      <td>0.90</td>\n",
       "      <td>0.831429</td>\n",
       "    </tr>\n",
       "    <tr>\n",
       "      <th>Entity</th>\n",
       "      <td>0.865556</td>\n",
       "      <td>0.92</td>\n",
       "      <td>0.884206</td>\n",
       "    </tr>\n",
       "  </tbody>\n",
       "</table>\n",
       "</div>"
      ]
     },
     "execution_count": 3,
     "metadata": {},
     "output_type": "execute_result"
    }
   ],
   "execution_count": 3
  },
  {
   "metadata": {
    "ExecuteTime": {
     "end_time": "2025-03-31T12:22:51.983087Z",
     "start_time": "2025-03-31T12:22:51.853417Z"
    }
   },
   "cell_type": "code",
   "source": "generate_report(\"evaluation_logs/baseline/evaluation_log-vLLM_kosbu-Llama-3.3-70B-Instruct-AWQ-2025-03-31-1412.xlsx\")",
   "id": "50df0aedc19b6c4b",
   "outputs": [
    {
     "data": {
      "text/plain": [
       "           Precision    Recall  F1-Score\n",
       "Relation    0.480000  0.576667  0.497835\n",
       "Subject     0.800000  1.000000  0.860000\n",
       "Predicate   0.686667  0.680000  0.663550\n",
       "Object      0.813333  0.866667  0.805628\n",
       "Entity      0.842857  0.891429  0.844933"
      ],
      "text/html": [
       "<div>\n",
       "<style scoped>\n",
       "    .dataframe tbody tr th:only-of-type {\n",
       "        vertical-align: middle;\n",
       "    }\n",
       "\n",
       "    .dataframe tbody tr th {\n",
       "        vertical-align: top;\n",
       "    }\n",
       "\n",
       "    .dataframe thead th {\n",
       "        text-align: right;\n",
       "    }\n",
       "</style>\n",
       "<table border=\"1\" class=\"dataframe\">\n",
       "  <thead>\n",
       "    <tr style=\"text-align: right;\">\n",
       "      <th></th>\n",
       "      <th>Precision</th>\n",
       "      <th>Recall</th>\n",
       "      <th>F1-Score</th>\n",
       "    </tr>\n",
       "  </thead>\n",
       "  <tbody>\n",
       "    <tr>\n",
       "      <th>Relation</th>\n",
       "      <td>0.480000</td>\n",
       "      <td>0.576667</td>\n",
       "      <td>0.497835</td>\n",
       "    </tr>\n",
       "    <tr>\n",
       "      <th>Subject</th>\n",
       "      <td>0.800000</td>\n",
       "      <td>1.000000</td>\n",
       "      <td>0.860000</td>\n",
       "    </tr>\n",
       "    <tr>\n",
       "      <th>Predicate</th>\n",
       "      <td>0.686667</td>\n",
       "      <td>0.680000</td>\n",
       "      <td>0.663550</td>\n",
       "    </tr>\n",
       "    <tr>\n",
       "      <th>Object</th>\n",
       "      <td>0.813333</td>\n",
       "      <td>0.866667</td>\n",
       "      <td>0.805628</td>\n",
       "    </tr>\n",
       "    <tr>\n",
       "      <th>Entity</th>\n",
       "      <td>0.842857</td>\n",
       "      <td>0.891429</td>\n",
       "      <td>0.844933</td>\n",
       "    </tr>\n",
       "  </tbody>\n",
       "</table>\n",
       "</div>"
      ]
     },
     "execution_count": 2,
     "metadata": {},
     "output_type": "execute_result"
    }
   ],
   "execution_count": 2
  },
  {
   "metadata": {},
   "cell_type": "markdown",
   "source": "# 50 Trials - Test",
   "id": "b3dcc418053f1d34"
  },
  {
   "cell_type": "code",
   "id": "3d988f7e4c3e999a",
   "metadata": {
    "ExecuteTime": {
     "end_time": "2025-03-28T12:13:13.325286Z",
     "start_time": "2025-03-28T12:13:13.175092Z"
    }
   },
   "source": "generate_report(\"evaluation_logs/baseline/evaluation_log-OpenAI_o3-mini-2025-03-28-1106.xlsx\")",
   "outputs": [
    {
     "data": {
      "text/plain": [
       "           Precision    Recall  F1-Score\n",
       "Relation    0.261524  0.214762  0.226502\n",
       "Subject     0.648333  0.635000  0.616667\n",
       "Predicate   0.295667  0.248286  0.253274\n",
       "Object      0.633333  0.556175  0.571070\n",
       "Entity      0.670016  0.620024  0.630591"
      ],
      "text/html": [
       "<div>\n",
       "<style scoped>\n",
       "    .dataframe tbody tr th:only-of-type {\n",
       "        vertical-align: middle;\n",
       "    }\n",
       "\n",
       "    .dataframe tbody tr th {\n",
       "        vertical-align: top;\n",
       "    }\n",
       "\n",
       "    .dataframe thead th {\n",
       "        text-align: right;\n",
       "    }\n",
       "</style>\n",
       "<table border=\"1\" class=\"dataframe\">\n",
       "  <thead>\n",
       "    <tr style=\"text-align: right;\">\n",
       "      <th></th>\n",
       "      <th>Precision</th>\n",
       "      <th>Recall</th>\n",
       "      <th>F1-Score</th>\n",
       "    </tr>\n",
       "  </thead>\n",
       "  <tbody>\n",
       "    <tr>\n",
       "      <th>Relation</th>\n",
       "      <td>0.261524</td>\n",
       "      <td>0.214762</td>\n",
       "      <td>0.226502</td>\n",
       "    </tr>\n",
       "    <tr>\n",
       "      <th>Subject</th>\n",
       "      <td>0.648333</td>\n",
       "      <td>0.635000</td>\n",
       "      <td>0.616667</td>\n",
       "    </tr>\n",
       "    <tr>\n",
       "      <th>Predicate</th>\n",
       "      <td>0.295667</td>\n",
       "      <td>0.248286</td>\n",
       "      <td>0.253274</td>\n",
       "    </tr>\n",
       "    <tr>\n",
       "      <th>Object</th>\n",
       "      <td>0.633333</td>\n",
       "      <td>0.556175</td>\n",
       "      <td>0.571070</td>\n",
       "    </tr>\n",
       "    <tr>\n",
       "      <th>Entity</th>\n",
       "      <td>0.670016</td>\n",
       "      <td>0.620024</td>\n",
       "      <td>0.630591</td>\n",
       "    </tr>\n",
       "  </tbody>\n",
       "</table>\n",
       "</div>"
      ]
     },
     "execution_count": 3,
     "metadata": {},
     "output_type": "execute_result"
    }
   ],
   "execution_count": 3
  },
  {
   "metadata": {
    "ExecuteTime": {
     "end_time": "2025-03-28T12:13:57.985439Z",
     "start_time": "2025-03-28T12:13:57.969160Z"
    }
   },
   "cell_type": "code",
   "source": "generate_report(\"evaluation_logs/baseline/evaluation_log-Ollama_llama3.3-2025-03-28-1244.xlsx\")",
   "id": "66156ba95e4d4e69",
   "outputs": [
    {
     "data": {
      "text/plain": [
       "           Precision    Recall  F1-Score\n",
       "Relation    0.298810  0.385540  0.320643\n",
       "Subject     0.685000  0.828333  0.700095\n",
       "Predicate   0.400048  0.415714  0.385335\n",
       "Object      0.730333  0.784032  0.723355\n",
       "Entity      0.836071  0.840048  0.823404"
      ],
      "text/html": [
       "<div>\n",
       "<style scoped>\n",
       "    .dataframe tbody tr th:only-of-type {\n",
       "        vertical-align: middle;\n",
       "    }\n",
       "\n",
       "    .dataframe tbody tr th {\n",
       "        vertical-align: top;\n",
       "    }\n",
       "\n",
       "    .dataframe thead th {\n",
       "        text-align: right;\n",
       "    }\n",
       "</style>\n",
       "<table border=\"1\" class=\"dataframe\">\n",
       "  <thead>\n",
       "    <tr style=\"text-align: right;\">\n",
       "      <th></th>\n",
       "      <th>Precision</th>\n",
       "      <th>Recall</th>\n",
       "      <th>F1-Score</th>\n",
       "    </tr>\n",
       "  </thead>\n",
       "  <tbody>\n",
       "    <tr>\n",
       "      <th>Relation</th>\n",
       "      <td>0.298810</td>\n",
       "      <td>0.385540</td>\n",
       "      <td>0.320643</td>\n",
       "    </tr>\n",
       "    <tr>\n",
       "      <th>Subject</th>\n",
       "      <td>0.685000</td>\n",
       "      <td>0.828333</td>\n",
       "      <td>0.700095</td>\n",
       "    </tr>\n",
       "    <tr>\n",
       "      <th>Predicate</th>\n",
       "      <td>0.400048</td>\n",
       "      <td>0.415714</td>\n",
       "      <td>0.385335</td>\n",
       "    </tr>\n",
       "    <tr>\n",
       "      <th>Object</th>\n",
       "      <td>0.730333</td>\n",
       "      <td>0.784032</td>\n",
       "      <td>0.723355</td>\n",
       "    </tr>\n",
       "    <tr>\n",
       "      <th>Entity</th>\n",
       "      <td>0.836071</td>\n",
       "      <td>0.840048</td>\n",
       "      <td>0.823404</td>\n",
       "    </tr>\n",
       "  </tbody>\n",
       "</table>\n",
       "</div>"
      ]
     },
     "execution_count": 4,
     "metadata": {},
     "output_type": "execute_result"
    }
   ],
   "execution_count": 4
  },
  {
   "metadata": {
    "ExecuteTime": {
     "end_time": "2025-04-01T08:02:20.577255Z",
     "start_time": "2025-04-01T08:02:20.558500Z"
    }
   },
   "cell_type": "code",
   "source": "generate_report(\"evaluation_logs/baseline/test-50-evaluation_log-vLLM_kosbu-Llama-3.3-70B-Instruct-AWQ-2025-03-31-1623.xlsx\")",
   "id": "4584076959716bf4",
   "outputs": [
    {
     "data": {
      "text/plain": [
       "           Precision    Recall  F1-Score\n",
       "Relation    0.305762  0.337619  0.309248\n",
       "Subject     0.695000  0.738333  0.682000\n",
       "Predicate   0.378738  0.375810  0.363613\n",
       "Object      0.672429  0.707683  0.670369\n",
       "Entity      0.755738  0.764690  0.751108"
      ],
      "text/html": [
       "<div>\n",
       "<style scoped>\n",
       "    .dataframe tbody tr th:only-of-type {\n",
       "        vertical-align: middle;\n",
       "    }\n",
       "\n",
       "    .dataframe tbody tr th {\n",
       "        vertical-align: top;\n",
       "    }\n",
       "\n",
       "    .dataframe thead th {\n",
       "        text-align: right;\n",
       "    }\n",
       "</style>\n",
       "<table border=\"1\" class=\"dataframe\">\n",
       "  <thead>\n",
       "    <tr style=\"text-align: right;\">\n",
       "      <th></th>\n",
       "      <th>Precision</th>\n",
       "      <th>Recall</th>\n",
       "      <th>F1-Score</th>\n",
       "    </tr>\n",
       "  </thead>\n",
       "  <tbody>\n",
       "    <tr>\n",
       "      <th>Relation</th>\n",
       "      <td>0.305762</td>\n",
       "      <td>0.337619</td>\n",
       "      <td>0.309248</td>\n",
       "    </tr>\n",
       "    <tr>\n",
       "      <th>Subject</th>\n",
       "      <td>0.695000</td>\n",
       "      <td>0.738333</td>\n",
       "      <td>0.682000</td>\n",
       "    </tr>\n",
       "    <tr>\n",
       "      <th>Predicate</th>\n",
       "      <td>0.378738</td>\n",
       "      <td>0.375810</td>\n",
       "      <td>0.363613</td>\n",
       "    </tr>\n",
       "    <tr>\n",
       "      <th>Object</th>\n",
       "      <td>0.672429</td>\n",
       "      <td>0.707683</td>\n",
       "      <td>0.670369</td>\n",
       "    </tr>\n",
       "    <tr>\n",
       "      <th>Entity</th>\n",
       "      <td>0.755738</td>\n",
       "      <td>0.764690</td>\n",
       "      <td>0.751108</td>\n",
       "    </tr>\n",
       "  </tbody>\n",
       "</table>\n",
       "</div>"
      ]
     },
     "execution_count": 4,
     "metadata": {},
     "output_type": "execute_result"
    }
   ],
   "execution_count": 4
  },
  {
   "metadata": {
    "ExecuteTime": {
     "end_time": "2025-04-01T11:22:24.506060Z",
     "start_time": "2025-04-01T11:22:24.491506Z"
    }
   },
   "cell_type": "code",
   "source": "generate_report(\"evaluation_logs/baseline/test-50-evaluation_log-vLLM_kosbu-Llama-3.3-70B-Instruct-AWQ-2025-04-01-1222.xlsx\")",
   "id": "555c7a34421cdf5c",
   "outputs": [
    {
     "data": {
      "text/plain": [
       "           Precision    Recall  F1-Score\n",
       "Relation    0.316881  0.385905  0.337970\n",
       "Subject     0.736667  0.805000  0.729714\n",
       "Predicate   0.413333  0.439333  0.409344\n",
       "Object      0.710167  0.746683  0.711372\n",
       "Entity      0.805690  0.814595  0.801768"
      ],
      "text/html": [
       "<div>\n",
       "<style scoped>\n",
       "    .dataframe tbody tr th:only-of-type {\n",
       "        vertical-align: middle;\n",
       "    }\n",
       "\n",
       "    .dataframe tbody tr th {\n",
       "        vertical-align: top;\n",
       "    }\n",
       "\n",
       "    .dataframe thead th {\n",
       "        text-align: right;\n",
       "    }\n",
       "</style>\n",
       "<table border=\"1\" class=\"dataframe\">\n",
       "  <thead>\n",
       "    <tr style=\"text-align: right;\">\n",
       "      <th></th>\n",
       "      <th>Precision</th>\n",
       "      <th>Recall</th>\n",
       "      <th>F1-Score</th>\n",
       "    </tr>\n",
       "  </thead>\n",
       "  <tbody>\n",
       "    <tr>\n",
       "      <th>Relation</th>\n",
       "      <td>0.316881</td>\n",
       "      <td>0.385905</td>\n",
       "      <td>0.337970</td>\n",
       "    </tr>\n",
       "    <tr>\n",
       "      <th>Subject</th>\n",
       "      <td>0.736667</td>\n",
       "      <td>0.805000</td>\n",
       "      <td>0.729714</td>\n",
       "    </tr>\n",
       "    <tr>\n",
       "      <th>Predicate</th>\n",
       "      <td>0.413333</td>\n",
       "      <td>0.439333</td>\n",
       "      <td>0.409344</td>\n",
       "    </tr>\n",
       "    <tr>\n",
       "      <th>Object</th>\n",
       "      <td>0.710167</td>\n",
       "      <td>0.746683</td>\n",
       "      <td>0.711372</td>\n",
       "    </tr>\n",
       "    <tr>\n",
       "      <th>Entity</th>\n",
       "      <td>0.805690</td>\n",
       "      <td>0.814595</td>\n",
       "      <td>0.801768</td>\n",
       "    </tr>\n",
       "  </tbody>\n",
       "</table>\n",
       "</div>"
      ]
     },
     "execution_count": 5,
     "metadata": {},
     "output_type": "execute_result"
    }
   ],
   "execution_count": 5
  },
  {
   "metadata": {},
   "cell_type": "code",
   "outputs": [],
   "execution_count": null,
   "source": "",
   "id": "983269fdeb1880a7"
  }
 ],
 "metadata": {
  "kernelspec": {
   "display_name": "Python 3 (ipykernel)",
   "language": "python",
   "name": "python3"
  },
  "language_info": {
   "codemirror_mode": {
    "name": "ipython",
    "version": 3
   },
   "file_extension": ".py",
   "mimetype": "text/x-python",
   "name": "python",
   "nbconvert_exporter": "python",
   "pygments_lexer": "ipython3",
   "version": "3.11.0"
  }
 },
 "nbformat": 4,
 "nbformat_minor": 5
}
