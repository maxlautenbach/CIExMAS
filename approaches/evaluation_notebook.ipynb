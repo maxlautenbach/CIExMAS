{
 "cells": [
  {
   "cell_type": "code",
   "id": "initial_id",
   "metadata": {
    "collapsed": true,
    "ExecuteTime": {
     "end_time": "2025-03-27T12:46:32.662681Z",
     "start_time": "2025-03-27T12:46:31.585582Z"
    }
   },
   "source": [
    "import pandas as pd\n",
    "\n",
    "from helper_tools.evaluation import generate_report\n",
    "\n",
    "generate_report(\"./baseline/slurm/evaluation_log.xlsx\")"
   ],
   "outputs": [
    {
     "data": {
      "text/plain": [
       "           Precision    Recall  F1-Score\n",
       "Relation    0.446667  0.366667  0.387879\n",
       "Subject     1.000000  1.000000  1.000000\n",
       "Predicate   0.516667  0.420000  0.448485\n",
       "Object      0.780000  0.766667  0.725541\n",
       "Entity      0.821429  0.811429  0.785897"
      ],
      "text/html": [
       "<div>\n",
       "<style scoped>\n",
       "    .dataframe tbody tr th:only-of-type {\n",
       "        vertical-align: middle;\n",
       "    }\n",
       "\n",
       "    .dataframe tbody tr th {\n",
       "        vertical-align: top;\n",
       "    }\n",
       "\n",
       "    .dataframe thead th {\n",
       "        text-align: right;\n",
       "    }\n",
       "</style>\n",
       "<table border=\"1\" class=\"dataframe\">\n",
       "  <thead>\n",
       "    <tr style=\"text-align: right;\">\n",
       "      <th></th>\n",
       "      <th>Precision</th>\n",
       "      <th>Recall</th>\n",
       "      <th>F1-Score</th>\n",
       "    </tr>\n",
       "  </thead>\n",
       "  <tbody>\n",
       "    <tr>\n",
       "      <th>Relation</th>\n",
       "      <td>0.446667</td>\n",
       "      <td>0.366667</td>\n",
       "      <td>0.387879</td>\n",
       "    </tr>\n",
       "    <tr>\n",
       "      <th>Subject</th>\n",
       "      <td>1.000000</td>\n",
       "      <td>1.000000</td>\n",
       "      <td>1.000000</td>\n",
       "    </tr>\n",
       "    <tr>\n",
       "      <th>Predicate</th>\n",
       "      <td>0.516667</td>\n",
       "      <td>0.420000</td>\n",
       "      <td>0.448485</td>\n",
       "    </tr>\n",
       "    <tr>\n",
       "      <th>Object</th>\n",
       "      <td>0.780000</td>\n",
       "      <td>0.766667</td>\n",
       "      <td>0.725541</td>\n",
       "    </tr>\n",
       "    <tr>\n",
       "      <th>Entity</th>\n",
       "      <td>0.821429</td>\n",
       "      <td>0.811429</td>\n",
       "      <td>0.785897</td>\n",
       "    </tr>\n",
       "  </tbody>\n",
       "</table>\n",
       "</div>"
      ]
     },
     "execution_count": 1,
     "metadata": {},
     "output_type": "execute_result"
    }
   ],
   "execution_count": 1
  },
  {
   "metadata": {
    "ExecuteTime": {
     "end_time": "2025-03-27T12:46:32.713202Z",
     "start_time": "2025-03-27T12:46:32.700579Z"
    }
   },
   "cell_type": "code",
   "source": "generate_report(\"./baseline/slurm/evaluation_log-SambaNova_Meta-Llama-3.3-70B-Instruct.xlsx\")",
   "id": "ceff37ab7f68db57",
   "outputs": [
    {
     "data": {
      "text/plain": [
       "           Precision  Recall  F1-Score\n",
       "Relation    0.513333    0.66  0.561962\n",
       "Subject     0.766667    1.00  0.833333\n",
       "Predicate   0.633333    0.72  0.652814\n",
       "Object      0.816667    0.90  0.829437\n",
       "Entity      0.846984    0.92  0.865171"
      ],
      "text/html": [
       "<div>\n",
       "<style scoped>\n",
       "    .dataframe tbody tr th:only-of-type {\n",
       "        vertical-align: middle;\n",
       "    }\n",
       "\n",
       "    .dataframe tbody tr th {\n",
       "        vertical-align: top;\n",
       "    }\n",
       "\n",
       "    .dataframe thead th {\n",
       "        text-align: right;\n",
       "    }\n",
       "</style>\n",
       "<table border=\"1\" class=\"dataframe\">\n",
       "  <thead>\n",
       "    <tr style=\"text-align: right;\">\n",
       "      <th></th>\n",
       "      <th>Precision</th>\n",
       "      <th>Recall</th>\n",
       "      <th>F1-Score</th>\n",
       "    </tr>\n",
       "  </thead>\n",
       "  <tbody>\n",
       "    <tr>\n",
       "      <th>Relation</th>\n",
       "      <td>0.513333</td>\n",
       "      <td>0.66</td>\n",
       "      <td>0.561962</td>\n",
       "    </tr>\n",
       "    <tr>\n",
       "      <th>Subject</th>\n",
       "      <td>0.766667</td>\n",
       "      <td>1.00</td>\n",
       "      <td>0.833333</td>\n",
       "    </tr>\n",
       "    <tr>\n",
       "      <th>Predicate</th>\n",
       "      <td>0.633333</td>\n",
       "      <td>0.72</td>\n",
       "      <td>0.652814</td>\n",
       "    </tr>\n",
       "    <tr>\n",
       "      <th>Object</th>\n",
       "      <td>0.816667</td>\n",
       "      <td>0.90</td>\n",
       "      <td>0.829437</td>\n",
       "    </tr>\n",
       "    <tr>\n",
       "      <th>Entity</th>\n",
       "      <td>0.846984</td>\n",
       "      <td>0.92</td>\n",
       "      <td>0.865171</td>\n",
       "    </tr>\n",
       "  </tbody>\n",
       "</table>\n",
       "</div>"
      ]
     },
     "execution_count": 2,
     "metadata": {},
     "output_type": "execute_result"
    }
   ],
   "execution_count": 2
  },
  {
   "metadata": {},
   "cell_type": "code",
   "outputs": [],
   "execution_count": null,
   "source": "",
   "id": "b36edd19c0d18203"
  }
 ],
 "metadata": {
  "kernelspec": {
   "display_name": "Python 3",
   "language": "python",
   "name": "python3"
  },
  "language_info": {
   "codemirror_mode": {
    "name": "ipython",
    "version": 2
   },
   "file_extension": ".py",
   "mimetype": "text/x-python",
   "name": "python",
   "nbconvert_exporter": "python",
   "pygments_lexer": "ipython2",
   "version": "2.7.6"
  }
 },
 "nbformat": 4,
 "nbformat_minor": 5
}
