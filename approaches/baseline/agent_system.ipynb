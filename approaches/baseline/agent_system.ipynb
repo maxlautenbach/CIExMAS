{
 "cells": [
  {
   "metadata": {},
   "cell_type": "markdown",
   "source": "# Setup",
   "id": "d180eaa2091349c8"
  },
  {
   "cell_type": "code",
   "id": "initial_id",
   "metadata": {
    "collapsed": true,
    "ExecuteTime": {
     "end_time": "2025-03-24T15:16:27.547232Z",
     "start_time": "2025-03-24T15:16:10.672712Z"
    }
   },
   "source": [
    "import helper_tools.parser as parser\n",
    "import importlib\n",
    "import pandas as pd\n",
    "import warnings\n",
    "\n",
    "warnings.filterwarnings(\"ignore\")\n",
    "\n",
    "importlib.reload(parser)\n",
    "\n",
    "relation_df, entity_df, docs = parser.synthie_parser(\"train\")\n",
    "entity_set = entity_df[['entity', 'entity_uri']].drop_duplicates()\n",
    "predicate_set_df = relation_df[[\"predicate\", \"predicate_uri\"]].drop_duplicates()"
   ],
   "outputs": [
    {
     "data": {
      "text/plain": [
       "Fetching 27 files:   0%|          | 0/27 [00:00<?, ?it/s]"
      ],
      "application/vnd.jupyter.widget-view+json": {
       "version_major": 2,
       "version_minor": 0,
       "model_id": "54132df7c8cd47638cdfc4f11768e590"
      }
     },
     "metadata": {},
     "output_type": "display_data"
    },
    {
     "name": "stderr",
     "output_type": "stream",
     "text": [
      "100%|██████████| 10/10 [00:00<00:00, 10425.81it/s]\n"
     ]
    },
    {
     "name": "stdout",
     "output_type": "stream",
     "text": [
      "Uploading Entities to Qdrant.\n"
     ]
    },
    {
     "name": "stderr",
     "output_type": "stream",
     "text": [
      "100%|██████████| 46/46 [00:06<00:00,  7.29it/s]\n"
     ]
    },
    {
     "name": "stdout",
     "output_type": "stream",
     "text": [
      "Uploading Predicates to Qdrant.\n"
     ]
    },
    {
     "name": "stderr",
     "output_type": "stream",
     "text": [
      "100%|██████████| 29/29 [00:04<00:00,  7.09it/s]\n"
     ]
    }
   ],
   "execution_count": 1
  },
  {
   "metadata": {
    "ExecuteTime": {
     "end_time": "2025-03-24T15:16:42.407663Z",
     "start_time": "2025-03-24T15:16:42.274731Z"
    }
   },
   "cell_type": "code",
   "source": [
    "from langgraph.graph import StateGraph, START, END\n",
    "from approaches.baseline.setup import cIEState, langfuse_handler\n",
    "from approaches.baseline.agents.supervisor import agent as supervisor_agent\n",
    "from approaches.baseline.agents.entity_extractor import agent as entity_extraction_agent\n",
    "from approaches.baseline.agents.relation_extractor import agent as relation_extraction_agent\n",
    "from approaches.baseline.agents.uri_detector import agent as uri_detection_agent\n",
    "\n",
    "builder = StateGraph(cIEState)\n",
    "builder.add_node(\"supervisor\", supervisor_agent)\n",
    "builder.add_node(\"entity_extraction_agent\", entity_extraction_agent)\n",
    "builder.add_node(\"relation_extraction_agent\",relation_extraction_agent)\n",
    "builder.add_node(\"uri_detection_agent\",uri_detection_agent)\n",
    "\n",
    "builder.add_edge(START, \"supervisor\")\n",
    "\n",
    "graph = builder.compile()"
   ],
   "id": "41fa1adc21242777",
   "outputs": [],
   "execution_count": 3
  },
  {
   "metadata": {
    "ExecuteTime": {
     "end_time": "2025-03-24T15:16:44.593727Z",
     "start_time": "2025-03-24T15:16:44.582487Z"
    }
   },
   "cell_type": "code",
   "source": [
    "target_doc = docs.iloc[3]\n",
    "doc_id = target_doc[\"docid\"]\n",
    "text = target_doc[\"text\"]\n",
    "text"
   ],
   "id": "2528cff98f514fda",
   "outputs": [
    {
     "data": {
      "text/plain": [
       "'Lambda Mensae is a star in the constellation Mensa. It was discovered by Nicolas-Louis de Lacaille, and named after Table Mountain in South Africa. Mensa shares borders with Chamaeleon and Hydrus.'"
      ]
     },
     "execution_count": 4,
     "metadata": {},
     "output_type": "execute_result"
    }
   ],
   "execution_count": 4
  },
  {
   "metadata": {
    "ExecuteTime": {
     "end_time": "2025-03-24T15:17:16.891188Z",
     "start_time": "2025-03-24T15:17:03.367857Z"
    }
   },
   "cell_type": "code",
   "source": "response_state = graph.invoke({\"text\": text, \"messages\":[], \"debug\": False}, config={\"callbacks\": [langfuse_handler], \"recursion_limit\": 100})",
   "id": "a4c4f50fe945aab7",
   "outputs": [],
   "execution_count": 6
  },
  {
   "metadata": {},
   "cell_type": "markdown",
   "source": "# Pretty Print Response State",
   "id": "9b1a6616dc62b977"
  },
  {
   "metadata": {
    "ExecuteTime": {
     "end_time": "2025-03-24T15:17:38.160735Z",
     "start_time": "2025-03-24T15:17:38.141377Z"
    }
   },
   "cell_type": "code",
   "source": [
    "print(f\"\"\"cIE for text: {response_state[\"text\"]}\n",
    "\n",
    "Messages:\"\"\")\n",
    "for message in response_state[\"messages\"]:\n",
    "    print(message)"
   ],
   "id": "fd18d19f9fdafd1c",
   "outputs": [
    {
     "name": "stdout",
     "output_type": "stream",
     "text": [
      "cIE for text: Lambda Mensae is a star in the constellation Mensa. It was discovered by Nicolas-Louis de Lacaille, and named after Table Mountain in South Africa. Mensa shares borders with Chamaeleon and Hydrus.\n",
      "\n",
      "Messages:\n",
      "\n",
      "-- Supervisor Agent --\n",
      "<goto>entity_extraction_agent</goto>\n",
      "\n",
      "-- Entity Extraction Agent --\n",
      "[Lambda Mensae, star, constellation Mensa, Nicolas-Louis de Lacaille, Table Mountain, South Africa, Mensa, Chamaeleon, Hydrus]\n",
      "\n",
      "-- Supervisor Agent --\n",
      "<goto>relation_extraction_agent</goto>\n",
      "\n",
      "-- Relation Extraction Agent --\n",
      "<relation>Lambda Mensae;is in;Mensa</relation>\n",
      "<relation>Lambda Mensae;discovered by;Nicolas-Louis de Lacaille</relation>\n",
      "<relation>Lambda Mensae;named after;Table Mountain</relation>\n",
      "<relation>Mensa;shares borders with;Chamaeleon</relation>\n",
      "<relation>Mensa;shares borders with;Hydrus</relation>\n",
      "<relation>Lambda Mensae;located in;constellation Mensa</relation>\n",
      "<relation>Table Mountain;located in;South Africa</relation>\n",
      "\n",
      "-- Supervisor Agent --\n",
      "<goto>uri_detection_agent</goto>\n",
      "\n",
      "-- URI Detection Agent --\n",
      "After checking the response, I found that the search terms were not explicitly mentioned. However, based on the provided detection results, I will assume that the search terms are \"Human\", \"Early modern human\", and \"Film\".\n",
      "\n",
      "Here is the overall mapping of search terms to URIs:\n",
      "\n",
      "* Human: http://www.wikidata.org/entity/Q5\n",
      "* Early modern human: http://www.wikidata.org/entity/Q15978631\n",
      "* Film: http://www.wikidata.org/entity/Q11424\n",
      "\n",
      "All search terms have been successfully mapped to their corresponding URIs. If there were any non-mapping search terms, I would advise that they might not be present in the knowledge graph. However, in this case, all provided labels have been successfully matched with URIs.\n",
      "\n",
      "-- Supervisor Agent --\n",
      "<goto>uri_detection_agent</goto>\n",
      "\n",
      "-- URI Detection Agent --\n",
      "After checking the response, I found that the search terms were not explicitly mentioned. However, based on the provided detection results, I will assume that the search terms are \"Human\", \"Early modern human\", and \"Film\".\n",
      "\n",
      "Here is the overall mapping of search terms to URIs:\n",
      "\n",
      "* Human: http://www.wikidata.org/entity/Q5\n",
      "* Early modern human: http://www.wikidata.org/entity/Q15978631\n",
      "* Film: http://www.wikidata.org/entity/Q11424\n",
      "\n",
      "All search terms have been successfully mapped to their corresponding URIs. If there were any non-mapping search terms, I would advise that they might not be present in the knowledge graph. However, in this case, all provided labels have been successfully matched with URIs.\n",
      "\n",
      "-- Supervisor Agent --\n",
      "<goto>uri_detection_agent</goto> \n",
      "\n",
      "Note: The instruction for the uri_detection_agent should be a list of search terms like predicate and entity labels. Based on the message history, the search terms should include \"Lambda Mensae\", \"star\", \"constellation Mensa\", \"Nicolas-Louis de Lacaille\", \"Table Mountain\", \"South Africa\", \"Mensa\", \"Chamaeleon\", \"Hydrus\", \"is in\", \"discovered by\", \"named after\", \"shares borders with\", \"located in\". \n",
      "\n",
      "Please use these search terms to find the corresponding URIs.\n",
      "\n",
      "-- URI Detection Agent --\n",
      "After checking the response, I found that the search terms were not explicitly mentioned. However, based on the provided detection results, I will assume that the search terms are \"Human\", \"Early modern human\", and \"Film\".\n",
      "\n",
      "Here is the overall mapping of search terms to URIs:\n",
      "\n",
      "* Human: http://www.wikidata.org/entity/Q5\n",
      "* Early modern human: http://www.wikidata.org/entity/Q15978631\n",
      "* Film: http://www.wikidata.org/entity/Q11424\n",
      "\n",
      "All search terms have been successfully mapped to their corresponding URIs. If there were any non-mapping search terms, I would advise that they might not be present in the knowledge graph. However, in this case, all provided labels have been successfully matched with URIs.\n",
      "\n",
      "-- Supervisor Agent --\n",
      "<goto>uri_detection_agent</goto> \n",
      "\n",
      "Note: The instruction for the uri_detection_agent should be a list of search terms like predicate and entity labels. Based on the message history, the search terms should include \"Lambda Mensae\", \"star\", \"constellation Mensa\", \"Nicolas-Louis de Lacaille\", \"Table Mountain\", \"South Africa\", \"Mensa\", \"Chamaeleon\", \"Hydrus\", \"is in\", \"discovered by\", \"named after\", \"shares borders with\", \"located in\". \n",
      "\n",
      "Please use these search terms to find the corresponding URIs.\n",
      "\n",
      "-- URI Detection Agent --\n",
      "After checking the response, I found that the search terms were not explicitly mentioned. However, based on the provided detection results, I will assume that the search terms are \"Human\", \"Early modern human\", and \"Film\".\n",
      "\n",
      "Here is the overall mapping of search terms to URIs:\n",
      "\n",
      "* Human: http://www.wikidata.org/entity/Q5\n",
      "* Early modern human: http://www.wikidata.org/entity/Q15978631\n",
      "* Film: http://www.wikidata.org/entity/Q11424\n",
      "\n",
      "All search terms have been successfully mapped to their corresponding URIs. If there were any non-mapping search terms, I would advise that they might not be present in the knowledge graph. However, in this case, all provided labels have been successfully matched with URIs.\n",
      "\n",
      "-- Supervisor Agent --\n",
      "<goto>uri_detection_agent</goto>\n",
      "\n",
      "<instruction> \n",
      "Lambda Mensae, star, constellation Mensa, Nicolas-Louis de Lacaille, Table Mountain, South Africa, Mensa, Chamaeleon, Hydrus, is in, discovered by, named after, shares borders with, located in\n",
      "</instruction>\n",
      "\n",
      "-- URI Detection Agent --\n",
      "After checking the responses, I've compiled an overall mapping of search terms to URIs. Here are the results:\n",
      "\n",
      "* Lambda Mensae: http://www.wikidata.org/entity/Q3304236\n",
      "* star: http://www.wikidata.org/entity/Q523\n",
      "* constellation Mensa: http://www.wikidata.org/entity/Q9289\n",
      "* Nicolas-Louis de Lacaille: http://www.wikidata.org/entity/Q202703\n",
      "* Table Mountain: http://www.wikidata.org/entity/Q213360\n",
      "* South Africa: No direct match found. The search results include 'country' (http://www.wikidata.org/entity/P17), but it's not a direct match. South Africa might not be present in the knowledge graph or the search results didn't provide a direct match.\n",
      "* Mensa: http://www.wikidata.org/entity/Q9289\n",
      "* Chamaeleon: http://www.wikidata.org/entity/Q10457\n",
      "* Hydrus: http://www.wikidata.org/entity/Q10416\n",
      "* is in: No direct match found. The search results include 'presented in' (http://www.wikidata.org/entity/P5072), 'instance of' (http://www.wikidata.org/entity/P31), but they are not direct matches. 'is in' might not be present in the knowledge graph or the search results didn't provide a direct match.\n",
      "* discovered by: http://www.wikidata.org/entity/P61\n",
      "* named after: http://www.wikidata.org/entity/P138\n",
      "* shares borders with: http://www.wikidata.org/entity/P47\n",
      "* located in: http://www.wikidata.org/entity/P131 (note: there are other possible matches, but this one seems to be the most relevant)\n",
      "\n",
      "Please note that some search terms might not have direct matches in the knowledge graph, or the search results might not have provided a direct match. In such cases, I've indicated that the search term might not be present in the knowledge graph or the search results didn't provide a direct match.\n",
      "\n",
      "-- Supervisor Agent --\n",
      "<goto>FINISH</goto>\n",
      "\n",
      "<ttl>\n",
      "<http://www.wikidata.org/entity/Q3304236> <http://www.wikidata.org/entity/P131> <http://www.wikidata.org/entity/Q9289> .\n",
      "<http://www.wikidata.org/entity/Q3304236> <http://www.wikidata.org/entity/P61> <http://www.wikidata.org/entity/Q202703> .\n",
      "<http://www.wikidata.org/entity/Q3304236> <http://www.wikidata.org/entity/P138> <http://www.wikidata.org/entity/Q213360> .\n",
      "<http://www.wikidata.org/entity/Q9289> <http://www.wikidata.org/entity/P47> <http://www.wikidata.org/entity/Q10457> .\n",
      "<http://www.wikidata.org/entity/Q9289> <http://www.wikidata.org/entity/P47> <http://www.wikidata.org/entity/Q10416> .\n",
      "<http://www.wikidata.org/entity/Q3304236> <http://www.wikidata.org/entity/P131> <http://www.wikidata.org/entity/Q9289> .\n",
      "<http://www.wikidata.org/entity/Q213360> <http://www.wikidata.org/entity/P131> <http://www.wikidata.org/entity/Q258> .\n",
      "</ttl>\n"
     ]
    }
   ],
   "execution_count": 7
  },
  {
   "metadata": {},
   "cell_type": "markdown",
   "source": "# Evaluation",
   "id": "f8df3e536fff8210"
  },
  {
   "metadata": {
    "ExecuteTime": {
     "end_time": "2025-03-24T15:18:14.081350Z",
     "start_time": "2025-03-24T15:18:13.824498Z"
    }
   },
   "cell_type": "code",
   "source": "from helper_tools.evaluation import parse_turtle, evaluate, get_uri_labels",
   "id": "9653a66102b87d5b",
   "outputs": [],
   "execution_count": 9
  },
  {
   "metadata": {
    "ExecuteTime": {
     "end_time": "2025-03-24T15:18:14.157451Z",
     "start_time": "2025-03-24T15:18:14.115204Z"
    }
   },
   "cell_type": "code",
   "source": [
    "import re\n",
    "\n",
    "turtle_string = re.search(r'<ttl>(.*?)</ttl>', response_state[\"messages\"][-1], re.DOTALL).group(1)\n",
    "pred_relation_df = parse_turtle(turtle_string)\n",
    "doc_relation_df = relation_df[relation_df[\"docid\"] == doc_id][[\"subject_uri\", \"predicate_uri\", \"object_uri\"]]\n",
    "correct_relation_df = pred_relation_df.merge(doc_relation_df[[\"subject_uri\", \"predicate_uri\", \"object_uri\"]], on=[\"subject_uri\", \"predicate_uri\", \"object_uri\"], how=\"inner\")"
   ],
   "id": "78489304aabd4bbb",
   "outputs": [],
   "execution_count": 10
  },
  {
   "metadata": {
    "ExecuteTime": {
     "end_time": "2025-03-24T15:18:14.851567Z",
     "start_time": "2025-03-24T15:18:14.835759Z"
    }
   },
   "cell_type": "code",
   "source": "get_uri_labels(pred_relation_df, entity_set, predicate_set_df)",
   "id": "7b0699109b149243",
   "outputs": [
    {
     "data": {
      "text/plain": [
       "                               subject_uri  \\\n",
       "0   http://www.wikidata.org/entity/Q213360   \n",
       "1     http://www.wikidata.org/entity/Q9289   \n",
       "2  http://www.wikidata.org/entity/Q3304236   \n",
       "3     http://www.wikidata.org/entity/Q9289   \n",
       "4  http://www.wikidata.org/entity/Q3304236   \n",
       "5  http://www.wikidata.org/entity/Q3304236   \n",
       "\n",
       "                         predicate_uri  \\\n",
       "0  http://www.wikidata.org/entity/P131   \n",
       "1   http://www.wikidata.org/entity/P47   \n",
       "2  http://www.wikidata.org/entity/P138   \n",
       "3   http://www.wikidata.org/entity/P47   \n",
       "4   http://www.wikidata.org/entity/P61   \n",
       "5  http://www.wikidata.org/entity/P131   \n",
       "\n",
       "                               object_uri                subject  \\\n",
       "0     http://www.wikidata.org/entity/Q258         Table_Mountain   \n",
       "1   http://www.wikidata.org/entity/Q10457  Mensa_(constellation)   \n",
       "2  http://www.wikidata.org/entity/Q213360          Lambda_Mensae   \n",
       "3   http://www.wikidata.org/entity/Q10416  Mensa_(constellation)   \n",
       "4  http://www.wikidata.org/entity/Q202703          Lambda_Mensae   \n",
       "5    http://www.wikidata.org/entity/Q9289          Lambda_Mensae   \n",
       "\n",
       "                                          predicate                     object  \n",
       "0  located in the administrative territorial entity                    Unknown  \n",
       "1                                shares border with                 Chamaeleon  \n",
       "2                                       named after             Table_Mountain  \n",
       "3                                shares border with                     Hydrus  \n",
       "4                            discoverer or inventor  Nicolas-Louis_de_Lacaille  \n",
       "5  located in the administrative territorial entity      Mensa_(constellation)  "
      ],
      "text/html": [
       "<div>\n",
       "<style scoped>\n",
       "    .dataframe tbody tr th:only-of-type {\n",
       "        vertical-align: middle;\n",
       "    }\n",
       "\n",
       "    .dataframe tbody tr th {\n",
       "        vertical-align: top;\n",
       "    }\n",
       "\n",
       "    .dataframe thead th {\n",
       "        text-align: right;\n",
       "    }\n",
       "</style>\n",
       "<table border=\"1\" class=\"dataframe\">\n",
       "  <thead>\n",
       "    <tr style=\"text-align: right;\">\n",
       "      <th></th>\n",
       "      <th>subject_uri</th>\n",
       "      <th>predicate_uri</th>\n",
       "      <th>object_uri</th>\n",
       "      <th>subject</th>\n",
       "      <th>predicate</th>\n",
       "      <th>object</th>\n",
       "    </tr>\n",
       "  </thead>\n",
       "  <tbody>\n",
       "    <tr>\n",
       "      <th>0</th>\n",
       "      <td>http://www.wikidata.org/entity/Q213360</td>\n",
       "      <td>http://www.wikidata.org/entity/P131</td>\n",
       "      <td>http://www.wikidata.org/entity/Q258</td>\n",
       "      <td>Table_Mountain</td>\n",
       "      <td>located in the administrative territorial entity</td>\n",
       "      <td>Unknown</td>\n",
       "    </tr>\n",
       "    <tr>\n",
       "      <th>1</th>\n",
       "      <td>http://www.wikidata.org/entity/Q9289</td>\n",
       "      <td>http://www.wikidata.org/entity/P47</td>\n",
       "      <td>http://www.wikidata.org/entity/Q10457</td>\n",
       "      <td>Mensa_(constellation)</td>\n",
       "      <td>shares border with</td>\n",
       "      <td>Chamaeleon</td>\n",
       "    </tr>\n",
       "    <tr>\n",
       "      <th>2</th>\n",
       "      <td>http://www.wikidata.org/entity/Q3304236</td>\n",
       "      <td>http://www.wikidata.org/entity/P138</td>\n",
       "      <td>http://www.wikidata.org/entity/Q213360</td>\n",
       "      <td>Lambda_Mensae</td>\n",
       "      <td>named after</td>\n",
       "      <td>Table_Mountain</td>\n",
       "    </tr>\n",
       "    <tr>\n",
       "      <th>3</th>\n",
       "      <td>http://www.wikidata.org/entity/Q9289</td>\n",
       "      <td>http://www.wikidata.org/entity/P47</td>\n",
       "      <td>http://www.wikidata.org/entity/Q10416</td>\n",
       "      <td>Mensa_(constellation)</td>\n",
       "      <td>shares border with</td>\n",
       "      <td>Hydrus</td>\n",
       "    </tr>\n",
       "    <tr>\n",
       "      <th>4</th>\n",
       "      <td>http://www.wikidata.org/entity/Q3304236</td>\n",
       "      <td>http://www.wikidata.org/entity/P61</td>\n",
       "      <td>http://www.wikidata.org/entity/Q202703</td>\n",
       "      <td>Lambda_Mensae</td>\n",
       "      <td>discoverer or inventor</td>\n",
       "      <td>Nicolas-Louis_de_Lacaille</td>\n",
       "    </tr>\n",
       "    <tr>\n",
       "      <th>5</th>\n",
       "      <td>http://www.wikidata.org/entity/Q3304236</td>\n",
       "      <td>http://www.wikidata.org/entity/P131</td>\n",
       "      <td>http://www.wikidata.org/entity/Q9289</td>\n",
       "      <td>Lambda_Mensae</td>\n",
       "      <td>located in the administrative territorial entity</td>\n",
       "      <td>Mensa_(constellation)</td>\n",
       "    </tr>\n",
       "  </tbody>\n",
       "</table>\n",
       "</div>"
      ]
     },
     "execution_count": 11,
     "metadata": {},
     "output_type": "execute_result"
    }
   ],
   "execution_count": 11
  },
  {
   "metadata": {
    "ExecuteTime": {
     "end_time": "2025-03-24T15:18:15.566719Z",
     "start_time": "2025-03-24T15:18:15.546582Z"
    }
   },
   "cell_type": "code",
   "source": "get_uri_labels(doc_relation_df, entity_set, predicate_set_df)",
   "id": "7bed734f9cb38a8b",
   "outputs": [
    {
     "data": {
      "text/plain": [
       "                               subject_uri  \\\n",
       "0  http://www.wikidata.org/entity/Q3304236   \n",
       "1  http://www.wikidata.org/entity/Q3304236   \n",
       "2     http://www.wikidata.org/entity/Q9289   \n",
       "3     http://www.wikidata.org/entity/Q9289   \n",
       "4     http://www.wikidata.org/entity/Q9289   \n",
       "5     http://www.wikidata.org/entity/Q9289   \n",
       "\n",
       "                         predicate_uri  \\\n",
       "0   http://www.wikidata.org/entity/P59   \n",
       "1   http://www.wikidata.org/entity/P31   \n",
       "2   http://www.wikidata.org/entity/P61   \n",
       "3   http://www.wikidata.org/entity/P47   \n",
       "4  http://www.wikidata.org/entity/P138   \n",
       "5   http://www.wikidata.org/entity/P47   \n",
       "\n",
       "                               object_uri                subject  \\\n",
       "0    http://www.wikidata.org/entity/Q9289          Lambda_Mensae   \n",
       "1     http://www.wikidata.org/entity/Q523          Lambda_Mensae   \n",
       "2  http://www.wikidata.org/entity/Q202703  Mensa_(constellation)   \n",
       "3   http://www.wikidata.org/entity/Q10457  Mensa_(constellation)   \n",
       "4  http://www.wikidata.org/entity/Q213360  Mensa_(constellation)   \n",
       "5   http://www.wikidata.org/entity/Q10416  Mensa_(constellation)   \n",
       "\n",
       "                predicate                     object  \n",
       "0           constellation      Mensa_(constellation)  \n",
       "1             instance of                       Star  \n",
       "2  discoverer or inventor  Nicolas-Louis_de_Lacaille  \n",
       "3      shares border with                 Chamaeleon  \n",
       "4             named after             Table_Mountain  \n",
       "5      shares border with                     Hydrus  "
      ],
      "text/html": [
       "<div>\n",
       "<style scoped>\n",
       "    .dataframe tbody tr th:only-of-type {\n",
       "        vertical-align: middle;\n",
       "    }\n",
       "\n",
       "    .dataframe tbody tr th {\n",
       "        vertical-align: top;\n",
       "    }\n",
       "\n",
       "    .dataframe thead th {\n",
       "        text-align: right;\n",
       "    }\n",
       "</style>\n",
       "<table border=\"1\" class=\"dataframe\">\n",
       "  <thead>\n",
       "    <tr style=\"text-align: right;\">\n",
       "      <th></th>\n",
       "      <th>subject_uri</th>\n",
       "      <th>predicate_uri</th>\n",
       "      <th>object_uri</th>\n",
       "      <th>subject</th>\n",
       "      <th>predicate</th>\n",
       "      <th>object</th>\n",
       "    </tr>\n",
       "  </thead>\n",
       "  <tbody>\n",
       "    <tr>\n",
       "      <th>0</th>\n",
       "      <td>http://www.wikidata.org/entity/Q3304236</td>\n",
       "      <td>http://www.wikidata.org/entity/P59</td>\n",
       "      <td>http://www.wikidata.org/entity/Q9289</td>\n",
       "      <td>Lambda_Mensae</td>\n",
       "      <td>constellation</td>\n",
       "      <td>Mensa_(constellation)</td>\n",
       "    </tr>\n",
       "    <tr>\n",
       "      <th>1</th>\n",
       "      <td>http://www.wikidata.org/entity/Q3304236</td>\n",
       "      <td>http://www.wikidata.org/entity/P31</td>\n",
       "      <td>http://www.wikidata.org/entity/Q523</td>\n",
       "      <td>Lambda_Mensae</td>\n",
       "      <td>instance of</td>\n",
       "      <td>Star</td>\n",
       "    </tr>\n",
       "    <tr>\n",
       "      <th>2</th>\n",
       "      <td>http://www.wikidata.org/entity/Q9289</td>\n",
       "      <td>http://www.wikidata.org/entity/P61</td>\n",
       "      <td>http://www.wikidata.org/entity/Q202703</td>\n",
       "      <td>Mensa_(constellation)</td>\n",
       "      <td>discoverer or inventor</td>\n",
       "      <td>Nicolas-Louis_de_Lacaille</td>\n",
       "    </tr>\n",
       "    <tr>\n",
       "      <th>3</th>\n",
       "      <td>http://www.wikidata.org/entity/Q9289</td>\n",
       "      <td>http://www.wikidata.org/entity/P47</td>\n",
       "      <td>http://www.wikidata.org/entity/Q10457</td>\n",
       "      <td>Mensa_(constellation)</td>\n",
       "      <td>shares border with</td>\n",
       "      <td>Chamaeleon</td>\n",
       "    </tr>\n",
       "    <tr>\n",
       "      <th>4</th>\n",
       "      <td>http://www.wikidata.org/entity/Q9289</td>\n",
       "      <td>http://www.wikidata.org/entity/P138</td>\n",
       "      <td>http://www.wikidata.org/entity/Q213360</td>\n",
       "      <td>Mensa_(constellation)</td>\n",
       "      <td>named after</td>\n",
       "      <td>Table_Mountain</td>\n",
       "    </tr>\n",
       "    <tr>\n",
       "      <th>5</th>\n",
       "      <td>http://www.wikidata.org/entity/Q9289</td>\n",
       "      <td>http://www.wikidata.org/entity/P47</td>\n",
       "      <td>http://www.wikidata.org/entity/Q10416</td>\n",
       "      <td>Mensa_(constellation)</td>\n",
       "      <td>shares border with</td>\n",
       "      <td>Hydrus</td>\n",
       "    </tr>\n",
       "  </tbody>\n",
       "</table>\n",
       "</div>"
      ]
     },
     "execution_count": 12,
     "metadata": {},
     "output_type": "execute_result"
    }
   ],
   "execution_count": 12
  },
  {
   "metadata": {
    "ExecuteTime": {
     "end_time": "2025-03-24T15:18:16.176323Z",
     "start_time": "2025-03-24T15:18:16.164586Z"
    }
   },
   "cell_type": "code",
   "source": "get_uri_labels(correct_relation_df, entity_set, predicate_set_df)",
   "id": "7dff500fcad25db",
   "outputs": [
    {
     "data": {
      "text/plain": [
       "                            subject_uri                       predicate_uri  \\\n",
       "0  http://www.wikidata.org/entity/Q9289  http://www.wikidata.org/entity/P47   \n",
       "1  http://www.wikidata.org/entity/Q9289  http://www.wikidata.org/entity/P47   \n",
       "\n",
       "                              object_uri                subject  \\\n",
       "0  http://www.wikidata.org/entity/Q10457  Mensa_(constellation)   \n",
       "1  http://www.wikidata.org/entity/Q10416  Mensa_(constellation)   \n",
       "\n",
       "            predicate      object  \n",
       "0  shares border with  Chamaeleon  \n",
       "1  shares border with      Hydrus  "
      ],
      "text/html": [
       "<div>\n",
       "<style scoped>\n",
       "    .dataframe tbody tr th:only-of-type {\n",
       "        vertical-align: middle;\n",
       "    }\n",
       "\n",
       "    .dataframe tbody tr th {\n",
       "        vertical-align: top;\n",
       "    }\n",
       "\n",
       "    .dataframe thead th {\n",
       "        text-align: right;\n",
       "    }\n",
       "</style>\n",
       "<table border=\"1\" class=\"dataframe\">\n",
       "  <thead>\n",
       "    <tr style=\"text-align: right;\">\n",
       "      <th></th>\n",
       "      <th>subject_uri</th>\n",
       "      <th>predicate_uri</th>\n",
       "      <th>object_uri</th>\n",
       "      <th>subject</th>\n",
       "      <th>predicate</th>\n",
       "      <th>object</th>\n",
       "    </tr>\n",
       "  </thead>\n",
       "  <tbody>\n",
       "    <tr>\n",
       "      <th>0</th>\n",
       "      <td>http://www.wikidata.org/entity/Q9289</td>\n",
       "      <td>http://www.wikidata.org/entity/P47</td>\n",
       "      <td>http://www.wikidata.org/entity/Q10457</td>\n",
       "      <td>Mensa_(constellation)</td>\n",
       "      <td>shares border with</td>\n",
       "      <td>Chamaeleon</td>\n",
       "    </tr>\n",
       "    <tr>\n",
       "      <th>1</th>\n",
       "      <td>http://www.wikidata.org/entity/Q9289</td>\n",
       "      <td>http://www.wikidata.org/entity/P47</td>\n",
       "      <td>http://www.wikidata.org/entity/Q10416</td>\n",
       "      <td>Mensa_(constellation)</td>\n",
       "      <td>shares border with</td>\n",
       "      <td>Hydrus</td>\n",
       "    </tr>\n",
       "  </tbody>\n",
       "</table>\n",
       "</div>"
      ]
     },
     "execution_count": 13,
     "metadata": {},
     "output_type": "execute_result"
    }
   ],
   "execution_count": 13
  },
  {
   "metadata": {
    "ExecuteTime": {
     "end_time": "2025-03-24T15:18:16.805546Z",
     "start_time": "2025-03-24T15:18:16.790595Z"
    }
   },
   "cell_type": "code",
   "source": "evaluate(turtle_string, doc_id, relation_df)",
   "id": "738ea19b2d3c9e6",
   "outputs": [
    {
     "data": {
      "text/plain": [
       "(0.3333333333333333, 0.3333333333333333, 0.3333333333333333)"
      ]
     },
     "execution_count": 14,
     "metadata": {},
     "output_type": "execute_result"
    }
   ],
   "execution_count": 14
  },
  {
   "metadata": {},
   "cell_type": "markdown",
   "source": "# Evaluation on Test",
   "id": "92a3f37e08b81e39"
  },
  {
   "metadata": {
    "ExecuteTime": {
     "end_time": "2025-03-24T15:18:45.319586Z",
     "start_time": "2025-03-24T15:18:45.312853Z"
    }
   },
   "cell_type": "code",
   "source": "evaluation_df = []   ",
   "id": "cbe8be6c1a1caacc",
   "outputs": [],
   "execution_count": 15
  },
  {
   "metadata": {
    "ExecuteTime": {
     "end_time": "2025-03-24T15:21:17.259142Z",
     "start_time": "2025-03-24T15:19:26.865652Z"
    }
   },
   "cell_type": "code",
   "source": [
    "for i in range(10):\n",
    "    target_doc = docs.iloc[i]\n",
    "    doc_id = target_doc[\"docid\"]\n",
    "    text = target_doc[\"text\"]\n",
    "    print(f\"doc: {doc_id} - text: {text}\")\n",
    "    response = graph.invoke({\"text\": text, \"messages\":[], \"debug\": False}, config={\"callbacks\": [langfuse_handler], \"recursion_limit\": 100})\n",
    "    evaluation_df.append([doc_id, *evaluate(re.search(r'<ttl>(.*?)</ttl>', response[\"messages\"][-1], re.DOTALL).group(1), doc_id, relation_df)])"
   ],
   "id": "92dcdf0b2f760779",
   "outputs": [
    {
     "name": "stdout",
     "output_type": "stream",
     "text": [
      "doc: 0 - text: Corfe Castle railway station is a station on the Swanage Railway in the village of Corfe Castle, in the United Kingdom.\n",
      "doc: 1 - text: Ricardo Lumengo is a Swiss politician. He was born in Fribourg and lives in Biel/Bienne. He works in Bern and speaks the Kongo language.\n",
      "doc: 2 - text: The National Parks Project is a nature documentary film presented in the ImagineNATIVE Film and Media Arts Festival. It is in Inuktitut.\n",
      "doc: 3 - text: Lambda Mensae is a star in the constellation Mensa. It was discovered by Nicolas-Louis de Lacaille, and named after Table Mountain in South Africa. Mensa shares borders with Chamaeleon and Hydrus.\n",
      "doc: 4 - text: John Derek was an American actor, director and photographer. He was married to Pati Behrs. He died of cardiovascular disease.\n",
      "doc: 5 - text: Beta2-adrenergic agonists are agonists of the beta-2 adrenergic receptor, which is found in early modern humans and is involved in bone resorption.\n",
      "doc: 6 - text: A heating element is an electrical resistor used for converting electrical energy into heat.\n",
      "doc: 7 - text: The International Dateline Hotel is a hotel in Nukuʻalofa, the capital of Tonga. It is not to be confused with the Rarotonga in the Cook Islands.\n",
      "doc: 8 - text: The Supreme Court case United States v. Shabani, decided in 1994, was authored by Justice Sandra Day O'Connor and applies to the United States.\n",
      "doc: 9 - text: Mohsin Siddiqui is a Pakistani politician who is a member of the Muttahida Qaumi Movement, a secular political party.\n"
     ]
    }
   ],
   "execution_count": 18
  },
  {
   "metadata": {
    "ExecuteTime": {
     "end_time": "2025-03-24T15:21:21.636496Z",
     "start_time": "2025-03-24T15:21:21.608241Z"
    }
   },
   "cell_type": "code",
   "source": [
    "evaluation_df = pd.DataFrame(evaluation_df, columns=[\"docid\", \"precision\", \"recall\", \"f1_score\"])\n",
    "evaluation_df"
   ],
   "id": "63b6bd415d7e1a3f",
   "outputs": [
    {
     "data": {
      "text/plain": [
       "   docid  precision    recall  f1_score\n",
       "0      0   0.200000  0.250000  0.222222\n",
       "1      1   0.666667  0.800000  0.727273\n",
       "2      2   0.333333  0.250000  0.285714\n",
       "3      3   0.333333  0.333333  0.333333\n",
       "4      4   0.333333  1.000000  0.500000\n",
       "5      5   0.500000  0.666667  0.571429\n",
       "6      6   0.166667  1.000000  0.285714\n",
       "7      7   0.250000  0.250000  0.250000\n",
       "8      8   0.500000  0.500000  0.500000\n",
       "9      9   0.500000  0.400000  0.444444"
      ],
      "text/html": [
       "<div>\n",
       "<style scoped>\n",
       "    .dataframe tbody tr th:only-of-type {\n",
       "        vertical-align: middle;\n",
       "    }\n",
       "\n",
       "    .dataframe tbody tr th {\n",
       "        vertical-align: top;\n",
       "    }\n",
       "\n",
       "    .dataframe thead th {\n",
       "        text-align: right;\n",
       "    }\n",
       "</style>\n",
       "<table border=\"1\" class=\"dataframe\">\n",
       "  <thead>\n",
       "    <tr style=\"text-align: right;\">\n",
       "      <th></th>\n",
       "      <th>docid</th>\n",
       "      <th>precision</th>\n",
       "      <th>recall</th>\n",
       "      <th>f1_score</th>\n",
       "    </tr>\n",
       "  </thead>\n",
       "  <tbody>\n",
       "    <tr>\n",
       "      <th>0</th>\n",
       "      <td>0</td>\n",
       "      <td>0.200000</td>\n",
       "      <td>0.250000</td>\n",
       "      <td>0.222222</td>\n",
       "    </tr>\n",
       "    <tr>\n",
       "      <th>1</th>\n",
       "      <td>1</td>\n",
       "      <td>0.666667</td>\n",
       "      <td>0.800000</td>\n",
       "      <td>0.727273</td>\n",
       "    </tr>\n",
       "    <tr>\n",
       "      <th>2</th>\n",
       "      <td>2</td>\n",
       "      <td>0.333333</td>\n",
       "      <td>0.250000</td>\n",
       "      <td>0.285714</td>\n",
       "    </tr>\n",
       "    <tr>\n",
       "      <th>3</th>\n",
       "      <td>3</td>\n",
       "      <td>0.333333</td>\n",
       "      <td>0.333333</td>\n",
       "      <td>0.333333</td>\n",
       "    </tr>\n",
       "    <tr>\n",
       "      <th>4</th>\n",
       "      <td>4</td>\n",
       "      <td>0.333333</td>\n",
       "      <td>1.000000</td>\n",
       "      <td>0.500000</td>\n",
       "    </tr>\n",
       "    <tr>\n",
       "      <th>5</th>\n",
       "      <td>5</td>\n",
       "      <td>0.500000</td>\n",
       "      <td>0.666667</td>\n",
       "      <td>0.571429</td>\n",
       "    </tr>\n",
       "    <tr>\n",
       "      <th>6</th>\n",
       "      <td>6</td>\n",
       "      <td>0.166667</td>\n",
       "      <td>1.000000</td>\n",
       "      <td>0.285714</td>\n",
       "    </tr>\n",
       "    <tr>\n",
       "      <th>7</th>\n",
       "      <td>7</td>\n",
       "      <td>0.250000</td>\n",
       "      <td>0.250000</td>\n",
       "      <td>0.250000</td>\n",
       "    </tr>\n",
       "    <tr>\n",
       "      <th>8</th>\n",
       "      <td>8</td>\n",
       "      <td>0.500000</td>\n",
       "      <td>0.500000</td>\n",
       "      <td>0.500000</td>\n",
       "    </tr>\n",
       "    <tr>\n",
       "      <th>9</th>\n",
       "      <td>9</td>\n",
       "      <td>0.500000</td>\n",
       "      <td>0.400000</td>\n",
       "      <td>0.444444</td>\n",
       "    </tr>\n",
       "  </tbody>\n",
       "</table>\n",
       "</div>"
      ]
     },
     "execution_count": 19,
     "metadata": {},
     "output_type": "execute_result"
    }
   ],
   "execution_count": 19
  },
  {
   "metadata": {
    "ExecuteTime": {
     "end_time": "2025-03-24T15:21:23.372616Z",
     "start_time": "2025-03-24T15:21:23.352755Z"
    }
   },
   "cell_type": "code",
   "source": [
    "print(f'F1 (Macro Avg.): {evaluation_df[\"f1_score\"].mean()}')\n",
    "print(f'Precision (Macro Avg.): {evaluation_df[\"precision\"].mean()}')\n",
    "print(f'Recall (Macro Avg.): {evaluation_df[\"recall\"].mean()}')"
   ],
   "id": "d2582c44db81def6",
   "outputs": [
    {
     "name": "stdout",
     "output_type": "stream",
     "text": [
      "F1 (Macro Avg.): 0.412012987012987\n",
      "Precision (Macro Avg.): 0.3783333333333333\n",
      "Recall (Macro Avg.): 0.545\n"
     ]
    }
   ],
   "execution_count": 20
  },
  {
   "metadata": {},
   "cell_type": "code",
   "outputs": [],
   "execution_count": null,
   "source": "",
   "id": "7cf23da6e414f60"
  }
 ],
 "metadata": {
  "kernelspec": {
   "display_name": "Python 3",
   "language": "python",
   "name": "python3"
  },
  "language_info": {
   "codemirror_mode": {
    "name": "ipython",
    "version": 2
   },
   "file_extension": ".py",
   "mimetype": "text/x-python",
   "name": "python",
   "nbconvert_exporter": "python",
   "pygments_lexer": "ipython2",
   "version": "2.7.6"
  }
 },
 "nbformat": 4,
 "nbformat_minor": 5
}
