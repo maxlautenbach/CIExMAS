{
 "cells": [
  {
   "metadata": {},
   "cell_type": "markdown",
   "source": "# Relation Extraction Agent",
   "id": "d31e34b23c5e2298"
  },
  {
   "cell_type": "code",
   "id": "initial_id",
   "metadata": {
    "collapsed": true,
    "ExecuteTime": {
     "end_time": "2025-03-13T15:04:21.322825Z",
     "start_time": "2025-03-13T15:04:09.705907Z"
    }
   },
   "source": [
    "import helper_tools.parser as parser\n",
    "import importlib\n",
    "import pandas as pd\n",
    "\n",
    "importlib.reload(parser)\n",
    "\n",
    "relation_df, entity_df, docs = parser.synthie_parser(\"train\")"
   ],
   "outputs": [
    {
     "data": {
      "text/plain": [
       "Fetching 27 files:   0%|          | 0/27 [00:00<?, ?it/s]"
      ],
      "application/vnd.jupyter.widget-view+json": {
       "version_major": 2,
       "version_minor": 0,
       "model_id": "bf1edc3595b947129d560571a87c70d4"
      }
     },
     "metadata": {},
     "output_type": "display_data"
    },
    {
     "name": "stderr",
     "output_type": "stream",
     "text": [
      "100%|██████████| 10/10 [00:00<00:00, 4984.91it/s]\n"
     ]
    },
    {
     "name": "stdout",
     "output_type": "stream",
     "text": [
      "Uploading Entities to Qdrant.\n"
     ]
    },
    {
     "name": "stderr",
     "output_type": "stream",
     "text": [
      "100%|██████████| 46/46 [00:05<00:00,  8.00it/s]\n"
     ]
    },
    {
     "name": "stdout",
     "output_type": "stream",
     "text": [
      "Uploading Predicates to Qdrant.\n"
     ]
    },
    {
     "name": "stderr",
     "output_type": "stream",
     "text": [
      "100%|██████████| 29/29 [00:03<00:00,  9.06it/s]\n"
     ]
    }
   ],
   "execution_count": 2
  },
  {
   "metadata": {
    "ExecuteTime": {
     "end_time": "2025-03-13T15:04:21.808395Z",
     "start_time": "2025-03-13T15:04:21.335788Z"
    }
   },
   "cell_type": "code",
   "source": [
    "from langchain_openai import ChatOpenAI\n",
    "from langchain_ollama.embeddings import OllamaEmbeddings\n",
    "from langfuse.callback import CallbackHandler\n",
    "from dotenv import load_dotenv\n",
    "import os\n",
    "\n",
    "load_dotenv()\n",
    "langfuse_handler = CallbackHandler(\n",
    "    secret_key=os.getenv(\"LANGFUSE_SECRET_KEY\"),\n",
    "    public_key=os.getenv(\"LANGFUSE_PUBLIC_KEY\"),\n",
    "    host=os.getenv(\"LANGFUSE_HOST\"),\n",
    ")\n",
    "\n",
    "model = ChatOpenAI(model_name=\"Meta-Llama-3.3-70B-Instruct\", base_url=\"https://api.sambanova.ai/v1\", api_key=os.getenv(\"SAMBANOVA_API_KEY\"))\n",
    "embeddings = OllamaEmbeddings(model='nomic-embed-text')"
   ],
   "id": "7cb8867396c22623",
   "outputs": [],
   "execution_count": 3
  },
  {
   "metadata": {
    "ExecuteTime": {
     "end_time": "2025-03-13T15:04:21.827244Z",
     "start_time": "2025-03-13T15:04:21.823640Z"
    }
   },
   "cell_type": "code",
   "source": [
    "target_doc = docs.iloc[0]\n",
    "doc_id = target_doc[\"docid\"]\n",
    "text = target_doc[\"text\"]\n",
    "text"
   ],
   "id": "2dee1009c460ee18",
   "outputs": [
    {
     "data": {
      "text/plain": [
       "'Corfe Castle railway station is a station on the Swanage Railway in the village of Corfe Castle, in the United Kingdom.'"
      ]
     },
     "execution_count": 4,
     "metadata": {},
     "output_type": "execute_result"
    }
   ],
   "execution_count": 4
  },
  {
   "metadata": {},
   "cell_type": "markdown",
   "source": "# Development Space",
   "id": "c47722c60e564900"
  },
  {
   "metadata": {
    "ExecuteTime": {
     "end_time": "2025-03-14T08:40:37.876632Z",
     "start_time": "2025-03-14T08:40:37.860517Z"
    }
   },
   "cell_type": "code",
   "source": [
    "from langchain_core.prompts import PromptTemplate\n",
    "import re\n",
    "\n",
    "\n",
    "def relation_extraction_agent(state):\n",
    "    prompt = PromptTemplate.from_template(\"\"\"\n",
    "    \n",
    "    You are an expert for relation extraction out of text in a multi-agent-system for closed information extraction. You will receive a text out of the state from which you should extract all relation. As closed information extraction uses an underlying knowledge graph, there can be different names for similar predicates. Therefore, extract also alternative predicates, when applicable (i.e. Berlin, located in, Germany -> Berlin, country, Germany). \n",
    "     \n",
    "    In addition, the agent_instructor might give you an instruction, which you should follow. Your task is then to follow the optional instruction as well as this system prompt and return a list of all triples, where each triple is enclosed in <triple> tags and subject, predicate and object are comma separated from each other. Enclose your pure result in <result> tags\n",
    "    \n",
    "    The provided input text: {text}\n",
    "    Instruction: {instruction}\n",
    "    \n",
    "    \"\"\")\n",
    "    \n",
    "    response_chain = prompt | model\n",
    "    \n",
    "    response = response_chain.invoke(state, config={\"callbacks\": [langfuse_handler]})\n",
    "    \n",
    "    print(response.content)\n",
    "    \n",
    "    result_match = re.search(r'<result>(.*?)</result>', response.content, re.DOTALL)\n",
    "\n",
    "    print(response.content)\n",
    "\n",
    "    if result_match:\n",
    "        result = result_match.group(1)\n",
    "    else:\n",
    "        result = \"\"\n",
    "    \n",
    "    return result"
   ],
   "id": "81aa925e6517e794",
   "outputs": [],
   "execution_count": 28
  },
  {
   "metadata": {
    "ExecuteTime": {
     "end_time": "2025-03-14T08:40:52.137325Z",
     "start_time": "2025-03-14T08:40:50.137928Z"
    }
   },
   "cell_type": "code",
   "source": [
    "mock_instruction = \"Extract relations from the text, focusing on the entities: Corfe Castle railway station, Swanage Railway, Corfe Castle, and United Kingdom.\"\n",
    "\n",
    "result = relation_extraction_agent({\"text\": text, \"instruction\": mock_instruction})\n",
    "print(result)"
   ],
   "id": "c6e6cce2a66a3c34",
   "outputs": [
    {
     "name": "stdout",
     "output_type": "stream",
     "text": [
      "To extract relations from the given text focusing on the entities Corfe Castle railway station, Swanage Railway, Corfe Castle, and United Kingdom, we identify the following relationships:\n",
      "\n",
      "1. Corfe Castle railway station is located on the Swanage Railway.\n",
      "2. Corfe Castle railway station is situated in the village of Corfe Castle.\n",
      "3. Corfe Castle is located in the United Kingdom.\n",
      "\n",
      "Given these relationships, we can also consider alternative predicates based on the context:\n",
      "\n",
      "- For \"Corfe Castle railway station is located on the Swanage Railway,\" an alternative predicate could be \"served by\" or simply \"on,\" but the most direct relation is \"located on.\"\n",
      "- For \"Corfe Castle railway station is situated in the village of Corfe Castle,\" alternative predicates could be \"part of\" or \"located in.\"\n",
      "- For \"Corfe Castle is located in the United Kingdom,\" an alternative predicate could be \"country\" or \"part of,\" but \"located in\" is the most straightforward.\n",
      "\n",
      "Thus, the extracted relations with their alternative predicates where applicable are:\n",
      "\n",
      "- Corfe Castle railway station, located on, Swanage Railway\n",
      "- Corfe Castle railway station, part of, Corfe Castle (alternative to \"situated in\")\n",
      "- Corfe Castle railway station, situated in, Corfe Castle\n",
      "- Corfe Castle, located in, United Kingdom\n",
      "- Corfe Castle, part of, United Kingdom (alternative to \"located in\")\n",
      "- Corfe Castle, country, United Kingdom (another alternative, though less direct)\n",
      "\n",
      "Enclosing each triple in <triple> tags and ensuring subject, predicate, and object are comma-separated, the result is:\n",
      "\n",
      "<result>\n",
      "<triple>Corfe Castle railway station, located on, Swanage Railway</triple>\n",
      "<triple>Corfe Castle railway station, part of, Corfe Castle</triple>\n",
      "<triple>Corfe Castle railway station, situated in, Corfe Castle</triple>\n",
      "<triple>Corfe Castle, located in, United Kingdom</triple>\n",
      "<triple>Corfe Castle, part of, United Kingdom</triple>\n",
      "<triple>Corfe Castle, country, United Kingdom</triple>\n",
      "</result>\n",
      "To extract relations from the given text focusing on the entities Corfe Castle railway station, Swanage Railway, Corfe Castle, and United Kingdom, we identify the following relationships:\n",
      "\n",
      "1. Corfe Castle railway station is located on the Swanage Railway.\n",
      "2. Corfe Castle railway station is situated in the village of Corfe Castle.\n",
      "3. Corfe Castle is located in the United Kingdom.\n",
      "\n",
      "Given these relationships, we can also consider alternative predicates based on the context:\n",
      "\n",
      "- For \"Corfe Castle railway station is located on the Swanage Railway,\" an alternative predicate could be \"served by\" or simply \"on,\" but the most direct relation is \"located on.\"\n",
      "- For \"Corfe Castle railway station is situated in the village of Corfe Castle,\" alternative predicates could be \"part of\" or \"located in.\"\n",
      "- For \"Corfe Castle is located in the United Kingdom,\" an alternative predicate could be \"country\" or \"part of,\" but \"located in\" is the most straightforward.\n",
      "\n",
      "Thus, the extracted relations with their alternative predicates where applicable are:\n",
      "\n",
      "- Corfe Castle railway station, located on, Swanage Railway\n",
      "- Corfe Castle railway station, part of, Corfe Castle (alternative to \"situated in\")\n",
      "- Corfe Castle railway station, situated in, Corfe Castle\n",
      "- Corfe Castle, located in, United Kingdom\n",
      "- Corfe Castle, part of, United Kingdom (alternative to \"located in\")\n",
      "- Corfe Castle, country, United Kingdom (another alternative, though less direct)\n",
      "\n",
      "Enclosing each triple in <triple> tags and ensuring subject, predicate, and object are comma-separated, the result is:\n",
      "\n",
      "<result>\n",
      "<triple>Corfe Castle railway station, located on, Swanage Railway</triple>\n",
      "<triple>Corfe Castle railway station, part of, Corfe Castle</triple>\n",
      "<triple>Corfe Castle railway station, situated in, Corfe Castle</triple>\n",
      "<triple>Corfe Castle, located in, United Kingdom</triple>\n",
      "<triple>Corfe Castle, part of, United Kingdom</triple>\n",
      "<triple>Corfe Castle, country, United Kingdom</triple>\n",
      "</result>\n",
      "\n",
      "<triple>Corfe Castle railway station, located on, Swanage Railway</triple>\n",
      "<triple>Corfe Castle railway station, part of, Corfe Castle</triple>\n",
      "<triple>Corfe Castle railway station, situated in, Corfe Castle</triple>\n",
      "<triple>Corfe Castle, located in, United Kingdom</triple>\n",
      "<triple>Corfe Castle, part of, United Kingdom</triple>\n",
      "<triple>Corfe Castle, country, United Kingdom</triple>\n",
      "\n"
     ]
    }
   ],
   "execution_count": 30
  },
  {
   "metadata": {
    "ExecuteTime": {
     "end_time": "2025-03-14T08:40:52.172571Z",
     "start_time": "2025-03-14T08:40:52.156166Z"
    }
   },
   "cell_type": "code",
   "source": "relation_df[relation_df[\"docid\"] == doc_id]",
   "id": "1db6bd509f0c93ee",
   "outputs": [
    {
     "data": {
      "text/plain": [
       "   docid                       subject  \\\n",
       "0      0  Corfe_Castle_railway_station   \n",
       "1      0  Corfe_Castle_railway_station   \n",
       "2      0  Corfe_Castle_railway_station   \n",
       "3      0  Corfe_Castle_railway_station   \n",
       "\n",
       "                               subject_uri  \\\n",
       "0  http://www.wikidata.org/entity/Q5170476   \n",
       "1  http://www.wikidata.org/entity/Q5170476   \n",
       "2  http://www.wikidata.org/entity/Q5170476   \n",
       "3  http://www.wikidata.org/entity/Q5170476   \n",
       "\n",
       "                                          predicate  \\\n",
       "0                                   connecting line   \n",
       "1                                       named after   \n",
       "2  located in the administrative territorial entity   \n",
       "3                                           country   \n",
       "\n",
       "                         predicate_uri                  object  \\\n",
       "0   http://www.wikidata.org/entity/P81         Swanage_Railway   \n",
       "1  http://www.wikidata.org/entity/P138            Corfe_Castle   \n",
       "2  http://www.wikidata.org/entity/P131  Corfe_Castle_(village)   \n",
       "3   http://www.wikidata.org/entity/P17          United_Kingdom   \n",
       "\n",
       "                                 object_uri  \n",
       "0   http://www.wikidata.org/entity/Q7653559  \n",
       "1   http://www.wikidata.org/entity/Q1236511  \n",
       "2  http://www.wikidata.org/entity/Q13341461  \n",
       "3       http://www.wikidata.org/entity/Q145  "
      ],
      "text/html": [
       "<div>\n",
       "<style scoped>\n",
       "    .dataframe tbody tr th:only-of-type {\n",
       "        vertical-align: middle;\n",
       "    }\n",
       "\n",
       "    .dataframe tbody tr th {\n",
       "        vertical-align: top;\n",
       "    }\n",
       "\n",
       "    .dataframe thead th {\n",
       "        text-align: right;\n",
       "    }\n",
       "</style>\n",
       "<table border=\"1\" class=\"dataframe\">\n",
       "  <thead>\n",
       "    <tr style=\"text-align: right;\">\n",
       "      <th></th>\n",
       "      <th>docid</th>\n",
       "      <th>subject</th>\n",
       "      <th>subject_uri</th>\n",
       "      <th>predicate</th>\n",
       "      <th>predicate_uri</th>\n",
       "      <th>object</th>\n",
       "      <th>object_uri</th>\n",
       "    </tr>\n",
       "  </thead>\n",
       "  <tbody>\n",
       "    <tr>\n",
       "      <th>0</th>\n",
       "      <td>0</td>\n",
       "      <td>Corfe_Castle_railway_station</td>\n",
       "      <td>http://www.wikidata.org/entity/Q5170476</td>\n",
       "      <td>connecting line</td>\n",
       "      <td>http://www.wikidata.org/entity/P81</td>\n",
       "      <td>Swanage_Railway</td>\n",
       "      <td>http://www.wikidata.org/entity/Q7653559</td>\n",
       "    </tr>\n",
       "    <tr>\n",
       "      <th>1</th>\n",
       "      <td>0</td>\n",
       "      <td>Corfe_Castle_railway_station</td>\n",
       "      <td>http://www.wikidata.org/entity/Q5170476</td>\n",
       "      <td>named after</td>\n",
       "      <td>http://www.wikidata.org/entity/P138</td>\n",
       "      <td>Corfe_Castle</td>\n",
       "      <td>http://www.wikidata.org/entity/Q1236511</td>\n",
       "    </tr>\n",
       "    <tr>\n",
       "      <th>2</th>\n",
       "      <td>0</td>\n",
       "      <td>Corfe_Castle_railway_station</td>\n",
       "      <td>http://www.wikidata.org/entity/Q5170476</td>\n",
       "      <td>located in the administrative territorial entity</td>\n",
       "      <td>http://www.wikidata.org/entity/P131</td>\n",
       "      <td>Corfe_Castle_(village)</td>\n",
       "      <td>http://www.wikidata.org/entity/Q13341461</td>\n",
       "    </tr>\n",
       "    <tr>\n",
       "      <th>3</th>\n",
       "      <td>0</td>\n",
       "      <td>Corfe_Castle_railway_station</td>\n",
       "      <td>http://www.wikidata.org/entity/Q5170476</td>\n",
       "      <td>country</td>\n",
       "      <td>http://www.wikidata.org/entity/P17</td>\n",
       "      <td>United_Kingdom</td>\n",
       "      <td>http://www.wikidata.org/entity/Q145</td>\n",
       "    </tr>\n",
       "  </tbody>\n",
       "</table>\n",
       "</div>"
      ]
     },
     "execution_count": 31,
     "metadata": {},
     "output_type": "execute_result"
    }
   ],
   "execution_count": 31
  },
  {
   "metadata": {},
   "cell_type": "code",
   "outputs": [],
   "execution_count": null,
   "source": "",
   "id": "385230c2b5efd487"
  }
 ],
 "metadata": {
  "kernelspec": {
   "display_name": "Python 3",
   "language": "python",
   "name": "python3"
  },
  "language_info": {
   "codemirror_mode": {
    "name": "ipython",
    "version": 2
   },
   "file_extension": ".py",
   "mimetype": "text/x-python",
   "name": "python",
   "nbconvert_exporter": "python",
   "pygments_lexer": "ipython2",
   "version": "2.7.6"
  }
 },
 "nbformat": 4,
 "nbformat_minor": 5
}
