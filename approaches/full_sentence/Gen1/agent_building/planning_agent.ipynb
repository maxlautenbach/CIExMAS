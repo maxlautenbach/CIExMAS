{
 "cells": [
  {
   "metadata": {},
   "cell_type": "markdown",
   "source": "# Planning Agent",
   "id": "72716e6a300da15e"
  },
  {
   "cell_type": "code",
   "id": "initial_id",
   "metadata": {
    "collapsed": true,
    "ExecuteTime": {
     "end_time": "2025-03-13T12:03:03.038379Z",
     "start_time": "2025-03-13T12:02:41.254213Z"
    }
   },
   "source": [
    "import helper_tools.parser as parser\n",
    "import importlib\n",
    "import pandas as pd\n",
    "\n",
    "importlib.reload(parser)\n",
    "\n",
    "relation_df, entity_df, docs = parser.synthie_parser(\"train\")"
   ],
   "outputs": [
    {
     "data": {
      "text/plain": [
       "Fetching 27 files:   0%|          | 0/27 [00:00<?, ?it/s]"
      ],
      "application/vnd.jupyter.widget-view+json": {
       "version_major": 2,
       "version_minor": 0,
       "model_id": "af668217a95f41c785f74266accef799"
      }
     },
     "metadata": {},
     "output_type": "display_data"
    },
    {
     "name": "stderr",
     "output_type": "stream",
     "text": [
      "100%|██████████| 10/10 [00:00<00:00, 20203.78it/s]\n"
     ]
    },
    {
     "name": "stdout",
     "output_type": "stream",
     "text": [
      "Uploading Entities to Qdrant.\n"
     ]
    },
    {
     "name": "stderr",
     "output_type": "stream",
     "text": [
      "100%|██████████| 46/46 [00:11<00:00,  3.99it/s]\n"
     ]
    },
    {
     "name": "stdout",
     "output_type": "stream",
     "text": [
      "Uploading Predicates to Qdrant.\n"
     ]
    },
    {
     "name": "stderr",
     "output_type": "stream",
     "text": [
      "100%|██████████| 29/29 [00:10<00:00,  2.89it/s]\n"
     ]
    }
   ],
   "execution_count": 9
  },
  {
   "metadata": {
    "ExecuteTime": {
     "end_time": "2025-03-13T14:43:00.059383Z",
     "start_time": "2025-03-13T14:42:59.263211Z"
    }
   },
   "cell_type": "code",
   "source": [
    "from langchain_openai import ChatOpenAI\n",
    "from langchain_ollama.embeddings import OllamaEmbeddings\n",
    "from langfuse.callback import CallbackHandler\n",
    "from dotenv import load_dotenv\n",
    "import os\n",
    "\n",
    "load_dotenv()\n",
    "langfuse_handler = CallbackHandler(\n",
    "    secret_key=os.getenv(\"LANGFUSE_SECRET_KEY\"),\n",
    "    public_key=os.getenv(\"LANGFUSE_PUBLIC_KEY\"),\n",
    "    host=os.getenv(\"LANGFUSE_HOST\"),\n",
    ")\n",
    "\n",
    "model = ChatOpenAI(model_name=\"Meta-Llama-3.3-70B-Instruct\", base_url=\"https://api.sambanova.ai/v1\", api_key=os.getenv(\"SAMBANOVA_API_KEY\"))\n",
    "embeddings = OllamaEmbeddings(model='nomic-embed-text')"
   ],
   "id": "ff96d1ca4347f08",
   "outputs": [],
   "execution_count": 26
  },
  {
   "metadata": {
    "ExecuteTime": {
     "end_time": "2025-03-13T14:43:01.723038Z",
     "start_time": "2025-03-13T14:43:01.717715Z"
    }
   },
   "cell_type": "code",
   "source": [
    "target_doc = docs.iloc[0]\n",
    "doc_id = target_doc[\"docid\"]\n",
    "text = target_doc[\"text\"]\n",
    "text"
   ],
   "id": "60225a00c83f6319",
   "outputs": [
    {
     "data": {
      "text/plain": [
       "'Corfe Castle railway station is a station on the Swanage Railway in the village of Corfe Castle, in the United Kingdom.'"
      ]
     },
     "execution_count": 27,
     "metadata": {},
     "output_type": "execute_result"
    }
   ],
   "execution_count": 27
  },
  {
   "metadata": {
    "ExecuteTime": {
     "end_time": "2025-03-13T15:48:52.233432Z",
     "start_time": "2025-03-13T15:48:52.223619Z"
    }
   },
   "cell_type": "code",
   "source": [
    "from langchain_core.prompts import PromptTemplate\n",
    "import re\n",
    "\n",
    "def planner(state):\n",
    "    prompt = PromptTemplate.from_template(\"\"\"\n",
    "    You are an expert in planning and executing tasks within multi-agent systems. Your role is to design and refine a detailed plan that processes a given text into a triple format, specifically for closed information extraction using an underlying Knowledge Graph. You design the plan for the agent instructor agent, which should execute your plan, call and instruct agents. It is only able to execute one step at a time. Your plan must be based on the following inputs:\n",
    "    - Agent Call Trace\n",
    "    - Agent Comments\n",
    "    - The provided input text\n",
    "    - All intermediate results produced during the process\n",
    "    \n",
    "    For executing the tasks, you can include the following agents in the plan:\n",
    "    - **Entity Extraction Agent:** Can extract entities from the text.\n",
    "    - **Relation Extraction Agent:** Can extract relations from the text.\n",
    "    - **URI Detection Agent:** Based on search terms, can determine if there is an associated entity or relation in the Knowledge Graph.\n",
    "    \n",
    "    Your plan should clearly outline the steps required to achieve the goal, ensuring that each phase is actionable and verifiable. The plan will be passed to the Agent Instructor, who will execute the steps through a series of Agent Calls. You will be asked to build up a plan, as long as no final result is done. Your response should be precise, structured, and demonstrate deep expertise in orchestrating complex multi-agent systems for closed Information Extraction tasks. Please line up the plan that you have, to accomplish the task. Do not include tasks that are already worked on. Your plan does not have to include steps like triple formation or verification as this is either covered by the result checker agent or externally.\n",
    "    \n",
    "    If you are called for the first time write down the full plan. If you are called afterwards just say what the next task is and where in your plan we are. The next task could also be to end the iteration, because a reasonable result has been reached. If so, include <FINISH_MAS> in your response. Otherwise, never speak from <FINISH_MAS> in your response.\n",
    "    \n",
    "    Please base your plan on the following information:\n",
    "    \n",
    "    Agent Call Trace: {call_trace}\n",
    "    Agent Comments: {comments}\n",
    "    The provided input text: {text}\n",
    "    All intermediate results produced during the process: {results}\n",
    "    \"\"\")\n",
    "   \n",
    "    response_chain = prompt | model\n",
    "    \n",
    "    response = response_chain.invoke(state, config={\"callbacks\": [langfuse_handler]})\n",
    "          \n",
    "    return response"
   ],
   "id": "5d06a11f2a64d469",
   "outputs": [],
   "execution_count": 36
  },
  {
   "metadata": {
    "ExecuteTime": {
     "end_time": "2025-03-13T15:48:54.963047Z",
     "start_time": "2025-03-13T15:48:52.810030Z"
    }
   },
   "cell_type": "code",
   "source": [
    "response = planner({\"text\": text, \"results\": [], \"call_trace\": [], \"comments\": []})\n",
    "print(response.content)"
   ],
   "id": "b7badeae8ce06d64",
   "outputs": [
    {
     "name": "stdout",
     "output_type": "stream",
     "text": [
      "Given the initial state of the system with no prior agent calls, comments, or intermediate results, the plan to process the provided input text into a triple format for closed information extraction using the underlying Knowledge Graph will involve the following steps:\n",
      "\n",
      "1. **Entity Extraction**: The first step is to extract entities from the input text. This involves calling the **Entity Extraction Agent** to identify and list all entities mentioned in the text. The input text is: \"Corfe Castle railway station is a station on the Swanage Railway in the village of Corfe Castle, in the United Kingdom.\"\n",
      "\n",
      "2. **Relation Extraction**: After identifying the entities, the next step is to extract relations among these entities. This will be done by calling the **Relation Extraction Agent**. The agent will analyze the text to determine how the extracted entities are related to each other.\n",
      "\n",
      "3. **URI Detection for Entities**: With the entities extracted, the next step is to determine if there are associated entities in the Knowledge Graph. This involves calling the **URI Detection Agent** for each extracted entity, providing the entity names as search terms to find corresponding URIs in the Knowledge Graph.\n",
      "\n",
      "4. **URI Detection for Relations**: Similarly, after extracting relations, the plan involves calling the **URI Detection Agent** to check if there are URIs in the Knowledge Graph that correspond to the extracted relations. This step ensures that the relations between entities can be properly represented in the triple format.\n",
      "\n",
      "5. **Iterative Refinement**: Depending on the outcomes of the URI detection steps, there might be a need for iterative refinement. This could involve re-calling the **Entity Extraction Agent** or **Relation Extraction Agent** with more specific parameters or contexts to improve the accuracy of the extracted information, based on feedback from the URI detection steps.\n",
      "\n",
      "Given the current state, we are at the beginning of the plan. The next task is to call the **Entity Extraction Agent** to extract entities from the provided input text: \"Corfe Castle railway station is a station on the Swanage Railway in the village of Corfe Castle, in the United Kingdom.\"\n",
      "\n",
      "The current position in the plan is Step 1: **Entity Extraction**.\n"
     ]
    }
   ],
   "execution_count": 37
  },
  {
   "metadata": {
    "ExecuteTime": {
     "end_time": "2025-03-13T14:47:03.982518Z",
     "start_time": "2025-03-13T14:47:02.231853Z"
    }
   },
   "cell_type": "code",
   "source": [
    "mock_plan = \"\"\"\n",
    "Given the inputs, the plan to process the provided text into a triple format for closed information extraction using an underlying Knowledge Graph is as follows:\n",
    "\n",
    "1. **Text Preprocessing**:\n",
    "   - **Task**: Clean and normalize the input text to prepare it for entity and relation extraction.\n",
    "   - **Agent**: No specific agent is required for this step; it can be handled by the Agent Instructor itself or through a generic text preprocessing module.\n",
    "   - **Input**: The provided input text.\n",
    "   - **Output**: Preprocessed text.\n",
    "\n",
    "2. **Entity Extraction**:\n",
    "   - **Task**: Extract entities from the preprocessed text.\n",
    "   - **Agent**: Entity Extraction Agent.\n",
    "   - **Input**: Preprocessed text from Step 1.\n",
    "   - **Output**: List of extracted entities.\n",
    "\n",
    "3. **Relation Extraction**:\n",
    "   - **Task**: Extract relations from the preprocessed text.\n",
    "   - **Agent**: Relation Extraction Agent.\n",
    "   - **Input**: Preprocessed text from Step 1.\n",
    "   - **Output**: List of extracted relations.\n",
    "\n",
    "4. **URI Detection for Entities**:\n",
    "   - **Task**: For each extracted entity, determine if there is an associated entity in the Knowledge Graph.\n",
    "   - **Agent**: URI Detection Agent.\n",
    "   - **Input**: List of extracted entities from Step 2.\n",
    "   - **Output**: List of entities with their corresponding URIs in the Knowledge Graph.\n",
    "\n",
    "5. **URI Detection for Relations**:\n",
    "   - **Task**: For each extracted relation, determine if there is an associated relation in the Knowledge Graph.\n",
    "   - **Agent**: URI Detection Agent.\n",
    "   - **Input**: List of extracted relations from Step 3.\n",
    "   - **Output**: List of relations with their corresponding URIs in the Knowledge Graph.\n",
    "\n",
    "6. **Triple Formation**:\n",
    "   - **Task**: Construct triples using the entities and relations with their URIs.\n",
    "   - **Agent**: No specific agent is required; this can be handled by the Agent Instructor or a generic triple formation module.\n",
    "   - **Input**: Outputs from Steps 4 and 5.\n",
    "   - **Output**: List of triples in the format (subject, predicate, object).\n",
    "\n",
    "7. **Verification and Validation**:\n",
    "   - **Task**: Verify that the formed triples are valid and consistent with the Knowledge Graph.\n",
    "   - **Agent**: This step may involve the URI Detection Agent for validation against the Knowledge Graph.\n",
    "   - **Input**: List of triples from Step 6.\n",
    "   - **Output**: Final validated list of triples.\n",
    "\n",
    "Given that this is the first call, the plan is outlined in its entirety. The next task to be executed is **Text Preprocessing** (Step 1), as it is the initial step in preparing the input text for further processing by the specialized agents.\n",
    "\n",
    "We are currently at the beginning of the plan, with no tasks executed yet. The Agent Call Trace and Agent Comments are empty, and there are no intermediate results. The provided input text is \"Corfe Castle railway station is a station on the Swanage Railway in the village of Corfe Castle, in the United Kingdom.\"\n",
    "\n",
    "\"\"\"\n",
    "\n",
    "mock_feedback = \"\"\"\n",
    "Based on the provided plan and the current state of the multi-agent system, I can see that the entity extraction step has been completed, and the output is a list of extracted entities: Corfe Castle railway station, Swanage Railway, Corfe Castle, and United Kingdom.\n",
    "\n",
    "The next step in the plan is Relation Extraction, which involves extracting relations from the preprocessed text. To proceed, I recommend calling the Relation Extraction Agent with the preprocessed text as input.\n",
    "\n",
    "Additionally, I would like to suggest that the preprocessed text should be made available for future reference, as it will be required for the Relation Extraction step. \n",
    "\n",
    "Please proceed with calling the Relation Extraction Agent. I will provide further feedback after reviewing the output of this step.\n",
    "\"\"\"\n",
    "\n",
    "comments = [mock_plan, mock_feedback]\n",
    "\n",
    "mock_call_trace = [('entity_extraction_agent', 'Extract entities from the given text, focusing on locations and organizations.')]\n",
    "mock_results = [\"Output of entity_extraction_agent: Corfe Castle railway station, Swanage Railway, Corfe Castle, United Kingdom\"]\n",
    "\n",
    "response = planner({\"text\": text, \"results\": mock_results, \"call_trace\": mock_call_trace, \"comments\": comments, \"instruction\": \"\"})\n",
    "print(response.content)"
   ],
   "id": "8046c86f8694220a",
   "outputs": [
    {
     "name": "stdout",
     "output_type": "stream",
     "text": [
      "Based on the provided information, we are currently at Step 3 of the plan, which is **Relation Extraction**. The previous step, **Entity Extraction**, has been completed, and the output is a list of extracted entities: Corfe Castle railway station, Swanage Railway, Corfe Castle, and United Kingdom.\n",
      "\n",
      "The next task to be executed is to call the **Relation Extraction Agent** with the preprocessed text as input. The preprocessed text is the same as the original input text, as the **Text Preprocessing** step has not been explicitly mentioned as completed, but it can be assumed that the text has been preprocessed for the entity extraction step.\n",
      "\n",
      "The input for the **Relation Extraction Agent** will be the preprocessed text: \"Corfe Castle railway station is a station on the Swanage Railway in the village of Corfe Castle, in the United Kingdom.\"\n",
      "\n",
      "The expected output from the **Relation Extraction Agent** will be a list of extracted relations from the text.\n",
      "\n",
      "Here is the current state of the plan:\n",
      "\n",
      "1. **Text Preprocessing**: Completed (assumed)\n",
      "2. **Entity Extraction**: Completed\n",
      "\t* Output: Corfe Castle railway station, Swanage Railway, Corfe Castle, United Kingdom\n",
      "3. **Relation Extraction**: Pending\n",
      "\t* Input: Preprocessed text\n",
      "\t* Expected Output: List of extracted relations\n",
      "4. **URI Detection for Entities**: Pending\n",
      "5. **URI Detection for Relations**: Pending\n",
      "6. **Triple Formation**: Pending\n",
      "7. **Verification and Validation**: Pending\n",
      "\n",
      "Please proceed with calling the **Relation Extraction Agent** with the preprocessed text as input. I will provide further feedback after reviewing the output of this step.\n"
     ]
    }
   ],
   "execution_count": 32
  },
  {
   "metadata": {
    "ExecuteTime": {
     "end_time": "2025-03-13T15:22:57.219902Z",
     "start_time": "2025-03-13T15:22:54.852977Z"
    }
   },
   "cell_type": "code",
   "source": [
    "mock_plan = \"\"\"\n",
    "Based on the provided information, we are currently at Step 3 of the plan, which is **Relation Extraction**. The previous step, **Entity Extraction**, has been completed, and the output is a list of extracted entities: Corfe Castle railway station, Swanage Railway, Corfe Castle, and United Kingdom.\n",
    "\n",
    "The next task to be executed is to call the **Relation Extraction Agent** with the preprocessed text as input. The preprocessed text is the same as the original input text, as the **Text Preprocessing** step has not been explicitly mentioned as completed, but it can be assumed that the text has been preprocessed for the entity extraction step.\n",
    "\n",
    "The input for the **Relation Extraction Agent** will be the preprocessed text: \"Corfe Castle railway station is a station on the Swanage Railway in the village of Corfe Castle, in the United Kingdom.\"\n",
    "\n",
    "The expected output from the **Relation Extraction Agent** will be a list of extracted relations from the text.\n",
    "\n",
    "Here is the current state of the plan:\n",
    "\n",
    "1. **Text Preprocessing**: Completed (assumed)\n",
    "2. **Entity Extraction**: Completed\n",
    "\t* Output: Corfe Castle railway station, Swanage Railway, Corfe Castle, United Kingdom\n",
    "3. **Relation Extraction**: Pending\n",
    "\t* Input: Preprocessed text\n",
    "\t* Expected Output: List of extracted relations\n",
    "4. **URI Detection for Entities**: Pending\n",
    "5. **URI Detection for Relations**: Pending\n",
    "6. **Triple Formation**: Pending\n",
    "7. **Verification and Validation**: Pending\n",
    "\n",
    "Please proceed with calling the **Relation Extraction Agent** with the preprocessed text as input. I will provide further feedback after reviewing the output of this step.\n",
    "\n",
    "\"\"\"\n",
    "\n",
    "mock_feedback = \"\"\"\n",
    "Based on the provided plan and the current state of the multi-agent system, I can see that the entity extraction step has been completed, and the output is a list of extracted entities: Corfe Castle railway station, Swanage Railway, Corfe Castle, and United Kingdom.\n",
    "\n",
    "The next step in the plan is Relation Extraction, which involves extracting relations from the preprocessed text. However, I notice that the Relation Extraction Agent has been called multiple times with the same input, and the output is a list of extracted triples. \n",
    "\n",
    "The output of the Relation Extraction Agent is:\n",
    "<triple>Corfe Castle railway station, located on, Swanage Railway</triple>\n",
    "<triple>Corfe Castle railway station, located in, Corfe Castle</triple>\n",
    "<triple>Corfe Castle, located in, United Kingdom</triple>\n",
    "<triple>Corfe Castle railway station, located in, United Kingdom</triple>\n",
    "\n",
    "I recommend proceeding with the URI Detection for Entities step, which involves determining the URIs for the extracted entities in the Knowledge Graph. The input for this step will be the list of extracted entities: Corfe Castle railway station, Swanage Railway, Corfe Castle, and United Kingdom.\n",
    "\n",
    "Additionally, I suggest proceeding with the URI Detection for Relations step, which involves determining the URIs for the extracted relations in the Knowledge Graph. The input for this step will be the list of extracted relations: located on, located in.\n",
    "\n",
    "Please proceed with calling the URI Detection Agent for both entities and relations. I will provide further feedback after reviewing the output of these steps. \n",
    "\n",
    "The current state of the plan is:\n",
    "1. **Text Preprocessing**: Completed (assumed)\n",
    "2. **Entity Extraction**: Completed\n",
    "\t* Output: Corfe Castle railway station, Swanage Railway, Corfe Castle, United Kingdom\n",
    "3. **Relation Extraction**: Completed\n",
    "\t* Output: <triple>Corfe Castle railway station, located on, Swanage Railway</triple>\n",
    "\t\t\t\t <triple>Corfe Castle railway station, located in, Corfe Castle</triple>\n",
    "\t\t\t\t <triple>Corfe Castle, located in, United Kingdom</triple>\n",
    "\t\t\t\t <triple>Corfe Castle railway station, located in, United Kingdom</triple>\n",
    "4. **URI Detection for Entities**: Pending\n",
    "5. **URI Detection for Relations**: Pending\n",
    "6. **Triple Formation**: Pending\n",
    "7. **Verification and Validation**: Pending\n",
    "\n",
    "Please proceed with the next steps. I will review the output and provide further feedback.\n",
    "\n",
    "\"\"\"\n",
    "\n",
    "comments += [mock_plan, mock_feedback]\n",
    "\n",
    "mock_call_trace += [(\"relation_extraction_agent\", \"Extract relations from the text, focusing on the entities: Corfe Castle railway station, Swanage Railway, Corfe Castle, and United Kingdom.\")]\n",
    "mock_results += [\"\"\"Output of entity_extraction_agent: \n",
    "<triple>Corfe Castle railway station, located on, Swanage Railway</triple>\n",
    "<triple>Corfe Castle railway station, located in, Corfe Castle</triple>\n",
    "<triple>Corfe Castle, located in, United Kingdom</triple>\n",
    "<triple>Corfe Castle railway station, located in, United Kingdom</triple>\n",
    "\"\"\"]\n",
    "\n",
    "response = planner({\"text\": text, \"results\": mock_results, \"call_trace\": mock_call_trace, \"comments\": comments, \"instruction\": \"\"})\n",
    "print(response.content)"
   ],
   "id": "649d69c847afd9cb",
   "outputs": [
    {
     "name": "stdout",
     "output_type": "stream",
     "text": [
      "Based on the provided plan and the current state of the multi-agent system, we are currently at Step 4 and 5 of the plan, which are **URI Detection for Entities** and **URI Detection for Relations**. \n",
      "\n",
      "The previous steps, **Entity Extraction** and **Relation Extraction**, have been completed. The output of the **Entity Extraction** step is a list of extracted entities: Corfe Castle railway station, Swanage Railway, Corfe Castle, and United Kingdom. The output of the **Relation Extraction** step is a list of extracted triples.\n",
      "\n",
      "The next tasks to be executed are to call the **URI Detection Agent** for both entities and relations. \n",
      "\n",
      "For **URI Detection for Entities**, the input will be the list of extracted entities: Corfe Castle railway station, Swanage Railway, Corfe Castle, and United Kingdom. The expected output will be a list of entities with their corresponding URIs in the Knowledge Graph.\n",
      "\n",
      "For **URI Detection for Relations**, the input will be the list of extracted relations: located on, located in. The expected output will be a list of relations with their corresponding URIs in the Knowledge Graph.\n",
      "\n",
      "Here is the current state of the plan:\n",
      "\n",
      "1. **Text Preprocessing**: Completed (assumed)\n",
      "2. **Entity Extraction**: Completed\n",
      "\t* Output: Corfe Castle railway station, Swanage Railway, Corfe Castle, United Kingdom\n",
      "3. **Relation Extraction**: Completed\n",
      "\t* Output: \n",
      "\t\t<triple>Corfe Castle railway station, located on, Swanage Railway</triple>\n",
      "\t\t<triple>Corfe Castle railway station, located in, Corfe Castle</triple>\n",
      "\t\t<triple>Corfe Castle, located in, United Kingdom</triple>\n",
      "\t\t<triple>Corfe Castle railway station, located in, United Kingdom</triple>\n",
      "4. **URI Detection for Entities**: Pending\n",
      "5. **URI Detection for Relations**: Pending\n",
      "6. **Triple Formation**: Pending\n",
      "7. **Verification and Validation**: Pending\n",
      "\n",
      "Please proceed with calling the **URI Detection Agent** for both entities and relations. I will provide further feedback after reviewing the output of these steps. \n",
      "\n",
      "The next task is to execute **URI Detection for Entities** and **URI Detection for Relations**. \n",
      "\n",
      "Please call the **URI Detection Agent** with the following inputs:\n",
      "- Entities: Corfe Castle railway station, Swanage Railway, Corfe Castle, United Kingdom\n",
      "- Relations: located on, located in\n",
      "\n",
      "I will review the output and provide further feedback.\n"
     ]
    }
   ],
   "execution_count": 33
  },
  {
   "metadata": {},
   "cell_type": "code",
   "outputs": [],
   "execution_count": null,
   "source": "",
   "id": "dcbdaa74ef8cef96"
  }
 ],
 "metadata": {
  "kernelspec": {
   "display_name": "Python 3",
   "language": "python",
   "name": "python3"
  },
  "language_info": {
   "codemirror_mode": {
    "name": "ipython",
    "version": 2
   },
   "file_extension": ".py",
   "mimetype": "text/x-python",
   "name": "python",
   "nbconvert_exporter": "python",
   "pygments_lexer": "ipython2",
   "version": "2.7.6"
  }
 },
 "nbformat": 4,
 "nbformat_minor": 5
}
