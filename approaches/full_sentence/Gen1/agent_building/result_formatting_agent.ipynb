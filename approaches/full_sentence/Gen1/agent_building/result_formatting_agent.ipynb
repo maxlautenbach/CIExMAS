{
 "cells": [
  {
   "metadata": {},
   "cell_type": "markdown",
   "source": "# Template Agent",
   "id": "d31e34b23c5e2298"
  },
  {
   "cell_type": "code",
   "id": "initial_id",
   "metadata": {
    "collapsed": true,
    "ExecuteTime": {
     "end_time": "2025-03-14T08:29:54.845561Z",
     "start_time": "2025-03-14T08:29:39.100028Z"
    }
   },
   "source": [
    "import helper_tools.parser as parser\n",
    "import importlib\n",
    "import pandas as pd\n",
    "\n",
    "importlib.reload(parser)\n",
    "\n",
    "relation_df, entity_df, docs = parser.synthie_parser(\"train\")"
   ],
   "outputs": [
    {
     "data": {
      "text/plain": [
       "Fetching 27 files:   0%|          | 0/27 [00:00<?, ?it/s]"
      ],
      "application/vnd.jupyter.widget-view+json": {
       "version_major": 2,
       "version_minor": 0,
       "model_id": "93489b59e8674efb880223ef620c2863"
      }
     },
     "metadata": {},
     "output_type": "display_data"
    },
    {
     "name": "stderr",
     "output_type": "stream",
     "text": [
      "100%|██████████| 10/10 [00:00<00:00, 33000.03it/s]\n"
     ]
    },
    {
     "name": "stdout",
     "output_type": "stream",
     "text": [
      "Uploading Entities to Qdrant.\n"
     ]
    },
    {
     "name": "stderr",
     "output_type": "stream",
     "text": [
      "100%|██████████| 46/46 [00:06<00:00,  7.17it/s]\n"
     ]
    },
    {
     "name": "stdout",
     "output_type": "stream",
     "text": [
      "Uploading Predicates to Qdrant.\n"
     ]
    },
    {
     "name": "stderr",
     "output_type": "stream",
     "text": [
      "100%|██████████| 29/29 [00:03<00:00,  8.99it/s]\n"
     ]
    }
   ],
   "execution_count": 2
  },
  {
   "metadata": {
    "ExecuteTime": {
     "end_time": "2025-03-14T08:29:58.466270Z",
     "start_time": "2025-03-14T08:29:54.852436Z"
    }
   },
   "cell_type": "code",
   "source": [
    "from langchain_openai import ChatOpenAI\n",
    "from langchain_ollama.embeddings import OllamaEmbeddings\n",
    "from langfuse.callback import CallbackHandler\n",
    "from dotenv import load_dotenv\n",
    "import os\n",
    "\n",
    "load_dotenv()\n",
    "langfuse_handler = CallbackHandler(\n",
    "    secret_key=os.getenv(\"LANGFUSE_SECRET_KEY\"),\n",
    "    public_key=os.getenv(\"LANGFUSE_PUBLIC_KEY\"),\n",
    "    host=os.getenv(\"LANGFUSE_HOST\"),\n",
    ")\n",
    "\n",
    "model = ChatOpenAI(model_name=\"Meta-Llama-3.3-70B-Instruct\", base_url=\"https://api.sambanova.ai/v1\", api_key=os.getenv(\"SAMBANOVA_API_KEY\"))\n",
    "embeddings = OllamaEmbeddings(model='nomic-embed-text')"
   ],
   "id": "7cb8867396c22623",
   "outputs": [],
   "execution_count": 3
  },
  {
   "metadata": {
    "ExecuteTime": {
     "end_time": "2025-03-14T08:29:58.484096Z",
     "start_time": "2025-03-14T08:29:58.480558Z"
    }
   },
   "cell_type": "code",
   "source": [
    "target_doc = docs.iloc[0]\n",
    "doc_id = target_doc[\"docid\"]\n",
    "text = target_doc[\"text\"]\n",
    "text"
   ],
   "id": "2dee1009c460ee18",
   "outputs": [
    {
     "data": {
      "text/plain": [
       "'Corfe Castle railway station is a station on the Swanage Railway in the village of Corfe Castle, in the United Kingdom.'"
      ]
     },
     "execution_count": 4,
     "metadata": {},
     "output_type": "execute_result"
    }
   ],
   "execution_count": 4
  },
  {
   "metadata": {},
   "cell_type": "markdown",
   "source": "# Development Space",
   "id": "c47722c60e564900"
  },
  {
   "metadata": {
    "ExecuteTime": {
     "end_time": "2025-03-14T08:42:45.814629Z",
     "start_time": "2025-03-14T08:42:45.801454Z"
    }
   },
   "cell_type": "code",
   "source": [
    "from langchain_core.prompts import PromptTemplate\n",
    "import re\n",
    "\n",
    "def result_formatter_agent(state):\n",
    "    prompt = PromptTemplate.from_template(\"\"\"\n",
    "    You are an expert in formatting results of multi-agent-systems, which are used for closed information extraction. Therefore, your task is to produce triples in turtle format, that can be inserted in the underlying knowledge graph. Therefore, you will get access to the full state of the multi-agent-system including the full call trace, the comments of the planner and the result checker, the provided input text and all intermediate results. Please note, that the so called relation extraction agent will output more triples than necessary due to prompting. Please reduce the output so, that no triple is a duplicate of another. If you want to incorporate reasoning in your output make sure that you enclose the turtle output in <ttl> tags, so that it can be extracted afterwards.\n",
    "    \n",
    "    Agent Call Trace: {call_trace}\n",
    "    Agent Comments: {comments}\n",
    "    The provided input text: {text}\n",
    "    All intermediate results produced during the process: {results}\n",
    "    \"\"\")\n",
    "    \n",
    "    response_chain = prompt | model\n",
    "    \n",
    "    response = response_chain.invoke(state, config={\"callbacks\": [langfuse_handler]})\n",
    "    \n",
    "    result_match = re.search(r'<ttl>(.*?)</ttl>', response.content, re.DOTALL)\n",
    "\n",
    "    print(response.content)\n",
    "\n",
    "    if result_match:\n",
    "        result = result_match.group(1)\n",
    "    else:\n",
    "        result = \"\"\n",
    "    \n",
    "    state[\"results\"] += [result]\n",
    "          \n",
    "    return state"
   ],
   "id": "81aa925e6517e794",
   "outputs": [],
   "execution_count": 17
  },
  {
   "metadata": {
    "ExecuteTime": {
     "end_time": "2025-03-14T08:42:49.883954Z",
     "start_time": "2025-03-14T08:42:45.933582Z"
    }
   },
   "cell_type": "code",
   "source": [
    "import pickle\n",
    "\n",
    "finish_mas_state = pickle.load(open(\"../state_storage/finish_mas.state\", \"rb\"))\n",
    "state = result_formatter_agent(finish_mas_state)"
   ],
   "id": "a301e240ebb7e081",
   "outputs": [
    {
     "name": "stdout",
     "output_type": "stream",
     "text": [
      "Based on the provided information and the current state of the plan execution, I will proceed with integrating the extracted entities and relations into the Knowledge Graph.\n",
      "\n",
      "The extracted entities and their corresponding URIs are:\n",
      "- Corfe Castle railway station: http://www.wikidata.org/entity/Q5170476\n",
      "- Swanage Railway: http://www.wikidata.org/entity/Q7653559\n",
      "- Corfe Castle: http://www.wikidata.org/entity/Q1236511\n",
      "- United Kingdom: http://www.wikidata.org/entity/Q145\n",
      "\n",
      "The extracted relations and their corresponding URIs are:\n",
      "- \"is located on\": http://www.wikidata.org/entity/P276 (location)\n",
      "- \"is located in\": http://www.wikidata.org/entity/P276 (location) or http://www.wikidata.org/entity/P159 (headquarters location)\n",
      "- \"passes through\": http://www.wikidata.org/entity/P81 (railway line(s) subject is directly connected to)\n",
      "\n",
      "The triples to be inserted into the Knowledge Graph are:\n",
      "<ttl>\n",
      "http://www.wikidata.org/entity/Q5170476 http://www.wikidata.org/entity/P276 http://www.wikidata.org/entity/Q7653559 .\n",
      "http://www.wikidata.org/entity/Q5170476 http://www.wikidata.org/entity/P276 http://www.wikidata.org/entity/Q1236511 .\n",
      "http://www.wikidata.org/entity/Q5170476 http://www.wikidata.org/entity/P276 http://www.wikidata.org/entity/Q145 .\n",
      "http://www.wikidata.org/entity/Q7653559 http://www.wikidata.org/entity/P81 http://www.wikidata.org/entity/Q1236511 .\n",
      "http://www.wikidata.org/entity/Q7653559 http://www.wikidata.org/entity/P276 http://www.wikidata.org/entity/Q145 .\n",
      "http://www.wikidata.org/entity/Q1236511 http://www.wikidata.org/entity/P276 http://www.wikidata.org/entity/Q145 .\n",
      "</ttl>\n",
      "\n",
      "These triples represent the relationships between the entities extracted from the input text, using the URIs detected by the URI Detection Agent. The triples are in Turtle format, which is compatible with the Knowledge Graph. \n",
      "\n",
      "Note that the \"is located in\" relation can have two different URIs (P276 or P159), depending on the context. In this case, I have used P276 for all instances of \"is located in\", but it might be necessary to use P159 in certain situations, depending on the specific meaning of the relation in the input text. \n",
      "\n",
      "Also, note that the \"passes through\" relation is represented by the URI P81, which is related to railway lines. This might not be the most accurate representation of the relation, depending on the context of the input text. \n",
      "\n",
      "It is recommended to validate the integrated triples against the Knowledge Graph to ensure consistency and accuracy before insertion. Additionally, consider adding metadata to the triples, such as provenance information or confidence scores, to provide context and support further processing and analysis.\n"
     ]
    }
   ],
   "execution_count": 18
  },
  {
   "metadata": {},
   "cell_type": "markdown",
   "source": "# Final Results",
   "id": "aacecf0ff0512bfd"
  },
  {
   "metadata": {
    "ExecuteTime": {
     "end_time": "2025-03-14T08:46:11.705682Z",
     "start_time": "2025-03-14T08:46:11.699389Z"
    }
   },
   "cell_type": "code",
   "source": [
    "final_result = state[\"results\"][-1].replace(\"\\n\", \"\")\n",
    "final_result = final_result.split(\" .\")\n",
    "final_result = [triple.split(\" \") for triple in final_result[:-1]]\n",
    "final_result"
   ],
   "id": "97ee2c7b0815b831",
   "outputs": [
    {
     "data": {
      "text/plain": [
       "[['http://www.wikidata.org/entity/Q5170476',\n",
       "  'http://www.wikidata.org/entity/P276',\n",
       "  'http://www.wikidata.org/entity/Q7653559'],\n",
       " ['http://www.wikidata.org/entity/Q5170476',\n",
       "  'http://www.wikidata.org/entity/P276',\n",
       "  'http://www.wikidata.org/entity/Q1236511'],\n",
       " ['http://www.wikidata.org/entity/Q5170476',\n",
       "  'http://www.wikidata.org/entity/P276',\n",
       "  'http://www.wikidata.org/entity/Q145'],\n",
       " ['http://www.wikidata.org/entity/Q7653559',\n",
       "  'http://www.wikidata.org/entity/P81',\n",
       "  'http://www.wikidata.org/entity/Q1236511'],\n",
       " ['http://www.wikidata.org/entity/Q7653559',\n",
       "  'http://www.wikidata.org/entity/P276',\n",
       "  'http://www.wikidata.org/entity/Q145'],\n",
       " ['http://www.wikidata.org/entity/Q1236511',\n",
       "  'http://www.wikidata.org/entity/P276',\n",
       "  'http://www.wikidata.org/entity/Q145']]"
      ]
     },
     "execution_count": 27,
     "metadata": {},
     "output_type": "execute_result"
    }
   ],
   "execution_count": 27
  },
  {
   "metadata": {
    "ExecuteTime": {
     "end_time": "2025-03-14T08:46:48.793877Z",
     "start_time": "2025-03-14T08:46:48.763827Z"
    }
   },
   "cell_type": "code",
   "source": [
    "pred_relation_df = pd.DataFrame(final_result, columns=[\"subject_uri\", \"predicate_uri\", \"object_uri\"]).drop_duplicates()\n",
    "pred_relation_df"
   ],
   "id": "5cbbb43702b0d32f",
   "outputs": [
    {
     "data": {
      "text/plain": [
       "                               subject_uri  \\\n",
       "0  http://www.wikidata.org/entity/Q5170476   \n",
       "1  http://www.wikidata.org/entity/Q5170476   \n",
       "2  http://www.wikidata.org/entity/Q5170476   \n",
       "3  http://www.wikidata.org/entity/Q7653559   \n",
       "4  http://www.wikidata.org/entity/Q7653559   \n",
       "5  http://www.wikidata.org/entity/Q1236511   \n",
       "\n",
       "                         predicate_uri  \\\n",
       "0  http://www.wikidata.org/entity/P276   \n",
       "1  http://www.wikidata.org/entity/P276   \n",
       "2  http://www.wikidata.org/entity/P276   \n",
       "3   http://www.wikidata.org/entity/P81   \n",
       "4  http://www.wikidata.org/entity/P276   \n",
       "5  http://www.wikidata.org/entity/P276   \n",
       "\n",
       "                                object_uri  \n",
       "0  http://www.wikidata.org/entity/Q7653559  \n",
       "1  http://www.wikidata.org/entity/Q1236511  \n",
       "2      http://www.wikidata.org/entity/Q145  \n",
       "3  http://www.wikidata.org/entity/Q1236511  \n",
       "4      http://www.wikidata.org/entity/Q145  \n",
       "5      http://www.wikidata.org/entity/Q145  "
      ],
      "text/html": [
       "<div>\n",
       "<style scoped>\n",
       "    .dataframe tbody tr th:only-of-type {\n",
       "        vertical-align: middle;\n",
       "    }\n",
       "\n",
       "    .dataframe tbody tr th {\n",
       "        vertical-align: top;\n",
       "    }\n",
       "\n",
       "    .dataframe thead th {\n",
       "        text-align: right;\n",
       "    }\n",
       "</style>\n",
       "<table border=\"1\" class=\"dataframe\">\n",
       "  <thead>\n",
       "    <tr style=\"text-align: right;\">\n",
       "      <th></th>\n",
       "      <th>subject_uri</th>\n",
       "      <th>predicate_uri</th>\n",
       "      <th>object_uri</th>\n",
       "    </tr>\n",
       "  </thead>\n",
       "  <tbody>\n",
       "    <tr>\n",
       "      <th>0</th>\n",
       "      <td>http://www.wikidata.org/entity/Q5170476</td>\n",
       "      <td>http://www.wikidata.org/entity/P276</td>\n",
       "      <td>http://www.wikidata.org/entity/Q7653559</td>\n",
       "    </tr>\n",
       "    <tr>\n",
       "      <th>1</th>\n",
       "      <td>http://www.wikidata.org/entity/Q5170476</td>\n",
       "      <td>http://www.wikidata.org/entity/P276</td>\n",
       "      <td>http://www.wikidata.org/entity/Q1236511</td>\n",
       "    </tr>\n",
       "    <tr>\n",
       "      <th>2</th>\n",
       "      <td>http://www.wikidata.org/entity/Q5170476</td>\n",
       "      <td>http://www.wikidata.org/entity/P276</td>\n",
       "      <td>http://www.wikidata.org/entity/Q145</td>\n",
       "    </tr>\n",
       "    <tr>\n",
       "      <th>3</th>\n",
       "      <td>http://www.wikidata.org/entity/Q7653559</td>\n",
       "      <td>http://www.wikidata.org/entity/P81</td>\n",
       "      <td>http://www.wikidata.org/entity/Q1236511</td>\n",
       "    </tr>\n",
       "    <tr>\n",
       "      <th>4</th>\n",
       "      <td>http://www.wikidata.org/entity/Q7653559</td>\n",
       "      <td>http://www.wikidata.org/entity/P276</td>\n",
       "      <td>http://www.wikidata.org/entity/Q145</td>\n",
       "    </tr>\n",
       "    <tr>\n",
       "      <th>5</th>\n",
       "      <td>http://www.wikidata.org/entity/Q1236511</td>\n",
       "      <td>http://www.wikidata.org/entity/P276</td>\n",
       "      <td>http://www.wikidata.org/entity/Q145</td>\n",
       "    </tr>\n",
       "  </tbody>\n",
       "</table>\n",
       "</div>"
      ]
     },
     "execution_count": 28,
     "metadata": {},
     "output_type": "execute_result"
    }
   ],
   "execution_count": 28
  },
  {
   "metadata": {},
   "cell_type": "code",
   "outputs": [],
   "execution_count": null,
   "source": "",
   "id": "8f52bd2630486152"
  }
 ],
 "metadata": {
  "kernelspec": {
   "display_name": "Python 3",
   "language": "python",
   "name": "python3"
  },
  "language_info": {
   "codemirror_mode": {
    "name": "ipython",
    "version": 2
   },
   "file_extension": ".py",
   "mimetype": "text/x-python",
   "name": "python",
   "nbconvert_exporter": "python",
   "pygments_lexer": "ipython2",
   "version": "2.7.6"
  }
 },
 "nbformat": 4,
 "nbformat_minor": 5
}
