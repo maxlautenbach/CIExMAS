{
 "cells": [
  {
   "metadata": {},
   "cell_type": "markdown",
   "source": "# URI Detection Agent",
   "id": "d31e34b23c5e2298"
  },
  {
   "cell_type": "code",
   "id": "initial_id",
   "metadata": {
    "collapsed": true,
    "ExecuteTime": {
     "end_time": "2025-03-13T15:26:52.671482Z",
     "start_time": "2025-03-13T15:26:40.495779Z"
    }
   },
   "source": [
    "import helper_tools.parser as parser\n",
    "import importlib\n",
    "import pandas as pd\n",
    "\n",
    "importlib.reload(parser)\n",
    "\n",
    "relation_df, entity_df, docs = parser.synthie_parser(\"train\")"
   ],
   "outputs": [
    {
     "data": {
      "text/plain": [
       "Fetching 27 files:   0%|          | 0/27 [00:00<?, ?it/s]"
      ],
      "application/vnd.jupyter.widget-view+json": {
       "version_major": 2,
       "version_minor": 0,
       "model_id": "2c22c1eb13e9449b9e8bde4c339ab119"
      }
     },
     "metadata": {},
     "output_type": "display_data"
    },
    {
     "name": "stderr",
     "output_type": "stream",
     "text": [
      "100%|██████████| 10/10 [00:00<00:00, 12164.45it/s]\n"
     ]
    },
    {
     "name": "stdout",
     "output_type": "stream",
     "text": [
      "Uploading Entities to Qdrant.\n"
     ]
    },
    {
     "name": "stderr",
     "output_type": "stream",
     "text": [
      "100%|██████████| 46/46 [00:06<00:00,  7.52it/s]\n"
     ]
    },
    {
     "name": "stdout",
     "output_type": "stream",
     "text": [
      "Uploading Predicates to Qdrant.\n"
     ]
    },
    {
     "name": "stderr",
     "output_type": "stream",
     "text": [
      "100%|██████████| 29/29 [00:03<00:00,  8.84it/s]\n"
     ]
    }
   ],
   "execution_count": 1
  },
  {
   "metadata": {
    "ExecuteTime": {
     "end_time": "2025-03-13T15:26:53.605121Z",
     "start_time": "2025-03-13T15:26:52.676963Z"
    }
   },
   "cell_type": "code",
   "source": [
    "from langchain_openai import ChatOpenAI\n",
    "from langchain_ollama.embeddings import OllamaEmbeddings\n",
    "from langfuse.callback import CallbackHandler\n",
    "from dotenv import load_dotenv\n",
    "import os\n",
    "\n",
    "load_dotenv()\n",
    "langfuse_handler = CallbackHandler(\n",
    "    secret_key=os.getenv(\"LANGFUSE_SECRET_KEY\"),\n",
    "    public_key=os.getenv(\"LANGFUSE_PUBLIC_KEY\"),\n",
    "    host=os.getenv(\"LANGFUSE_HOST\"),\n",
    ")\n",
    "\n",
    "model = ChatOpenAI(model_name=\"Meta-Llama-3.3-70B-Instruct\", base_url=\"https://api.sambanova.ai/v1\", api_key=os.getenv(\"SAMBANOVA_API_KEY\"))\n",
    "embeddings = OllamaEmbeddings(model='nomic-embed-text')"
   ],
   "id": "7cb8867396c22623",
   "outputs": [],
   "execution_count": 2
  },
  {
   "metadata": {
    "ExecuteTime": {
     "end_time": "2025-03-13T15:26:53.755268Z",
     "start_time": "2025-03-13T15:26:53.751740Z"
    }
   },
   "cell_type": "code",
   "source": [
    "target_doc = docs.iloc[0]\n",
    "doc_id = target_doc[\"docid\"]\n",
    "text = target_doc[\"text\"]\n",
    "text"
   ],
   "id": "2dee1009c460ee18",
   "outputs": [
    {
     "data": {
      "text/plain": [
       "'Corfe Castle railway station is a station on the Swanage Railway in the village of Corfe Castle, in the United Kingdom.'"
      ]
     },
     "execution_count": 3,
     "metadata": {},
     "output_type": "execute_result"
    }
   ],
   "execution_count": 3
  },
  {
   "metadata": {},
   "cell_type": "markdown",
   "source": "# Development Space",
   "id": "c47722c60e564900"
  },
  {
   "metadata": {
    "ExecuteTime": {
     "end_time": "2025-03-14T07:43:57.675964Z",
     "start_time": "2025-03-14T07:43:55.847737Z"
    }
   },
   "cell_type": "code",
   "source": [
    "from langchain_qdrant import QdrantVectorStore\n",
    "from qdrant_client import QdrantClient\n",
    "\n",
    "client = QdrantClient(\"localhost\", port=6333)\n",
    "label_vector_store = QdrantVectorStore(\n",
    "    client=client,\n",
    "    collection_name=\"wikidata_labels\",\n",
    "    embedding=embeddings\n",
    ")\n",
    "\n",
    "description_vector_store = QdrantVectorStore(\n",
    "    client=client,\n",
    "    collection_name=\"wikidata_descriptions\",\n",
    "    embedding=embeddings\n",
    ")"
   ],
   "id": "9bc659b3d53b9a7d",
   "outputs": [],
   "execution_count": 15
  },
  {
   "metadata": {
    "ExecuteTime": {
     "end_time": "2025-03-14T07:46:00.356844Z",
     "start_time": "2025-03-14T07:46:00.345786Z"
    }
   },
   "cell_type": "code",
   "source": [
    "from langchain_core.prompts import PromptTemplate\n",
    "\n",
    "def uri_detection_agent(state):\n",
    "    search_terms = state[\"instruction\"].split(\",\")\n",
    "    label_search_terms = [term.replace(\"[LABEL]\",\"\") for term in search_terms if \"[LABEL]\" in term]\n",
    "    description_search_terms = [term.replace(\"[DESCR]\",\"\") for term in search_terms if \"[DESCR]\" in term]\n",
    "    response = \"\"\n",
    "    for term in label_search_terms:\n",
    "        response += f'Most Similar rdfs:label Search Results for {term}:{[{\"label\": doc.page_content, \"uri\": doc.metadata[\"uri\"]} for doc in label_vector_store.similarity_search(term, k=3)]}\\n\\n'\n",
    "    for term in description_search_terms:\n",
    "        response += f'Most Similar rdfs:label Search Results for {term}:{[{\"label\": doc.page_content, \"uri\": doc.metadata[\"uri\"]} for doc in description_vector_store.similarity_search(term, k=3)]}\\n\\n'\n",
    "    response = response.replace(\"},\", \"},\\n\")\n",
    "        \n",
    "    prompt_template = PromptTemplate.from_template(\n",
    "        \"\"\"\n",
    "        You are a formatting agent. Your task is to check and format the output of the URI detection tool. The tool will give a response like this:\n",
    "        Most Similar Detection Result for Olaf Scholz: ('label': Angela Merkel, 'uri': 'http://www.wikidata.org/entity/Q567)\n",
    "        \n",
    "        Your task is to check the response and output an overall mapping of search terms to URIs. If something doesn't match, please response the non mapping search term with the advise, that those might not be present in the knowledge graph. Please also leverage the text for identifying the context of the search terms.\n",
    "        \n",
    "        Text: {text}\n",
    "        \n",
    "        URI detection tool response:\n",
    "        \n",
    "        {response}\n",
    "        \"\"\"\n",
    "    )\n",
    "    \n",
    "    chain = prompt_template | model\n",
    "    result = chain.invoke({\"response\": response, \"text\": state[\"text\"]})\n",
    "    \n",
    "    return result"
   ],
   "id": "81aa925e6517e794",
   "outputs": [],
   "execution_count": 22
  },
  {
   "metadata": {
    "ExecuteTime": {
     "end_time": "2025-03-14T07:46:02.285166Z",
     "start_time": "2025-03-14T07:46:00.488968Z"
    }
   },
   "cell_type": "code",
   "source": [
    "mock_instruction = \"\"\"[LABEL]Corfe Castle railway station, [LABEL]Swanage Railway, [LABEL]Corfe Castle, [LABEL]United Kingdom\"\"\"\n",
    "\n",
    "response = uri_detection_agent({\"instruction\": mock_instruction, \"text\": text})\n",
    "print(response.content)"
   ],
   "id": "1dd0129c94d7d382",
   "outputs": [
    {
     "name": "stdout",
     "output_type": "stream",
     "text": [
      "After analyzing the response from the URI detection tool, I have identified the most relevant mappings for each search term. Here is the overall mapping of search terms to URIs:\n",
      "\n",
      "* Corfe Castle railway station: http://www.wikidata.org/entity/Q5170476\n",
      "* Swanage Railway: http://www.wikidata.org/entity/Q7653559\n",
      "* Corfe Castle: http://www.wikidata.org/entity/Q1236511\n",
      "* United Kingdom: http://www.wikidata.org/entity/Q145\n",
      "\n",
      "The context of the search terms suggests that \"Corfe Castle\" can refer to either the village or the railway station. However, based on the provided text, it seems that \"Corfe Castle\" is being used to refer to the village, while \"Corfe Castle railway station\" is a specific entity. Therefore, I have mapped \"Corfe Castle\" to the URI for the village (Q1236511).\n",
      "\n",
      "The search term \"Swanage Railway\" has been successfully mapped to its corresponding URI (Q7653559).\n",
      "\n",
      "The search term \"United Kingdom\" has been successfully mapped to its corresponding URI (Q145).\n",
      "\n",
      "All search terms have been successfully mapped to their corresponding URIs. If there were any non-mapping search terms, I would advise that they might not be present in the knowledge graph. However, in this case, all search terms have been successfully mapped.\n"
     ]
    }
   ],
   "execution_count": 23
  },
  {
   "metadata": {},
   "cell_type": "code",
   "outputs": [],
   "execution_count": null,
   "source": "",
   "id": "27d22a360768e9d3"
  }
 ],
 "metadata": {
  "kernelspec": {
   "display_name": "Python 3",
   "language": "python",
   "name": "python3"
  },
  "language_info": {
   "codemirror_mode": {
    "name": "ipython",
    "version": 2
   },
   "file_extension": ".py",
   "mimetype": "text/x-python",
   "name": "python",
   "nbconvert_exporter": "python",
   "pygments_lexer": "ipython2",
   "version": "2.7.6"
  }
 },
 "nbformat": 4,
 "nbformat_minor": 5
}
