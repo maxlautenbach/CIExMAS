{
 "cells": [
  {
   "metadata": {},
   "cell_type": "markdown",
   "source": "# Setup",
   "id": "d180eaa2091349c8"
  },
  {
   "cell_type": "code",
   "id": "initial_id",
   "metadata": {
    "collapsed": true,
    "ExecuteTime": {
     "end_time": "2025-03-19T07:56:39.142389Z",
     "start_time": "2025-03-19T07:56:25.511647Z"
    }
   },
   "source": [
    "import helper_tools.parser as parser\n",
    "import importlib\n",
    "import pandas as pd\n",
    "\n",
    "importlib.reload(parser)\n",
    "\n",
    "relation_df, entity_df, docs = parser.synthie_parser(\"train\")\n",
    "entity_set = entity_df[['entity', 'entity_uri']].drop_duplicates()\n",
    "predicate_set_df = relation_df[[\"predicate\", \"predicate_uri\"]].drop_duplicates()"
   ],
   "outputs": [
    {
     "data": {
      "text/plain": [
       "Fetching 27 files:   0%|          | 0/27 [00:00<?, ?it/s]"
      ],
      "application/vnd.jupyter.widget-view+json": {
       "version_major": 2,
       "version_minor": 0,
       "model_id": "97cba3f4e4ee4d24b46cb7ef2842492f"
      }
     },
     "metadata": {},
     "output_type": "display_data"
    },
    {
     "name": "stderr",
     "output_type": "stream",
     "text": [
      "100%|██████████| 10/10 [00:00<00:00, 10743.61it/s]\n"
     ]
    },
    {
     "name": "stdout",
     "output_type": "stream",
     "text": [
      "Uploading Entities to Qdrant.\n"
     ]
    },
    {
     "name": "stderr",
     "output_type": "stream",
     "text": [
      "100%|██████████| 46/46 [00:06<00:00,  7.42it/s]\n"
     ]
    },
    {
     "name": "stdout",
     "output_type": "stream",
     "text": [
      "Uploading Predicates to Qdrant.\n"
     ]
    },
    {
     "name": "stderr",
     "output_type": "stream",
     "text": [
      "100%|██████████| 29/29 [00:03<00:00,  8.99it/s]\n"
     ]
    }
   ],
   "execution_count": 1
  },
  {
   "metadata": {
    "ExecuteTime": {
     "end_time": "2025-03-19T07:56:39.686875Z",
     "start_time": "2025-03-19T07:56:39.157977Z"
    }
   },
   "cell_type": "code",
   "source": [
    "from langfuse.callback import CallbackHandler\n",
    "from dotenv import load_dotenv\n",
    "import os\n",
    "\n",
    "load_dotenv()\n",
    "langfuse_handler = CallbackHandler(\n",
    "    secret_key=os.getenv(\"LANGFUSE_SECRET_KEY\"),\n",
    "    public_key=os.getenv(\"LANGFUSE_PUBLIC_KEY\"),\n",
    "    host=os.getenv(\"LANGFUSE_HOST\"),\n",
    ")"
   ],
   "id": "6d357659da5e4afd",
   "outputs": [],
   "execution_count": 2
  },
  {
   "metadata": {
    "ExecuteTime": {
     "end_time": "2025-03-19T07:56:40.767224Z",
     "start_time": "2025-03-19T07:56:39.822878Z"
    }
   },
   "cell_type": "code",
   "source": [
    "from langgraph.graph import StateGraph, START, END\n",
    "from approaches.full_sentence.Gen1.setup import cIEState\n",
    "from approaches.full_sentence.Gen1.agents.agent_instructor import agent as agent_instructor_agent\n",
    "from approaches.full_sentence.Gen1.agents.entity_extractor import agent as entity_extraction_agent\n",
    "from approaches.full_sentence.Gen1.agents.relation_extractor import agent as relation_extraction_agent\n",
    "from approaches.full_sentence.Gen1.agents.uri_detector import agent as uri_detection_agent\n",
    "from approaches.full_sentence.Gen1.agents.result_checker import agent as result_checker_agent\n",
    "from approaches.full_sentence.Gen1.agents.result_formatter import agent as result_formatting_agent\n",
    "from approaches.full_sentence.Gen1.agents.planner import agent as planner\n",
    "\n",
    "builder = StateGraph(cIEState)\n",
    "builder.add_node(\"planner\", planner)\n",
    "builder.add_node(\"agent_instructor_agent\",agent_instructor_agent)\n",
    "builder.add_node(\"entity_extraction_agent\", entity_extraction_agent)\n",
    "builder.add_node(\"relation_extraction_agent\",relation_extraction_agent)\n",
    "builder.add_node(\"uri_detection_agent\",uri_detection_agent)\n",
    "builder.add_node(\"result_checker_agent\",result_checker_agent)\n",
    "builder.add_node(\"result_formatting_agent\",result_formatting_agent)\n",
    "\n",
    "builder.add_edge(START, \"planner\")\n",
    "\n",
    "graph = builder.compile()"
   ],
   "id": "41fa1adc21242777",
   "outputs": [],
   "execution_count": 3
  },
  {
   "metadata": {
    "ExecuteTime": {
     "end_time": "2025-03-19T07:56:40.780273Z",
     "start_time": "2025-03-19T07:56:40.776535Z"
    }
   },
   "cell_type": "code",
   "source": [
    "target_doc = docs.iloc[1]\n",
    "doc_id = target_doc[\"docid\"]\n",
    "text = target_doc[\"text\"]\n",
    "text"
   ],
   "id": "2528cff98f514fda",
   "outputs": [
    {
     "data": {
      "text/plain": [
       "'Ricardo Lumengo is a Swiss politician. He was born in Fribourg and lives in Biel/Bienne. He works in Bern and speaks the Kongo language.'"
      ]
     },
     "execution_count": 4,
     "metadata": {},
     "output_type": "execute_result"
    }
   ],
   "execution_count": 4
  },
  {
   "metadata": {
    "ExecuteTime": {
     "end_time": "2025-03-19T08:01:23.418437Z",
     "start_time": "2025-03-19T07:56:40.865897Z"
    }
   },
   "cell_type": "code",
   "source": "response_state = graph.invoke({\"text\": text, \"results\": [], \"call_trace\": [], \"comments\": [], \"debug\": False}, config={\"callbacks\": [langfuse_handler], \"recursion_limit\": 100})",
   "id": "a4c4f50fe945aab7",
   "outputs": [],
   "execution_count": 5
  },
  {
   "metadata": {},
   "cell_type": "markdown",
   "source": "# Pretty Print Response State",
   "id": "9b1a6616dc62b977"
  },
  {
   "metadata": {
    "ExecuteTime": {
     "end_time": "2025-03-19T08:05:03.779907Z",
     "start_time": "2025-03-19T08:05:03.769500Z"
    }
   },
   "cell_type": "code",
   "source": [
    "print(f\"\"\"cIE for text: {response_state[\"text\"]}\n",
    "\n",
    "Results:\"\"\")\n",
    "for i, call in enumerate(response_state[\"call_trace\"]):\n",
    "    print(f\"Agent ID: {call[0]}\")\n",
    "    print(f\"Instruction: {call[1]}\")\n",
    "    print(f\"Result: {response_state['results'][i]}\\n\\n\")\n",
    "    \n",
    "print(\"Agent Comments:\")\n",
    "for comment in response_state[\"comments\"]:\n",
    "    print(comment)"
   ],
   "id": "fd18d19f9fdafd1c",
   "outputs": [
    {
     "name": "stdout",
     "output_type": "stream",
     "text": [
      "cIE for text: Ricardo Lumengo is a Swiss politician. He was born in Fribourg and lives in Biel/Bienne. He works in Bern and speaks the Kongo language.\n",
      "\n",
      "Results:\n",
      "Agent ID: entity_extraction_agent\n",
      "Instruction: \n",
      "Result: -- Entity Extraction Agent --\n",
      "    \n",
      "Since there is no specific instruction provided, I will proceed to extract all entities from the given text. Here is the list of extracted entities:\n",
      "\n",
      "1. **Person**: Ricardo Lumengo\n",
      "2. **Nationality**: Swiss\n",
      "3. **Location**: \n",
      "   - Fribourg\n",
      "   - Biel/Bienne\n",
      "   - Bern\n",
      "4. **Language**: Kongo\n",
      "\n",
      "Please let me know if there are any further instructions or if you would like me to proceed with any additional tasks. \n",
      "\n",
      "\n",
      "Agent ID: relation_extraction_agent\n",
      "Instruction: Ricardo Lumengo, Swiss, Fribourg, Biel/Bienne, Bern, Kongo. Consider disambiguating complex relationships such as \"born in,\" \"lives in,\" and \"works in.\"\n",
      "Result: -- Relation Extraction Agent --\n",
      "    \n",
      "To extract the relations from the provided text and follow the given instruction, we need to consider both the explicit and implicit relationships mentioned in the text. The instruction seems to hint at focusing on certain entities and possibly disambiguating or exploring different aspects of their relationships. \n",
      "\n",
      "Given text: \"Ricardo Lumengo is a Swiss politician. He was born in Fribourg and lives in Biel/Bienne. He works in Bern and speaks the Kongo language.\"\n",
      "\n",
      "1. **Ricardo Lumengo, nationality, Swiss**: This relation indicates Ricardo Lumengo's nationality.\n",
      "   - Alternative predicate: Ricardo Lumengo, citizen of, Switzerland\n",
      "\n",
      "2. **Ricardo Lumengo, birthplace, Fribourg**: This relation indicates where Ricardo Lumengo was born.\n",
      "   - Alternative predicate: Ricardo Lumengo, born in, Fribourg\n",
      "\n",
      "3. **Ricardo Lumengo, residence, Biel/Bienne**: This relation indicates where Ricardo Lumengo lives.\n",
      "   - Alternative predicate: Ricardo Lumengo, lives in, Biel/Bienne\n",
      "\n",
      "4. **Ricardo Lumengo, workplace, Bern**: This relation indicates where Ricardo Lumengo works.\n",
      "   - Alternative predicate: Ricardo Lumengo, works in, Bern\n",
      "\n",
      "5. **Ricardo Lumengo, language spoken, Kongo language**: This relation indicates the language spoken by Ricardo Lumengo.\n",
      "   - Alternative predicate: Ricardo Lumengo, speaks, Kongo language\n",
      "\n",
      "Considering the instruction and the need to disambiguate complex relationships such as \"born in,\" \"lives in,\" and \"works in,\" we focus on the entities mentioned (Ricardo Lumengo, Swiss, Fribourg, Biel/Bienne, Bern, Kongo) and ensure we capture the essence of the relationships in a clear manner.\n",
      "\n",
      "The list of extracted relations with alternative predicates where applicable is as follows:\n",
      "\n",
      "- Ricardo Lumengo, nationality, Swiss\n",
      "- Ricardo Lumengo, citizen of, Switzerland\n",
      "- Ricardo Lumengo, birthplace, Fribourg\n",
      "- Ricardo Lumengo, born in, Fribourg\n",
      "- Ricardo Lumengo, residence, Biel/Bienne\n",
      "- Ricardo Lumengo, lives in, Biel/Bienne\n",
      "- Ricardo Lumengo, workplace, Bern\n",
      "- Ricardo Lumengo, works in, Bern\n",
      "- Ricardo Lumengo, language spoken, Kongo language\n",
      "- Ricardo Lumengo, speaks, Kongo language\n",
      "\n",
      "This approach ensures that we are not only extracting direct relations from the text but also considering the semantic equivalences that can represent the same relationship under different predicate names, aligning with the principles of closed information extraction in a multi-agent system. \n",
      "\n",
      "\n",
      "Agent ID: uri_detection_agent\n",
      "Instruction: Ricardo Lumengo[LABEL],Ricardo Lumengo[DESCR],Swiss[LABEL],Swiss[DESCR],Fribourg[LABEL],Fribourg[DESCR],Biel/Bienne[LABEL],Biel/Bienne[DESCR],Bern[LABEL],Bern[DESCR],Kongo[LABEL],Kongo[DESCR]\n",
      "Result: Output of uri_detection_agent: After checking the responses from the URI detection tool, I've compiled the following mapping of search terms to URIs:\n",
      "\n",
      "* Ricardo Lumengo: http://www.wikidata.org/entity/Q677663\n",
      "* Swiss: http://www.wikidata.org/entity/Q39\n",
      "* Fribourg: http://www.wikidata.org/entity/Q36378\n",
      "* Biel/Bienne: http://www.wikidata.org/entity/Q1034\n",
      "* Bern: http://www.wikidata.org/entity/Q70\n",
      "* Kongo: http://www.wikidata.org/entity/Q33702\n",
      "\n",
      "The context of the search terms is as follows:\n",
      "\n",
      "* Ricardo Lumengo is a Swiss politician, indicating that the search term is a person.\n",
      "* Swiss refers to the country Switzerland, indicating that the search term is a nationality or a country.\n",
      "* Fribourg, Biel/Bienne, and Bern are all locations in Switzerland, indicating that the search terms are cities or municipalities.\n",
      "* Kongo refers to the Kongo language, indicating that the search term is a language.\n",
      "\n",
      "The following search terms did not have a clear match in the knowledge graph:\n",
      "\n",
      "* None of the search terms had a completely unclear match, but some had multiple possible matches. The chosen URIs are the most likely matches based on the context of the text.\n",
      "\n",
      "Note: The URI detection tool provided multiple responses for each search term, but I've selected the most likely match based on the context of the text. If a search term had multiple possible matches, I've chosen the one that seems most relevant to the context. If a search term did not have a clear match, I've indicated that it might not be present in the knowledge graph.\n",
      "\n",
      "\n",
      "Agent ID: entity_extraction_agent\n",
      "Instruction: Re-examine the text for any additional entities that might have been overlooked, focusing on extracting types if necessary, and provide instructions to disambiguate entities if needed.\n",
      "Result: -- Entity Extraction Agent --\n",
      "    \n",
      "To thoroughly extract entities from the provided text, I will categorize them based on their types, such as locations, languages, and individuals. I will also consider the instruction to re-examine the text for any additional entities and provide guidance on disambiguation if necessary.\n",
      "\n",
      "### Extracted Entities:\n",
      "1. **Ricardo Lumengo** - Individual, specifically a Swiss politician.\n",
      "2. **Fribourg** - Location, the birthplace of Ricardo Lumengo.\n",
      "3. **Biel/Bienne** - Location, where Ricardo Lumengo lives.\n",
      "4. **Bern** - Location, where Ricardo Lumengo works.\n",
      "5. **Kongo language** - Language, spoken by Ricardo Lumengo.\n",
      "\n",
      "### Types of Entities:\n",
      "- **Person:** Ricardo Lumengo\n",
      "- **Locations:**\n",
      "  - Fribourg\n",
      "  - Biel/Bienne\n",
      "  - Bern\n",
      "- **Language:** Kongo language\n",
      "\n",
      "### Additional Entities or Types:\n",
      "Upon a detailed re-examination of the text, it appears that the main entities have been identified. However, to further categorize or understand the context of these entities:\n",
      "- **Nationality:** Swiss, which applies to Ricardo Lumengo.\n",
      "- **Occupation:** Politician, which is the profession of Ricardo Lumengo.\n",
      "\n",
      "### Disambiguation Instructions:\n",
      "- For **Biel/Bienne**, note that this is a bilingual city in Switzerland, with the name being in both French (Bienne) and German (Biel). Depending on the context or requirement, it might be necessary to specify the language preference for this location.\n",
      "- For **Kongo language**, it's essential to clarify that there are several languages spoken in the Congo region, and the term \"Kongo language\" could refer to Kikongo, a Bantu language spoken in Angola, the Democratic Republic of the Congo, and the Republic of the Congo. Without more specific information, it's challenging to determine the exact dialect or variation of the Kongo language spoken by Ricardo Lumengo.\n",
      "- For **Ricardo Lumengo**, if there are multiple individuals with this name, additional context or information such as birthdate, political party affiliation, or specific political roles held would be necessary to disambiguate him from others with the same name.\n",
      "\n",
      "### Conclusion:\n",
      "Based on the provided text and the instruction to re-examine for additional entities and types, all primary and categorizable entities have been extracted. For future clarification or more detailed analysis, especially concerning languages and locations with multiple names or dialects, further instructions or context would be beneficial. \n",
      "\n",
      "\n",
      "Agent ID: relation_extraction_agent\n",
      "Instruction: Ricardo Lumengo, Swiss, Fribourg, Biel/Bienne, Bern, Kongo language. Consider disambiguating complex relationships such as \"born in,\" \"lives in,\" and \"works in,\" and include semantic equivalences that can represent the same relationship under different predicate names.\n",
      "Result: -- Relation Extraction Agent --\n",
      "    \n",
      "Based on the provided text and instruction, I will extract the relations and consider alternative predicates. Here are the extracted triples:\n",
      "\n",
      "1. (Ricardo Lumengo, nationality, Swiss)\n",
      "   - Alternative predicate: (Ricardo Lumengo, country, Switzerland)\n",
      "   - Alternative predicate: (Ricardo Lumengo, is_a, Swiss politician)\n",
      "\n",
      "2. (Ricardo Lumengo, birthplace, Fribourg)\n",
      "   - Alternative predicate: (Ricardo Lumengo, born_in, Fribourg)\n",
      "   - Alternative predicate: (Ricardo Lumengo, place_of_birth, Fribourg)\n",
      "   - Alternative predicate: (Ricardo Lumengo, origin, Fribourg)\n",
      "\n",
      "3. (Ricardo Lumengo, residence, Biel/Bienne)\n",
      "   - Alternative predicate: (Ricardo Lumengo, lives_in, Biel/Bienne)\n",
      "   - Alternative predicate: (Ricardo Lumengo, location, Biel/Bienne)\n",
      "\n",
      "4. (Ricardo Lumengo, workplace, Bern)\n",
      "   - Alternative predicate: (Ricardo Lumengo, works_in, Bern)\n",
      "   - Alternative predicate: (Ricardo Lumengo, work_location, Bern)\n",
      "\n",
      "5. (Ricardo Lumengo, language, Kongo language)\n",
      "   - Alternative predicate: (Ricardo Lumengo, speaks, Kongo language)\n",
      "   - Alternative predicate: (Ricardo Lumengo, native_language, Kongo language)\n",
      "\n",
      "These triples represent the extracted relations from the text, including alternative predicates for disambiguating complex relationships. The instruction is followed by considering the specified entities (Ricardo Lumengo, Swiss, Fribourg, Biel/Bienne, Bern, Kongo language) and extracting relevant triples with semantic equivalences. \n",
      "\n",
      "Return list of all extracted triples:\n",
      "\n",
      "* (Ricardo Lumengo, nationality, Swiss)\n",
      "* (Ricardo Lumengo, country, Switzerland)\n",
      "* (Ricardo Lumengo, is_a, Swiss politician)\n",
      "* (Ricardo Lumengo, birthplace, Fribourg)\n",
      "* (Ricardo Lumengo, born_in, Fribourg)\n",
      "* (Ricardo Lumengo, place_of_birth, Fribourg)\n",
      "* (Ricardo Lumengo, origin, Fribourg)\n",
      "* (Ricardo Lumengo, residence, Biel/Bienne)\n",
      "* (Ricardo Lumengo, lives_in, Biel/Bienne)\n",
      "* (Ricardo Lumengo, location, Biel/Bienne)\n",
      "* (Ricardo Lumengo, workplace, Bern)\n",
      "* (Ricardo Lumengo, works_in, Bern)\n",
      "* (Ricardo Lumengo, work_location, Bern)\n",
      "* (Ricardo Lumengo, language, Kongo language)\n",
      "* (Ricardo Lumengo, speaks, Kongo language)\n",
      "* (Ricardo Lumengo, native_language, Kongo language) \n",
      "\n",
      "\n",
      "Agent ID: uri_detection_agent\n",
      "Instruction: Ricardo Lumengo[LABEL],Ricardo Lumengo[DESCR],Swiss[LABEL],Swiss[DESCR],Fribourg[LABEL],Fribourg[DESCR],Biel/Bienne[LABEL],Biel/Bienne[DESCR],Bern[LABEL],Bern[DESCR],Kongo language[LABEL],Kongo language[DESCR]\n",
      "Result: Output of uri_detection_agent: After analyzing the responses from the URI detection tool, I've compiled the following mapping of search terms to URIs:\n",
      "\n",
      "* Ricardo Lumengo: http://www.wikidata.org/entity/Q677663 (note: this URI is found in the first response for Ricardo Lumengo, which seems to be the most relevant one)\n",
      "* Swiss: http://www.wikidata.org/entity/Q39 (this URI is consistently found in responses related to Switzerland)\n",
      "* Fribourg: http://www.wikidata.org/entity/Q36378 (this URI is found in multiple responses related to Fribourg)\n",
      "* Biel/Bienne: http://www.wikidata.org/entity/Q1034 (this URI is found in multiple responses related to Biel/Bienne, although it's also mentioned as a town in the canton of Bern)\n",
      "* Bern: http://www.wikidata.org/entity/Q70 (this URI is consistently found in responses related to Bern)\n",
      "* Kongo language: http://www.wikidata.org/entity/Q33702 (this URI is found in multiple responses related to the Kongo language)\n",
      "\n",
      "However, I noticed that some responses contain URIs that seem unrelated to the search term. For example, the responses for Ricardo Lumengo contain URIs related to constellations, which don't seem relevant to the context. Similarly, some responses for Biel/Bienne and Bern contain URIs related to other cities or countries.\n",
      "\n",
      "It's possible that these unrelated URIs are due to the tool's algorithm or the data in the knowledge graph. If you're concerned about the accuracy of these mappings, I would advise that some search terms (e.g. \"Ricardo Lumengo\" with constellations) might not be present in the knowledge graph or might be too ambiguous, leading to incorrect mappings.\n",
      "\n",
      "Here is the final mapping in a concise format:\n",
      "\n",
      "```\n",
      "{\n",
      "  \"Ricardo Lumengo\": \"http://www.wikidata.org/entity/Q677663\",\n",
      "  \"Swiss\": \"http://www.wikidata.org/entity/Q39\",\n",
      "  \"Fribourg\": \"http://www.wikidata.org/entity/Q36378\",\n",
      "  \"Biel/Bienne\": \"http://www.wikidata.org/entity/Q1034\",\n",
      "  \"Bern\": \"http://www.wikidata.org/entity/Q70\",\n",
      "  \"Kongo language\": \"http://www.wikidata.org/entity/Q33702\"\n",
      "}\n",
      "```\n",
      "\n",
      "\n",
      "Agent ID: result_formatting_agent\n",
      "Instruction: \n",
      "Result: \n",
      "\n",
      "\n",
      "Agent Comments:\n",
      "\n",
      "-- Planner Agent --\n",
      "**Full Plan:**\n",
      "1. Extract entities from the input text using the Entity Extraction Agent.\n",
      "2. Disambiguate entities and extract types if necessary.\n",
      "3. Extract relations from the text using the Relation Extraction Agent.\n",
      "4. Disambiguate relations if necessary.\n",
      "5. Use the URI Detection Agent to determine associated entities and relations in the Knowledge Graph.\n",
      "6. Format the results into triples using the Result Formatting Agent.\n",
      "\n",
      "**Next Step:**\n",
      "Call the Entity Extraction Agent to extract entities from the input text.\n",
      "\n",
      "**Reasoning:**\n",
      "The first step is to identify the entities in the text, which will serve as the foundation for the subsequent steps. The Entity Extraction Agent is specifically designed for this task and can handle disambiguation and type extraction if needed, ensuring accurate entity identification.\n",
      "\n",
      "-- Result Checker Agent --\n",
      "The Entity Extraction Agent has extracted relevant entities, but to ensure accurate relation extraction, it's essential to call the Relation Extraction Agent next to identify the relationships between these entities, such as \"born in,\" \"lives in,\" and \"works in.\" Additionally, consider providing instructions to the Relation Extraction Agent to disambiguate any potentially complex relationships. The input to the Relation Extraction Agent should include the extracted entities to facilitate contextual understanding.\n",
      "\n",
      "-- Planner Agent --\n",
      "**Feedback Review:** The Result Checker Agent recommends calling the Relation Extraction Agent next to identify relationships between the extracted entities and to disambiguate complex relationships. The input to the Relation Extraction Agent should include the extracted entities for contextual understanding.\n",
      "\n",
      "**Next Step:** Call the Relation Extraction Agent with the extracted entities (Ricardo Lumengo, Swiss, Fribourg, Biel/Bienne, Bern, Kongo) to extract relations from the text, including instructions for disambiguation.\n",
      "\n",
      "**Reasoning:** With the entities identified, the focus shifts to extracting the relationships between them, which is crucial for forming triples. The Relation Extraction Agent, with its ability to disambiguate, is best suited for this task, ensuring accurate identification of relations like \"born in,\" \"lives in,\" and \"works in.\"\n",
      "\n",
      "-- Result Checker Agent --\n",
      "To further improve the extraction and ensure comprehensive triplets, consider calling the URI Detection Agent to determine associated entities and relations in the Knowledge Graph for the extracted entities and relations. This will help in validating the accuracy of the extracted information and in providing a solid foundation for the final triples. Additionally, the URI Detection Agent can help in identifying any potential gaps or overlaps in the extracted data.\n",
      "\n",
      "-- Planner Agent --\n",
      "**Feedback Review:** The Result Checker Agent recommends calling the URI Detection Agent to determine associated entities and relations in the Knowledge Graph for the extracted entities and relations. This will help in validating the accuracy of the extracted information and in providing a solid foundation for the final triples.\n",
      "\n",
      "**Next Step:** Call the URI Detection Agent with the extracted entities (Ricardo Lumengo, Swiss, Fribourg, Biel/Bienne, Bern, Kongo) and relations to determine associated entities and relations in the Knowledge Graph.\n",
      "\n",
      "**Reasoning:** With the entities and relations identified, the focus shifts to validating their accuracy and identifying potential gaps or overlaps in the extracted data. The URI Detection Agent is best suited for this task, ensuring a comprehensive and accurate foundation for the final triples.\n",
      "\n",
      "-- Result Checker Agent --\n",
      "To further improve the extraction and ensure comprehensive triplets, call the Entity Extraction Agent again to re-examine the text for any additional entities that might have been overlooked, focusing on extracting types if necessary. This step can help validate the existing entities and potentially identify new ones that were not captured in the initial extraction. Additionally, consider providing instructions to disambiguate entities if needed.\n",
      "\n",
      "-- Planner Agent --\n",
      "**Feedback Review:** The Result Checker Agent recommends re-examining the text for any additional entities that might have been overlooked, focusing on extracting types if necessary, and providing instructions to disambiguate entities if needed.\n",
      "\n",
      "**Next Step:** Call the Entity Extraction Agent again with the instruction to re-examine the text for any additional entities, focusing on extracting types if necessary, and providing instructions to disambiguate entities if needed.\n",
      "\n",
      "**Reasoning:** The aim is to validate the existing entities and potentially identify new ones that were not captured in the initial extraction, ensuring a comprehensive set of entities for the final triples. The Entity Extraction Agent's ability to extract types and disambiguate entities will refine the entity set, preparing it for the final step of formatting the results into triples.\n",
      "\n",
      "-- Result Checker Agent --\n",
      "To further refine the extraction and ensure comprehensive triplets, consider calling the Relation Extraction Agent again, providing the updated entity list and focusing on capturing any subtle relationships that might have been missed, especially considering the disambiguation instructions provided by the Entity Extraction Agent. This step could help in identifying more nuanced or implicit relationships within the text. Additionally, ensure that the input to the Relation Extraction Agent includes the latest understanding of entities and their types to facilitate a more accurate extraction of relations.\n",
      "\n",
      "-- Planner Agent --\n",
      "**Feedback Review:** The Result Checker Agent recommends calling the Relation Extraction Agent again, providing the updated entity list and focusing on capturing any subtle relationships that might have been missed, especially considering the disambiguation instructions provided by the Entity Extraction Agent.\n",
      "\n",
      "**Next Step:** Call the Relation Extraction Agent with the updated entity list (Ricardo Lumengo, Swiss, Fribourg, Biel/Bienne, Bern, Kongo language) to extract relations from the text, including instructions for disambiguation, and consider the semantic equivalences that can represent the same relationship under different predicate names.\n",
      "\n",
      "**Reasoning:** With the updated entity list and the previous extraction of relations, the focus shifts to refining the extraction of relationships between entities, ensuring that subtle or implicit relationships within the text are identified, and that the disambiguation instructions are applied to ensure accuracy and comprehensiveness of the extracted relations.\n",
      "\n",
      "-- Result Checker Agent --\n",
      "To further refine the extraction and ensure comprehensive triplets, consider calling the URI Detection Agent again with the updated list of entities and relations to validate their accuracy and identify any potential gaps or overlaps in the extracted data. Additionally, ensure that the input to the URI Detection Agent includes the latest understanding of entities, their types, and the extracted relations to facilitate a more accurate mapping to the Knowledge Graph.\n",
      "\n",
      "-- Planner Agent --\n",
      "**Feedback Review:** \n",
      "The Result Checker Agent recommends calling the URI Detection Agent again with the updated list of entities and relations to validate their accuracy and identify any potential gaps or overlaps in the extracted data.\n",
      "\n",
      "**Next Step:** \n",
      "Call the URI Detection Agent with the updated entity list (Ricardo Lumengo, Swiss, Fribourg, Biel/Bienne, Bern, Kongo language) and the extracted relations to determine associated entities and relations in the Knowledge Graph, ensuring that the input includes the latest understanding of entities, their types, and the extracted relations.\n",
      "\n",
      "**Reasoning:** \n",
      "With the refined entity list and extracted relations, the focus shifts to re-validating their accuracy and ensuring a comprehensive mapping to the Knowledge Graph. The URI Detection Agent will help in identifying any potential gaps or overlaps in the extracted data, providing a solid foundation for the final triples.\n",
      "\n",
      "-- Result Checker Agent --\n",
      "To further refine the extraction and ensure comprehensive triplets, call the Result Formatting Agent to summarize the results and output the final triples, as all entities and relations have been thoroughly extracted and validated.\n",
      "\n",
      "-- Planner Agent --\n",
      "**Feedback Review:** The Result Checker Agent recommends calling the Result Formatting Agent to summarize the results and output the final triples, as all entities and relations have been thoroughly extracted and validated.\n",
      "\n",
      "**Next Step:** Call the Result Formatting Agent with the extracted entities, relations, and URIs to summarize the results and output the final triples.\n",
      "\n",
      "**Reasoning:** With the entities and relations thoroughly extracted and validated, the focus shifts to formatting the results into the desired triple format. The Result Formatting Agent is best suited for this task, ensuring that the final output is accurate and comprehensive. The input to the Result Formatting Agent will include the extracted entities (Ricardo Lumengo, Swiss, Fribourg, Biel/Bienne, Bern, Kongo language), relations (nationality, birthplace, residence, workplace, language), and URIs (http://www.wikidata.org/entity/Q677663, http://www.wikidata.org/entity/Q39, http://www.wikidata.org/entity/Q36378, http://www.wikidata.org/entity/Q1034, http://www.wikidata.org/entity/Q70, http://www.wikidata.org/entity/Q33702) to produce the final triples.\n"
     ]
    }
   ],
   "execution_count": 6
  },
  {
   "metadata": {},
   "cell_type": "markdown",
   "source": "# Evaluation",
   "id": "f8df3e536fff8210"
  },
  {
   "metadata": {
    "ExecuteTime": {
     "end_time": "2025-03-19T08:05:16.743928Z",
     "start_time": "2025-03-19T08:05:16.739296Z"
    }
   },
   "cell_type": "code",
   "source": [
    "def get_uri_labels(df): \n",
    "    subjects = []\n",
    "    predicates = []\n",
    "    objects = []\n",
    "    for i, row in df.iterrows():\n",
    "        try:\n",
    "            subjects.append(entity_set[entity_set[\"entity_uri\"] == row[\"subject_uri\"]][\"entity\"].values[0])\n",
    "        except IndexError:\n",
    "            subjects.append(\"Unknown\")\n",
    "        try:\n",
    "            predicates.append(predicate_set_df[predicate_set_df[\"predicate_uri\"] == row[\"predicate_uri\"]][\"predicate\"].values[0])\n",
    "        except IndexError:\n",
    "            predicates.append(\"Unknown\")\n",
    "        if row[\"object_uri\"] is not None and \"^^\" in row[\"object_uri\"]:\n",
    "            objects.append(row[\"object_uri\"])\n",
    "        else:\n",
    "            try:\n",
    "                objects.append(entity_set[entity_set[\"entity_uri\"] == row[\"object_uri\"]][\"entity\"].values[0])\n",
    "            except IndexError:\n",
    "                objects.append(\"Unknown\")\n",
    "    return pd.concat([df.reset_index(drop=True), pd.DataFrame({\"subject\": subjects, \"predicate\": predicates, \"object\": objects})], axis=1)"
   ],
   "id": "aeeee3f98c33d20d",
   "outputs": [],
   "execution_count": 11
  },
  {
   "metadata": {
    "ExecuteTime": {
     "end_time": "2025-03-19T08:05:17.287783Z",
     "start_time": "2025-03-19T08:05:17.282572Z"
    }
   },
   "cell_type": "code",
   "source": [
    "import pandas as pd\n",
    "from rdflib import Graph, URIRef\n",
    "\n",
    "# Load the Turtle file into an RDF graph\n",
    "result_graph = Graph()\n",
    "result_graph.parse(data=response_state[\"results\"][-1], format=\"turtle\")\n",
    "\n",
    "# Extract triples and convert to a DataFrame\n",
    "data = []\n",
    "namespace_manager = result_graph.namespace_manager  # Namespace manager for prefix resolution\n",
    "\n",
    "final_result = []\n",
    "for subj, pred, obj in result_graph:\n",
    "    final_result.append([str(subj), str(pred), str(obj)])\n",
    "    \n",
    "pred_relation_df = pd.DataFrame(final_result, columns=[\"subject_uri\", \"predicate_uri\", \"object_uri\"]).drop_duplicates()\n",
    "doc_relation_df = relation_df[relation_df[\"docid\"] == doc_id][[\"subject_uri\", \"predicate_uri\", \"object_uri\"]]\n",
    "correct_relation_df = pred_relation_df.merge(doc_relation_df[[\"subject_uri\", \"predicate_uri\", \"object_uri\"]], on=[\"subject_uri\", \"predicate_uri\", \"object_uri\"], how=\"inner\")"
   ],
   "id": "78489304aabd4bbb",
   "outputs": [],
   "execution_count": 12
  },
  {
   "metadata": {
    "ExecuteTime": {
     "end_time": "2025-03-19T08:05:18.699523Z",
     "start_time": "2025-03-19T08:05:18.688893Z"
    }
   },
   "cell_type": "code",
   "source": "get_uri_labels(pred_relation_df)",
   "id": "7b0699109b149243",
   "outputs": [
    {
     "data": {
      "text/plain": [
       "Empty DataFrame\n",
       "Columns: [subject_uri, predicate_uri, object_uri, subject, predicate, object]\n",
       "Index: []"
      ],
      "text/html": [
       "<div>\n",
       "<style scoped>\n",
       "    .dataframe tbody tr th:only-of-type {\n",
       "        vertical-align: middle;\n",
       "    }\n",
       "\n",
       "    .dataframe tbody tr th {\n",
       "        vertical-align: top;\n",
       "    }\n",
       "\n",
       "    .dataframe thead th {\n",
       "        text-align: right;\n",
       "    }\n",
       "</style>\n",
       "<table border=\"1\" class=\"dataframe\">\n",
       "  <thead>\n",
       "    <tr style=\"text-align: right;\">\n",
       "      <th></th>\n",
       "      <th>subject_uri</th>\n",
       "      <th>predicate_uri</th>\n",
       "      <th>object_uri</th>\n",
       "      <th>subject</th>\n",
       "      <th>predicate</th>\n",
       "      <th>object</th>\n",
       "    </tr>\n",
       "  </thead>\n",
       "  <tbody>\n",
       "  </tbody>\n",
       "</table>\n",
       "</div>"
      ]
     },
     "execution_count": 13,
     "metadata": {},
     "output_type": "execute_result"
    }
   ],
   "execution_count": 13
  },
  {
   "metadata": {
    "ExecuteTime": {
     "end_time": "2025-03-19T08:05:08.739018Z",
     "start_time": "2025-03-19T08:05:08.729768Z"
    }
   },
   "cell_type": "code",
   "source": "get_uri_labels(doc_relation_df)",
   "id": "7bed734f9cb38a8b",
   "outputs": [
    {
     "data": {
      "text/plain": [
       "                              subject_uri  \\\n",
       "0  http://www.wikidata.org/entity/Q677663   \n",
       "1  http://www.wikidata.org/entity/Q677663   \n",
       "2  http://www.wikidata.org/entity/Q677663   \n",
       "3  http://www.wikidata.org/entity/Q677663   \n",
       "4  http://www.wikidata.org/entity/Q677663   \n",
       "\n",
       "                          predicate_uri  \\\n",
       "0  http://www.wikidata.org/entity/P1321   \n",
       "1    http://www.wikidata.org/entity/P27   \n",
       "2   http://www.wikidata.org/entity/P551   \n",
       "3   http://www.wikidata.org/entity/P937   \n",
       "4  http://www.wikidata.org/entity/P1412   \n",
       "\n",
       "                              object_uri          subject  \\\n",
       "0  http://www.wikidata.org/entity/Q36378  Ricardo_Lumengo   \n",
       "1     http://www.wikidata.org/entity/Q39  Ricardo_Lumengo   \n",
       "2   http://www.wikidata.org/entity/Q1034  Ricardo_Lumengo   \n",
       "3     http://www.wikidata.org/entity/Q70  Ricardo_Lumengo   \n",
       "4  http://www.wikidata.org/entity/Q33702  Ricardo_Lumengo   \n",
       "\n",
       "                             predicate          object  \n",
       "0        place of origin (Switzerland)        Fribourg  \n",
       "1               country of citizenship     Switzerland  \n",
       "2                            residence     Biel/Bienne  \n",
       "3                        work location            Bern  \n",
       "4  languages spoken, written or signed  Kongo_language  "
      ],
      "text/html": [
       "<div>\n",
       "<style scoped>\n",
       "    .dataframe tbody tr th:only-of-type {\n",
       "        vertical-align: middle;\n",
       "    }\n",
       "\n",
       "    .dataframe tbody tr th {\n",
       "        vertical-align: top;\n",
       "    }\n",
       "\n",
       "    .dataframe thead th {\n",
       "        text-align: right;\n",
       "    }\n",
       "</style>\n",
       "<table border=\"1\" class=\"dataframe\">\n",
       "  <thead>\n",
       "    <tr style=\"text-align: right;\">\n",
       "      <th></th>\n",
       "      <th>subject_uri</th>\n",
       "      <th>predicate_uri</th>\n",
       "      <th>object_uri</th>\n",
       "      <th>subject</th>\n",
       "      <th>predicate</th>\n",
       "      <th>object</th>\n",
       "    </tr>\n",
       "  </thead>\n",
       "  <tbody>\n",
       "    <tr>\n",
       "      <th>0</th>\n",
       "      <td>http://www.wikidata.org/entity/Q677663</td>\n",
       "      <td>http://www.wikidata.org/entity/P1321</td>\n",
       "      <td>http://www.wikidata.org/entity/Q36378</td>\n",
       "      <td>Ricardo_Lumengo</td>\n",
       "      <td>place of origin (Switzerland)</td>\n",
       "      <td>Fribourg</td>\n",
       "    </tr>\n",
       "    <tr>\n",
       "      <th>1</th>\n",
       "      <td>http://www.wikidata.org/entity/Q677663</td>\n",
       "      <td>http://www.wikidata.org/entity/P27</td>\n",
       "      <td>http://www.wikidata.org/entity/Q39</td>\n",
       "      <td>Ricardo_Lumengo</td>\n",
       "      <td>country of citizenship</td>\n",
       "      <td>Switzerland</td>\n",
       "    </tr>\n",
       "    <tr>\n",
       "      <th>2</th>\n",
       "      <td>http://www.wikidata.org/entity/Q677663</td>\n",
       "      <td>http://www.wikidata.org/entity/P551</td>\n",
       "      <td>http://www.wikidata.org/entity/Q1034</td>\n",
       "      <td>Ricardo_Lumengo</td>\n",
       "      <td>residence</td>\n",
       "      <td>Biel/Bienne</td>\n",
       "    </tr>\n",
       "    <tr>\n",
       "      <th>3</th>\n",
       "      <td>http://www.wikidata.org/entity/Q677663</td>\n",
       "      <td>http://www.wikidata.org/entity/P937</td>\n",
       "      <td>http://www.wikidata.org/entity/Q70</td>\n",
       "      <td>Ricardo_Lumengo</td>\n",
       "      <td>work location</td>\n",
       "      <td>Bern</td>\n",
       "    </tr>\n",
       "    <tr>\n",
       "      <th>4</th>\n",
       "      <td>http://www.wikidata.org/entity/Q677663</td>\n",
       "      <td>http://www.wikidata.org/entity/P1412</td>\n",
       "      <td>http://www.wikidata.org/entity/Q33702</td>\n",
       "      <td>Ricardo_Lumengo</td>\n",
       "      <td>languages spoken, written or signed</td>\n",
       "      <td>Kongo_language</td>\n",
       "    </tr>\n",
       "  </tbody>\n",
       "</table>\n",
       "</div>"
      ]
     },
     "execution_count": 10,
     "metadata": {},
     "output_type": "execute_result"
    }
   ],
   "execution_count": 10
  },
  {
   "metadata": {
    "ExecuteTime": {
     "end_time": "2025-03-19T07:36:36.228092Z",
     "start_time": "2025-03-19T07:36:36.210039Z"
    }
   },
   "cell_type": "code",
   "source": "get_uri_labels(correct_relation_df)",
   "id": "7dff500fcad25db",
   "outputs": [
    {
     "data": {
      "text/plain": [
       "                              subject_uri  \\\n",
       "0  http://www.wikidata.org/entity/Q287961   \n",
       "\n",
       "                         predicate_uri  \\\n",
       "0  http://www.wikidata.org/entity/P682   \n",
       "\n",
       "                                object_uri                     subject  \\\n",
       "0  http://www.wikidata.org/entity/Q4941581  Beta-2_adrenergic_receptor   \n",
       "\n",
       "            predicate           object  \n",
       "0  biological process  Bone_resorption  "
      ],
      "text/html": [
       "<div>\n",
       "<style scoped>\n",
       "    .dataframe tbody tr th:only-of-type {\n",
       "        vertical-align: middle;\n",
       "    }\n",
       "\n",
       "    .dataframe tbody tr th {\n",
       "        vertical-align: top;\n",
       "    }\n",
       "\n",
       "    .dataframe thead th {\n",
       "        text-align: right;\n",
       "    }\n",
       "</style>\n",
       "<table border=\"1\" class=\"dataframe\">\n",
       "  <thead>\n",
       "    <tr style=\"text-align: right;\">\n",
       "      <th></th>\n",
       "      <th>subject_uri</th>\n",
       "      <th>predicate_uri</th>\n",
       "      <th>object_uri</th>\n",
       "      <th>subject</th>\n",
       "      <th>predicate</th>\n",
       "      <th>object</th>\n",
       "    </tr>\n",
       "  </thead>\n",
       "  <tbody>\n",
       "    <tr>\n",
       "      <th>0</th>\n",
       "      <td>http://www.wikidata.org/entity/Q287961</td>\n",
       "      <td>http://www.wikidata.org/entity/P682</td>\n",
       "      <td>http://www.wikidata.org/entity/Q4941581</td>\n",
       "      <td>Beta-2_adrenergic_receptor</td>\n",
       "      <td>biological process</td>\n",
       "      <td>Bone_resorption</td>\n",
       "    </tr>\n",
       "  </tbody>\n",
       "</table>\n",
       "</div>"
      ]
     },
     "execution_count": 34,
     "metadata": {},
     "output_type": "execute_result"
    }
   ],
   "execution_count": 34
  },
  {
   "metadata": {
    "ExecuteTime": {
     "end_time": "2025-03-19T07:36:50.020427Z",
     "start_time": "2025-03-19T07:36:50.012583Z"
    }
   },
   "cell_type": "code",
   "source": [
    "def evaluate(pred_relation_df, doc_id, verbose=False):\n",
    "    doc_relation_df = relation_df[relation_df[\"docid\"] == doc_id][[\"subject_uri\", \"predicate_uri\", \"object_uri\"]]\n",
    "    correct_relation_df = pred_relation_df.merge(doc_relation_df[[\"subject_uri\", \"predicate_uri\", \"object_uri\"]], on=[\"subject_uri\", \"predicate_uri\", \"object_uri\"], how=\"inner\")\n",
    "    precision = len(correct_relation_df) / len(pred_relation_df)\n",
    "    recall = len(correct_relation_df) / len(doc_relation_df)\n",
    "    if precision + recall == 0:\n",
    "        f1_score = 0\n",
    "    else:\n",
    "        f1_score = 2 * (precision * recall) / (precision + recall)\n",
    "    \n",
    "    if verbose:\n",
    "        print(f\"Precision: {precision}\")\n",
    "        print(f\"Recall: {recall}\")\n",
    "        print(f\"F1: {f1_score}\")\n",
    "        \n",
    "    return precision, recall, f1_score"
   ],
   "id": "a812ca1c67908e1e",
   "outputs": [],
   "execution_count": 35
  },
  {
   "metadata": {
    "ExecuteTime": {
     "end_time": "2025-03-19T07:36:50.170989Z",
     "start_time": "2025-03-19T07:36:50.165183Z"
    }
   },
   "cell_type": "code",
   "source": "evaluate(pred_relation_df, doc_id, verbose=True)",
   "id": "738ea19b2d3c9e6",
   "outputs": [
    {
     "name": "stdout",
     "output_type": "stream",
     "text": [
      "Precision: 0.2\n",
      "Recall: 0.3333333333333333\n",
      "F1: 0.25\n"
     ]
    },
    {
     "data": {
      "text/plain": [
       "(0.2, 0.3333333333333333, 0.25)"
      ]
     },
     "execution_count": 36,
     "metadata": {},
     "output_type": "execute_result"
    }
   ],
   "execution_count": 36
  },
  {
   "metadata": {},
   "cell_type": "code",
   "outputs": [],
   "execution_count": null,
   "source": "",
   "id": "5130c64b298b5fbc"
  }
 ],
 "metadata": {
  "kernelspec": {
   "display_name": "Python 3",
   "language": "python",
   "name": "python3"
  },
  "language_info": {
   "codemirror_mode": {
    "name": "ipython",
    "version": 2
   },
   "file_extension": ".py",
   "mimetype": "text/x-python",
   "name": "python",
   "nbconvert_exporter": "python",
   "pygments_lexer": "ipython2",
   "version": "2.7.6"
  }
 },
 "nbformat": 4,
 "nbformat_minor": 5
}
