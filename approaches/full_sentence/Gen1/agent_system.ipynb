{
 "cells": [
  {
   "metadata": {},
   "cell_type": "markdown",
   "source": "# Setup",
   "id": "d180eaa2091349c8"
  },
  {
   "cell_type": "code",
   "id": "initial_id",
   "metadata": {
    "collapsed": true,
    "ExecuteTime": {
     "end_time": "2025-03-19T07:26:52.837283Z",
     "start_time": "2025-03-19T07:26:43.640204Z"
    }
   },
   "source": [
    "import helper_tools.parser as parser\n",
    "import importlib\n",
    "import pandas as pd\n",
    "\n",
    "importlib.reload(parser)\n",
    "\n",
    "relation_df, entity_df, docs = parser.synthie_parser(\"train\")\n",
    "entity_set = entity_df[['entity', 'entity_uri']].drop_duplicates()\n",
    "predicate_set_df = relation_df[[\"predicate\", \"predicate_uri\"]].drop_duplicates()"
   ],
   "outputs": [
    {
     "data": {
      "text/plain": [
       "Fetching 27 files:   0%|          | 0/27 [00:00<?, ?it/s]"
      ],
      "application/vnd.jupyter.widget-view+json": {
       "version_major": 2,
       "version_minor": 0,
       "model_id": "4f6f3445660b4858b174ae2c7e4f40fb"
      }
     },
     "metadata": {},
     "output_type": "display_data"
    },
    {
     "name": "stderr",
     "output_type": "stream",
     "text": [
      "100%|██████████| 10/10 [00:00<00:00, 2576.67it/s]\n"
     ]
    },
    {
     "name": "stdout",
     "output_type": "stream",
     "text": [
      "Uploading Entities to Qdrant.\n"
     ]
    },
    {
     "name": "stderr",
     "output_type": "stream",
     "text": [
      "100%|██████████| 46/46 [00:05<00:00,  7.79it/s]\n"
     ]
    },
    {
     "name": "stdout",
     "output_type": "stream",
     "text": [
      "Uploading Predicates to Qdrant.\n"
     ]
    },
    {
     "name": "stderr",
     "output_type": "stream",
     "text": [
      "100%|██████████| 29/29 [00:02<00:00, 10.24it/s]\n"
     ]
    }
   ],
   "execution_count": 8
  },
  {
   "metadata": {
    "ExecuteTime": {
     "end_time": "2025-03-19T07:26:54.189681Z",
     "start_time": "2025-03-19T07:26:53.315475Z"
    }
   },
   "cell_type": "code",
   "source": [
    "from langfuse.callback import CallbackHandler\n",
    "from dotenv import load_dotenv\n",
    "import os\n",
    "\n",
    "load_dotenv()\n",
    "langfuse_handler = CallbackHandler(\n",
    "    secret_key=os.getenv(\"LANGFUSE_SECRET_KEY\"),\n",
    "    public_key=os.getenv(\"LANGFUSE_PUBLIC_KEY\"),\n",
    "    host=os.getenv(\"LANGFUSE_HOST\"),\n",
    ")"
   ],
   "id": "6d357659da5e4afd",
   "outputs": [],
   "execution_count": 9
  },
  {
   "metadata": {
    "ExecuteTime": {
     "end_time": "2025-03-19T07:35:28.767865Z",
     "start_time": "2025-03-19T07:35:28.748452Z"
    }
   },
   "cell_type": "code",
   "source": [
    "target_doc = docs.iloc[5]\n",
    "doc_id = target_doc[\"docid\"]\n",
    "text = target_doc[\"text\"]\n",
    "text"
   ],
   "id": "2528cff98f514fda",
   "outputs": [
    {
     "data": {
      "text/plain": [
       "'Beta2-adrenergic agonists are agonists of the beta-2 adrenergic receptor, which is found in early modern humans and is involved in bone resorption.'"
      ]
     },
     "execution_count": 26,
     "metadata": {},
     "output_type": "execute_result"
    }
   ],
   "execution_count": 26
  },
  {
   "metadata": {
    "ExecuteTime": {
     "end_time": "2025-03-19T07:35:35.956364Z",
     "start_time": "2025-03-19T07:35:35.944043Z"
    }
   },
   "cell_type": "code",
   "source": [
    "from langgraph.graph import StateGraph, START, END\n",
    "from approaches.full_sentence.Gen1.setup import cIEState\n",
    "from approaches.full_sentence.Gen1.agents.agent_instructor import agent as agent_instructor_agent\n",
    "from approaches.full_sentence.Gen1.agents.entity_extractor import agent as entity_extraction_agent\n",
    "from approaches.full_sentence.Gen1.agents.relation_extractor import agent as relation_extraction_agent\n",
    "from approaches.full_sentence.Gen1.agents.uri_detector import agent as uri_detection_agent\n",
    "from approaches.full_sentence.Gen1.agents.result_checker import agent as result_checker_agent\n",
    "from approaches.full_sentence.Gen1.agents.result_formatter import agent as result_formatting_agent\n",
    "from approaches.full_sentence.Gen1.agents.planner import agent as planner\n",
    "\n",
    "builder = StateGraph(cIEState)\n",
    "builder.add_node(\"planner\", planner)\n",
    "builder.add_node(\"agent_instructor_agent\",agent_instructor_agent)\n",
    "builder.add_node(\"entity_extraction_agent\", entity_extraction_agent)\n",
    "builder.add_node(\"relation_extraction_agent\",relation_extraction_agent)\n",
    "builder.add_node(\"uri_detection_agent\",uri_detection_agent)\n",
    "builder.add_node(\"result_checker_agent\",result_checker_agent)\n",
    "builder.add_node(\"result_formatting_agent\",result_formatting_agent)\n",
    "\n",
    "builder.add_edge(START, \"planner\")\n",
    "\n",
    "graph = builder.compile()"
   ],
   "id": "41fa1adc21242777",
   "outputs": [],
   "execution_count": 28
  },
  {
   "metadata": {
    "ExecuteTime": {
     "end_time": "2025-03-19T07:35:59.260649Z",
     "start_time": "2025-03-19T07:35:36.608708Z"
    }
   },
   "cell_type": "code",
   "source": "response_state = graph.invoke({\"text\": text, \"results\": [], \"call_trace\": [], \"comments\": [], \"debug\": False}, config={\"callbacks\": [langfuse_handler]})",
   "id": "a4c4f50fe945aab7",
   "outputs": [
    {
     "name": "stderr",
     "output_type": "stream",
     "text": [
      "/Users/i538914/Documents/Uni/Masterarbeit/CIExMAS/.pyvenv311/lib/python3.11/site-packages/pydantic/main.py:390: UserWarning: Pydantic serializer warnings:\n",
      "  Expected `int` but got `float` with value `1742369741.4696937` - serialized value may not be as expected\n",
      "  return self.__pydantic_serializer__.to_python(\n",
      "/Users/i538914/Documents/Uni/Masterarbeit/CIExMAS/.pyvenv311/lib/python3.11/site-packages/pydantic/main.py:390: UserWarning: Pydantic serializer warnings:\n",
      "  Expected `int` but got `float` with value `1742369742.1808693` - serialized value may not be as expected\n",
      "  return self.__pydantic_serializer__.to_python(\n",
      "/Users/i538914/Documents/Uni/Masterarbeit/CIExMAS/.pyvenv311/lib/python3.11/site-packages/pydantic/main.py:390: UserWarning: Pydantic serializer warnings:\n",
      "  Expected `int` but got `float` with value `1742369742.8804078` - serialized value may not be as expected\n",
      "  return self.__pydantic_serializer__.to_python(\n",
      "/Users/i538914/Documents/Uni/Masterarbeit/CIExMAS/.pyvenv311/lib/python3.11/site-packages/pydantic/main.py:390: UserWarning: Pydantic serializer warnings:\n",
      "  Expected `int` but got `float` with value `1742369743.7012672` - serialized value may not be as expected\n",
      "  return self.__pydantic_serializer__.to_python(\n",
      "/Users/i538914/Documents/Uni/Masterarbeit/CIExMAS/.pyvenv311/lib/python3.11/site-packages/pydantic/main.py:390: UserWarning: Pydantic serializer warnings:\n",
      "  Expected `int` but got `float` with value `1742369744.58361` - serialized value may not be as expected\n",
      "  return self.__pydantic_serializer__.to_python(\n",
      "/Users/i538914/Documents/Uni/Masterarbeit/CIExMAS/.pyvenv311/lib/python3.11/site-packages/pydantic/main.py:390: UserWarning: Pydantic serializer warnings:\n",
      "  Expected `int` but got `float` with value `1742369745.972598` - serialized value may not be as expected\n",
      "  return self.__pydantic_serializer__.to_python(\n",
      "/Users/i538914/Documents/Uni/Masterarbeit/CIExMAS/.pyvenv311/lib/python3.11/site-packages/pydantic/main.py:390: UserWarning: Pydantic serializer warnings:\n",
      "  Expected `int` but got `float` with value `1742369747.3394923` - serialized value may not be as expected\n",
      "  return self.__pydantic_serializer__.to_python(\n",
      "/Users/i538914/Documents/Uni/Masterarbeit/CIExMAS/.pyvenv311/lib/python3.11/site-packages/pydantic/main.py:390: UserWarning: Pydantic serializer warnings:\n",
      "  Expected `int` but got `float` with value `1742369748.147033` - serialized value may not be as expected\n",
      "  return self.__pydantic_serializer__.to_python(\n",
      "/Users/i538914/Documents/Uni/Masterarbeit/CIExMAS/.pyvenv311/lib/python3.11/site-packages/pydantic/main.py:390: UserWarning: Pydantic serializer warnings:\n",
      "  Expected `int` but got `float` with value `1742369748.9858582` - serialized value may not be as expected\n",
      "  return self.__pydantic_serializer__.to_python(\n",
      "/Users/i538914/Documents/Uni/Masterarbeit/CIExMAS/.pyvenv311/lib/python3.11/site-packages/pydantic/main.py:390: UserWarning: Pydantic serializer warnings:\n",
      "  Expected `int` but got `float` with value `1742369749.9307895` - serialized value may not be as expected\n",
      "  return self.__pydantic_serializer__.to_python(\n",
      "/Users/i538914/Documents/Uni/Masterarbeit/CIExMAS/.pyvenv311/lib/python3.11/site-packages/pydantic/main.py:390: UserWarning: Pydantic serializer warnings:\n",
      "  Expected `int` but got `float` with value `1742369751.0159807` - serialized value may not be as expected\n",
      "  return self.__pydantic_serializer__.to_python(\n",
      "/Users/i538914/Documents/Uni/Masterarbeit/CIExMAS/.pyvenv311/lib/python3.11/site-packages/pydantic/main.py:390: UserWarning: Pydantic serializer warnings:\n",
      "  Expected `int` but got `float` with value `1742369752.039296` - serialized value may not be as expected\n",
      "  return self.__pydantic_serializer__.to_python(\n",
      "/Users/i538914/Documents/Uni/Masterarbeit/CIExMAS/.pyvenv311/lib/python3.11/site-packages/pydantic/main.py:390: UserWarning: Pydantic serializer warnings:\n",
      "  Expected `int` but got `float` with value `1742369753.3006566` - serialized value may not be as expected\n",
      "  return self.__pydantic_serializer__.to_python(\n",
      "/Users/i538914/Documents/Uni/Masterarbeit/CIExMAS/.pyvenv311/lib/python3.11/site-packages/pydantic/main.py:390: UserWarning: Pydantic serializer warnings:\n",
      "  Expected `int` but got `float` with value `1742369754.7634587` - serialized value may not be as expected\n",
      "  return self.__pydantic_serializer__.to_python(\n",
      "/Users/i538914/Documents/Uni/Masterarbeit/CIExMAS/.pyvenv311/lib/python3.11/site-packages/pydantic/main.py:390: UserWarning: Pydantic serializer warnings:\n",
      "  Expected `int` but got `float` with value `1742369757.0379796` - serialized value may not be as expected\n",
      "  return self.__pydantic_serializer__.to_python(\n",
      "/Users/i538914/Documents/Uni/Masterarbeit/CIExMAS/.pyvenv311/lib/python3.11/site-packages/pydantic/main.py:390: UserWarning: Pydantic serializer warnings:\n",
      "  Expected `int` but got `float` with value `1742369757.9700146` - serialized value may not be as expected\n",
      "  return self.__pydantic_serializer__.to_python(\n",
      "/Users/i538914/Documents/Uni/Masterarbeit/CIExMAS/.pyvenv311/lib/python3.11/site-packages/pydantic/main.py:390: UserWarning: Pydantic serializer warnings:\n",
      "  Expected `int` but got `float` with value `1742369759.1350183` - serialized value may not be as expected\n",
      "  return self.__pydantic_serializer__.to_python(\n",
      "/Users/i538914/Documents/Uni/Masterarbeit/CIExMAS/.pyvenv311/lib/python3.11/site-packages/pydantic/main.py:390: UserWarning: Pydantic serializer warnings:\n",
      "  Expected `int` but got `float` with value `1742369760.3403068` - serialized value may not be as expected\n",
      "  return self.__pydantic_serializer__.to_python(\n",
      "/Users/i538914/Documents/Uni/Masterarbeit/CIExMAS/.pyvenv311/lib/python3.11/site-packages/pydantic/main.py:390: UserWarning: Pydantic serializer warnings:\n",
      "  Expected `int` but got `float` with value `1742369762.748959` - serialized value may not be as expected\n",
      "  return self.__pydantic_serializer__.to_python(\n"
     ]
    }
   ],
   "execution_count": 29
  },
  {
   "metadata": {},
   "cell_type": "markdown",
   "source": "# Pretty Print Response State",
   "id": "9b1a6616dc62b977"
  },
  {
   "metadata": {
    "ExecuteTime": {
     "end_time": "2025-03-19T07:35:59.300880Z",
     "start_time": "2025-03-19T07:35:59.294855Z"
    }
   },
   "cell_type": "code",
   "source": [
    "print(f\"\"\"cIE for text: {response_state[\"text\"]}\n",
    "\n",
    "Results:\"\"\")\n",
    "for i, call in enumerate(response_state[\"call_trace\"]):\n",
    "    print(f\"Agent ID: {call[0]}\")\n",
    "    print(f\"Instruction: {call[1]}\")\n",
    "    print(f\"Result: {response_state['results'][i]}\\n\\n\")\n",
    "    \n",
    "print(\"Agent Comments:\")\n",
    "for comment in response_state[\"comments\"]:\n",
    "    print(comment)"
   ],
   "id": "fd18d19f9fdafd1c",
   "outputs": [
    {
     "name": "stdout",
     "output_type": "stream",
     "text": [
      "cIE for text: Beta2-adrenergic agonists are agonists of the beta-2 adrenergic receptor, which is found in early modern humans and is involved in bone resorption.\n",
      "\n",
      "Results:\n",
      "Agent ID: entity_extraction_agent\n",
      "Instruction: \n",
      "Result: -- Entity Extraction Agent --\n",
      "    \n",
      "Since there is no specific instruction provided by the agent_instructor, I will proceed with extracting entities from the given text.\n",
      "\n",
      "Here is the list of extracted entities:\n",
      "\n",
      "1. Beta2-adrenergic agonists (chemical compound)\n",
      "2. Beta-2 adrenergic receptor (biological receptor)\n",
      "3. Early modern humans (species/historical group)\n",
      "4. Bone (anatomical structure)\n",
      "\n",
      "Please let me know if I should proceed with any further instructions or if the agent_instructor has any additional guidance. \n",
      "\n",
      "\n",
      "Agent ID: entity_extraction_agent\n",
      "Instruction: Disambiguate the extracted entities, especially \"Bone\", and identify their specific types to facilitate accurate mapping to the knowledge graph.\n",
      "Result: -- Entity Extraction Agent --\n",
      "    \n",
      "To extract entities from the provided text and follow the instruction to disambiguate them, especially \"Bone\", and identify their specific types, I will analyze the text as follows:\n",
      "\n",
      "1. **Beta2-adrenergic agonists**: This is a type of chemical compound that acts as an agonist. Specifically, it is a **Pharmacological Substance**.\n",
      "\n",
      "2. **Beta-2 adrenergic receptor**: This is a type of receptor found in the human body. It is a **Biological Receptor**.\n",
      "\n",
      "3. **Early modern humans**: This refers to a stage in human evolution. It is a **Historical/Anthropological Term**.\n",
      "\n",
      "4. **Bone**: This term can be ambiguous as it can refer to the skeletal system or a specific bone in the body. However, in the context of \"bone resorption,\" it refers to the **Anatomical Structure** of bones in general, specifically in relation to the process of bone resorption, which is a **Biological Process**.\n",
      "\n",
      "5. **Bone resorption**: This is a process by which bone tissue is broken down. It is a **Biological Process**.\n",
      "\n",
      "Disambiguated entities with their specific types:\n",
      "\n",
      "- **Beta2-adrenergic agonists** (Pharmacological Substance)\n",
      "- **Beta-2 adrenergic receptor** (Biological Receptor)\n",
      "- **Early modern humans** (Historical/Anthropological Term)\n",
      "- **Bone** (Anatomical Structure)\n",
      "- **Bone resorption** (Biological Process)\n",
      "\n",
      "These entities, with their types, can now be accurately mapped to a knowledge graph, facilitating a clearer understanding of their relationships and roles within the context provided. \n",
      "\n",
      "\n",
      "Agent ID: relation_extraction_agent\n",
      "Instruction: Extract relationships between Beta2-adrenergic agonists, Beta-2 adrenergic receptor, and their impact on bone resorption, considering the disambiguated entities: Beta2-adrenergic agonists (Pharmacological Substance), Beta-2 adrenergic receptor (Biological Receptor), Early modern humans (Historical/Anthropological Term), Bone (Anatomical Structure), and Bone resorption (Biological Process).\n",
      "Result: -- Relation Extraction Agent --\n",
      "    \n",
      "Based on the provided text and instruction, I will extract the relationships between the entities and provide alternative predicates where applicable. Here is the list of extracted triples:\n",
      "\n",
      "1. (Beta2-adrenergic agonists, targets, Beta-2 adrenergic receptor)\n",
      "\t* Alternative predicates: (Beta2-adrenergic agonists, binds to, Beta-2 adrenergic receptor), (Beta2-adrenergic agonists, interacts with, Beta-2 adrenergic receptor)\n",
      "2. (Beta-2 adrenergic receptor, found in, Early modern humans)\n",
      "\t* Alternative predicates: (Beta-2 adrenergic receptor, expressed in, Early modern humans), (Beta-2 adrenergic receptor, present in, Early modern humans)\n",
      "3. (Beta-2 adrenergic receptor, involved in, Bone resorption)\n",
      "\t* Alternative predicates: (Beta-2 adrenergic receptor, regulates, Bone resorption), (Beta-2 adrenergic receptor, affects, Bone resorption)\n",
      "4. (Beta2-adrenergic agonists, affects, Bone resorption)\n",
      "\t* Alternative predicates: (Beta2-adrenergic agonists, influences, Bone resorption), (Beta2-adrenergic agonists, impacts, Bone resorption)\n",
      "5. (Bone resorption, occurs in, Bone)\n",
      "\t* Alternative predicates: (Bone resorption, affects, Bone), (Bone resorption, happens in, Bone)\n",
      "\n",
      "Note that I have considered the disambiguated entities and their types as provided in the instruction to extract the relationships. I have also provided alternative predicates where applicable to account for different names for similar predicates in the underlying knowledge graph. \n",
      "\n",
      "\n",
      "Agent ID: uri_detection_agent\n",
      "Instruction: Bone [LABEL], Bone resorption [DESCR], Beta2-adrenergic agonists [LABEL], Beta-2 adrenergic receptor [LABEL]\n",
      "Result: Output of uri_detection_agent: After analyzing the response from the URI detection tool, I have identified the most relevant mappings between search terms and URIs. Here is the overall mapping:\n",
      "\n",
      "* Bone: http://www.wikidata.org/entity/Q4941581 (Bone resorption)\n",
      "* Beta2-adrenergic agonists: http://www.wikidata.org/entity/Q423482 (Beta2-adrenergic agonist)\n",
      "* Beta-2 adrenergic receptor: http://www.wikidata.org/entity/Q287961 (Beta-2 adrenergic receptor)\n",
      "* Bone resorption: http://www.wikidata.org/entity/Q4941581 (Bone resorption)\n",
      "\n",
      "The following search terms did not have a clear mapping to a URI:\n",
      "* Early modern humans: This term might not be present in the knowledge graph, or it may be referred to by a different label. Possible related URIs include http://www.wikidata.org/entity/Q5 (Human), but this is not a direct match.\n",
      "* Agonists of the beta-2 adrenergic receptor: This term is related to Beta2-adrenergic agonists, which has a mapped URI. However, the exact phrase \"agonists of the beta-2 adrenergic receptor\" does not have a direct match in the knowledge graph.\n",
      "* Rock: This term appears to be unrelated to the context of the text and is likely a false positive in the search results.\n",
      "\n",
      "Note that the URI detection tool returned multiple results for each search term, but I have only included the most relevant mappings in the overall mapping above. The other results may be related to the search terms, but they are not as directly relevant to the context of the text.\n",
      "\n",
      "\n",
      "Agent ID: result_formatting_agent\n",
      "Instruction: \n",
      "Result: \n",
      "<http://www.wikidata.org/entity/Q423482> <http://www.wikidata.org/entity/P129> <http://www.wikidata.org/entity/Q287961> .\n",
      "<http://www.wikidata.org/entity/Q287961> <http://www.wikidata.org/entity/P361> <http://www.wikidata.org/entity/Q5> .\n",
      "<http://www.wikidata.org/entity/Q287961> <http://www.wikidata.org/entity/P682> <http://www.wikidata.org/entity/Q4941581> .\n",
      "<http://www.wikidata.org/entity/Q423482> <http://www.wikidata.org/entity/P1289> <http://www.wikidata.org/entity/Q4941581> .\n",
      "<http://www.wikidata.org/entity/Q4941581> <http://www.wikidata.org/entity/P582> <http://www.wikidata.org/entity/Q4941581> .\n",
      "\n",
      "\n",
      "\n",
      "Agent Comments:\n",
      "\n",
      "-- Planner Agent --\n",
      "**Full Plan:**\n",
      "1. Extract entities from the input text using the Entity Extraction Agent.\n",
      "2. Disambiguate extracted entities and identify their types.\n",
      "3. Extract relations from the input text using the Relation Extraction Agent.\n",
      "4. Disambiguate extracted relations.\n",
      "5. Use the URI Detection Agent to determine associated entities and relations in the Knowledge Graph.\n",
      "6. Format the results into triples using the Result Formatting Agent.\n",
      "\n",
      "**Next Step:**\n",
      "Call the Entity Extraction Agent to extract entities from the input text.\n",
      "\n",
      "**Reasoning:**\n",
      "The first step is to identify the entities in the text, which will serve as the foundation for further processing and triple formation. The Entity Extraction Agent is best suited for this task due to its expertise in entities within knowledge graphs.\n",
      "\n",
      "-- Result Checker Agent --\n",
      "To improve the extraction, call the Entity Extraction Agent again with the instruction to disambiguate the extracted entities and identify their specific types, especially for \"Bone\" which could be further specified as an anatomical structure. This step will help in accurately mapping entities to the knowledge graph. Additionally, consider calling the Relation Extraction Agent to start identifying relationships between the extracted entities.\n",
      "\n",
      "-- Planner Agent --\n",
      "- Feedback Review: The Result Checker Agent suggests disambiguating the extracted entities, especially \"Bone\", and identifying their specific types. It also recommends calling the Relation Extraction Agent to identify relationships between the extracted entities.\n",
      "- Next Step: Call the Entity Extraction Agent with the instruction to disambiguate the extracted entities, particularly \"Bone\", and identify their specific types. Additionally, call the Relation Extraction Agent to start identifying relationships between the extracted entities.\n",
      "- Reasoning: Disambiguating entities like \"Bone\" will help in accurately mapping them to the knowledge graph. Simultaneously, extracting relations will lay the groundwork for forming triples, as it will reveal how the entities interact with each other.\n",
      "\n",
      "-- Result Checker Agent --\n",
      "To further improve the extraction, call the Relation Extraction Agent to identify the relationships between the disambiguated entities, such as how Beta2-adrenergic agonists interact with the Beta-2 adrenergic receptor and its impact on bone resorption. Additionally, consider using the URI Detection Agent to determine if there are associated entities or relations in the Knowledge Graph for the disambiguated entities, especially for \"Bone\" and \"Bone resorption\". This will help in forming accurate triples for the knowledge graph.\n",
      "\n",
      "-- Planner Agent --\n",
      "- Feedback Review: The Result Checker Agent suggests calling the Relation Extraction Agent to identify relationships between the disambiguated entities and using the URI Detection Agent to determine associated entities or relations in the Knowledge Graph.\n",
      "\n",
      "- Next Step: Call the Relation Extraction Agent to identify the relationships between the disambiguated entities, such as how Beta2-adrenergic agonists interact with the Beta-2 adrenergic receptor and its impact on bone resorption.\n",
      "\n",
      "- Reasoning: Extracting relations between the disambiguated entities will reveal how they interact, which is crucial for forming accurate triples for the knowledge graph. This step will directly contribute to understanding the relationships between Beta2-adrenergic agonists, the Beta-2 adrenergic receptor, and their effects on bone resorption.\n",
      "\n",
      "-- Result Checker Agent --\n",
      "To further refine the extraction, consider calling the URI Detection Agent to determine associated entities or relations in the Knowledge Graph for the disambiguated entities, especially for \"Bone\" and \"Bone resorption\", and to validate the extracted relations. Additionally, review the alternative predicates provided by the Relation Extraction Agent to ensure they accurately represent the relationships in the context of the knowledge graph.\n",
      "\n",
      "-- Planner Agent --\n",
      "- Feedback Review: The Result Checker Agent suggests calling the URI Detection Agent to determine associated entities or relations in the Knowledge Graph for the disambiguated entities, especially for \"Bone\" and \"Bone resorption\", and to validate the extracted relations. Additionally, it recommends reviewing the alternative predicates provided by the Relation Extraction Agent.\n",
      "\n",
      "- Next Step: Call the URI Detection Agent to determine associated entities or relations in the Knowledge Graph for the disambiguated entities, especially for \"Bone\" and \"Bone resorption\". Also, review the alternative predicates provided by the Relation Extraction Agent to ensure they accurately represent the relationships in the context of the knowledge graph.\n",
      "\n",
      "- Reasoning: Using the URI Detection Agent will help validate the existence of the disambiguated entities and their relations within the Knowledge Graph, ensuring that the triples formed are accurate and relevant. Reviewing the alternative predicates will allow for the selection of the most appropriate predicates that accurately represent the relationships between entities, facilitating the formation of precise triples for the knowledge graph.\n",
      "\n",
      "-- Result Checker Agent --\n",
      "Call the Entity Extraction Agent again to extract entities related to \"Early modern humans\" and disambiguate its type to ensure accurate mapping to the knowledge graph. Additionally, consider calling the Relation Extraction Agent to further refine the relationships between the entities, especially focusing on the interaction between \"Early modern humans\" and other extracted entities.\n",
      "\n",
      "-- Planner Agent --\n",
      "- Feedback Review: The Result Checker Agent suggests calling the Entity Extraction Agent again to extract entities related to \"Early modern humans\" and disambiguate its type to ensure accurate mapping to the knowledge graph. It also recommends calling the Relation Extraction Agent to further refine the relationships between the entities, especially focusing on the interaction between \"Early modern humans\" and other extracted entities.\n",
      "\n",
      "- Next Step: Call the Entity Extraction Agent to extract entities related to \"Early modern humans\" and disambiguate its type. Additionally, call the Relation Extraction Agent to further refine the relationships between the entities, focusing on the interaction between \"Early modern humans\" and other extracted entities.\n",
      "\n",
      "- Reasoning: Disambiguating the type of \"Early modern humans\" will help in accurately mapping it to the knowledge graph. Further refining the relationships between entities, especially the interaction involving \"Early modern humans\", will provide a more comprehensive understanding of how these entities interact, which is crucial for forming accurate triples for the knowledge graph.\n"
     ]
    }
   ],
   "execution_count": 30
  },
  {
   "metadata": {},
   "cell_type": "markdown",
   "source": "# Evaluation",
   "id": "f8df3e536fff8210"
  },
  {
   "metadata": {
    "ExecuteTime": {
     "end_time": "2025-03-18T16:31:10.678932Z",
     "start_time": "2025-03-18T16:31:10.675759Z"
    }
   },
   "cell_type": "code",
   "source": [
    "def get_uri_labels(df): \n",
    "    subjects = []\n",
    "    predicates = []\n",
    "    objects = []\n",
    "    for i, row in df.iterrows():\n",
    "        try:\n",
    "            subjects.append(entity_set[entity_set[\"entity_uri\"] == row[\"subject_uri\"]][\"entity\"].values[0])\n",
    "        except IndexError:\n",
    "            subjects.append(\"Unknown\")\n",
    "        try:\n",
    "            predicates.append(predicate_set_df[predicate_set_df[\"predicate_uri\"] == row[\"predicate_uri\"]][\"predicate\"].values[0])\n",
    "        except IndexError:\n",
    "            predicates.append(\"Unknown\")\n",
    "        if row[\"object_uri\"] is not None and \"^^\" in row[\"object_uri\"]:\n",
    "            objects.append(row[\"object_uri\"])\n",
    "        else:\n",
    "            try:\n",
    "                objects.append(entity_set[entity_set[\"entity_uri\"] == row[\"object_uri\"]][\"entity\"].values[0])\n",
    "            except IndexError:\n",
    "                objects.append(\"Unknown\")\n",
    "    return pd.concat([df.reset_index(drop=True), pd.DataFrame({\"subject\": subjects, \"predicate\": predicates, \"object\": objects})], axis=1)"
   ],
   "id": "aeeee3f98c33d20d",
   "outputs": [],
   "execution_count": 3
  },
  {
   "metadata": {
    "ExecuteTime": {
     "end_time": "2025-03-19T07:36:34.138891Z",
     "start_time": "2025-03-19T07:36:34.093385Z"
    }
   },
   "cell_type": "code",
   "source": [
    "import pandas as pd\n",
    "from rdflib import Graph, URIRef\n",
    "\n",
    "# Load the Turtle file into an RDF graph\n",
    "result_graph = Graph()\n",
    "result_graph.parse(data=response_state[\"results\"][-1], format=\"turtle\")\n",
    "\n",
    "# Extract triples and convert to a DataFrame\n",
    "data = []\n",
    "namespace_manager = result_graph.namespace_manager  # Namespace manager for prefix resolution\n",
    "\n",
    "final_result = []\n",
    "for subj, pred, obj in result_graph:\n",
    "    final_result.append([str(subj), str(pred), str(obj)])\n",
    "    \n",
    "pred_relation_df = pd.DataFrame(final_result, columns=[\"subject_uri\", \"predicate_uri\", \"object_uri\"]).drop_duplicates()\n",
    "doc_relation_df = relation_df[relation_df[\"docid\"] == doc_id][[\"subject_uri\", \"predicate_uri\", \"object_uri\"]]\n",
    "correct_relation_df = pred_relation_df.merge(doc_relation_df[[\"subject_uri\", \"predicate_uri\", \"object_uri\"]], on=[\"subject_uri\", \"predicate_uri\", \"object_uri\"], how=\"inner\")"
   ],
   "id": "78489304aabd4bbb",
   "outputs": [],
   "execution_count": 31
  },
  {
   "metadata": {
    "ExecuteTime": {
     "end_time": "2025-03-19T07:36:34.669161Z",
     "start_time": "2025-03-19T07:36:34.659841Z"
    }
   },
   "cell_type": "code",
   "source": "get_uri_labels(pred_relation_df)",
   "id": "7b0699109b149243",
   "outputs": [
    {
     "data": {
      "text/plain": [
       "                               subject_uri  \\\n",
       "0   http://www.wikidata.org/entity/Q287961   \n",
       "1   http://www.wikidata.org/entity/Q423482   \n",
       "2   http://www.wikidata.org/entity/Q287961   \n",
       "3   http://www.wikidata.org/entity/Q423482   \n",
       "4  http://www.wikidata.org/entity/Q4941581   \n",
       "\n",
       "                          predicate_uri  \\\n",
       "0   http://www.wikidata.org/entity/P682   \n",
       "1  http://www.wikidata.org/entity/P1289   \n",
       "2   http://www.wikidata.org/entity/P361   \n",
       "3   http://www.wikidata.org/entity/P129   \n",
       "4   http://www.wikidata.org/entity/P582   \n",
       "\n",
       "                                object_uri                     subject  \\\n",
       "0  http://www.wikidata.org/entity/Q4941581  Beta-2_adrenergic_receptor   \n",
       "1  http://www.wikidata.org/entity/Q4941581    Beta2-adrenergic_agonist   \n",
       "2        http://www.wikidata.org/entity/Q5  Beta-2_adrenergic_receptor   \n",
       "3   http://www.wikidata.org/entity/Q287961    Beta2-adrenergic_agonist   \n",
       "4  http://www.wikidata.org/entity/Q4941581             Bone_resorption   \n",
       "\n",
       "            predicate                      object  \n",
       "0  biological process             Bone_resorption  \n",
       "1             Unknown             Bone_resorption  \n",
       "2             Unknown                       Human  \n",
       "3             Unknown  Beta-2_adrenergic_receptor  \n",
       "4             Unknown             Bone_resorption  "
      ],
      "text/html": [
       "<div>\n",
       "<style scoped>\n",
       "    .dataframe tbody tr th:only-of-type {\n",
       "        vertical-align: middle;\n",
       "    }\n",
       "\n",
       "    .dataframe tbody tr th {\n",
       "        vertical-align: top;\n",
       "    }\n",
       "\n",
       "    .dataframe thead th {\n",
       "        text-align: right;\n",
       "    }\n",
       "</style>\n",
       "<table border=\"1\" class=\"dataframe\">\n",
       "  <thead>\n",
       "    <tr style=\"text-align: right;\">\n",
       "      <th></th>\n",
       "      <th>subject_uri</th>\n",
       "      <th>predicate_uri</th>\n",
       "      <th>object_uri</th>\n",
       "      <th>subject</th>\n",
       "      <th>predicate</th>\n",
       "      <th>object</th>\n",
       "    </tr>\n",
       "  </thead>\n",
       "  <tbody>\n",
       "    <tr>\n",
       "      <th>0</th>\n",
       "      <td>http://www.wikidata.org/entity/Q287961</td>\n",
       "      <td>http://www.wikidata.org/entity/P682</td>\n",
       "      <td>http://www.wikidata.org/entity/Q4941581</td>\n",
       "      <td>Beta-2_adrenergic_receptor</td>\n",
       "      <td>biological process</td>\n",
       "      <td>Bone_resorption</td>\n",
       "    </tr>\n",
       "    <tr>\n",
       "      <th>1</th>\n",
       "      <td>http://www.wikidata.org/entity/Q423482</td>\n",
       "      <td>http://www.wikidata.org/entity/P1289</td>\n",
       "      <td>http://www.wikidata.org/entity/Q4941581</td>\n",
       "      <td>Beta2-adrenergic_agonist</td>\n",
       "      <td>Unknown</td>\n",
       "      <td>Bone_resorption</td>\n",
       "    </tr>\n",
       "    <tr>\n",
       "      <th>2</th>\n",
       "      <td>http://www.wikidata.org/entity/Q287961</td>\n",
       "      <td>http://www.wikidata.org/entity/P361</td>\n",
       "      <td>http://www.wikidata.org/entity/Q5</td>\n",
       "      <td>Beta-2_adrenergic_receptor</td>\n",
       "      <td>Unknown</td>\n",
       "      <td>Human</td>\n",
       "    </tr>\n",
       "    <tr>\n",
       "      <th>3</th>\n",
       "      <td>http://www.wikidata.org/entity/Q423482</td>\n",
       "      <td>http://www.wikidata.org/entity/P129</td>\n",
       "      <td>http://www.wikidata.org/entity/Q287961</td>\n",
       "      <td>Beta2-adrenergic_agonist</td>\n",
       "      <td>Unknown</td>\n",
       "      <td>Beta-2_adrenergic_receptor</td>\n",
       "    </tr>\n",
       "    <tr>\n",
       "      <th>4</th>\n",
       "      <td>http://www.wikidata.org/entity/Q4941581</td>\n",
       "      <td>http://www.wikidata.org/entity/P582</td>\n",
       "      <td>http://www.wikidata.org/entity/Q4941581</td>\n",
       "      <td>Bone_resorption</td>\n",
       "      <td>Unknown</td>\n",
       "      <td>Bone_resorption</td>\n",
       "    </tr>\n",
       "  </tbody>\n",
       "</table>\n",
       "</div>"
      ]
     },
     "execution_count": 32,
     "metadata": {},
     "output_type": "execute_result"
    }
   ],
   "execution_count": 32
  },
  {
   "metadata": {
    "ExecuteTime": {
     "end_time": "2025-03-19T07:36:35.496640Z",
     "start_time": "2025-03-19T07:36:35.486056Z"
    }
   },
   "cell_type": "code",
   "source": "get_uri_labels(doc_relation_df)",
   "id": "7bed734f9cb38a8b",
   "outputs": [
    {
     "data": {
      "text/plain": [
       "                              subject_uri  \\\n",
       "0  http://www.wikidata.org/entity/Q423482   \n",
       "1  http://www.wikidata.org/entity/Q287961   \n",
       "2  http://www.wikidata.org/entity/Q287961   \n",
       "\n",
       "                          predicate_uri  \\\n",
       "0  http://www.wikidata.org/entity/P3772   \n",
       "1   http://www.wikidata.org/entity/P682   \n",
       "2   http://www.wikidata.org/entity/P703   \n",
       "\n",
       "                                 object_uri                     subject  \\\n",
       "0    http://www.wikidata.org/entity/Q287961    Beta2-adrenergic_agonist   \n",
       "1   http://www.wikidata.org/entity/Q4941581  Beta-2_adrenergic_receptor   \n",
       "2  http://www.wikidata.org/entity/Q15978631  Beta-2_adrenergic_receptor   \n",
       "\n",
       "            predicate                      object  \n",
       "0          agonist of  Beta-2_adrenergic_receptor  \n",
       "1  biological process             Bone_resorption  \n",
       "2      found in taxon          Early_modern_human  "
      ],
      "text/html": [
       "<div>\n",
       "<style scoped>\n",
       "    .dataframe tbody tr th:only-of-type {\n",
       "        vertical-align: middle;\n",
       "    }\n",
       "\n",
       "    .dataframe tbody tr th {\n",
       "        vertical-align: top;\n",
       "    }\n",
       "\n",
       "    .dataframe thead th {\n",
       "        text-align: right;\n",
       "    }\n",
       "</style>\n",
       "<table border=\"1\" class=\"dataframe\">\n",
       "  <thead>\n",
       "    <tr style=\"text-align: right;\">\n",
       "      <th></th>\n",
       "      <th>subject_uri</th>\n",
       "      <th>predicate_uri</th>\n",
       "      <th>object_uri</th>\n",
       "      <th>subject</th>\n",
       "      <th>predicate</th>\n",
       "      <th>object</th>\n",
       "    </tr>\n",
       "  </thead>\n",
       "  <tbody>\n",
       "    <tr>\n",
       "      <th>0</th>\n",
       "      <td>http://www.wikidata.org/entity/Q423482</td>\n",
       "      <td>http://www.wikidata.org/entity/P3772</td>\n",
       "      <td>http://www.wikidata.org/entity/Q287961</td>\n",
       "      <td>Beta2-adrenergic_agonist</td>\n",
       "      <td>agonist of</td>\n",
       "      <td>Beta-2_adrenergic_receptor</td>\n",
       "    </tr>\n",
       "    <tr>\n",
       "      <th>1</th>\n",
       "      <td>http://www.wikidata.org/entity/Q287961</td>\n",
       "      <td>http://www.wikidata.org/entity/P682</td>\n",
       "      <td>http://www.wikidata.org/entity/Q4941581</td>\n",
       "      <td>Beta-2_adrenergic_receptor</td>\n",
       "      <td>biological process</td>\n",
       "      <td>Bone_resorption</td>\n",
       "    </tr>\n",
       "    <tr>\n",
       "      <th>2</th>\n",
       "      <td>http://www.wikidata.org/entity/Q287961</td>\n",
       "      <td>http://www.wikidata.org/entity/P703</td>\n",
       "      <td>http://www.wikidata.org/entity/Q15978631</td>\n",
       "      <td>Beta-2_adrenergic_receptor</td>\n",
       "      <td>found in taxon</td>\n",
       "      <td>Early_modern_human</td>\n",
       "    </tr>\n",
       "  </tbody>\n",
       "</table>\n",
       "</div>"
      ]
     },
     "execution_count": 33,
     "metadata": {},
     "output_type": "execute_result"
    }
   ],
   "execution_count": 33
  },
  {
   "metadata": {
    "ExecuteTime": {
     "end_time": "2025-03-19T07:36:36.228092Z",
     "start_time": "2025-03-19T07:36:36.210039Z"
    }
   },
   "cell_type": "code",
   "source": "get_uri_labels(correct_relation_df)",
   "id": "7dff500fcad25db",
   "outputs": [
    {
     "data": {
      "text/plain": [
       "                              subject_uri  \\\n",
       "0  http://www.wikidata.org/entity/Q287961   \n",
       "\n",
       "                         predicate_uri  \\\n",
       "0  http://www.wikidata.org/entity/P682   \n",
       "\n",
       "                                object_uri                     subject  \\\n",
       "0  http://www.wikidata.org/entity/Q4941581  Beta-2_adrenergic_receptor   \n",
       "\n",
       "            predicate           object  \n",
       "0  biological process  Bone_resorption  "
      ],
      "text/html": [
       "<div>\n",
       "<style scoped>\n",
       "    .dataframe tbody tr th:only-of-type {\n",
       "        vertical-align: middle;\n",
       "    }\n",
       "\n",
       "    .dataframe tbody tr th {\n",
       "        vertical-align: top;\n",
       "    }\n",
       "\n",
       "    .dataframe thead th {\n",
       "        text-align: right;\n",
       "    }\n",
       "</style>\n",
       "<table border=\"1\" class=\"dataframe\">\n",
       "  <thead>\n",
       "    <tr style=\"text-align: right;\">\n",
       "      <th></th>\n",
       "      <th>subject_uri</th>\n",
       "      <th>predicate_uri</th>\n",
       "      <th>object_uri</th>\n",
       "      <th>subject</th>\n",
       "      <th>predicate</th>\n",
       "      <th>object</th>\n",
       "    </tr>\n",
       "  </thead>\n",
       "  <tbody>\n",
       "    <tr>\n",
       "      <th>0</th>\n",
       "      <td>http://www.wikidata.org/entity/Q287961</td>\n",
       "      <td>http://www.wikidata.org/entity/P682</td>\n",
       "      <td>http://www.wikidata.org/entity/Q4941581</td>\n",
       "      <td>Beta-2_adrenergic_receptor</td>\n",
       "      <td>biological process</td>\n",
       "      <td>Bone_resorption</td>\n",
       "    </tr>\n",
       "  </tbody>\n",
       "</table>\n",
       "</div>"
      ]
     },
     "execution_count": 34,
     "metadata": {},
     "output_type": "execute_result"
    }
   ],
   "execution_count": 34
  },
  {
   "metadata": {
    "ExecuteTime": {
     "end_time": "2025-03-19T07:36:50.020427Z",
     "start_time": "2025-03-19T07:36:50.012583Z"
    }
   },
   "cell_type": "code",
   "source": [
    "def evaluate(pred_relation_df, doc_id, verbose=False):\n",
    "    doc_relation_df = relation_df[relation_df[\"docid\"] == doc_id][[\"subject_uri\", \"predicate_uri\", \"object_uri\"]]\n",
    "    correct_relation_df = pred_relation_df.merge(doc_relation_df[[\"subject_uri\", \"predicate_uri\", \"object_uri\"]], on=[\"subject_uri\", \"predicate_uri\", \"object_uri\"], how=\"inner\")\n",
    "    precision = len(correct_relation_df) / len(pred_relation_df)\n",
    "    recall = len(correct_relation_df) / len(doc_relation_df)\n",
    "    if precision + recall == 0:\n",
    "        f1_score = 0\n",
    "    else:\n",
    "        f1_score = 2 * (precision * recall) / (precision + recall)\n",
    "    \n",
    "    if verbose:\n",
    "        print(f\"Precision: {precision}\")\n",
    "        print(f\"Recall: {recall}\")\n",
    "        print(f\"F1: {f1_score}\")\n",
    "        \n",
    "    return precision, recall, f1_score"
   ],
   "id": "a812ca1c67908e1e",
   "outputs": [],
   "execution_count": 35
  },
  {
   "metadata": {
    "ExecuteTime": {
     "end_time": "2025-03-19T07:36:50.170989Z",
     "start_time": "2025-03-19T07:36:50.165183Z"
    }
   },
   "cell_type": "code",
   "source": "evaluate(pred_relation_df, doc_id, verbose=True)",
   "id": "738ea19b2d3c9e6",
   "outputs": [
    {
     "name": "stdout",
     "output_type": "stream",
     "text": [
      "Precision: 0.2\n",
      "Recall: 0.3333333333333333\n",
      "F1: 0.25\n"
     ]
    },
    {
     "data": {
      "text/plain": [
       "(0.2, 0.3333333333333333, 0.25)"
      ]
     },
     "execution_count": 36,
     "metadata": {},
     "output_type": "execute_result"
    }
   ],
   "execution_count": 36
  },
  {
   "metadata": {},
   "cell_type": "code",
   "outputs": [],
   "execution_count": null,
   "source": "",
   "id": "5130c64b298b5fbc"
  }
 ],
 "metadata": {
  "kernelspec": {
   "display_name": "Python 3",
   "language": "python",
   "name": "python3"
  },
  "language_info": {
   "codemirror_mode": {
    "name": "ipython",
    "version": 2
   },
   "file_extension": ".py",
   "mimetype": "text/x-python",
   "name": "python",
   "nbconvert_exporter": "python",
   "pygments_lexer": "ipython2",
   "version": "2.7.6"
  }
 },
 "nbformat": 4,
 "nbformat_minor": 5
}
