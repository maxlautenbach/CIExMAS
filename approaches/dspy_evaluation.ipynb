{
 "cells": [
  {
   "cell_type": "code",
   "id": "f7afdb13cc2bdacb",
   "metadata": {
    "ExecuteTime": {
     "end_time": "2025-05-22T14:38:34.555323Z",
     "start_time": "2025-05-22T14:38:32.234326Z"
    }
   },
   "source": [
    "import git\n",
    "import sys\n",
    "\n",
    "repo = git.Repo(search_parent_directories=True)\n",
    "sys.path.append(repo.working_dir)\n",
    "\n",
    "from helper_tools import parser\n",
    "\n",
    "triple_df, entity_df, docs = parser.synthie_parser(\"train_text\", 10)"
   ],
   "outputs": [
    {
     "data": {
      "text/plain": [
       "Fetching 27 files:   0%|          | 0/27 [00:00<?, ?it/s]"
      ],
      "application/vnd.jupyter.widget-view+json": {
       "version_major": 2,
       "version_minor": 0,
       "model_id": "5294355b96f04b05bd04798859a3b8f9"
      }
     },
     "metadata": {},
     "output_type": "display_data"
    },
    {
     "name": "stderr",
     "output_type": "stream",
     "text": [
      "100%|██████████| 10/10 [00:00<00:00, 68985.26it/s]\n"
     ]
    },
    {
     "name": "stdout",
     "output_type": "stream",
     "text": [
      "Preparing entities for bulk upload to qdrant...\n"
     ]
    },
    {
     "name": "stderr",
     "output_type": "stream",
     "text": [
      "Preparing entities: 100%|██████████| 46/46 [00:01<00:00, 30.85it/s]\n"
     ]
    },
    {
     "name": "stdout",
     "output_type": "stream",
     "text": [
      "No new entities to upload. 46 entities were already in the database.\n",
      "Preparing predicates for bulk upload to qdrant...\n"
     ]
    },
    {
     "name": "stderr",
     "output_type": "stream",
     "text": [
      "Preparing predicates: 100%|██████████| 26/26 [00:00<00:00, 41.29it/s]"
     ]
    },
    {
     "name": "stdout",
     "output_type": "stream",
     "text": [
      "No new predicates to upload. 26 predicates were already in the database.\n"
     ]
    },
    {
     "name": "stderr",
     "output_type": "stream",
     "text": [
      "\n"
     ]
    }
   ],
   "execution_count": 49
  },
  {
   "cell_type": "code",
   "id": "e49dd33f8cfc8654",
   "metadata": {
    "ExecuteTime": {
     "end_time": "2025-05-22T14:38:34.566501Z",
     "start_time": "2025-05-22T14:38:34.560897Z"
    }
   },
   "source": [
    "import os\n",
    "import dspy\n",
    "import git\n",
    "from dotenv import load_dotenv\n",
    "\n",
    "repo = git.Repo(search_parent_directories=True).working_dir\n",
    "load_dotenv(repo + \".env\")\n",
    "\n",
    "lm = dspy.LM('openai/Meta-Llama-3.3-70B-Instruct', api_key=os.getenv(\"SAMBANOVA_API_KEY\"), api_base='https://api.sambanova.ai/v1')\n",
    "dspy.configure(lm=lm)"
   ],
   "outputs": [],
   "execution_count": 50
  },
  {
   "cell_type": "code",
   "id": "a2b754cd5b3cfd50",
   "metadata": {
    "ExecuteTime": {
     "end_time": "2025-05-22T14:38:34.595034Z",
     "start_time": "2025-05-22T14:38:34.588204Z"
    }
   },
   "source": [
    "from typing import List\n",
    "\n",
    "class TripleExtraction(dspy.Signature):\n",
    "    \"\"\"\n",
    "    Extraction Triples out of a text.\n",
    "    \"\"\"\n",
    "    text: str = dspy.InputField(desc=\"text to extract triples from\")\n",
    "    triples: str = dspy.OutputField(desc=\"all extracted triples - one triple one line - form: subject, predicate, object\")"
   ],
   "outputs": [],
   "execution_count": 51
  },
  {
   "cell_type": "code",
   "id": "7e9c965f1d6e0b96",
   "metadata": {
    "ExecuteTime": {
     "end_time": "2025-05-22T14:38:34.610003Z",
     "start_time": "2025-05-22T14:38:34.603527Z"
    }
   },
   "source": [
    "extractor = dspy.ChainOfThought(TripleExtraction)\n",
    "extractor(text='The Philippine one hundred-peso note (Filipino: \"Sandaang Piso\") (₱100) is a denomination of Philippine currency.')"
   ],
   "outputs": [
    {
     "data": {
      "text/plain": [
       "Prediction(\n",
       "    reasoning='The text provided is a simple statement about the Philippine one hundred-peso note. To extract triples, we need to identify the subject, predicate, and object in the sentence. The subject is \"The Philippine one hundred-peso note\", the predicate is \"is a denomination of\", and the object is \"Philippine currency\".',\n",
       "    triples='The Philippine one hundred-peso note, is a denomination of, Philippine currency\\nThe Philippine one hundred-peso note, has a value of, one hundred pesos'\n",
       ")"
      ]
     },
     "execution_count": 52,
     "metadata": {},
     "output_type": "execute_result"
    }
   ],
   "execution_count": 52
  },
  {
   "cell_type": "code",
   "id": "b0ff4bb6b92fbf9a",
   "metadata": {
    "ExecuteTime": {
     "end_time": "2025-05-22T14:38:34.630318Z",
     "start_time": "2025-05-22T14:38:34.625085Z"
    }
   },
   "source": [
    "dataset = []\n",
    "\n",
    "for i, doc in docs.iterrows():\n",
    "    doc_triples_df = triple_df[triple_df[\"docid\"] == doc[\"docid\"]]\n",
    "    expected_triples = \"\"\n",
    "    for _, triple in doc_triples_df.iterrows():\n",
    "        expected_triples += f\"{triple['subject']}, {triple['predicate']}, {triple['object']}\\n\"\n",
    "    dataset.append(dspy.Example(text=doc[\"text\"], triples=expected_triples.replace(\"_\",\" \")).with_inputs(\"text\"))"
   ],
   "outputs": [],
   "execution_count": 53
  },
  {
   "cell_type": "code",
   "id": "59e9a48056a2aecd",
   "metadata": {
    "ExecuteTime": {
     "end_time": "2025-05-22T14:38:34.641597Z",
     "start_time": "2025-05-22T14:38:34.639732Z"
    }
   },
   "source": [
    "trainset = dataset"
   ],
   "outputs": [],
   "execution_count": 54
  },
  {
   "cell_type": "code",
   "id": "ce2d55014cd1504c",
   "metadata": {
    "ExecuteTime": {
     "end_time": "2025-05-22T14:38:34.655587Z",
     "start_time": "2025-05-22T14:38:34.652584Z"
    }
   },
   "source": [
    "def extract_element_list(data):\n",
    "    return set(''.join(c for c in data.triples.lower() if c.isalnum() or c == ',').split(','))\n",
    "\n",
    "def f1_score_triples(example, pred, trace=None):\n",
    "    example_triples = extract_element_list(example)\n",
    "    pred_triples = extract_element_list(pred)\n",
    "    correct_triples = example_triples.intersection(pred_triples)\n",
    "    precision = len(correct_triples) / len(example_triples)\n",
    "    recall = len(correct_triples) / len(pred_triples)\n",
    "    try:\n",
    "        return (2 * precision * recall) / (precision + recall)\n",
    "    except ZeroDivisionError:\n",
    "        return 0"
   ],
   "outputs": [],
   "execution_count": 55
  },
  {
   "cell_type": "code",
   "id": "26f8dbd3201c1df0",
   "metadata": {
    "ExecuteTime": {
     "end_time": "2025-05-22T14:38:35.922782Z",
     "start_time": "2025-05-22T14:38:34.694425Z"
    }
   },
   "source": [
    "tp = dspy.MIPROv2(metric=f1_score_triples, auto=\"light\", num_threads=1)\n",
    "optimized_extractor = tp.compile(extractor, trainset=trainset, requires_permission_to_run=False)"
   ],
   "outputs": [
    {
     "name": "stderr",
     "output_type": "stream",
     "text": [
      "2025/05/22 16:38:34 INFO dspy.teleprompt.mipro_optimizer_v2: \n",
      "RUNNING WITH THE FOLLOWING LIGHT AUTO RUN SETTINGS:\n",
      "num_trials: 10\n",
      "minibatch: False\n",
      "num_fewshot_candidates: 6\n",
      "num_instruct_candidates: 3\n",
      "valset size: 8\n",
      "\n",
      "2025/05/22 16:38:34 INFO dspy.teleprompt.mipro_optimizer_v2: \n",
      "==> STEP 1: BOOTSTRAP FEWSHOT EXAMPLES <==\n",
      "2025/05/22 16:38:34 INFO dspy.teleprompt.mipro_optimizer_v2: These will be used as few-shot example candidates for our program and for creating instructions.\n",
      "\n",
      "2025/05/22 16:38:34 INFO dspy.teleprompt.mipro_optimizer_v2: Bootstrapping N=6 sets of demonstrations...\n"
     ]
    },
    {
     "name": "stdout",
     "output_type": "stream",
     "text": [
      "Bootstrapping set 1/6\n",
      "Bootstrapping set 2/6\n",
      "Bootstrapping set 3/6\n"
     ]
    },
    {
     "name": "stderr",
     "output_type": "stream",
     "text": [
      "  0%|          | 0/2 [00:00<?, ?it/s]2025-05-22 16:38:35,067 - INFO - PyTorch version 2.6.0 available.\n",
      "100%|██████████| 2/2 [00:00<00:00,  2.14it/s]\n"
     ]
    },
    {
     "name": "stdout",
     "output_type": "stream",
     "text": [
      "Bootstrapped 2 full traces after 1 examples for up to 1 rounds, amounting to 2 attempts.\n",
      "Bootstrapping set 4/6\n"
     ]
    },
    {
     "name": "stderr",
     "output_type": "stream",
     "text": [
      " 50%|█████     | 1/2 [00:00<00:00, 1461.94it/s]\n"
     ]
    },
    {
     "name": "stdout",
     "output_type": "stream",
     "text": [
      "Bootstrapped 1 full traces after 1 examples for up to 1 rounds, amounting to 1 attempts.\n",
      "Bootstrapping set 5/6\n"
     ]
    },
    {
     "name": "stderr",
     "output_type": "stream",
     "text": [
      " 50%|█████     | 1/2 [00:00<00:00, 1224.26it/s]\n"
     ]
    },
    {
     "name": "stdout",
     "output_type": "stream",
     "text": [
      "Bootstrapped 1 full traces after 1 examples for up to 1 rounds, amounting to 1 attempts.\n",
      "Bootstrapping set 6/6\n"
     ]
    },
    {
     "name": "stderr",
     "output_type": "stream",
     "text": [
      "100%|██████████| 2/2 [00:00<00:00, 1433.46it/s]\n",
      "2025/05/22 16:38:35 INFO dspy.teleprompt.mipro_optimizer_v2: \n",
      "==> STEP 2: PROPOSE INSTRUCTION CANDIDATES <==\n",
      "2025/05/22 16:38:35 INFO dspy.teleprompt.mipro_optimizer_v2: We will use the few-shot examples from the previous step, a generated dataset summary, a summary of the program code, and a randomly selected prompting tip to propose instructions.\n",
      "2025/05/22 16:38:35 INFO dspy.teleprompt.mipro_optimizer_v2: \n",
      "Proposing N=3 instructions...\n",
      "\n",
      "2025/05/22 16:38:35 INFO dspy.teleprompt.mipro_optimizer_v2: Proposed Instructions for Predictor 0:\n",
      "\n",
      "2025/05/22 16:38:35 INFO dspy.teleprompt.mipro_optimizer_v2: 0: Extraction Triples out of a text.\n",
      "\n",
      "2025/05/22 16:38:35 INFO dspy.teleprompt.mipro_optimizer_v2: 1: You are an information extraction specialist tasked with analyzing texts to identify and extract relevant relationships between entities. Given a text, extract triples in the form of subject-predicate-object, where the subject is the entity being described, the predicate is the relationship or attribute, and the object is the value or related entity. Provide a step-by-step reasoning for how you arrived at the extracted triples, and list each triple on a new line. Your output should include the reasoning and the extracted triples.\n",
      "\n",
      "2025/05/22 16:38:35 INFO dspy.teleprompt.mipro_optimizer_v2: 2: Extract relevant information from the given text and represent it in the form of triples, where each triple consists of a subject, predicate, and object. Analyze the text to identify entities, relationships, and attributes, and use this information to generate a set of triples that accurately capture the meaning and structure of the text. Provide a clear and step-by-step reasoning trace to explain how the triples were extracted, and ensure that the output triples are in the correct format, with one triple per line.\n",
      "\n",
      "2025/05/22 16:38:35 INFO dspy.teleprompt.mipro_optimizer_v2: \n",
      "\n",
      "2025/05/22 16:38:35 INFO dspy.teleprompt.mipro_optimizer_v2: ==> STEP 3: FINDING OPTIMAL PROMPT PARAMETERS <==\n",
      "2025/05/22 16:38:35 INFO dspy.teleprompt.mipro_optimizer_v2: We will evaluate the program over a series of trials with different combinations of instructions and few-shot examples to find the optimal combination using Bayesian Optimization.\n",
      "\n",
      "2025/05/22 16:38:35 INFO dspy.teleprompt.mipro_optimizer_v2: == Trial 1 / 10 - Full Evaluation of Default Program ==\n"
     ]
    },
    {
     "name": "stdout",
     "output_type": "stream",
     "text": [
      "Bootstrapped 2 full traces after 1 examples for up to 1 rounds, amounting to 2 attempts.\n",
      "Average Metric: 3.61 / 8 (45.1%): 100%|██████████| 8/8 [00:00<00:00, 2982.09it/s]"
     ]
    },
    {
     "name": "stderr",
     "output_type": "stream",
     "text": [
      "2025/05/22 16:38:35 INFO dspy.evaluate.evaluate: Average Metric: 3.6052631578947367 / 8 (45.1%)\n",
      "2025/05/22 16:38:35 INFO dspy.teleprompt.mipro_optimizer_v2: Default program score: 45.07\n",
      "\n",
      "/Users/i538914/Documents/Uni/Masterarbeit/CIExMAS/.pyvenv311/lib/python3.11/site-packages/optuna/_experimental.py:31: ExperimentalWarning: Argument ``multivariate`` is an experimental feature. The interface can change in the future.\n",
      "  warnings.warn(\n",
      "2025/05/22 16:38:35 INFO dspy.teleprompt.mipro_optimizer_v2: ===== Trial 2 / 10 =====\n"
     ]
    },
    {
     "name": "stdout",
     "output_type": "stream",
     "text": [
      "\n",
      "Average Metric: 4.58 / 8 (57.3%): 100%|██████████| 8/8 [00:00<00:00, 380.06it/s]"
     ]
    },
    {
     "name": "stderr",
     "output_type": "stream",
     "text": [
      "2025/05/22 16:38:35 INFO dspy.evaluate.evaluate: Average Metric: 4.580026990553307 / 8 (57.3%)\n",
      "2025/05/22 16:38:35 INFO dspy.teleprompt.mipro_optimizer_v2: \u001B[92mBest full score so far!\u001B[0m Score: 57.25\n",
      "2025/05/22 16:38:35 INFO dspy.teleprompt.mipro_optimizer_v2: Score: 57.25 with parameters ['Predictor 0: Instruction 1', 'Predictor 0: Few-Shot Set 3'].\n",
      "2025/05/22 16:38:35 INFO dspy.teleprompt.mipro_optimizer_v2: Scores so far: [45.07, 57.25]\n",
      "2025/05/22 16:38:35 INFO dspy.teleprompt.mipro_optimizer_v2: Best score so far: 57.25\n",
      "2025/05/22 16:38:35 INFO dspy.teleprompt.mipro_optimizer_v2: ========================\n",
      "\n",
      "\n",
      "2025/05/22 16:38:35 INFO dspy.teleprompt.mipro_optimizer_v2: ===== Trial 3 / 10 =====\n"
     ]
    },
    {
     "name": "stdout",
     "output_type": "stream",
     "text": [
      "\n",
      "Average Metric: 4.08 / 8 (50.9%): 100%|██████████| 8/8 [00:00<00:00, 381.06it/s]"
     ]
    },
    {
     "name": "stderr",
     "output_type": "stream",
     "text": [
      "2025/05/22 16:38:35 INFO dspy.evaluate.evaluate: Average Metric: 4.075910931174089 / 8 (50.9%)\n",
      "2025/05/22 16:38:35 INFO dspy.teleprompt.mipro_optimizer_v2: Score: 50.95 with parameters ['Predictor 0: Instruction 2', 'Predictor 0: Few-Shot Set 0'].\n",
      "2025/05/22 16:38:35 INFO dspy.teleprompt.mipro_optimizer_v2: Scores so far: [45.07, 57.25, 50.95]\n",
      "2025/05/22 16:38:35 INFO dspy.teleprompt.mipro_optimizer_v2: Best score so far: 57.25\n",
      "2025/05/22 16:38:35 INFO dspy.teleprompt.mipro_optimizer_v2: ========================\n",
      "\n",
      "\n",
      "2025/05/22 16:38:35 INFO dspy.teleprompt.mipro_optimizer_v2: ===== Trial 4 / 10 =====\n"
     ]
    },
    {
     "name": "stdout",
     "output_type": "stream",
     "text": [
      "\n",
      "Average Metric: 4.28 / 8 (53.5%): 100%|██████████| 8/8 [00:00<00:00, 346.32it/s]"
     ]
    },
    {
     "name": "stderr",
     "output_type": "stream",
     "text": [
      "2025/05/22 16:38:35 INFO dspy.evaluate.evaluate: Average Metric: 4.282199087462246 / 8 (53.5%)\n",
      "2025/05/22 16:38:35 INFO dspy.teleprompt.mipro_optimizer_v2: Score: 53.53 with parameters ['Predictor 0: Instruction 1', 'Predictor 0: Few-Shot Set 5'].\n",
      "2025/05/22 16:38:35 INFO dspy.teleprompt.mipro_optimizer_v2: Scores so far: [45.07, 57.25, 50.95, 53.53]\n",
      "2025/05/22 16:38:35 INFO dspy.teleprompt.mipro_optimizer_v2: Best score so far: 57.25\n",
      "2025/05/22 16:38:35 INFO dspy.teleprompt.mipro_optimizer_v2: ========================\n",
      "\n",
      "\n",
      "2025/05/22 16:38:35 INFO dspy.teleprompt.mipro_optimizer_v2: ===== Trial 5 / 10 =====\n"
     ]
    },
    {
     "name": "stdout",
     "output_type": "stream",
     "text": [
      "\n",
      "Average Metric: 3.66 / 8 (45.8%): 100%|██████████| 8/8 [00:00<00:00, 365.97it/s]"
     ]
    },
    {
     "name": "stderr",
     "output_type": "stream",
     "text": [
      "2025/05/22 16:38:35 INFO dspy.evaluate.evaluate: Average Metric: 3.6649599442702887 / 8 (45.8%)\n",
      "2025/05/22 16:38:35 INFO dspy.teleprompt.mipro_optimizer_v2: Score: 45.81 with parameters ['Predictor 0: Instruction 2', 'Predictor 0: Few-Shot Set 2'].\n",
      "2025/05/22 16:38:35 INFO dspy.teleprompt.mipro_optimizer_v2: Scores so far: [45.07, 57.25, 50.95, 53.53, 45.81]\n",
      "2025/05/22 16:38:35 INFO dspy.teleprompt.mipro_optimizer_v2: Best score so far: 57.25\n",
      "2025/05/22 16:38:35 INFO dspy.teleprompt.mipro_optimizer_v2: ========================\n",
      "\n",
      "\n",
      "2025/05/22 16:38:35 INFO dspy.teleprompt.mipro_optimizer_v2: ===== Trial 6 / 10 =====\n"
     ]
    },
    {
     "name": "stdout",
     "output_type": "stream",
     "text": [
      "\n",
      "Average Metric: 3.94 / 8 (49.2%): 100%|██████████| 8/8 [00:00<00:00, 345.72it/s]"
     ]
    },
    {
     "name": "stderr",
     "output_type": "stream",
     "text": [
      "2025/05/22 16:38:35 INFO dspy.evaluate.evaluate: Average Metric: 3.9355940355940353 / 8 (49.2%)\n",
      "2025/05/22 16:38:35 INFO dspy.teleprompt.mipro_optimizer_v2: Score: 49.19 with parameters ['Predictor 0: Instruction 0', 'Predictor 0: Few-Shot Set 5'].\n",
      "2025/05/22 16:38:35 INFO dspy.teleprompt.mipro_optimizer_v2: Scores so far: [45.07, 57.25, 50.95, 53.53, 45.81, 49.19]\n",
      "2025/05/22 16:38:35 INFO dspy.teleprompt.mipro_optimizer_v2: Best score so far: 57.25\n",
      "2025/05/22 16:38:35 INFO dspy.teleprompt.mipro_optimizer_v2: ========================\n",
      "\n",
      "\n",
      "2025/05/22 16:38:35 INFO dspy.teleprompt.mipro_optimizer_v2: ===== Trial 7 / 10 =====\n"
     ]
    },
    {
     "name": "stdout",
     "output_type": "stream",
     "text": [
      "\n",
      "Average Metric: 4.08 / 8 (50.9%): 100%|██████████| 8/8 [00:00<00:00, 1576.07it/s]"
     ]
    },
    {
     "name": "stderr",
     "output_type": "stream",
     "text": [
      "2025/05/22 16:38:35 INFO dspy.evaluate.evaluate: Average Metric: 4.075910931174089 / 8 (50.9%)\n",
      "2025/05/22 16:38:35 INFO dspy.teleprompt.mipro_optimizer_v2: Score: 50.95 with parameters ['Predictor 0: Instruction 2', 'Predictor 0: Few-Shot Set 0'].\n",
      "2025/05/22 16:38:35 INFO dspy.teleprompt.mipro_optimizer_v2: Scores so far: [45.07, 57.25, 50.95, 53.53, 45.81, 49.19, 50.95]\n",
      "2025/05/22 16:38:35 INFO dspy.teleprompt.mipro_optimizer_v2: Best score so far: 57.25\n",
      "2025/05/22 16:38:35 INFO dspy.teleprompt.mipro_optimizer_v2: ========================\n",
      "\n",
      "\n",
      "2025/05/22 16:38:35 INFO dspy.teleprompt.mipro_optimizer_v2: ===== Trial 8 / 10 =====\n"
     ]
    },
    {
     "name": "stdout",
     "output_type": "stream",
     "text": [
      "\n",
      "Average Metric: 3.66 / 8 (45.8%): 100%|██████████| 8/8 [00:00<00:00, 2558.28it/s]"
     ]
    },
    {
     "name": "stderr",
     "output_type": "stream",
     "text": [
      "2025/05/22 16:38:35 INFO dspy.evaluate.evaluate: Average Metric: 3.6649599442702887 / 8 (45.8%)\n",
      "2025/05/22 16:38:35 INFO dspy.teleprompt.mipro_optimizer_v2: Score: 45.81 with parameters ['Predictor 0: Instruction 2', 'Predictor 0: Few-Shot Set 5'].\n",
      "2025/05/22 16:38:35 INFO dspy.teleprompt.mipro_optimizer_v2: Scores so far: [45.07, 57.25, 50.95, 53.53, 45.81, 49.19, 50.95, 45.81]\n",
      "2025/05/22 16:38:35 INFO dspy.teleprompt.mipro_optimizer_v2: Best score so far: 57.25\n",
      "2025/05/22 16:38:35 INFO dspy.teleprompt.mipro_optimizer_v2: ========================\n",
      "\n",
      "\n",
      "2025/05/22 16:38:35 INFO dspy.teleprompt.mipro_optimizer_v2: ===== Trial 9 / 10 =====\n"
     ]
    },
    {
     "name": "stdout",
     "output_type": "stream",
     "text": [
      "\n",
      "Average Metric: 4.58 / 8 (57.3%): 100%|██████████| 8/8 [00:00<00:00, 3057.91it/s]"
     ]
    },
    {
     "name": "stderr",
     "output_type": "stream",
     "text": [
      "2025/05/22 16:38:35 INFO dspy.evaluate.evaluate: Average Metric: 4.580026990553307 / 8 (57.3%)\n",
      "2025/05/22 16:38:35 INFO dspy.teleprompt.mipro_optimizer_v2: Score: 57.25 with parameters ['Predictor 0: Instruction 1', 'Predictor 0: Few-Shot Set 4'].\n",
      "2025/05/22 16:38:35 INFO dspy.teleprompt.mipro_optimizer_v2: Scores so far: [45.07, 57.25, 50.95, 53.53, 45.81, 49.19, 50.95, 45.81, 57.25]\n",
      "2025/05/22 16:38:35 INFO dspy.teleprompt.mipro_optimizer_v2: Best score so far: 57.25\n",
      "2025/05/22 16:38:35 INFO dspy.teleprompt.mipro_optimizer_v2: ========================\n",
      "\n",
      "\n",
      "2025/05/22 16:38:35 INFO dspy.teleprompt.mipro_optimizer_v2: ===== Trial 10 / 10 =====\n"
     ]
    },
    {
     "name": "stdout",
     "output_type": "stream",
     "text": [
      "\n",
      "Average Metric: 3.66 / 8 (45.8%): 100%|██████████| 8/8 [00:00<00:00, 2797.14it/s]"
     ]
    },
    {
     "name": "stderr",
     "output_type": "stream",
     "text": [
      "2025/05/22 16:38:35 INFO dspy.evaluate.evaluate: Average Metric: 3.6649599442702887 / 8 (45.8%)\n",
      "2025/05/22 16:38:35 INFO dspy.teleprompt.mipro_optimizer_v2: Score: 45.81 with parameters ['Predictor 0: Instruction 2', 'Predictor 0: Few-Shot Set 5'].\n",
      "2025/05/22 16:38:35 INFO dspy.teleprompt.mipro_optimizer_v2: Scores so far: [45.07, 57.25, 50.95, 53.53, 45.81, 49.19, 50.95, 45.81, 57.25, 45.81]\n",
      "2025/05/22 16:38:35 INFO dspy.teleprompt.mipro_optimizer_v2: Best score so far: 57.25\n",
      "2025/05/22 16:38:35 INFO dspy.teleprompt.mipro_optimizer_v2: =========================\n",
      "\n",
      "\n"
     ]
    },
    {
     "name": "stdout",
     "output_type": "stream",
     "text": [
      "\n"
     ]
    },
    {
     "name": "stderr",
     "output_type": "stream",
     "text": [
      "2025/05/22 16:38:35 INFO dspy.teleprompt.mipro_optimizer_v2: ===== Trial 11 / 10 =====\n"
     ]
    },
    {
     "name": "stdout",
     "output_type": "stream",
     "text": [
      "Average Metric: 4.58 / 8 (57.3%): 100%|██████████| 8/8 [00:00<00:00, 2709.72it/s]"
     ]
    },
    {
     "name": "stderr",
     "output_type": "stream",
     "text": [
      "2025/05/22 16:38:35 INFO dspy.evaluate.evaluate: Average Metric: 4.580026990553307 / 8 (57.3%)\n",
      "2025/05/22 16:38:35 INFO dspy.teleprompt.mipro_optimizer_v2: Score: 57.25 with parameters ['Predictor 0: Instruction 1', 'Predictor 0: Few-Shot Set 3'].\n",
      "2025/05/22 16:38:35 INFO dspy.teleprompt.mipro_optimizer_v2: Scores so far: [45.07, 57.25, 50.95, 53.53, 45.81, 49.19, 50.95, 45.81, 57.25, 45.81, 57.25]\n",
      "2025/05/22 16:38:35 INFO dspy.teleprompt.mipro_optimizer_v2: Best score so far: 57.25\n",
      "2025/05/22 16:38:35 INFO dspy.teleprompt.mipro_optimizer_v2: =========================\n",
      "\n",
      "\n"
     ]
    },
    {
     "name": "stdout",
     "output_type": "stream",
     "text": [
      "\n"
     ]
    },
    {
     "name": "stderr",
     "output_type": "stream",
     "text": [
      "2025/05/22 16:38:35 INFO dspy.teleprompt.mipro_optimizer_v2: Returning best identified program with score 57.25!\n"
     ]
    }
   ],
   "execution_count": 56
  },
  {
   "cell_type": "code",
   "id": "265b61f64568c1c6",
   "metadata": {
    "ExecuteTime": {
     "end_time": "2025-05-22T14:38:35.958538Z",
     "start_time": "2025-05-22T14:38:35.953780Z"
    }
   },
   "source": [
    "optimized_extractor(text=\"Corfe Castle is a railway station named after Corfe Castle.\")"
   ],
   "outputs": [
    {
     "data": {
      "text/plain": [
       "Prediction(\n",
       "    reasoning='The text provides a simple relationship between a railway station and a castle, where the railway station is named after the castle. This relationship can be extracted into a triple to represent the connection between the two entities.',\n",
       "    triples='Corfe Castle railway station, named after, Corfe Castle'\n",
       ")"
      ]
     },
     "execution_count": 57,
     "metadata": {},
     "output_type": "execute_result"
    }
   ],
   "execution_count": 57
  },
  {
   "cell_type": "code",
   "id": "2f0b9a48",
   "metadata": {
    "ExecuteTime": {
     "end_time": "2025-05-22T14:40:15.789337Z",
     "start_time": "2025-05-22T14:40:13.977043Z"
    }
   },
   "source": [
    "docid = 1\n",
    "\n",
    "print(optimized_extractor(text=dataset[docid].text).triples)"
   ],
   "outputs": [
    {
     "name": "stderr",
     "output_type": "stream",
     "text": [
      "\u001B[92m16:40:13 - LiteLLM:INFO\u001B[0m: utils.py:2905 - \n",
      "LiteLLM completion() model= Meta-Llama-3.3-70B-Instruct; provider = openai\n",
      "2025-05-22 16:40:13,980 - INFO - \n",
      "LiteLLM completion() model= Meta-Llama-3.3-70B-Instruct; provider = openai\n",
      "/Users/i538914/Documents/Uni/Masterarbeit/CIExMAS/.pyvenv311/lib/python3.11/site-packages/pydantic/main.py:390: UserWarning: Pydantic serializer warnings:\n",
      "  Expected `int` but got `float` with value `1747924815.6687422` - serialized value may not be as expected\n",
      "  return self.__pydantic_serializer__.to_python(\n",
      "\u001B[92m16:40:15 - LiteLLM:INFO\u001B[0m: utils.py:1211 - Wrapper: Completed Call, calling success_handler\n",
      "2025-05-22 16:40:15,780 - INFO - Wrapper: Completed Call, calling success_handler\n",
      "\u001B[92m16:40:15 - LiteLLM:INFO\u001B[0m: cost_calculator.py:655 - selected model name for cost calculation: openai/Meta-Llama-3.3-70B-Instruct\n",
      "2025-05-22 16:40:15,782 - INFO - selected model name for cost calculation: openai/Meta-Llama-3.3-70B-Instruct\n",
      "\u001B[92m16:40:15 - LiteLLM:INFO\u001B[0m: cost_calculator.py:655 - selected model name for cost calculation: openai/Meta-Llama-3.3-70B-Instruct\n",
      "2025-05-22 16:40:15,783 - INFO - selected model name for cost calculation: openai/Meta-Llama-3.3-70B-Instruct\n"
     ]
    },
    {
     "name": "stdout",
     "output_type": "stream",
     "text": [
      "Journal of Colloid and Interface Science, indexed in, Scopus\n",
      "Journal of Colloid and Interface Science, published by, Elsevier\n",
      "Journal of Colloid and Interface Science, main subject, chemical engineering\n",
      "Journal of Colloid and Interface Science, language, English\n",
      "Journal of Colloid and Interface Science, based in, United States\n",
      "Journal of Colloid and Interface Science, owned by, Elsevier\n",
      "Elsevier, owns, Scopus\n",
      "Scopus, owned by, Elsevier\n"
     ]
    }
   ],
   "execution_count": 64
  },
  {
   "cell_type": "code",
   "id": "d6f1d96859badf1f",
   "metadata": {
    "ExecuteTime": {
     "end_time": "2025-05-22T14:40:15.802974Z",
     "start_time": "2025-05-22T14:40:15.800505Z"
    }
   },
   "source": "print(dataset[docid].triples)",
   "outputs": [
    {
     "name": "stdout",
     "output_type": "stream",
     "text": [
      "Journal of Colloid and Interface Science, indexed in bibliographic review, Scopus\n",
      "Journal of Colloid and Interface Science, main subject, Chemical engineering\n",
      "Journal of Colloid and Interface Science, language of work or name, English language\n",
      "Journal of Colloid and Interface Science, publisher, Elsevier\n",
      "Journal of Colloid and Interface Science, country of origin, United States\n",
      "Scopus, owned by, Elsevier\n",
      "\n"
     ]
    }
   ],
   "execution_count": 65
  },
  {
   "cell_type": "code",
   "id": "99c6e0ea66cc5e97",
   "metadata": {
    "ExecuteTime": {
     "end_time": "2025-05-22T14:40:16.327881Z",
     "start_time": "2025-05-22T14:40:15.883315Z"
    }
   },
   "source": [
    "from approaches.Network.Gen2.agents.extractor import agent as extractor_agent\n",
    "\n",
    "extractor_agent({\n",
    "            \"text\": dataset[docid].text,\n",
    "            \"last_call\": \"\",\n",
    "            \"last_response\": \"\",\n",
    "            \"triples\": [],\n",
    "            \"agent_instruction\": \"\",\n",
    "            \"messages\": [],\n",
    "            \"tool_input\": \"\",\n",
    "            \"debug\": False,\n",
    "            \"call_trace\": [],\n",
    "            \"uri_mapping\": \"\",\n",
    "        }).update[\"triples\"]"
   ],
   "outputs": [
    {
     "data": {
      "text/plain": [
       "['1: Journal_of_Colloid_and_Interface_Science (Scientific_journal); indexed in; Scopus (bibliographic database)',\n",
       " '2: Journal_of_Colloid_and_Interface_Science (Scientific_journal); published by; Elsevier (academic publisher)',\n",
       " '3: Journal_of_Colloid_and_Interface_Science (Scientific_journal); main subject; Chemical_engineering (field of study,engineering discipline)',\n",
       " '4: Journal_of_Colloid_and_Interface_Science (Scientific_journal); language; English_language (language,natural language)',\n",
       " '5: Journal_of_Colloid_and_Interface_Science (Scientific_journal); country of origin; United_States (country,nation state)',\n",
       " '6: Journal_of_Colloid_and_Interface_Science (Scientific_journal); owned by; Elsevier (academic publisher)',\n",
       " '7: Scopus (bibliographic database); owned by; Elsevier (academic publisher)']"
      ]
     },
     "execution_count": 66,
     "metadata": {},
     "output_type": "execute_result"
    }
   ],
   "execution_count": 66
  },
  {
   "cell_type": "code",
   "id": "a17ab89425d141c5",
   "metadata": {
    "ExecuteTime": {
     "end_time": "2025-05-22T14:44:29.742515Z",
     "start_time": "2025-05-22T14:44:29.740499Z"
    }
   },
   "source": "dspy.inspect_history(1)",
   "outputs": [
    {
     "name": "stdout",
     "output_type": "stream",
     "text": [
      "\n",
      "\n",
      "\n",
      "\n",
      "\u001B[34m[2025-05-22T16:40:15.787316]\u001B[0m\n",
      "\n",
      "\u001B[31mSystem message:\u001B[0m\n",
      "\n",
      "Your input fields are:\n",
      "1. `text` (str): text to extract triples from\n",
      "Your output fields are:\n",
      "1. `reasoning` (str)\n",
      "2. `triples` (str): all extracted triples - one triple one line - form: subject, predicate, object\n",
      "All interactions will be structured in the following way, with the appropriate values filled in.\n",
      "\n",
      "[[ ## text ## ]]\n",
      "{text}\n",
      "\n",
      "[[ ## reasoning ## ]]\n",
      "{reasoning}\n",
      "\n",
      "[[ ## triples ## ]]\n",
      "{triples}\n",
      "\n",
      "[[ ## completed ## ]]\n",
      "In adhering to this structure, your objective is: \n",
      "        You are an information extraction specialist tasked with analyzing texts to identify and extract relevant relationships between entities. Given a text, extract triples in the form of subject-predicate-object, where the subject is the entity being described, the predicate is the relationship or attribute, and the object is the value or related entity. Provide a step-by-step reasoning for how you arrived at the extracted triples, and list each triple on a new line. Your output should include the reasoning and the extracted triples.\n",
      "\n",
      "\n",
      "\u001B[31mUser message:\u001B[0m\n",
      "\n",
      "This is an example of the task, though some input or output fields are not supplied.\n",
      "\n",
      "[[ ## text ## ]]\n",
      "The Journal of Colloid and Interface Science is a bibliographic review indexed in Scopus and published by Elsevier. Its main subject is chemical engineering, and it is written in the English language. It is based in the United States, and is owned by Elsevier, the same company that owns Scopus.\n",
      "\n",
      "\n",
      "\u001B[31mAssistant message:\u001B[0m\n",
      "\n",
      "[[ ## reasoning ## ]]\n",
      "Not supplied for this particular example. \n",
      "\n",
      "[[ ## triples ## ]]\n",
      "Journal of Colloid and Interface Science, indexed in bibliographic review, Scopus\n",
      "Journal of Colloid and Interface Science, main subject, Chemical engineering\n",
      "Journal of Colloid and Interface Science, language of work or name, English language\n",
      "Journal of Colloid and Interface Science, publisher, Elsevier\n",
      "Journal of Colloid and Interface Science, country of origin, United States\n",
      "Scopus, owned by, Elsevier\n",
      "\n",
      "\n",
      "\u001B[31mUser message:\u001B[0m\n",
      "\n",
      "[[ ## text ## ]]\n",
      "The General Administration of Quality Supervision, Inspection and Quarantine was replaced by the State Administration for Market Regulation and is a government agency under the parent organization, the State Council of the People's Republic of China. Its headquarters is located in Haidian District, China.\n",
      "\n",
      "\n",
      "\u001B[31mAssistant message:\u001B[0m\n",
      "\n",
      "[[ ## reasoning ## ]]\n",
      "The text describes the replacement of the General Administration of Quality Supervision, Inspection and Quarantine by the State Administration for Market Regulation and provides information about its parent organization and headquarters location. This information can be extracted into triples to represent the relationships between entities.\n",
      "\n",
      "[[ ## triples ## ]]\n",
      "General Administration of Quality Supervision, Inspection and Quarantine, replaced by, State Administration for Market Regulation\n",
      "General Administration of Quality Supervision, Inspection and Quarantine, parent organization, State Council of the People's Republic of China\n",
      "General Administration of Quality Supervision, Inspection and Quarantine, headquarters location, Haidian District, China\n",
      "State Administration for Market Regulation, parent organization, State Council of the People's Republic of China\n",
      "\n",
      "\n",
      "\u001B[31mUser message:\u001B[0m\n",
      "\n",
      "[[ ## text ## ]]\n",
      "The Journal of Colloid and Interface Science is a bibliographic review indexed in Scopus and published by Elsevier. Its main subject is chemical engineering, and it is written in the English language. It is based in the United States, and is owned by Elsevier, the same company that owns Scopus.\n",
      "\n",
      "Respond with the corresponding output fields, starting with the field `[[ ## reasoning ## ]]`, then `[[ ## triples ## ]]`, and then ending with the marker for `[[ ## completed ## ]]`.\n",
      "\n",
      "\n",
      "\u001B[31mResponse:\u001B[0m\n",
      "\n",
      "\u001B[32m[[ ## reasoning ## ]]\n",
      "To extract the triples from the given text, we need to identify the entities and their relationships. The text mentions the Journal of Colloid and Interface Science as the main entity and provides information about its indexing, publication, main subject, language, location, and ownership. We can break down the text into individual relationships, such as the journal being indexed in Scopus, published by Elsevier, having chemical engineering as its main subject, being written in English, being based in the United States, and being owned by Elsevier. Additionally, we can infer a relationship between Elsevier and Scopus, as the same company owns both.\n",
      "\n",
      "[[ ## triples ## ]]\n",
      "Journal of Colloid and Interface Science, indexed in, Scopus\n",
      "Journal of Colloid and Interface Science, published by, Elsevier\n",
      "Journal of Colloid and Interface Science, main subject, chemical engineering\n",
      "Journal of Colloid and Interface Science, language, English\n",
      "Journal of Colloid and Interface Science, based in, United States\n",
      "Journal of Colloid and Interface Science, owned by, Elsevier\n",
      "Elsevier, owns, Scopus\n",
      "Scopus, owned by, Elsevier\n",
      "\n",
      "[[ ## completed ## ]]\u001B[0m\n",
      "\n",
      "\n",
      "\n",
      "\n",
      "\n"
     ]
    }
   ],
   "execution_count": 69
  },
  {
   "metadata": {},
   "cell_type": "code",
   "outputs": [],
   "execution_count": null,
   "source": "",
   "id": "1f84c6bb5a6fb5a4"
  }
 ],
 "metadata": {
  "kernelspec": {
   "display_name": ".pyvenv311",
   "language": "python",
   "name": "python3"
  },
  "language_info": {
   "codemirror_mode": {
    "name": "ipython",
    "version": 3
   },
   "file_extension": ".py",
   "mimetype": "text/x-python",
   "name": "python",
   "nbconvert_exporter": "python",
   "pygments_lexer": "ipython3",
   "version": "3.11.0"
  }
 },
 "nbformat": 4,
 "nbformat_minor": 5
}
