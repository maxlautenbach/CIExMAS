{
 "cells": [
  {
   "cell_type": "code",
   "execution_count": null,
   "id": "initial_id",
   "metadata": {
    "collapsed": true
   },
   "outputs": [],
   "source": [
    "from SPARQLWrapper import SPARQLWrapper, JSON\n",
    "from rdflib import RDFS, Literal, Namespace, Graph\n",
    "\n",
    "wd = Namespace(\"http://www.wikidata.org/entity/\")\n",
    "p = Namespace(\"http://www.wikidata.org/prop/\")\n",
    "graph = Graph()\n",
    "\n",
    "sparql = SPARQLWrapper(\"https://query.wikidata.org/sparql\")\n",
    "uri = \"P3934\"\n",
    "query = f\"\"\"\n",
    "        SELECT ?o WHERE {'{wd:' + uri} rdfs:label ?o. FILTER(langmatches(lang(?o), \"en\")){'}'}\n",
    "    \"\"\"\n",
    "\n",
    "sparql.setQuery(query)\n",
    "sparql.setReturnFormat(JSON)\n",
    "res = sparql.query().convert()[\"results\"][\"bindings\"][0][\"o\"][\"value\"]\n",
    "graph.add((wd[\"P3934\"], RDFS.label, Literal(res)))\n",
    "print(graph.serialize())\n",
    "from pyfuseki import FusekiUpdate\n",
    "\n",
    "fuseki = FusekiUpdate('http://localhost:3030', 'wikidata_rebel')\n",
    "fuseki.insert_graph(graph)"
   ]
  },
  {
   "metadata": {},
   "cell_type": "code",
   "outputs": [],
   "execution_count": null,
   "source": "",
   "id": "debfbc49be840fad"
  },
  {
   "metadata": {},
   "cell_type": "code",
   "outputs": [],
   "execution_count": null,
   "source": [
    "from langgraph.types import Command\n",
    "from typing import Literal\n",
    "from langchain_ollama.chat_models import ChatOllama\n",
    "from langgraph.graph import StateGraph, MessagesState, START, END\n",
    "from langchain_ollama import OllamaEmbeddings\n",
    "import os\n",
    "from dotenv import load_dotenv\n",
    "\n",
    "load_dotenv()\n",
    "\n",
    "ollama_base_url = os.getenv(\"OLLAMA_BASE_URL\")\n",
    "\n",
    "model = ChatOllama(base_url=ollama_base_url, model=\"phi4\")\n",
    "embeddings = OllamaEmbeddings(base_url=ollama_base_url, model=\"nomic-embed-text\")"
   ],
   "id": "545216fc010a9f2a"
  }
 ],
 "metadata": {
  "kernelspec": {
   "display_name": "Python 3",
   "language": "python",
   "name": "python3"
  },
  "language_info": {
   "codemirror_mode": {
    "name": "ipython",
    "version": 2
   },
   "file_extension": ".py",
   "mimetype": "text/x-python",
   "name": "python",
   "nbconvert_exporter": "python",
   "pygments_lexer": "ipython2",
   "version": "2.7.6"
  }
 },
 "nbformat": 4,
 "nbformat_minor": 5
}
