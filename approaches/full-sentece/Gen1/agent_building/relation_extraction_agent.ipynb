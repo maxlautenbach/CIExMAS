{
 "cells": [
  {
   "metadata": {},
   "cell_type": "markdown",
   "source": "# Relation Extraction Agent",
   "id": "d31e34b23c5e2298"
  },
  {
   "cell_type": "code",
   "id": "initial_id",
   "metadata": {
    "collapsed": true,
    "ExecuteTime": {
     "end_time": "2025-03-13T15:04:21.322825Z",
     "start_time": "2025-03-13T15:04:09.705907Z"
    }
   },
   "source": [
    "import helper_tools.parser as parser\n",
    "import importlib\n",
    "import pandas as pd\n",
    "\n",
    "importlib.reload(parser)\n",
    "\n",
    "relation_df, entity_df, docs = parser.synthie_parser(\"train\")"
   ],
   "outputs": [
    {
     "data": {
      "text/plain": [
       "Fetching 27 files:   0%|          | 0/27 [00:00<?, ?it/s]"
      ],
      "application/vnd.jupyter.widget-view+json": {
       "version_major": 2,
       "version_minor": 0,
       "model_id": "bf1edc3595b947129d560571a87c70d4"
      }
     },
     "metadata": {},
     "output_type": "display_data"
    },
    {
     "name": "stderr",
     "output_type": "stream",
     "text": [
      "100%|██████████| 10/10 [00:00<00:00, 4984.91it/s]\n"
     ]
    },
    {
     "name": "stdout",
     "output_type": "stream",
     "text": [
      "Uploading Entities to Qdrant.\n"
     ]
    },
    {
     "name": "stderr",
     "output_type": "stream",
     "text": [
      "100%|██████████| 46/46 [00:05<00:00,  8.00it/s]\n"
     ]
    },
    {
     "name": "stdout",
     "output_type": "stream",
     "text": [
      "Uploading Predicates to Qdrant.\n"
     ]
    },
    {
     "name": "stderr",
     "output_type": "stream",
     "text": [
      "100%|██████████| 29/29 [00:03<00:00,  9.06it/s]\n"
     ]
    }
   ],
   "execution_count": 2
  },
  {
   "metadata": {
    "ExecuteTime": {
     "end_time": "2025-03-13T15:04:21.808395Z",
     "start_time": "2025-03-13T15:04:21.335788Z"
    }
   },
   "cell_type": "code",
   "source": [
    "from langchain_openai import ChatOpenAI\n",
    "from langchain_ollama.embeddings import OllamaEmbeddings\n",
    "from langfuse.callback import CallbackHandler\n",
    "from dotenv import load_dotenv\n",
    "import os\n",
    "\n",
    "load_dotenv()\n",
    "langfuse_handler = CallbackHandler(\n",
    "    secret_key=os.getenv(\"LANGFUSE_SECRET_KEY\"),\n",
    "    public_key=os.getenv(\"LANGFUSE_PUBLIC_KEY\"),\n",
    "    host=os.getenv(\"LANGFUSE_HOST\"),\n",
    ")\n",
    "\n",
    "model = ChatOpenAI(model_name=\"Meta-Llama-3.3-70B-Instruct\", base_url=\"https://api.sambanova.ai/v1\", api_key=os.getenv(\"SAMBANOVA_API_KEY\"))\n",
    "embeddings = OllamaEmbeddings(model='nomic-embed-text')"
   ],
   "id": "7cb8867396c22623",
   "outputs": [],
   "execution_count": 3
  },
  {
   "metadata": {
    "ExecuteTime": {
     "end_time": "2025-03-13T15:04:21.827244Z",
     "start_time": "2025-03-13T15:04:21.823640Z"
    }
   },
   "cell_type": "code",
   "source": [
    "target_doc = docs.iloc[0]\n",
    "doc_id = target_doc[\"docid\"]\n",
    "text = target_doc[\"text\"]\n",
    "text"
   ],
   "id": "2dee1009c460ee18",
   "outputs": [
    {
     "data": {
      "text/plain": [
       "'Corfe Castle railway station is a station on the Swanage Railway in the village of Corfe Castle, in the United Kingdom.'"
      ]
     },
     "execution_count": 4,
     "metadata": {},
     "output_type": "execute_result"
    }
   ],
   "execution_count": 4
  },
  {
   "metadata": {},
   "cell_type": "markdown",
   "source": "# Development Space",
   "id": "c47722c60e564900"
  },
  {
   "metadata": {
    "ExecuteTime": {
     "end_time": "2025-03-13T15:13:03.865988Z",
     "start_time": "2025-03-13T15:13:03.850608Z"
    }
   },
   "cell_type": "code",
   "source": [
    "from langchain_core.prompts import PromptTemplate\n",
    "import re\n",
    "\n",
    "\n",
    "def relation_extraction_agent(state):\n",
    "    prompt = PromptTemplate.from_template(\"\"\"\n",
    "    \n",
    "    You are an expert for relation extraction out of text in a multi-agent-system for closed information extraction. You will receive a text out of the state from which you should extract all relation. In addition, the agent_instructor might give you an instruction, which you should follow. Your task is then to follow the optional instruction as well as this system prompt and return a list of all triples, where each triple is enclosed in <triple> tags and subject, predicate and object are comma separated from each other. Enclose your pure result in <result> tags\n",
    "    \n",
    "    The provided input text: {text}\n",
    "    Instruction: {instruction}\n",
    "    \n",
    "    \"\"\")\n",
    "    \n",
    "    response_chain = prompt | model\n",
    "    \n",
    "    response = response_chain.invoke(state, config={\"callbacks\": [langfuse_handler]})\n",
    "    \n",
    "    result_match = re.search(r'<result>(.*?)</result>', response.content, re.DOTALL)\n",
    "    print(result_match)\n",
    "    if result_match:\n",
    "        result = result_match.group(1)\n",
    "    else:\n",
    "        result = \"\"\n",
    "    print(response.content)\n",
    "    \n",
    "    return result"
   ],
   "id": "81aa925e6517e794",
   "outputs": [],
   "execution_count": 19
  },
  {
   "metadata": {
    "ExecuteTime": {
     "end_time": "2025-03-13T15:13:06.109147Z",
     "start_time": "2025-03-13T15:13:04.549029Z"
    }
   },
   "cell_type": "code",
   "source": [
    "mock_instruction = \"Extract relations from the text, focusing on the entities: Corfe Castle railway station, Swanage Railway, Corfe Castle, and United Kingdom.\"\n",
    "\n",
    "response = relation_extraction_agent({\"text\": text, \"instruction\": mock_instruction})\n",
    "print(response)"
   ],
   "id": "c6e6cce2a66a3c34",
   "outputs": [
    {
     "name": "stdout",
     "output_type": "stream",
     "text": [
      "<re.Match object; span=(1126, 1423), match='<result>\\n<triple>Corfe Castle railway station, l>\n",
      "To accomplish the task of extracting relations from the given text with a focus on the specified entities (Corfe Castle railway station, Swanage Railway, Corfe Castle, and United Kingdom), we analyze the text as follows:\n",
      "\n",
      "1. **Corfe Castle railway station** is a station on the **Swanage Railway**. This establishes a relation between Corfe Castle railway station and Swanage Railway, where the predicate could be \"located on\" or \"part of\".\n",
      "\n",
      "2. The station is in the village of **Corfe Castle**, indicating a relation between Corfe Castle railway station and Corfe Castle, with a predicate such as \"located in\".\n",
      "\n",
      "3. The village of **Corfe Castle** is in the **United Kingdom**, establishing a relation between Corfe Castle and the United Kingdom, with a predicate like \"part of\" or \"located in\".\n",
      "\n",
      "4. By extension, since Corfe Castle railway station is in Corfe Castle, and Corfe Castle is in the United Kingdom, there's an implied relation between Corfe Castle railway station and the United Kingdom, with a similar predicate of \"located in\".\n",
      "\n",
      "Given these observations, the extracted relations can be represented as follows:\n",
      "\n",
      "<result>\n",
      "<triple>Corfe Castle railway station, located on, Swanage Railway</triple>\n",
      "<triple>Corfe Castle railway station, located in, Corfe Castle</triple>\n",
      "<triple>Corfe Castle, located in, United Kingdom</triple>\n",
      "<triple>Corfe Castle railway station, located in, United Kingdom</triple>\n",
      "</result>\n",
      "\n",
      "<triple>Corfe Castle railway station, located on, Swanage Railway</triple>\n",
      "<triple>Corfe Castle railway station, located in, Corfe Castle</triple>\n",
      "<triple>Corfe Castle, located in, United Kingdom</triple>\n",
      "<triple>Corfe Castle railway station, located in, United Kingdom</triple>\n",
      "\n"
     ]
    }
   ],
   "execution_count": 20
  },
  {
   "metadata": {},
   "cell_type": "code",
   "outputs": [],
   "execution_count": null,
   "source": "",
   "id": "1db6bd509f0c93ee"
  }
 ],
 "metadata": {
  "kernelspec": {
   "display_name": "Python 3",
   "language": "python",
   "name": "python3"
  },
  "language_info": {
   "codemirror_mode": {
    "name": "ipython",
    "version": 2
   },
   "file_extension": ".py",
   "mimetype": "text/x-python",
   "name": "python",
   "nbconvert_exporter": "python",
   "pygments_lexer": "ipython2",
   "version": "2.7.6"
  }
 },
 "nbformat": 4,
 "nbformat_minor": 5
}
