{
 "cells": [
  {
   "cell_type": "code",
   "id": "initial_id",
   "metadata": {
    "collapsed": true,
    "ExecuteTime": {
     "end_time": "2025-03-12T15:22:59.066698Z",
     "start_time": "2025-03-12T15:22:43.237032Z"
    }
   },
   "source": [
    "import helper_tools.parser as parser\n",
    "import importlib\n",
    "import pandas as pd\n",
    "\n",
    "importlib.reload(parser)\n",
    "\n",
    "relation_df, entity_df, docs = parser.redfm_parser(\"train\")\n",
    "predicate_set_df = relation_df[[\"predicate\", \"predicate_uri\"]].drop_duplicates()"
   ],
   "outputs": [
    {
     "data": {
      "text/plain": [
       "Fetching 22 files:   0%|          | 0/22 [00:00<?, ?it/s]"
      ],
      "application/vnd.jupyter.widget-view+json": {
       "version_major": 2,
       "version_minor": 0,
       "model_id": "6a758a1578ae4baaa2a0efd352f278d6"
      }
     },
     "metadata": {},
     "output_type": "display_data"
    },
    {
     "name": "stderr",
     "output_type": "stream",
     "text": [
      "100%|██████████| 10/10 [00:00<00:00, 5793.24it/s]\n"
     ]
    },
    {
     "name": "stdout",
     "output_type": "stream",
     "text": [
      "Uploading Entities to Qdrant.\n"
     ]
    },
    {
     "name": "stderr",
     "output_type": "stream",
     "text": [
      "  2%|▏         | 2/102 [00:02<01:43,  1.04s/it]"
     ]
    },
    {
     "name": "stdout",
     "output_type": "stream",
     "text": [
      "Dokument mit URI http://www.wikidata.org/entity/Q950380 existiert bereits – Upload wird übersprungen.\n",
      "Dokument mit URI http://www.wikidata.org/entity/Q43380 existiert bereits – Upload wird übersprungen.\n"
     ]
    },
    {
     "name": "stderr",
     "output_type": "stream",
     "text": [
      "  3%|▎         | 3/102 [00:02<01:02,  1.58it/s]"
     ]
    },
    {
     "name": "stdout",
     "output_type": "stream",
     "text": [
      "Dokument mit URI http://www.wikidata.org/entity/Q212252 existiert bereits – Upload wird übersprungen.\n",
      "Dokument mit URI http://www.wikidata.org/entity/Q2576666 existiert bereits – Upload wird übersprungen.\n"
     ]
    },
    {
     "name": "stderr",
     "output_type": "stream",
     "text": [
      "  6%|▌         | 6/102 [00:02<00:26,  3.67it/s]"
     ]
    },
    {
     "name": "stdout",
     "output_type": "stream",
     "text": [
      "Dokument mit URI http://www.wikidata.org/entity/Q5009281 existiert bereits – Upload wird übersprungen.\n",
      "Dokument mit URI http://www.wikidata.org/entity/Q1756332 existiert bereits – Upload wird übersprungen.\n"
     ]
    },
    {
     "name": "stderr",
     "output_type": "stream",
     "text": [
      "  8%|▊         | 8/102 [00:03<00:18,  5.09it/s]"
     ]
    },
    {
     "name": "stdout",
     "output_type": "stream",
     "text": [
      "Dokument mit URI http://www.wikidata.org/entity/Q7503319 existiert bereits – Upload wird übersprungen.\n",
      "Dokument mit URI http://www.wikidata.org/entity/Q3233924 existiert bereits – Upload wird übersprungen.\n"
     ]
    },
    {
     "name": "stderr",
     "output_type": "stream",
     "text": [
      " 10%|▉         | 10/102 [00:03<00:14,  6.53it/s]"
     ]
    },
    {
     "name": "stdout",
     "output_type": "stream",
     "text": [
      "Dokument mit URI http://www.wikidata.org/entity/Q2640560 existiert bereits – Upload wird übersprungen.\n",
      "Dokument mit URI http://www.wikidata.org/entity/Q11249 existiert bereits – Upload wird übersprungen.\n"
     ]
    },
    {
     "name": "stderr",
     "output_type": "stream",
     "text": [
      " 12%|█▏        | 12/102 [00:03<00:11,  7.56it/s]"
     ]
    },
    {
     "name": "stdout",
     "output_type": "stream",
     "text": [
      "Dokument mit URI http://www.wikidata.org/entity/Q60 existiert bereits – Upload wird übersprungen.\n",
      "Dokument mit URI http://www.wikidata.org/entity/Q77989847 existiert bereits – Upload wird übersprungen.\n"
     ]
    },
    {
     "name": "stderr",
     "output_type": "stream",
     "text": [
      " 16%|█▌        | 16/102 [00:03<00:07, 11.90it/s]"
     ]
    },
    {
     "name": "stdout",
     "output_type": "stream",
     "text": [
      "Dokument mit URI http://www.wikidata.org/entity/Q76846862 existiert bereits – Upload wird übersprungen.\n",
      "Dokument mit URI http://www.wikidata.org/entity/Q602482 existiert bereits – Upload wird übersprungen.\n"
     ]
    },
    {
     "name": "stderr",
     "output_type": "stream",
     "text": [
      " 18%|█▊        | 18/102 [00:04<00:07, 10.75it/s]"
     ]
    },
    {
     "name": "stdout",
     "output_type": "stream",
     "text": [
      "Dokument mit URI http://www.wikidata.org/entity/Q2736 existiert bereits – Upload wird übersprungen.\n",
      "Dokument mit URI http://www.wikidata.org/entity/Q5582862 existiert bereits – Upload wird übersprungen.\n"
     ]
    },
    {
     "name": "stderr",
     "output_type": "stream",
     "text": [
      " 22%|██▏       | 22/102 [00:04<00:06, 13.19it/s]"
     ]
    },
    {
     "name": "stdout",
     "output_type": "stream",
     "text": [
      "Dokument mit URI http://www.wikidata.org/entity/Q15799 existiert bereits – Upload wird übersprungen.\n",
      "Dokument mit URI http://www.wikidata.org/entity/Q414 existiert bereits – Upload wird übersprungen.\n"
     ]
    },
    {
     "name": "stderr",
     "output_type": "stream",
     "text": [
      " 24%|██▎       | 24/102 [00:04<00:08,  9.20it/s]"
     ]
    },
    {
     "name": "stdout",
     "output_type": "stream",
     "text": [
      "Dokument mit URI http://www.wikidata.org/entity/Q60585 existiert bereits – Upload wird übersprungen.\n",
      "Dokument mit URI http://www.wikidata.org/entity/Q170703 existiert bereits – Upload wird übersprungen.\n"
     ]
    },
    {
     "name": "stderr",
     "output_type": "stream",
     "text": [
      " 28%|██▊       | 29/102 [00:04<00:05, 13.41it/s]"
     ]
    },
    {
     "name": "stdout",
     "output_type": "stream",
     "text": [
      "Dokument mit URI http://www.wikidata.org/entity/Q4603244 existiert bereits – Upload wird übersprungen.\n",
      "Dokument mit URI http://www.wikidata.org/entity/Q990433 existiert bereits – Upload wird übersprungen.\n"
     ]
    },
    {
     "name": "stderr",
     "output_type": "stream",
     "text": [
      " 30%|███       | 31/102 [00:05<00:05, 12.19it/s]"
     ]
    },
    {
     "name": "stdout",
     "output_type": "stream",
     "text": [
      "Dokument mit URI http://www.wikidata.org/entity/Q551669 existiert bereits – Upload wird übersprungen.\n",
      "Dokument mit URI http://www.wikidata.org/entity/Q97 existiert bereits – Upload wird übersprungen.\n"
     ]
    },
    {
     "name": "stderr",
     "output_type": "stream",
     "text": [
      " 32%|███▏      | 33/102 [00:05<00:06, 10.95it/s]"
     ]
    },
    {
     "name": "stdout",
     "output_type": "stream",
     "text": [
      "Dokument mit URI http://www.wikidata.org/entity/Q1548840 existiert bereits – Upload wird übersprungen.\n",
      "Dokument mit URI http://www.wikidata.org/entity/Q250984 existiert bereits – Upload wird übersprungen.\n"
     ]
    },
    {
     "name": "stderr",
     "output_type": "stream",
     "text": [
      " 34%|███▍      | 35/102 [00:05<00:06, 10.08it/s]"
     ]
    },
    {
     "name": "stdout",
     "output_type": "stream",
     "text": [
      "Dokument mit URI http://www.wikidata.org/entity/Q4946461 existiert bereits – Upload wird übersprungen.\n",
      "Dokument mit URI http://www.wikidata.org/entity/Q41967 existiert bereits – Upload wird übersprungen.\n"
     ]
    },
    {
     "name": "stderr",
     "output_type": "stream",
     "text": [
      " 36%|███▋      | 37/102 [00:05<00:06,  9.70it/s]"
     ]
    },
    {
     "name": "stdout",
     "output_type": "stream",
     "text": [
      "Dokument mit URI http://www.wikidata.org/entity/Q664341 existiert bereits – Upload wird übersprungen.\n",
      "Dokument mit URI http://www.wikidata.org/entity/Q266703 existiert bereits – Upload wird übersprungen.\n"
     ]
    },
    {
     "name": "stderr",
     "output_type": "stream",
     "text": [
      " 38%|███▊      | 39/102 [00:06<00:07,  8.60it/s]"
     ]
    },
    {
     "name": "stdout",
     "output_type": "stream",
     "text": [
      "Dokument mit URI http://www.wikidata.org/entity/Q253326 existiert bereits – Upload wird übersprungen.\n",
      "Dokument mit URI http://www.wikidata.org/entity/Q667278 existiert bereits – Upload wird übersprungen.\n"
     ]
    },
    {
     "name": "stderr",
     "output_type": "stream",
     "text": [
      " 40%|████      | 41/102 [00:06<00:07,  8.50it/s]"
     ]
    },
    {
     "name": "stdout",
     "output_type": "stream",
     "text": [
      "Dokument mit URI http://www.wikidata.org/entity/Q871584 existiert bereits – Upload wird übersprungen.\n",
      "Dokument mit URI http://www.wikidata.org/entity/Q250907 existiert bereits – Upload wird übersprungen.\n"
     ]
    },
    {
     "name": "stderr",
     "output_type": "stream",
     "text": [
      " 42%|████▏     | 43/102 [00:06<00:06,  8.50it/s]"
     ]
    },
    {
     "name": "stdout",
     "output_type": "stream",
     "text": [
      "Dokument mit URI http://www.wikidata.org/entity/Q693042 existiert bereits – Upload wird übersprungen.\n",
      "Dokument mit URI http://www.wikidata.org/entity/Q28513 existiert bereits – Upload wird übersprungen.\n"
     ]
    },
    {
     "name": "stderr",
     "output_type": "stream",
     "text": [
      " 44%|████▍     | 45/102 [00:06<00:06,  8.72it/s]"
     ]
    },
    {
     "name": "stdout",
     "output_type": "stream",
     "text": [
      "Dokument mit URI http://www.wikidata.org/entity/Q51056 existiert bereits – Upload wird übersprungen.\n",
      "Dokument mit URI http://www.wikidata.org/entity/Q150782 existiert bereits – Upload wird übersprungen.\n"
     ]
    },
    {
     "name": "stderr",
     "output_type": "stream",
     "text": [
      " 46%|████▌     | 47/102 [00:06<00:04, 11.16it/s]"
     ]
    },
    {
     "name": "stdout",
     "output_type": "stream",
     "text": [
      "Dokument mit URI http://www.wikidata.org/entity/Q129372 existiert bereits – Upload wird übersprungen.\n",
      "Dokument mit URI http://www.wikidata.org/entity/Q40 existiert bereits – Upload wird übersprungen.\n"
     ]
    },
    {
     "name": "stderr",
     "output_type": "stream",
     "text": [
      " 50%|█████     | 51/102 [00:07<00:04, 11.11it/s]"
     ]
    },
    {
     "name": "stdout",
     "output_type": "stream",
     "text": [
      "Dokument mit URI http://www.wikidata.org/entity/Q13298 existiert bereits – Upload wird übersprungen.\n",
      "Dokument mit URI http://www.wikidata.org/entity/Q41329 existiert bereits – Upload wird übersprungen.\n"
     ]
    },
    {
     "name": "stderr",
     "output_type": "stream",
     "text": [
      " 54%|█████▍    | 55/102 [00:07<00:03, 13.78it/s]"
     ]
    },
    {
     "name": "stdout",
     "output_type": "stream",
     "text": [
      "Dokument mit URI http://www.wikidata.org/entity/Q495134 existiert bereits – Upload wird übersprungen.\n",
      "Dokument mit URI http://www.wikidata.org/entity/Q590103 existiert bereits – Upload wird übersprungen.\n"
     ]
    },
    {
     "name": "stderr",
     "output_type": "stream",
     "text": [
      " 56%|█████▌    | 57/102 [00:07<00:03, 11.63it/s]"
     ]
    },
    {
     "name": "stdout",
     "output_type": "stream",
     "text": [
      "Dokument mit URI http://www.wikidata.org/entity/Q315484 existiert bereits – Upload wird übersprungen.\n",
      "Dokument mit URI http://www.wikidata.org/entity/Q483605 existiert bereits – Upload wird übersprungen.\n"
     ]
    },
    {
     "name": "stderr",
     "output_type": "stream",
     "text": [
      " 58%|█████▊    | 59/102 [00:07<00:03, 13.12it/s]"
     ]
    },
    {
     "name": "stdout",
     "output_type": "stream",
     "text": [
      "Dokument mit URI http://www.wikidata.org/entity/Q483849 existiert bereits – Upload wird übersprungen.\n",
      "Dokument mit URI http://www.wikidata.org/entity/Q475693 existiert bereits – Upload wird übersprungen.\n"
     ]
    },
    {
     "name": "stderr",
     "output_type": "stream",
     "text": [
      " 60%|█████▉    | 61/102 [00:08<00:03, 10.76it/s]"
     ]
    },
    {
     "name": "stdout",
     "output_type": "stream",
     "text": [
      "Dokument mit URI http://www.wikidata.org/entity/Q236603 existiert bereits – Upload wird übersprungen.\n",
      "Dokument mit URI http://www.wikidata.org/entity/Q1130546 existiert bereits – Upload wird übersprungen.\n"
     ]
    },
    {
     "name": "stderr",
     "output_type": "stream",
     "text": [
      " 64%|██████▎   | 65/102 [00:08<00:03, 11.79it/s]"
     ]
    },
    {
     "name": "stdout",
     "output_type": "stream",
     "text": [
      "Dokument mit URI http://www.wikidata.org/entity/Q991 existiert bereits – Upload wird übersprungen.\n",
      "Dokument mit URI http://www.wikidata.org/entity/Q1959539 existiert bereits – Upload wird übersprungen.\n"
     ]
    },
    {
     "name": "stderr",
     "output_type": "stream",
     "text": [
      " 66%|██████▌   | 67/102 [00:08<00:03,  9.41it/s]"
     ]
    },
    {
     "name": "stdout",
     "output_type": "stream",
     "text": [
      "Dokument mit URI http://www.wikidata.org/entity/Q7575362 existiert bereits – Upload wird übersprungen.\n",
      "Dokument mit URI http://www.wikidata.org/entity/Q24543 existiert bereits – Upload wird übersprungen.\n"
     ]
    },
    {
     "name": "stderr",
     "output_type": "stream",
     "text": [
      " 68%|██████▊   | 69/102 [00:09<00:03,  9.35it/s]"
     ]
    },
    {
     "name": "stdout",
     "output_type": "stream",
     "text": [
      "Dokument mit URI http://www.wikidata.org/entity/Q1492 existiert bereits – Upload wird übersprungen.\n",
      "Dokument mit URI http://www.wikidata.org/entity/Q29 existiert bereits – Upload wird übersprungen.\n"
     ]
    },
    {
     "name": "stderr",
     "output_type": "stream",
     "text": [
      " 70%|██████▉   | 71/102 [00:09<00:02, 11.07it/s]"
     ]
    },
    {
     "name": "stdout",
     "output_type": "stream",
     "text": [
      "Dokument mit URI http://www.wikidata.org/entity/Q188454 existiert bereits – Upload wird übersprungen.\n",
      "Dokument mit URI http://www.wikidata.org/entity/Q550596 existiert bereits – Upload wird übersprungen.\n"
     ]
    },
    {
     "name": "stderr",
     "output_type": "stream",
     "text": [
      " 72%|███████▏  | 73/102 [00:09<00:03,  9.66it/s]"
     ]
    },
    {
     "name": "stdout",
     "output_type": "stream",
     "text": [
      "Dokument mit URI http://www.wikidata.org/entity/Q1860 existiert bereits – Upload wird übersprungen.\n",
      "Dokument mit URI http://www.wikidata.org/entity/Q8069433 existiert bereits – Upload wird übersprungen.\n"
     ]
    },
    {
     "name": "stderr",
     "output_type": "stream",
     "text": [
      " 74%|███████▎  | 75/102 [00:09<00:02,  9.47it/s]"
     ]
    },
    {
     "name": "stdout",
     "output_type": "stream",
     "text": [
      "Dokument mit URI http://www.wikidata.org/entity/Q5287 existiert bereits – Upload wird übersprungen.\n",
      "Dokument mit URI http://www.wikidata.org/entity/Q618888 existiert bereits – Upload wird übersprungen.\n"
     ]
    },
    {
     "name": "stderr",
     "output_type": "stream",
     "text": [
      " 77%|███████▋  | 79/102 [00:09<00:02, 10.79it/s]"
     ]
    },
    {
     "name": "stdout",
     "output_type": "stream",
     "text": [
      "Dokument mit URI http://www.wikidata.org/entity/Q399729 existiert bereits – Upload wird übersprungen.\n",
      "Dokument mit URI http://www.wikidata.org/entity/Q558629 existiert bereits – Upload wird übersprungen.\n"
     ]
    },
    {
     "name": "stderr",
     "output_type": "stream",
     "text": [
      " 79%|███████▉  | 81/102 [00:10<00:02, 10.00it/s]"
     ]
    },
    {
     "name": "stdout",
     "output_type": "stream",
     "text": [
      "Dokument mit URI http://www.wikidata.org/entity/Q1321 existiert bereits – Upload wird übersprungen.\n",
      "Dokument mit URI http://www.wikidata.org/entity/Q727694 existiert bereits – Upload wird übersprungen.\n"
     ]
    },
    {
     "name": "stderr",
     "output_type": "stream",
     "text": [
      " 81%|████████▏ | 83/102 [00:10<00:02,  8.62it/s]"
     ]
    },
    {
     "name": "stdout",
     "output_type": "stream",
     "text": [
      "Dokument mit URI http://www.wikidata.org/entity/Q11145954 existiert bereits – Upload wird übersprungen.\n",
      "Dokument mit URI http://www.wikidata.org/entity/Q20063348 existiert bereits – Upload wird übersprungen.\n"
     ]
    },
    {
     "name": "stderr",
     "output_type": "stream",
     "text": [
      " 83%|████████▎ | 85/102 [00:10<00:02,  7.62it/s]"
     ]
    },
    {
     "name": "stdout",
     "output_type": "stream",
     "text": [
      "Dokument mit URI http://www.wikidata.org/entity/Q28454677 existiert bereits – Upload wird übersprungen.\n",
      "Dokument mit URI http://www.wikidata.org/entity/Q9176 existiert bereits – Upload wird übersprungen.\n"
     ]
    },
    {
     "name": "stderr",
     "output_type": "stream",
     "text": [
      " 86%|████████▋ | 88/102 [00:11<00:01,  8.77it/s]"
     ]
    },
    {
     "name": "stdout",
     "output_type": "stream",
     "text": [
      "Dokument mit URI http://www.wikidata.org/entity/Q55530 existiert bereits – Upload wird übersprungen.\n",
      "Dokument mit URI http://www.wikidata.org/entity/Q212168 existiert bereits – Upload wird übersprungen.\n",
      "Dokument mit URI http://www.wikidata.org/entity/Q1650296 existiert bereits – Upload wird übersprungen.\n"
     ]
    },
    {
     "name": "stderr",
     "output_type": "stream",
     "text": [
      " 88%|████████▊ | 90/102 [00:11<00:01,  9.04it/s]"
     ]
    },
    {
     "name": "stdout",
     "output_type": "stream",
     "text": [
      "Dokument mit URI http://www.wikidata.org/entity/Q82238 existiert bereits – Upload wird übersprungen.\n",
      "Dokument mit URI http://www.wikidata.org/entity/Q814344 existiert bereits – Upload wird übersprungen.\n"
     ]
    },
    {
     "name": "stderr",
     "output_type": "stream",
     "text": [
      " 95%|█████████▌| 97/102 [00:11<00:00, 19.87it/s]"
     ]
    },
    {
     "name": "stdout",
     "output_type": "stream",
     "text": [
      "Dokument mit URI http://www.wikidata.org/entity/Q546264 existiert bereits – Upload wird übersprungen.\n",
      "Dokument mit URI http://www.wikidata.org/entity/Q37073 existiert bereits – Upload wird übersprungen.\n"
     ]
    },
    {
     "name": "stderr",
     "output_type": "stream",
     "text": [
      " 97%|█████████▋| 99/102 [00:11<00:00, 15.51it/s]"
     ]
    },
    {
     "name": "stdout",
     "output_type": "stream",
     "text": [
      "Dokument mit URI http://www.wikidata.org/entity/Q11399 existiert bereits – Upload wird übersprungen.\n",
      "Dokument mit URI http://www.wikidata.org/entity/Q220830 existiert bereits – Upload wird übersprungen.\n"
     ]
    },
    {
     "name": "stderr",
     "output_type": "stream",
     "text": [
      "100%|██████████| 102/102 [00:12<00:00,  8.47it/s]\n"
     ]
    },
    {
     "name": "stdout",
     "output_type": "stream",
     "text": [
      "Dokument mit URI http://www.wikidata.org/entity/Q182659 existiert bereits – Upload wird übersprungen.\n",
      "Dokument mit URI http://www.wikidata.org/entity/Q8341 existiert bereits – Upload wird übersprungen.\n",
      "Uploading Predicates to Qdrant.\n"
     ]
    },
    {
     "name": "stderr",
     "output_type": "stream",
     "text": [
      " 11%|█         | 2/18 [00:00<00:01,  9.48it/s]"
     ]
    },
    {
     "name": "stdout",
     "output_type": "stream",
     "text": [
      "Dokument mit URI http://www.wikidata.org/entity/P127 existiert bereits – Upload wird übersprungen.\n",
      "Dokument mit URI http://www.wikidata.org/entity/P155 existiert bereits – Upload wird übersprungen.\n"
     ]
    },
    {
     "name": "stderr",
     "output_type": "stream",
     "text": [
      " 22%|██▏       | 4/18 [00:00<00:01,  7.37it/s]"
     ]
    },
    {
     "name": "stdout",
     "output_type": "stream",
     "text": [
      "Dokument mit URI http://www.wikidata.org/entity/P571 existiert bereits – Upload wird übersprungen.\n",
      "Dokument mit URI http://www.wikidata.org/entity/P641 existiert bereits – Upload wird übersprungen.\n"
     ]
    },
    {
     "name": "stderr",
     "output_type": "stream",
     "text": [
      " 33%|███▎      | 6/18 [00:00<00:01,  6.99it/s]"
     ]
    },
    {
     "name": "stdout",
     "output_type": "stream",
     "text": [
      "Dokument mit URI http://www.wikidata.org/entity/P159 existiert bereits – Upload wird übersprungen.\n",
      "Dokument mit URI http://www.wikidata.org/entity/P17 existiert bereits – Upload wird übersprungen.\n"
     ]
    },
    {
     "name": "stderr",
     "output_type": "stream",
     "text": [
      " 44%|████▍     | 8/18 [00:01<00:01,  6.80it/s]"
     ]
    },
    {
     "name": "stdout",
     "output_type": "stream",
     "text": [
      "Dokument mit URI http://www.wikidata.org/entity/P47 existiert bereits – Upload wird übersprungen.\n",
      "Dokument mit URI http://www.wikidata.org/entity/P206 existiert bereits – Upload wird übersprungen.\n"
     ]
    },
    {
     "name": "stderr",
     "output_type": "stream",
     "text": [
      " 56%|█████▌    | 10/18 [00:01<00:01,  7.69it/s]"
     ]
    },
    {
     "name": "stdout",
     "output_type": "stream",
     "text": [
      "Dokument mit URI http://www.wikidata.org/entity/P276 existiert bereits – Upload wird übersprungen.\n",
      "Dokument mit URI http://www.wikidata.org/entity/P26 existiert bereits – Upload wird übersprungen.\n"
     ]
    },
    {
     "name": "stderr",
     "output_type": "stream",
     "text": [
      " 61%|██████    | 11/18 [00:01<00:00,  8.19it/s]"
     ]
    },
    {
     "name": "stdout",
     "output_type": "stream",
     "text": [
      "Dokument mit URI http://www.wikidata.org/entity/P31 existiert bereits – Upload wird übersprungen.\n",
      "Dokument mit URI http://www.wikidata.org/entity/P57 existiert bereits – Upload wird übersprungen.\n"
     ]
    },
    {
     "name": "stderr",
     "output_type": "stream",
     "text": [
      " 78%|███████▊  | 14/18 [00:01<00:00,  7.93it/s]"
     ]
    },
    {
     "name": "stdout",
     "output_type": "stream",
     "text": [
      "Dokument mit URI http://www.wikidata.org/entity/P161 existiert bereits – Upload wird übersprungen.\n",
      "Dokument mit URI http://www.wikidata.org/entity/P800 existiert bereits – Upload wird übersprungen.\n"
     ]
    },
    {
     "name": "stderr",
     "output_type": "stream",
     "text": [
      " 89%|████████▉ | 16/18 [00:02<00:00,  8.13it/s]"
     ]
    },
    {
     "name": "stdout",
     "output_type": "stream",
     "text": [
      "Dokument mit URI http://www.wikidata.org/entity/P361 existiert bereits – Upload wird übersprungen.\n",
      "Dokument mit URI http://www.wikidata.org/entity/P50 existiert bereits – Upload wird übersprungen.\n"
     ]
    },
    {
     "name": "stderr",
     "output_type": "stream",
     "text": [
      "100%|██████████| 18/18 [00:02<00:00,  7.88it/s]"
     ]
    },
    {
     "name": "stdout",
     "output_type": "stream",
     "text": [
      "Dokument mit URI http://www.wikidata.org/entity/P176 existiert bereits – Upload wird übersprungen.\n",
      "Dokument mit URI http://www.wikidata.org/entity/P136 existiert bereits – Upload wird übersprungen.\n"
     ]
    },
    {
     "name": "stderr",
     "output_type": "stream",
     "text": [
      "\n"
     ]
    }
   ],
   "execution_count": 3
  },
  {
   "metadata": {},
   "cell_type": "code",
   "outputs": [],
   "execution_count": null,
   "source": [
    "from dotenv import load_dotenv\n",
    "from langchain_openai import ChatOpenAI\n",
    "from langchain_ollama.embeddings import OllamaEmbeddings\n",
    "import os\n",
    "\n",
    "load_dotenv()\n",
    "\n",
    "model = ChatOpenAI(model_name=\"Meta-Llama-3.3-70B-Instruct\", base_url=\"https://api.sambanova.ai/v1\", api_key=os.getenv(\"SAMBANOVA_API_KEY\"))\n",
    "embeddings = OllamaEmbeddings(model='nomic-embed-text')"
   ],
   "id": "ff96d1ca4347f08"
  },
  {
   "metadata": {},
   "cell_type": "code",
   "outputs": [],
   "execution_count": null,
   "source": "",
   "id": "60225a00c83f6319"
  }
 ],
 "metadata": {
  "kernelspec": {
   "display_name": "Python 3",
   "language": "python",
   "name": "python3"
  },
  "language_info": {
   "codemirror_mode": {
    "name": "ipython",
    "version": 2
   },
   "file_extension": ".py",
   "mimetype": "text/x-python",
   "name": "python",
   "nbconvert_exporter": "python",
   "pygments_lexer": "ipython2",
   "version": "2.7.6"
  }
 },
 "nbformat": 4,
 "nbformat_minor": 5
}
