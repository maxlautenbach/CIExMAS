{
 "cells": [
  {
   "metadata": {},
   "cell_type": "markdown",
   "source": "# Template Agent",
   "id": "d31e34b23c5e2298"
  },
  {
   "cell_type": "code",
   "id": "initial_id",
   "metadata": {
    "collapsed": true,
    "ExecuteTime": {
     "end_time": "2025-03-13T14:45:15.141360Z",
     "start_time": "2025-03-13T14:45:05.078596Z"
    }
   },
   "source": [
    "import helper_tools.parser as parser\n",
    "import importlib\n",
    "import pandas as pd\n",
    "\n",
    "importlib.reload(parser)\n",
    "\n",
    "relation_df, entity_df, docs = parser.synthie_parser(\"train\")"
   ],
   "outputs": [
    {
     "data": {
      "text/plain": [
       "Fetching 27 files:   0%|          | 0/27 [00:00<?, ?it/s]"
      ],
      "application/vnd.jupyter.widget-view+json": {
       "version_major": 2,
       "version_minor": 0,
       "model_id": "917098d463f44d63a5e10a880d956b6e"
      }
     },
     "metadata": {},
     "output_type": "display_data"
    },
    {
     "name": "stderr",
     "output_type": "stream",
     "text": [
      "100%|██████████| 10/10 [00:00<00:00, 4873.70it/s]\n"
     ]
    },
    {
     "name": "stdout",
     "output_type": "stream",
     "text": [
      "Uploading Entities to Qdrant.\n"
     ]
    },
    {
     "name": "stderr",
     "output_type": "stream",
     "text": [
      "100%|██████████| 46/46 [00:06<00:00,  7.38it/s]\n"
     ]
    },
    {
     "name": "stdout",
     "output_type": "stream",
     "text": [
      "Uploading Predicates to Qdrant.\n"
     ]
    },
    {
     "name": "stderr",
     "output_type": "stream",
     "text": [
      "100%|██████████| 29/29 [00:03<00:00,  8.67it/s]\n"
     ]
    }
   ],
   "execution_count": 22
  },
  {
   "metadata": {
    "ExecuteTime": {
     "end_time": "2025-03-13T14:45:15.181006Z",
     "start_time": "2025-03-13T14:45:15.152526Z"
    }
   },
   "cell_type": "code",
   "source": [
    "from langchain_openai import ChatOpenAI\n",
    "from langchain_ollama.embeddings import OllamaEmbeddings\n",
    "from langfuse.callback import CallbackHandler\n",
    "from dotenv import load_dotenv\n",
    "import os\n",
    "\n",
    "load_dotenv()\n",
    "langfuse_handler = CallbackHandler(\n",
    "    secret_key=os.getenv(\"LANGFUSE_SECRET_KEY\"),\n",
    "    public_key=os.getenv(\"LANGFUSE_PUBLIC_KEY\"),\n",
    "    host=os.getenv(\"LANGFUSE_HOST\"),\n",
    ")\n",
    "\n",
    "model = ChatOpenAI(model_name=\"Meta-Llama-3.3-70B-Instruct\", base_url=\"https://api.sambanova.ai/v1\", api_key=os.getenv(\"SAMBANOVA_API_KEY\"))\n",
    "embeddings = OllamaEmbeddings(model='nomic-embed-text')"
   ],
   "id": "7cb8867396c22623",
   "outputs": [],
   "execution_count": 23
  },
  {
   "metadata": {
    "ExecuteTime": {
     "end_time": "2025-03-13T14:45:15.207077Z",
     "start_time": "2025-03-13T14:45:15.204500Z"
    }
   },
   "cell_type": "code",
   "source": [
    "target_doc = docs.iloc[0]\n",
    "doc_id = target_doc[\"docid\"]\n",
    "text = target_doc[\"text\"]\n",
    "text"
   ],
   "id": "2dee1009c460ee18",
   "outputs": [
    {
     "data": {
      "text/plain": [
       "'Corfe Castle railway station is a station on the Swanage Railway in the village of Corfe Castle, in the United Kingdom.'"
      ]
     },
     "execution_count": 24,
     "metadata": {},
     "output_type": "execute_result"
    }
   ],
   "execution_count": 24
  },
  {
   "metadata": {},
   "cell_type": "markdown",
   "source": "# Development Space",
   "id": "c47722c60e564900"
  },
  {
   "metadata": {
    "ExecuteTime": {
     "end_time": "2025-03-13T15:25:29.412221Z",
     "start_time": "2025-03-13T15:25:29.398528Z"
    }
   },
   "cell_type": "code",
   "source": [
    "from langchain_core.prompts import PromptTemplate\n",
    "import re\n",
    "\n",
    "\n",
    "def agent_instructor_agent(state):\n",
    "    prompt = PromptTemplate.from_template(\"\"\"\n",
    "    \n",
    "     You are an expert for executing plans in multi-agent-systems and instructing agents. You are embedded within such a MAS with the final goal of processing a text into relations. You will receive a plan from a planning agent within the agent comments alongside with the feedback given by the result checker. In addition, you will receive your agent call traces and the text which is being processed. Your task is then to reason, how the next agent should be called. The planner might give you a hint, which agent should be called next. \n",
    "     \n",
    "    You have access on the following agents:\n",
    "    Entity Extraction Agent\n",
    "    - id: entity_extraction_agent\n",
    "    - use of instruction: The use of an instruction is optional. It will be included in the context of the prompt of the agent and can modify the agents behaviour. Please do not include the original text in the prompt.\n",
    "    - description: Can extract entities from the text.\n",
    "    - state access on: text, instruction\n",
    "    \n",
    "    Relation Extraction Agent\n",
    "    - id: relation_extraction_agent\n",
    "    - use of instruction: The use of an instruction is optional. It will be included in the context of the prompt of the agent and can modify the agents behaviour. Please do not include the original text in the prompt. It can be relevant to provide the relatione extraction agent with already extracted entities or entities it should focus on.\n",
    "    - description: Can extract relations from the text.\n",
    "    - state access on: text, instruction\n",
    "    \n",
    "    URI Detection Agent\n",
    "    - id: entity_extraction_agent\n",
    "    - use of instruction: The use of an instruction is mandatory. The instruction must be a comma separated list of search terms\n",
    "    - description: Based on search terms, can determine if there is an associated entity or relation in the Knowledge Graph. The agent will respond with a mapping of search terms to URIs\n",
    "    - state access on: instruction\n",
    "     \n",
    "    Please include in your response exact one agent call using the following agent call structure:\n",
    "    \n",
    "    <agent_call>\n",
    "        <id>AGENT_ID</id>\n",
    "        <instruction>Put your instructions for the agents here</instruction>\n",
    "    <agent_call/>\n",
    "    \n",
    "    \n",
    "    \n",
    "    Agent Call Trace: {call_trace}\n",
    "    Agent Comments: {comments}\n",
    "    The provided input text: {text}\n",
    "    All intermediate results produced during the process: {results}\n",
    "    \n",
    "    \"\"\")\n",
    "    \n",
    "    response_chain = prompt | model\n",
    "    \n",
    "    response = response_chain.invoke(state, config={\"callbacks\": [langfuse_handler]})\n",
    "    \n",
    "    agent_id_match = re.search(r'<id>(.*?)</id>', response.content, re.DOTALL)\n",
    "    if agent_id_match:\n",
    "        agent_id = agent_id_match.group(1)\n",
    "    else:\n",
    "        agent_id = \"agent_instructor\"\n",
    "        \n",
    "    instruction_match = re.search(r'<instruction>(.*?)</instruction>', response.content, re.DOTALL)\n",
    "    if instruction_match:\n",
    "        instruction = instruction_match.group(1)\n",
    "    else:\n",
    "        instruction = \"\"\n",
    "        \n",
    "    print(response.content)\n",
    "          \n",
    "    return agent_id, instruction"
   ],
   "id": "81aa925e6517e794",
   "outputs": [],
   "execution_count": 37
  },
  {
   "metadata": {
    "ExecuteTime": {
     "end_time": "2025-03-13T14:54:33.210250Z",
     "start_time": "2025-03-13T14:54:30.740179Z"
    }
   },
   "cell_type": "code",
   "source": [
    "mock_plan = \"\"\"\n",
    "Given the inputs, the plan to process the provided text into a triple format for closed information extraction using an underlying Knowledge Graph is as follows:\n",
    "\n",
    "1. **Text Preprocessing**:\n",
    "   - **Task**: Clean and normalize the input text to prepare it for entity and relation extraction.\n",
    "   - **Agent**: No specific agent is required for this step; it can be handled by the Agent Instructor itself or through a generic text preprocessing module.\n",
    "   - **Input**: The provided input text.\n",
    "   - **Output**: Preprocessed text.\n",
    "\n",
    "2. **Entity Extraction**:\n",
    "   - **Task**: Extract entities from the preprocessed text.\n",
    "   - **Agent**: Entity Extraction Agent.\n",
    "   - **Input**: Preprocessed text from Step 1.\n",
    "   - **Output**: List of extracted entities.\n",
    "\n",
    "3. **Relation Extraction**:\n",
    "   - **Task**: Extract relations from the preprocessed text.\n",
    "   - **Agent**: Relation Extraction Agent.\n",
    "   - **Input**: Preprocessed text from Step 1.\n",
    "   - **Output**: List of extracted relations.\n",
    "\n",
    "4. **URI Detection for Entities**:\n",
    "   - **Task**: For each extracted entity, determine if there is an associated entity in the Knowledge Graph.\n",
    "   - **Agent**: URI Detection Agent.\n",
    "   - **Input**: List of extracted entities from Step 2.\n",
    "   - **Output**: List of entities with their corresponding URIs in the Knowledge Graph.\n",
    "\n",
    "5. **URI Detection for Relations**:\n",
    "   - **Task**: For each extracted relation, determine if there is an associated relation in the Knowledge Graph.\n",
    "   - **Agent**: URI Detection Agent.\n",
    "   - **Input**: List of extracted relations from Step 3.\n",
    "   - **Output**: List of relations with their corresponding URIs in the Knowledge Graph.\n",
    "\n",
    "6. **Triple Formation**:\n",
    "   - **Task**: Construct triples using the entities and relations with their URIs.\n",
    "   - **Agent**: No specific agent is required; this can be handled by the Agent Instructor or a generic triple formation module.\n",
    "   - **Input**: Outputs from Steps 4 and 5.\n",
    "   - **Output**: List of triples in the format (subject, predicate, object).\n",
    "\n",
    "7. **Verification and Validation**:\n",
    "   - **Task**: Verify that the formed triples are valid and consistent with the Knowledge Graph.\n",
    "   - **Agent**: This step may involve the URI Detection Agent for validation against the Knowledge Graph.\n",
    "   - **Input**: List of triples from Step 6.\n",
    "   - **Output**: Final validated list of triples.\n",
    "\n",
    "Given that this is the first call, the plan is outlined in its entirety. The next task to be executed is **Text Preprocessing** (Step 1), as it is the initial step in preparing the input text for further processing by the specialized agents.\n",
    "\n",
    "We are currently at the beginning of the plan, with no tasks executed yet. The Agent Call Trace and Agent Comments are empty, and there are no intermediate results. The provided input text is \"Corfe Castle railway station is a station on the Swanage Railway in the village of Corfe Castle, in the United Kingdom.\"\n",
    "\n",
    "\"\"\"\n",
    "comments = [mock_plan]\n",
    "\n",
    "response = agent_instructor_agent({\"text\": text, \"results\": [], \"call_trace\": [], \"comments\": comments, \"instruction\": \"\"})\n",
    "response"
   ],
   "id": "2f06a6ec3a3eb9c7",
   "outputs": [
    {
     "name": "stdout",
     "output_type": "stream",
     "text": [
      "Based on the provided plan and the current state of the system, the next step is to perform **Text Preprocessing**. However, since there is no specific agent assigned to this task, and given the instructions, the system seems to imply that this step can be handled internally or through a generic module not explicitly listed among the agents. But, to proceed according to the instructions and utilize the agents provided, we should move towards the first agent-based task, which is **Entity Extraction**. This task requires the input text to be preprocessed, but since we don't have a specific agent for preprocessing and the instructions suggest moving forward with the agents provided, we'll consider the text preprocessing as an implicit step that can be skipped in terms of agent calls but is essential for the Entity Extraction Agent's effectiveness.\n",
      "\n",
      "Given the plan and the agents available, the next logical step after implicit text preprocessing would be to call the **Entity Extraction Agent**. This agent does not require an instruction for its basic operation, but providing some context or instruction could potentially modify its behavior or focus. However, since the plan does not specify any particular instruction for this initial call, and the goal is to extract entities from the provided text, we will proceed without an additional instruction.\n",
      "\n",
      "Here is the agent call structure for the next step:\n",
      "\n",
      "```xml\n",
      "<agent_call>\n",
      "    <id>entity_extraction_agent</id>\n",
      "    <instruction></instruction>\n",
      "</agent_call>\n",
      "```\n",
      "\n",
      "This call initiates the entity extraction process from the provided text, \"Corfe Castle railway station is a station on the Swanage Railway in the village of Corfe Castle, in the United Kingdom,\" which is the first agent-based task in the outlined plan.\n"
     ]
    },
    {
     "data": {
      "text/plain": [
       "('entity_extraction_agent', '')"
      ]
     },
     "execution_count": 34,
     "metadata": {},
     "output_type": "execute_result"
    }
   ],
   "execution_count": 34
  },
  {
   "metadata": {
    "ExecuteTime": {
     "end_time": "2025-03-13T14:54:44.295828Z",
     "start_time": "2025-03-13T14:54:43.224225Z"
    }
   },
   "cell_type": "code",
   "source": [
    "mock_feedback = \"\"\"\n",
    "Based on the provided plan and the current state of the multi-agent system, I can see that the entity extraction step has been completed, and the output is a list of extracted entities: Corfe Castle railway station, Swanage Railway, Corfe Castle, and United Kingdom.\n",
    "\n",
    "The next step in the plan is Relation Extraction, which involves extracting relations from the preprocessed text. To proceed, I recommend calling the Relation Extraction Agent with the preprocessed text as input.\n",
    "\n",
    "Additionally, I would like to suggest that the preprocessed text should be made available for future reference, as it will be required for the Relation Extraction step. \n",
    "\n",
    "Please proceed with calling the Relation Extraction Agent. I will provide further feedback after reviewing the output of this step.\n",
    "\"\"\"\n",
    "\n",
    "mock_plan_2 = \"\"\"\n",
    "Based on the provided information, we are currently at Step 3 of the plan, which is **Relation Extraction**. The previous step, **Entity Extraction**, has been completed, and the output is a list of extracted entities: Corfe Castle railway station, Swanage Railway, Corfe Castle, and United Kingdom.\n",
    "\n",
    "The next task to be executed is to call the **Relation Extraction Agent** with the preprocessed text as input. The preprocessed text is the same as the original input text, as the **Text Preprocessing** step has not been explicitly mentioned as completed, but it can be assumed that the text has been preprocessed for the entity extraction step.\n",
    "\n",
    "The input for the **Relation Extraction Agent** will be the preprocessed text: \"Corfe Castle railway station is a station on the Swanage Railway in the village of Corfe Castle, in the United Kingdom.\"\n",
    "\n",
    "The expected output from the **Relation Extraction Agent** will be a list of extracted relations from the text.\n",
    "\n",
    "Here is the current state of the plan:\n",
    "\n",
    "1. **Text Preprocessing**: Completed (assumed)\n",
    "2. **Entity Extraction**: Completed\n",
    "\t* Output: Corfe Castle railway station, Swanage Railway, Corfe Castle, United Kingdom\n",
    "3. **Relation Extraction**: Pending\n",
    "\t* Input: Preprocessed text\n",
    "\t* Expected Output: List of extracted relations\n",
    "4. **URI Detection for Entities**: Pending\n",
    "5. **URI Detection for Relations**: Pending\n",
    "6. **Triple Formation**: Pending\n",
    "7. **Verification and Validation**: Pending\n",
    "\n",
    "Please proceed with calling the **Relation Extraction Agent** with the preprocessed text as input. I will provide further feedback after reviewing the output of this step.\n",
    "\n",
    "\"\"\"\n",
    "\n",
    "comments += [mock_feedback, mock_plan_2]\n",
    "\n",
    "response = agent_instructor_agent({\"text\": text, \"results\": [], \"call_trace\": [], \"comments\": comments, \"instruction\": \"\"})\n",
    "response"
   ],
   "id": "8663086ae192814b",
   "outputs": [
    {
     "name": "stdout",
     "output_type": "stream",
     "text": [
      "Based on the provided plan and the current state of the multi-agent system, the next step is to call the Relation Extraction Agent with the preprocessed text as input.\n",
      "\n",
      "\n",
      "<agent_call>\n",
      "    <id>relation_extraction_agent</id>\n",
      "    <instruction>Extract relations from the text, focusing on the entities: Corfe Castle railway station, Swanage Railway, Corfe Castle, and United Kingdom.</instruction>\n",
      "</agent_call>\n"
     ]
    },
    {
     "data": {
      "text/plain": [
       "('relation_extraction_agent',\n",
       " 'Extract relations from the text, focusing on the entities: Corfe Castle railway station, Swanage Railway, Corfe Castle, and United Kingdom.')"
      ]
     },
     "execution_count": 35,
     "metadata": {},
     "output_type": "execute_result"
    }
   ],
   "execution_count": 35
  },
  {
   "metadata": {
    "ExecuteTime": {
     "end_time": "2025-03-13T15:25:36.112281Z",
     "start_time": "2025-03-13T15:25:33.843163Z"
    }
   },
   "cell_type": "code",
   "source": [
    "mock_feedback_2 = \"\"\"\n",
    "Based on the provided plan and the current state of the multi-agent system, I can see that the entity extraction step has been completed, and the output is a list of extracted entities: Corfe Castle railway station, Swanage Railway, Corfe Castle, and United Kingdom.\n",
    "\n",
    "The next step in the plan is Relation Extraction, which involves extracting relations from the preprocessed text. However, I notice that the Relation Extraction Agent has been called multiple times with the same input, and the output is a list of extracted triples. \n",
    "\n",
    "The output of the Relation Extraction Agent is:\n",
    "<triple>Corfe Castle railway station, located on, Swanage Railway</triple>\n",
    "<triple>Corfe Castle railway station, located in, Corfe Castle</triple>\n",
    "<triple>Corfe Castle, located in, United Kingdom</triple>\n",
    "<triple>Corfe Castle railway station, located in, United Kingdom</triple>\n",
    "\n",
    "I recommend proceeding with the URI Detection for Entities step, which involves determining the URIs for the extracted entities in the Knowledge Graph. The input for this step will be the list of extracted entities: Corfe Castle railway station, Swanage Railway, Corfe Castle, and United Kingdom.\n",
    "\n",
    "Additionally, I suggest proceeding with the URI Detection for Relations step, which involves determining the URIs for the extracted relations in the Knowledge Graph. The input for this step will be the list of extracted relations: located on, located in.\n",
    "\n",
    "Please proceed with calling the URI Detection Agent for both entities and relations. I will provide further feedback after reviewing the output of these steps. \n",
    "\n",
    "The current state of the plan is:\n",
    "1. **Text Preprocessing**: Completed (assumed)\n",
    "2. **Entity Extraction**: Completed\n",
    "\t* Output: Corfe Castle railway station, Swanage Railway, Corfe Castle, United Kingdom\n",
    "3. **Relation Extraction**: Completed\n",
    "\t* Output: <triple>Corfe Castle railway station, located on, Swanage Railway</triple>\n",
    "\t\t\t\t <triple>Corfe Castle railway station, located in, Corfe Castle</triple>\n",
    "\t\t\t\t <triple>Corfe Castle, located in, United Kingdom</triple>\n",
    "\t\t\t\t <triple>Corfe Castle railway station, located in, United Kingdom</triple>\n",
    "4. **URI Detection for Entities**: Pending\n",
    "5. **URI Detection for Relations**: Pending\n",
    "6. **Triple Formation**: Pending\n",
    "7. **Verification and Validation**: Pending\n",
    "\n",
    "Please proceed with the next steps. I will review the output and provide further feedback.\n",
    "\n",
    "\"\"\"\n",
    "\n",
    "mock_plan_3 = \"\"\"\n",
    "Based on the provided plan and the current state of the multi-agent system, we are currently at Step 4 and 5 of the plan, which are **URI Detection for Entities** and **URI Detection for Relations**. \n",
    "\n",
    "The previous steps, **Entity Extraction** and **Relation Extraction**, have been completed. The output of the **Entity Extraction** step is a list of extracted entities: Corfe Castle railway station, Swanage Railway, Corfe Castle, and United Kingdom. The output of the **Relation Extraction** step is a list of extracted triples.\n",
    "\n",
    "The next tasks to be executed are to call the **URI Detection Agent** for both entities and relations. \n",
    "\n",
    "For **URI Detection for Entities**, the input will be the list of extracted entities: Corfe Castle railway station, Swanage Railway, Corfe Castle, and United Kingdom. The expected output will be a list of entities with their corresponding URIs in the Knowledge Graph.\n",
    "\n",
    "For **URI Detection for Relations**, the input will be the list of extracted relations: located on, located in. The expected output will be a list of relations with their corresponding URIs in the Knowledge Graph.\n",
    "\n",
    "Here is the current state of the plan:\n",
    "\n",
    "1. **Text Preprocessing**: Completed (assumed)\n",
    "2. **Entity Extraction**: Completed\n",
    "\t* Output: Corfe Castle railway station, Swanage Railway, Corfe Castle, United Kingdom\n",
    "3. **Relation Extraction**: Completed\n",
    "\t* Output: \n",
    "\t\t<triple>Corfe Castle railway station, located on, Swanage Railway</triple>\n",
    "\t\t<triple>Corfe Castle railway station, located in, Corfe Castle</triple>\n",
    "\t\t<triple>Corfe Castle, located in, United Kingdom</triple>\n",
    "\t\t<triple>Corfe Castle railway station, located in, United Kingdom</triple>\n",
    "4. **URI Detection for Entities**: Pending\n",
    "5. **URI Detection for Relations**: Pending\n",
    "6. **Triple Formation**: Pending\n",
    "7. **Verification and Validation**: Pending\n",
    "\n",
    "Please proceed with calling the **URI Detection Agent** for both entities and relations. I will provide further feedback after reviewing the output of these steps. \n",
    "\n",
    "The next task is to execute **URI Detection for Entities** and **URI Detection for Relations**. \n",
    "\n",
    "Please call the **URI Detection Agent** with the following inputs:\n",
    "- Entities: Corfe Castle railway station, Swanage Railway, Corfe Castle, United Kingdom\n",
    "- Relations: located on, located in\n",
    "\n",
    "I will review the output and provide further feedback.\n",
    "\n",
    "\"\"\"\n",
    "\n",
    "comments += [mock_feedback_2, mock_plan_3]\n",
    "\n",
    "response = agent_instructor_agent({\"text\": text, \"results\": [], \"call_trace\": [], \"comments\": comments, \"instruction\": \"\"})\n",
    "response"
   ],
   "id": "77952894dd3716e3",
   "outputs": [
    {
     "name": "stdout",
     "output_type": "stream",
     "text": [
      "Based on the provided plan and the current state of the multi-agent system, we are currently at Step 4 and 5 of the plan, which are **URI Detection for Entities** and **URI Detection for Relations**.\n",
      "\n",
      "\n",
      "The next tasks to be executed are to call the **URI Detection Agent** for both entities and relations. \n",
      "\n",
      "\n",
      "For **URI Detection for Entities**, the input will be the list of extracted entities: Corfe Castle railway station, Swanage Railway, Corfe Castle, and United Kingdom. The expected output will be a list of entities with their corresponding URIs in the Knowledge Graph.\n",
      "\n",
      "\n",
      "For **URI Detection for Relations**, the input will be the list of extracted relations: located on, located in. The expected output will be a list of relations with their corresponding URIs in the Knowledge Graph.\n",
      "\n",
      "\n",
      "Here is the current state of the plan:\n",
      "\n",
      "\n",
      "1. **Text Preprocessing**: Completed (assumed)\n",
      "2. **Entity Extraction**: Completed\n",
      "\t* Output: Corfe Castle railway station, Swanage Railway, Corfe Castle, United Kingdom\n",
      "3. **Relation Extraction**: Completed\n",
      "\t* Output: \n",
      "\t\t<triple>Corfe Castle railway station, located on, Swanage Railway</triple>\n",
      "\t\t<triple>Corfe Castle railway station, located in, Corfe Castle</triple>\n",
      "\t\t<triple>Corfe Castle, located in, United Kingdom</triple>\n",
      "\t\t<triple>Corfe Castle railway station, located in, United Kingdom</triple>\n",
      "4. **URI Detection for Entities**: Pending\n",
      "5. **URI Detection for Relations**: Pending\n",
      "6. **Triple Formation**: Pending\n",
      "7. **Verification and Validation**: Pending\n",
      "\n",
      "\n",
      "Please proceed with calling the **URI Detection Agent** for both entities and relations.\n",
      "\n",
      "\n",
      "The next task is to execute **URI Detection for Entities** and **URI Detection for Relations**.\n",
      "\n",
      "\n",
      "Please call the **URI Detection Agent** with the following inputs:\n",
      "- Entities: Corfe Castle railway station, Swanage Railway, Corfe Castle, United Kingdom\n",
      "- Relations: located on, located in\n",
      "\n",
      "\n",
      "I will review the output and provide further feedback.\n",
      "\n",
      "\n",
      "<agent_call>\n",
      "    <id>uri_detection_agent</id>\n",
      "    <instruction>Corfe Castle railway station, Swanage Railway, Corfe Castle, United Kingdom</instruction>\n",
      "</agent_call/>\n"
     ]
    },
    {
     "data": {
      "text/plain": [
       "('uri_detection_agent',\n",
       " 'Corfe Castle railway station, Swanage Railway, Corfe Castle, United Kingdom')"
      ]
     },
     "execution_count": 38,
     "metadata": {},
     "output_type": "execute_result"
    }
   ],
   "execution_count": 38
  },
  {
   "metadata": {},
   "cell_type": "code",
   "outputs": [],
   "execution_count": null,
   "source": "",
   "id": "db0496f3d83f40bd"
  }
 ],
 "metadata": {
  "kernelspec": {
   "display_name": "Python 3",
   "language": "python",
   "name": "python3"
  },
  "language_info": {
   "codemirror_mode": {
    "name": "ipython",
    "version": 2
   },
   "file_extension": ".py",
   "mimetype": "text/x-python",
   "name": "python",
   "nbconvert_exporter": "python",
   "pygments_lexer": "ipython2",
   "version": "2.7.6"
  }
 },
 "nbformat": 4,
 "nbformat_minor": 5
}
