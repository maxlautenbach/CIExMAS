{
 "cells": [
  {
   "metadata": {},
   "cell_type": "markdown",
   "source": "# Setup",
   "id": "d180eaa2091349c8"
  },
  {
   "cell_type": "code",
   "id": "initial_id",
   "metadata": {
    "collapsed": true,
    "ExecuteTime": {
     "end_time": "2025-03-13T16:03:59.315206Z",
     "start_time": "2025-03-13T16:03:48.169549Z"
    }
   },
   "source": [
    "import helper_tools.parser as parser\n",
    "import importlib\n",
    "import pandas as pd\n",
    "\n",
    "importlib.reload(parser)\n",
    "\n",
    "relation_df, entity_df, docs = parser.synthie_parser(\"train\")"
   ],
   "outputs": [
    {
     "data": {
      "text/plain": [
       "Fetching 27 files:   0%|          | 0/27 [00:00<?, ?it/s]"
      ],
      "application/vnd.jupyter.widget-view+json": {
       "version_major": 2,
       "version_minor": 0,
       "model_id": "8c72f27845a54992848aa241c7e53854"
      }
     },
     "metadata": {},
     "output_type": "display_data"
    },
    {
     "name": "stderr",
     "output_type": "stream",
     "text": [
      "100%|██████████| 10/10 [00:00<00:00, 6989.34it/s]\n"
     ]
    },
    {
     "name": "stdout",
     "output_type": "stream",
     "text": [
      "Uploading Entities to Qdrant.\n"
     ]
    },
    {
     "name": "stderr",
     "output_type": "stream",
     "text": [
      "100%|██████████| 46/46 [00:07<00:00,  6.28it/s]\n"
     ]
    },
    {
     "name": "stdout",
     "output_type": "stream",
     "text": [
      "Uploading Predicates to Qdrant.\n"
     ]
    },
    {
     "name": "stderr",
     "output_type": "stream",
     "text": [
      "100%|██████████| 29/29 [00:03<00:00,  8.20it/s]\n"
     ]
    }
   ],
   "execution_count": 6
  },
  {
   "metadata": {
    "ExecuteTime": {
     "end_time": "2025-03-13T16:03:59.367518Z",
     "start_time": "2025-03-13T16:03:59.331559Z"
    }
   },
   "cell_type": "code",
   "source": [
    "from langchain_openai import ChatOpenAI\n",
    "from langchain_ollama.embeddings import OllamaEmbeddings\n",
    "from langfuse.callback import CallbackHandler\n",
    "from dotenv import load_dotenv\n",
    "import os\n",
    "\n",
    "load_dotenv()\n",
    "langfuse_handler = CallbackHandler(\n",
    "    secret_key=os.getenv(\"LANGFUSE_SECRET_KEY\"),\n",
    "    public_key=os.getenv(\"LANGFUSE_PUBLIC_KEY\"),\n",
    "    host=os.getenv(\"LANGFUSE_HOST\"),\n",
    ")\n",
    "\n",
    "model = ChatOpenAI(model_name=\"Meta-Llama-3.3-70B-Instruct\", base_url=\"https://api.sambanova.ai/v1\", api_key=os.getenv(\"SAMBANOVA_API_KEY\"))\n",
    "embeddings = OllamaEmbeddings(model='nomic-embed-text')"
   ],
   "id": "6d357659da5e4afd",
   "outputs": [],
   "execution_count": 7
  },
  {
   "metadata": {
    "ExecuteTime": {
     "end_time": "2025-03-13T16:03:59.387446Z",
     "start_time": "2025-03-13T16:03:59.384297Z"
    }
   },
   "cell_type": "code",
   "source": [
    "target_doc = docs.iloc[0]\n",
    "doc_id = target_doc[\"docid\"]\n",
    "text = target_doc[\"text\"]\n",
    "text"
   ],
   "id": "2528cff98f514fda",
   "outputs": [
    {
     "data": {
      "text/plain": [
       "'Corfe Castle railway station is a station on the Swanage Railway in the village of Corfe Castle, in the United Kingdom.'"
      ]
     },
     "execution_count": 8,
     "metadata": {},
     "output_type": "execute_result"
    }
   ],
   "execution_count": 8
  },
  {
   "metadata": {
    "ExecuteTime": {
     "end_time": "2025-03-13T16:03:59.466451Z",
     "start_time": "2025-03-13T16:03:59.417805Z"
    }
   },
   "cell_type": "code",
   "source": [
    "from langchain_qdrant import QdrantVectorStore\n",
    "from qdrant_client import QdrantClient\n",
    "\n",
    "client = QdrantClient(\"localhost\", port=6333)\n",
    "vector_store = QdrantVectorStore(\n",
    "    client=client,\n",
    "    collection_name=\"wikidata_labels\",\n",
    "    embedding=embeddings\n",
    ")"
   ],
   "id": "703414f8d466629d",
   "outputs": [],
   "execution_count": 9
  },
  {
   "metadata": {
    "ExecuteTime": {
     "end_time": "2025-03-13T16:06:12.618301Z",
     "start_time": "2025-03-13T16:06:12.447612Z"
    }
   },
   "cell_type": "code",
   "source": [
    "from langgraph.types import Command\n",
    "from typing import TypedDict, Literal\n",
    "from langchain_core.prompts import PromptTemplate\n",
    "import re\n",
    "from langchain_core.messages import AIMessage\n",
    "from langgraph.graph import StateGraph, MessagesState, START, END\n",
    "\n",
    "class cIEState(TypedDict):\n",
    "    text: str\n",
    "    call_trace: list[tuple[str]]\n",
    "    results: list[str]\n",
    "    comments: list[AIMessage]\n",
    "    instruction: str\n",
    "    \n",
    "def planner(state: cIEState) -> Command[Literal[\"agent_instructor_agent\"]]:\n",
    "    prompt = PromptTemplate.from_template(\"\"\"\n",
    "    You are an expert in planning and executing tasks within multi-agent systems. Your role is to design and refine a detailed plan that processes a given text into a triple format, specifically for closed information extraction using an underlying Knowledge Graph. You design the plan for the agent instructor agent, which should execute your plan, call and instruct agents. It is only able to execute one step at a time. Your plan must be based on the following inputs:\n",
    "    - Agent Call Trace\n",
    "    - Agent Comments\n",
    "    - The provided input text\n",
    "    - All intermediate results produced during the process\n",
    "    \n",
    "    For executing the tasks, you can include the following agents in the plan:\n",
    "    - **Entity Extraction Agent:** Can extract entities from the text.\n",
    "    - **Relation Extraction Agent:** Can extract relations from the text.\n",
    "    - **URI Detection Agent:** Based on search terms, can determine if there is an associated entity or relation in the Knowledge Graph.\n",
    "    \n",
    "    Your plan should clearly outline the steps required to achieve the goal, ensuring that each phase is actionable and verifiable. The plan will be passed to the Agent Instructor, who will execute the steps through a series of Agent Calls. You will be asked to build up a plan, as long as no final result is done. Your response should be precise, structured, and demonstrate deep expertise in orchestrating complex multi-agent systems for closed Information Extraction tasks. Please line up the plan that you have, to accomplish the task. Do not include tasks that are already worked on. Your plan does not have to include steps like triple formation or verification as this is either covered by the result checker agent or externally.\n",
    "    \n",
    "    If you are called for the first time write down the full plan. If you are called afterwards just say what the next task is and where in your plan we are.\n",
    "    \n",
    "    Please base your plan on the following information:\n",
    "    \n",
    "    Agent Call Trace: {call_trace}\n",
    "    Agent Comments: {comments}\n",
    "    The provided input text: {text}\n",
    "    All intermediate results produced during the process: {results}\n",
    "    \"\"\")\n",
    "   \n",
    "    response_chain = prompt | model\n",
    "    \n",
    "    response = response_chain.invoke(state)\n",
    "          \n",
    "    return Command(goto=\"agent_instructor_agent\", update={\"comments\": state[\"comments\"] + [response]})\n",
    "\n",
    "def agent_instructor_agent(state: cIEState) -> Command[Literal[\"entity_extraction_agent\", \"relation_extraction_agent\", \"uri_detection_agent\"]]:\n",
    "    prompt = PromptTemplate.from_template(\"\"\"\n",
    "    \n",
    "     You are an expert for executing plans in multi-agent-systems and instructing agents. You are embedded within such a MAS with the final goal of processing a text into relations. You will receive a plan from a planning agent within the agent comments alongside with the feedback given by the result checker. In addition, you will receive your agent call traces and the text which is being processed. Your task is then to reason, how the next agent should be called. The planner might give you a hint, which agent should be called next. \n",
    "     \n",
    "    You have access on the following agents:\n",
    "    Entity Extraction Agent\n",
    "    - id: entity_extraction_agent\n",
    "    - use of instruction: The use of an instruction is optional. It will be included in the context of the prompt of the agent and can modify the agents behaviour. Please do not include the original text in the prompt.\n",
    "    - description: Can extract entities from the text.\n",
    "    - state access on: text, instruction\n",
    "    \n",
    "    Relation Extraction Agent\n",
    "    - id: relation_extraction_agent\n",
    "    - use of instruction: The use of an instruction is optional. It will be included in the context of the prompt of the agent and can modify the agents behaviour. Please do not include the original text in the prompt. It can be relevant to provide the relatione extraction agent with already extracted entities or entities it should focus on.\n",
    "    - description: Can extract relations from the text.\n",
    "    - state access on: text, instruction\n",
    "    \n",
    "    URI Detection Agent\n",
    "    - id: uri_detection_agent\n",
    "    - use of instruction: The use of an instruction is mandatory. The instruction must be a comma separated list of search terms\n",
    "    - description: Based on search terms, can determine if there is an associated entity or relation in the Knowledge Graph. The agent will respond with a mapping of search terms to URIs\n",
    "    - state access on: instruction\n",
    "     \n",
    "    Please include in your response exact one agent call using the following agent call structure:\n",
    "    \n",
    "    <agent_call>\n",
    "        <id>AGENT_ID</id>\n",
    "        <instruction>Put your instructions for the agents here</instruction>\n",
    "    <agent_call/>\n",
    "    \n",
    "    \n",
    "    \n",
    "    Agent Call Trace: {call_trace}\n",
    "    Agent Comments: {comments}\n",
    "    The provided input text: {text}\n",
    "    All intermediate results produced during the process: {results}\n",
    "    \n",
    "    \"\"\")\n",
    "    \n",
    "    response_chain = prompt | model\n",
    "    \n",
    "    response = response_chain.invoke(state)\n",
    "    \n",
    "    agent_id_match = re.search(r'<id>(.*?)</id>', response.content, re.DOTALL)\n",
    "    if agent_id_match:\n",
    "        agent_id = agent_id_match.group(1)\n",
    "    else:\n",
    "        agent_id = \"agent_instructor\"\n",
    "        \n",
    "    instruction_match = re.search(r'<instruction>(.*?)</instruction>', response.content, re.DOTALL)\n",
    "    if instruction_match:\n",
    "        instruction = instruction_match.group(1)\n",
    "    else:\n",
    "        instruction = \"\"\n",
    "        \n",
    "    return Command(goto=agent_id, update={\"instruction\": instruction, \"call_trace\": state[\"call_trace\"] + [(agent_id, instruction)]})\n",
    "\n",
    "def entity_extraction_agent(state: cIEState) -> Command[Literal[\"result_checker_agent\"]]:\n",
    "    prompt = PromptTemplate.from_template(\"\"\"\n",
    "    \n",
    "    You are an expert for entity extraction out of text in a multi-agent-system for closed information extraction. You will receive a text out of the state from which you should extract all entities. In addition, the agent_instructor might give you an instruction, which you should follow. Your task is then to follow the optional instruction as well as this system prompt and return a comma separated list of entities that are in the text, which is enclosed in <result>insert list here</result>. \n",
    "    \n",
    "    The provided input text: {text}\n",
    "    Instruction: {instruction}\n",
    "    \n",
    "    \"\"\")\n",
    "    \n",
    "    response_chain = prompt | model\n",
    "    \n",
    "    response = response_chain.invoke(state)\n",
    "    \n",
    "    result_match = re.search(r'<result>(.*?)</result>', response.content, re.DOTALL)\n",
    "    if result_match:\n",
    "        result = result_match.group(1)\n",
    "    else:\n",
    "        result = \"\"\n",
    "    \n",
    "    result = f\"Output of entity_extraction_agent: {result}\"\n",
    "    \n",
    "    return Command(goto=\"result_checker_agent\", update={\"instruction\": \"\", \"results\": state[\"results\"] + [result]})\n",
    "\n",
    "def relation_extraction_agent(state: cIEState) -> Command[Literal[\"result_checker_agent\"]]:\n",
    "    prompt = PromptTemplate.from_template(\"\"\"\n",
    "    \n",
    "    You are an expert for relation extraction out of text in a multi-agent-system for closed information extraction. You will receive a text out of the state from which you should extract all relation. In addition, the agent_instructor might give you an instruction, which you should follow. Your task is then to follow the optional instruction as well as this system prompt and return a list of all triples, where each triple is enclosed in <triple> tags and subject, predicate and object are comma separated from each other. Enclose your pure result in <result> tags\n",
    "    \n",
    "    The provided input text: {text}\n",
    "    Instruction: {instruction}\n",
    "    \n",
    "    \"\"\")\n",
    "    \n",
    "    response_chain = prompt | model\n",
    "    \n",
    "    response = response_chain.invoke(state)\n",
    "    \n",
    "    result_match = re.search(r'<result>(.*?)</result>', response.content, re.DOTALL)\n",
    "    if result_match:\n",
    "        result = result_match.group(1)\n",
    "    else:\n",
    "        result = \"\"\n",
    "        \n",
    "    result = f\"Output of relation_extraction_agent: {result}\"\n",
    "    \n",
    "    return Command(goto=\"result_checker_agent\", update={\"instruction\": \"\", \"results\": state[\"results\"] + [result]})\n",
    "\n",
    "def uri_detection_agent(state: cIEState) -> Command[Literal[\"result_checker_agent\"]]:\n",
    "    search_terms = state[\"instruction\"].split(\",\")\n",
    "    response = \"\"\n",
    "    for term in search_terms:\n",
    "        response += f'Most Similar Detection Results for {term}:{[{\"label\": doc.page_content, \"uri\": doc.metadata[\"uri\"]} for doc in vector_store.similarity_search(term, k=3)]}\\n\\n'\n",
    "    response = response.replace(\"},\", \"},\\n\")\n",
    "        \n",
    "    prompt_template = PromptTemplate.from_template(\n",
    "        \"\"\"\n",
    "        You are a formatting agent. Your task is to check and format the output of the URI detection tool. The tool will give a response like this:\n",
    "        Most Similar Detection Result for Olaf Scholz: ('label': Angela Merkel, 'uri': 'http://www.wikidata.org/entity/Q567)\n",
    "        \n",
    "        Your task is to check the response and output an overall mapping of search terms to URIs. If something doesn't match, please response the non mapping search term with the advise, that those might not be present in the knowledge graph.\n",
    "        \n",
    "        URI detection tool response:\n",
    "        \n",
    "        {response}\n",
    "        \"\"\"\n",
    "    )\n",
    "    \n",
    "    chain = prompt_template | model\n",
    "    result = chain.invoke({\"response\": response})\n",
    "    \n",
    "    result = f\"Output of uri_detection_agent: {result}\"\n",
    "    \n",
    "    return Command(goto=\"result_checker_agent\", update={\"instruction\": \"\", \"results\": state[\"results\"] + [result]})\n",
    "\n",
    "def result_checker_agent(state: cIEState) -> Command[Literal[\"planner\", END]]:\n",
    "    prompt = PromptTemplate.from_template(\"\"\"\n",
    "    You are an expert in monitoring multi-agent-systems. In this case you are giving feedback on the process to the planning agent. Therefore, you can see the plans made, as well as agent calls and the history of comments. In addition, you will have access to a text, that should be transformed into triplets, which can be inserted into an underlying knowledge graph. This task often requires multiple iterations to really catch every entity and relation especially those, that are not visible first glimpse. As long as you think the result can be improved, just response with your feedback, which will be processed by the planner in the next step. Really push the result to the edge, what an LLM can do.\n",
    "    \n",
    "    In addition to giving feedback, your task is to decide, when the multi-agent-system has come to a reasonable result. If so, just include <FINISH_MAS> in your response. A reasonable result would be, if the result contains just URIs of all relation and all entities and relations can be mapped into the underlying knowledge graph and all triples can be generated. The output will afterwards be formatted by another agent before getting to the user. Please never mention <FINISH_MAS> just in a reasoning response, as it will stop the iteration instantly. \n",
    "    \n",
    "    Agent Call Trace: {call_trace}\n",
    "    Agent Comments: {comments}\n",
    "    The provided input text: {text}\n",
    "    All intermediate results produced during the process: {results}\n",
    "    \"\"\")\n",
    "    \n",
    "    response_chain = prompt | model\n",
    "    \n",
    "    response = response_chain.invoke(state)\n",
    "    \n",
    "    next_agent = \"planner\"\n",
    "    \n",
    "    if \"<FINISH_MAS>\" in response.content:\n",
    "        next_agent = END\n",
    "          \n",
    "    return Command(goto=next_agent, update={\"comments\": state[\"comments\"] + [response]})\n",
    "\n",
    "builder = StateGraph(cIEState)\n",
    "builder.add_node(planner)\n",
    "builder.add_node(agent_instructor_agent)\n",
    "builder.add_node(entity_extraction_agent)\n",
    "builder.add_node(relation_extraction_agent)\n",
    "builder.add_node(uri_detection_agent)\n",
    "builder.add_node(result_checker_agent)\n",
    "\n",
    "builder.add_edge(START, \"planner\")\n",
    "\n",
    "graph = builder.compile()"
   ],
   "id": "41fa1adc21242777",
   "outputs": [],
   "execution_count": 13
  },
  {
   "metadata": {
    "ExecuteTime": {
     "end_time": "2025-03-13T16:06:39.642923Z",
     "start_time": "2025-03-13T16:06:14.037270Z"
    }
   },
   "cell_type": "code",
   "source": "response_state = graph.invoke({\"text\": text, \"results\": [], \"call_trace\": [], \"comments\": []}, config={\"callbacks\": [langfuse_handler]})",
   "id": "a4c4f50fe945aab7",
   "outputs": [],
   "execution_count": 14
  },
  {
   "metadata": {
    "ExecuteTime": {
     "end_time": "2025-03-13T16:04:43.425642Z",
     "start_time": "2025-03-13T16:04:43.410117Z"
    }
   },
   "cell_type": "code",
   "source": "response_state",
   "id": "fd18d19f9fdafd1c",
   "outputs": [
    {
     "data": {
      "text/plain": [
       "{'text': 'Corfe Castle railway station is a station on the Swanage Railway in the village of Corfe Castle, in the United Kingdom.',\n",
       " 'call_trace': [('entity_extraction_agent', ''),\n",
       "  ('entity_extraction_agent',\n",
       "   'Extract entities from the text and provide a confidence score for each entity. Focus on extracting entities such as \"Corfe Castle railway station\", \"Swanage Railway\", \"Corfe Castle\", and \"United Kingdom\".'),\n",
       "  ('relation_extraction_agent',\n",
       "   'Extract relations among the entities \"Corfe Castle railway station\", \"Swanage Railway\", \"Corfe Castle\", and \"United Kingdom\" from the text, and provide a confidence score or probability distribution for each extracted relation.')],\n",
       " 'results': ['Output of entity_extraction_agent: ',\n",
       "  'Output of entity_extraction_agent: Corfe Castle railway station (1), Swanage Railway (1), Corfe Castle (1), United Kingdom (1)',\n",
       "  'Output of relation_extraction_agent: \\n<triple>Corfe Castle railway station, located on, Swanage Railway, 0.9</triple>\\n<triple>Corfe Castle railway station, located in, Corfe Castle, 0.9</triple>\\n<triple>Corfe Castle railway station, located in, United Kingdom, 0.9</triple>\\n<triple>Swanage Railway, serves, Corfe Castle, 0.8</triple>\\n<triple>Swanage Railway, located in, United Kingdom, 0.9</triple>\\n<triple>Corfe Castle, located in, United Kingdom, 0.9</triple>\\n'],\n",
       " 'comments': [AIMessage(content='Given the initial state of the system with no prior agent calls, comments, or intermediate results, the plan to process the provided input text into a triple format for closed information extraction using the underlying Knowledge Graph will involve the following steps:\\n\\n1. **Entity Extraction**: The first step is to extract entities from the input text. This involves calling the **Entity Extraction Agent** to identify and list all entities mentioned in the text. The input text is: \"Corfe Castle railway station is a station on the Swanage Railway in the village of Corfe Castle, in the United Kingdom.\"\\n\\n2. **Relation Extraction**: After identifying the entities, the next step is to extract relations among these entities. This will be done by calling the **Relation Extraction Agent**. The agent will analyze the text to determine how the extracted entities are related to each other.\\n\\n3. **URI Detection for Entities**: With the entities extracted, the next step is to determine if there are associated entities in the Knowledge Graph. This involves calling the **URI Detection Agent** for each extracted entity, providing the entity names as search terms to find corresponding URIs in the Knowledge Graph.\\n\\n4. **URI Detection for Relations**: Similarly, after extracting relations, the plan involves calling the **URI Detection Agent** to check if there are URIs in the Knowledge Graph that correspond to the extracted relations. This step ensures that the relations between entities can be properly represented in the triple format.\\n\\n5. **Iterative Refinement**: Depending on the outcomes of the URI detection steps, there might be a need for iterative refinement. This could involve re-calling the **Entity Extraction Agent** or **Relation Extraction Agent** with more specific parameters or contexts to improve the accuracy of the extracted information, based on feedback from the URI detection steps.\\n\\nGiven the current state, we are at the beginning of the plan. The next task is to call the **Entity Extraction Agent** to extract entities from the provided input text: \"Corfe Castle railway station is a station on the Swanage Railway in the village of Corfe Castle, in the United Kingdom.\"\\n\\nThe current position in the plan is Step 1: **Entity Extraction**.', additional_kwargs={'refusal': None}, response_metadata={'token_usage': {'completion_tokens': 435, 'prompt_tokens': 464, 'total_tokens': 899, 'completion_tokens_details': None, 'prompt_tokens_details': None, 'completion_tokens_after_first_per_sec': 299.72722096553395, 'completion_tokens_after_first_per_sec_first_ten': 302.2321182382851, 'completion_tokens_per_sec': 288.74466687046043, 'end_time': 1741881843.570188, 'is_last_response': True, 'start_time': 1741881842.0549746, 'stop_reason': 'stop', 'time_to_first_token': 0.067230224609375, 'total_latency': 1.5065213315096626, 'total_tokens_per_sec': 596.7389781989515}, 'model_name': 'Meta-Llama-3.3-70B-Instruct', 'system_fingerprint': 'fastcoe', 'finish_reason': 'stop', 'logprobs': None}, id='run-c7b38aa9-37fc-4b1b-acf2-5fc7ada33e07-0', usage_metadata={'input_tokens': 464, 'output_tokens': 435, 'total_tokens': 899, 'input_token_details': {}, 'output_token_details': {}}),\n",
       "  AIMessage(content='Based on the provided input text and the current state of the plan, I will give feedback on the entity extraction step.\\n\\nThe entity extraction agent has been called, but the output is empty. To improve the result, I suggest re-calling the entity extraction agent with more specific parameters or contexts to extract entities from the input text. The input text mentions several potential entities, such as \"Corfe Castle railway station\", \"Swanage Railway\", \"Corfe Castle\", and \"United Kingdom\".\\n\\nI expect the entity extraction agent to extract at least the following entities:\\n\\n* Corfe Castle railway station\\n* Swanage Railway\\n* Corfe Castle\\n* United Kingdom\\n\\nPlease re-call the entity extraction agent to extract these entities and provide the output.\\n\\nAdditionally, I would like to see the entity extraction agent provide a confidence score or a probability distribution over the extracted entities to indicate the uncertainty of the extraction process.\\n\\nPlease proceed with re-calling the entity extraction agent and provide the updated output. \\n\\nThe next steps will be to extract relations among the extracted entities and to detect URIs for the entities and relations in the Knowledge Graph. \\n\\nI will continue to monitor the process and provide feedback until a reasonable result is achieved. \\n\\nPlease provide the updated output of the entity extraction agent.', additional_kwargs={'refusal': None}, response_metadata={'token_usage': {'completion_tokens': 256, 'prompt_tokens': 1083, 'total_tokens': 1339, 'completion_tokens_details': None, 'prompt_tokens_details': None, 'completion_tokens_after_first_per_sec': 287.1850589851097, 'completion_tokens_after_first_per_sec_first_ten': 288.7396936790115, 'completion_tokens_per_sec': 256.49888687589134, 'end_time': 1741881845.834759, 'is_last_response': True, 'start_time': 1741881844.8353865, 'stop_reason': 'stop', 'time_to_first_token': 0.11144328117370605, 'total_latency': 0.9980550134857593, 'total_tokens_per_sec': 1341.6094122141349}, 'model_name': 'Meta-Llama-3.3-70B-Instruct', 'system_fingerprint': 'fastcoe', 'finish_reason': 'stop', 'logprobs': None}, id='run-5512201d-aa91-4d09-a6ab-3e1576fc3dac-0', usage_metadata={'input_tokens': 1083, 'output_tokens': 256, 'total_tokens': 1339, 'input_token_details': {}, 'output_token_details': {}}),\n",
       "  AIMessage(content='Based on the provided information, we are currently at Step 1 of the plan: **Entity Extraction**. The Entity Extraction Agent has been called, but the output is empty. To improve the result, I suggest re-calling the Entity Extraction Agent with more specific parameters or contexts to extract entities from the input text.\\n\\nThe next task is to re-call the **Entity Extraction Agent** to extract entities from the provided input text: \"Corfe Castle railway station is a station on the Swanage Railway in the village of Corfe Castle, in the United Kingdom.\" The expected output should include at least the following entities:\\n\\n* Corfe Castle railway station\\n* Swanage Railway\\n* Corfe Castle\\n* United Kingdom\\n\\nAdditionally, I would like to see the Entity Extraction Agent provide a confidence score or a probability distribution over the extracted entities to indicate the uncertainty of the extraction process.\\n\\nPlease re-call the Entity Extraction Agent and provide the updated output. The current position in the plan is still Step 1: **Entity Extraction**. \\n\\nHere is the full plan for reference:\\n\\n1. **Entity Extraction**: Extract entities from the input text using the Entity Extraction Agent.\\n2. **Relation Extraction**: Extract relations among the extracted entities using the Relation Extraction Agent.\\n3. **URI Detection for Entities**: Detect URIs for the extracted entities in the Knowledge Graph using the URI Detection Agent.\\n4. **URI Detection for Relations**: Detect URIs for the extracted relations in the Knowledge Graph using the URI Detection Agent.\\n5. **Iterative Refinement**: Refine the extracted information through iterative calls to the Entity Extraction Agent, Relation Extraction Agent, or URI Detection Agent, based on feedback from the previous steps.\\n\\nWe will proceed with the plan once the updated output from the Entity Extraction Agent is available.', additional_kwargs={'refusal': None}, response_metadata={'token_usage': {'completion_tokens': 359, 'prompt_tokens': 1800, 'total_tokens': 2159, 'completion_tokens_details': None, 'prompt_tokens_details': None, 'completion_tokens_after_first_per_sec': 467.8620992213831, 'completion_tokens_after_first_per_sec_first_ten': 472.75231691200304, 'completion_tokens_per_sec': 385.7401843507329, 'end_time': 1741881847.0886085, 'is_last_response': True, 'start_time': 1741881846.1521304, 'stop_reason': 'stop', 'time_to_first_token': 0.1712954044342041, 'total_latency': 0.930678250709759, 'total_tokens_per_sec': 2319.813532070285}, 'model_name': 'Meta-Llama-3.3-70B-Instruct', 'system_fingerprint': 'fastcoe', 'finish_reason': 'stop', 'logprobs': None}, id='run-50cb62cd-5ae5-4e9b-b186-fb7f4d501ff1-0', usage_metadata={'input_tokens': 1800, 'output_tokens': 359, 'total_tokens': 2159, 'input_token_details': {}, 'output_token_details': {}}),\n",
       "  AIMessage(content='Based on the provided input text and the current state of the plan, I will give feedback on the entity extraction step.\\n\\nThe entity extraction agent has been called, and the output includes the following entities:\\n\\n* Corfe Castle railway station (1)\\n* Swanage Railway (1)\\n* Corfe Castle (1)\\n* United Kingdom (1)\\n\\nThe confidence scores for the extracted entities are all 1, indicating high confidence.\\n\\nTo improve the result, I suggest proceeding with the next step in the plan, which is **Relation Extraction**. The Relation Extraction Agent should analyze the text to determine how the extracted entities are related to each other.\\n\\nI expect the Relation Extraction Agent to extract at least the following relations:\\n\\n* Corfe Castle railway station is located on Swanage Railway\\n* Corfe Castle railway station is located in the village of Corfe Castle\\n* Corfe Castle is located in the United Kingdom\\n\\nPlease call the Relation Extraction Agent to extract these relations and provide the output.\\n\\nAdditionally, I would like to see the Relation Extraction Agent provide a confidence score or a probability distribution over the extracted relations to indicate the uncertainty of the extraction process.\\n\\nPlease proceed with calling the Relation Extraction Agent and provide the updated output.\\n\\nThe next steps will be to detect URIs for the entities and relations in the Knowledge Graph.\\n\\nI will continue to monitor the process and provide feedback until a reasonable result is achieved. \\n\\nPlease provide the updated output of the Relation Extraction Agent. \\n\\nThe current position in the plan is Step 2: **Relation Extraction**. \\n\\nHere is the full plan for reference:\\n\\n1. **Entity Extraction**: Extract entities from the input text using the Entity Extraction Agent.\\n2. **Relation Extraction**: Extract relations among the extracted entities using the Relation Extraction Agent.\\n3. **URI Detection for Entities**: Detect URIs for the extracted entities in the Knowledge Graph using the URI Detection Agent.\\n4. **URI Detection for Relations**: Detect URIs for the extracted relations in the Knowledge Graph using the URI Detection Agent.\\n5. **Iterative Refinement**: Refine the extracted information through iterative calls to the Entity Extraction Agent, Relation Extraction Agent, or URI Detection Agent, based on feedback from the previous steps.', additional_kwargs={'refusal': None}, response_metadata={'token_usage': {'completion_tokens': 442, 'prompt_tokens': 2420, 'total_tokens': 2862, 'completion_tokens_details': None, 'prompt_tokens_details': None, 'completion_tokens_after_first_per_sec': 519.89000757481, 'completion_tokens_after_first_per_sec_first_ten': 520.8047356737646, 'completion_tokens_per_sec': 373.4084806164733, 'end_time': 1741881850.9465454, 'is_last_response': True, 'start_time': 1741881849.762855, 'stop_reason': 'stop', 'time_to_first_token': 0.3354339599609375, 'total_latency': 1.1836903095245361, 'total_tokens_per_sec': 2417.8621527700147}, 'model_name': 'Meta-Llama-3.3-70B-Instruct', 'system_fingerprint': 'fastcoe', 'finish_reason': 'stop', 'logprobs': None}, id='run-8c8c7413-e891-4948-a0ef-56554c849d64-0', usage_metadata={'input_tokens': 2420, 'output_tokens': 442, 'total_tokens': 2862, 'input_token_details': {}, 'output_token_details': {}}),\n",
       "  AIMessage(content='Based on the provided information, we are currently at Step 2 of the plan: **Relation Extraction**. The Entity Extraction Agent has been called, and the output includes the following entities:\\n\\n* Corfe Castle railway station (1)\\n* Swanage Railway (1)\\n* Corfe Castle (1)\\n* United Kingdom (1)\\n\\nThe confidence scores for the extracted entities are all 1, indicating high confidence.\\n\\nThe next task is to call the **Relation Extraction Agent** to extract relations among the extracted entities. The Relation Extraction Agent should analyze the text to determine how the extracted entities are related to each other.\\n\\nI expect the Relation Extraction Agent to extract at least the following relations:\\n\\n* Corfe Castle railway station is located on Swanage Railway\\n* Corfe Castle railway station is located in the village of Corfe Castle\\n* Corfe Castle is located in the United Kingdom\\n\\nPlease call the Relation Extraction Agent to extract these relations and provide the output.\\n\\nAdditionally, I would like to see the Relation Extraction Agent provide a confidence score or a probability distribution over the extracted relations to indicate the uncertainty of the extraction process.\\n\\nHere is the full plan for reference:\\n\\n1. **Entity Extraction**: Extract entities from the input text using the Entity Extraction Agent.\\n2. **Relation Extraction**: Extract relations among the extracted entities using the Relation Extraction Agent.\\n3. **URI Detection for Entities**: Detect URIs for the extracted entities in the Knowledge Graph using the URI Detection Agent.\\n4. **URI Detection for Relations**: Detect URIs for the extracted relations in the Knowledge Graph using the URI Detection Agent.\\n5. **Iterative Refinement**: Refine the extracted information through iterative calls to the Entity Extraction Agent, Relation Extraction Agent, or URI Detection Agent, based on feedback from the previous steps.\\n\\nThe current position in the plan is Step 2: **Relation Extraction**. \\n\\nPlease proceed with calling the Relation Extraction Agent and provide the updated output.', additional_kwargs={'refusal': None}, response_metadata={'token_usage': {'completion_tokens': 388, 'prompt_tokens': 3339, 'total_tokens': 3727, 'completion_tokens_details': None, 'prompt_tokens_details': None, 'completion_tokens_after_first_per_sec': 479.7298373725677, 'completion_tokens_after_first_per_sec_first_ten': 482.7992213086595, 'completion_tokens_per_sec': 340.3765041668512, 'end_time': 1741881852.5890157, 'is_last_response': True, 'start_time': 1741881851.4460442, 'stop_reason': 'stop', 'time_to_first_token': 0.33626747131347656, 'total_latency': 1.139914169310006, 'total_tokens_per_sec': 3269.5444098707585}, 'model_name': 'Meta-Llama-3.3-70B-Instruct', 'system_fingerprint': 'fastcoe', 'finish_reason': 'stop', 'logprobs': None}, id='run-41c2887f-5126-4153-803c-60cee86e359a-0', usage_metadata={'input_tokens': 3339, 'output_tokens': 388, 'total_tokens': 3727, 'input_token_details': {}, 'output_token_details': {}}),\n",
       "  AIMessage(content='Based on the provided information, we are currently at Step 2 of the plan: **Relation Extraction**. The Entity Extraction Agent has been called, and the output includes the following entities:\\n\\n* Corfe Castle railway station (1)\\n* Swanage Railway (1)\\n* Corfe Castle (1)\\n* United Kingdom (1)\\n\\nThe confidence scores for the extracted entities are all 1, indicating high confidence.\\n\\nThe Relation Extraction Agent has been called, and the output includes the following relations:\\n\\n* Corfe Castle railway station, located on, Swanage Railway, 0.9\\n* Corfe Castle railway station, located in, Corfe Castle, 0.9\\n* Corfe Castle railway station, located in, United Kingdom, 0.9\\n* Swanage Railway, serves, Corfe Castle, 0.8\\n* Swanage Railway, located in, United Kingdom, 0.9\\n* Corfe Castle, located in, United Kingdom, 0.9\\n\\nThe confidence scores for the extracted relations are all above 0.8, indicating high confidence.\\n\\nTo improve the result, I suggest proceeding with the next step in the plan, which is **URI Detection for Entities**. The URI Detection Agent should analyze the extracted entities and detect their corresponding URIs in the Knowledge Graph.\\n\\nI expect the URI Detection Agent to detect at least the following URIs:\\n\\n* Corfe Castle railway station: https://example.org/Corfe_Castle_railway_station\\n* Swanage Railway: https://example.org/Swanage_Railway\\n* Corfe Castle: https://example.org/Corfe_Castle\\n* United Kingdom: https://example.org/United_Kingdom\\n\\nPlease call the URI Detection Agent to detect these URIs and provide the output.\\n\\nAdditionally, I would like to see the URI Detection Agent provide a confidence score or a probability distribution over the detected URIs to indicate the uncertainty of the detection process.\\n\\nHere is the full plan for reference:\\n\\n1. **Entity Extraction**: Extract entities from the input text using the Entity Extraction Agent.\\n2. **Relation Extraction**: Extract relations among the extracted entities using the Relation Extraction Agent.\\n3. **URI Detection for Entities**: Detect URIs for the extracted entities in the Knowledge Graph using the URI Detection Agent.\\n4. **URI Detection for Relations**: Detect URIs for the extracted relations in the Knowledge Graph using the URI Detection Agent.\\n5. **Iterative Refinement**: Refine the extracted information through iterative calls to the Entity Extraction Agent, Relation Extraction Agent, or URI Detection Agent, based on feedback from the previous steps.\\n\\nThe current position in the plan is Step 3: **URI Detection for Entities**.\\n\\nPlease proceed with calling the URI Detection Agent and provide the updated output. \\n\\nOnce the URIs for the entities are detected, we can proceed with detecting URIs for the relations and then refine the extracted information through iterative refinement. \\n\\nAfter that, we can generate the triples and insert them into the underlying knowledge graph. \\n\\nThe final output should contain just URIs of all relations and all entities and relations can be mapped into the underlying knowledge graph and all triples can be generated. \\n\\nThen I will include <FINISH_MAS> in my response. \\n\\nPlease provide the updated output of the URI Detection Agent.', additional_kwargs={'refusal': None}, response_metadata={'token_usage': {'completion_tokens': 670, 'prompt_tokens': 4119, 'total_tokens': 4789, 'completion_tokens_details': None, 'prompt_tokens_details': None, 'completion_tokens_after_first_per_sec': 454.7606089601469, 'completion_tokens_after_first_per_sec_first_ten': 460.2880304978872, 'completion_tokens_per_sec': 329.37399007575874, 'end_time': 1741881860.1211047, 'is_last_response': True, 'start_time': 1741881858.0714495, 'stop_reason': 'stop', 'time_to_first_token': 0.5785515308380127, 'total_latency': 2.034161834836729, 'total_tokens_per_sec': 2354.2866245862815}, 'model_name': 'Meta-Llama-3.3-70B-Instruct', 'system_fingerprint': 'fastcoe', 'finish_reason': 'stop', 'logprobs': None}, id='run-8051dbb5-cda4-4995-8cd3-a6804fe4fc51-0', usage_metadata={'input_tokens': 4119, 'output_tokens': 670, 'total_tokens': 4789, 'input_token_details': {}, 'output_token_details': {}})],\n",
       " 'instruction': ''}"
      ]
     },
     "execution_count": 12,
     "metadata": {},
     "output_type": "execute_result"
    }
   ],
   "execution_count": 12
  },
  {
   "metadata": {},
   "cell_type": "code",
   "outputs": [],
   "execution_count": null,
   "source": "",
   "id": "2e658581c2e4cbd"
  }
 ],
 "metadata": {
  "kernelspec": {
   "display_name": "Python 3",
   "language": "python",
   "name": "python3"
  },
  "language_info": {
   "codemirror_mode": {
    "name": "ipython",
    "version": 2
   },
   "file_extension": ".py",
   "mimetype": "text/x-python",
   "name": "python",
   "nbconvert_exporter": "python",
   "pygments_lexer": "ipython2",
   "version": "2.7.6"
  }
 },
 "nbformat": 4,
 "nbformat_minor": 5
}
