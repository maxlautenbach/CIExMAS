{
 "cells": [
  {
   "metadata": {},
   "cell_type": "markdown",
   "source": "# Set up the environment",
   "id": "ee2562c4c6131147"
  },
  {
   "cell_type": "code",
   "id": "initial_id",
   "metadata": {
    "collapsed": true,
    "ExecuteTime": {
     "end_time": "2025-02-19T09:13:25.582549Z",
     "start_time": "2025-02-19T09:13:23.977552Z"
    }
   },
   "source": [
    "import helper_tools.parser as parser\n",
    "import importlib\n",
    "import pandas as pd\n",
    "\n",
    "importlib.reload(parser)\n",
    "\n",
    "relation_df, entity_df, docs = parser.redfm_parser(\"train\")\n",
    "predicate_set_df = relation_df[[\"predicate\", \"predicate_uri\"]].drop_duplicates()"
   ],
   "outputs": [
    {
     "data": {
      "text/plain": [
       "Fetching 22 files:   0%|          | 0/22 [00:00<?, ?it/s]"
      ],
      "application/vnd.jupyter.widget-view+json": {
       "version_major": 2,
       "version_minor": 0,
       "model_id": "fa6e36e6bb3e4faa961b65929b6b9f07"
      }
     },
     "metadata": {},
     "output_type": "display_data"
    },
    {
     "name": "stderr",
     "output_type": "stream",
     "text": [
      "100%|██████████| 10/10 [00:00<00:00, 8397.01it/s]\n"
     ]
    }
   ],
   "execution_count": 2
  },
  {
   "metadata": {
    "ExecuteTime": {
     "end_time": "2025-02-19T09:13:30.886652Z",
     "start_time": "2025-02-19T09:13:25.648787Z"
    }
   },
   "cell_type": "code",
   "source": [
    "from gen_ai_hub.proxy.langchain import init_embedding_model\n",
    "from dotenv import load_dotenv\n",
    "from gen_ai_hub.proxy.langchain.openai import ChatOpenAI\n",
    "from gen_ai_hub.proxy.core.proxy_clients import get_proxy_client\n",
    "\n",
    "load_dotenv()\n",
    "\n",
    "proxy_client = get_proxy_client('gen-ai-hub')\n",
    "model = ChatOpenAI(proxy_model_name='meta--llama3-70b-instruct', proxy_client=proxy_client)\n",
    "embeddings = init_embedding_model('text-embedding-3-large')"
   ],
   "id": "ce03b6964a4f3bc",
   "outputs": [],
   "execution_count": 3
  },
  {
   "metadata": {},
   "cell_type": "markdown",
   "source": "# Supervisor Agent",
   "id": "93bbd4c7c03dea58"
  },
  {
   "metadata": {
    "ExecuteTime": {
     "end_time": "2025-02-19T09:31:34.206760Z",
     "start_time": "2025-02-19T09:31:31.266897Z"
    }
   },
   "cell_type": "code",
   "source": [
    "import re\n",
    "\n",
    "text = \"Olaf Scholz is the chancellor of Germany.\"\n",
    "system_prompt = f\"\"\"\n",
    "You are the Supervisor of a conversation among multiple agents.\n",
    "The conversation is about extracting information (Closed Information Extraction) from a user-provided text. The final output should only contain URIs isntead of labels or descriptions of entities or relations.\n",
    "\n",
    "Agent Descriptions:\n",
    "- entity_extraction_agent: Extracts entities from the text. Can not take any instructions.\n",
    "- relation_extraction_agent: Extracts relations from the text. Can not take any instructions.\n",
    "- uri_detection_agent: Detects URIs for entities based on similarity search. The instruction is the search term, which the uri detection agent is searching for.\n",
    "\n",
    "You have two options:\n",
    "1. Call an agent using <goto>agent_name</goto>. Replace agent_name with either entity_extraction_agent or relation_extraction_agent. I.e. <goto>entity_extraction_agent</goto>.\n",
    "2. Finish the conversation using <goto>FINISH</goto>. Please output the final relations in <relation> tags alongside with the <goto> tag.\n",
    "\n",
    "In addition to the options you can provide additional information to the agents using the <instruction> tag. I.e. <instruction>Search additional for entities that are not obvious.</instruction>.\n",
    "\n",
    "Note:\n",
    "- Do not provide any information yourself, instead use the agents for this.\n",
    "- The first <goto> tag in your response will be executed.\n",
    "- Therefore, do include exact one agent call in your response.\n",
    "- If you output nothing, this will result in a NoneType Error.\n",
    "\n",
    "\n",
    "\"\"\"\n",
    "\n",
    "\n",
    "def supervisor(state):\n",
    "    # Stream the response and accumulate the tokens\n",
    "    response = model.invoke(state[\"messages\"])\n",
    "          \n",
    "    # Now extract the <goto> tag from the accumulated response\n",
    "    goto_match = re.search(r'<goto>(.*?)</goto>', response.content)\n",
    "    if goto_match:\n",
    "        goto = goto_match.group(1)\n",
    "    else:\n",
    "        goto = \"supervisor\"\n",
    "        \n",
    "    instruction_match = re.search(r'<instruction>(.*?)</instruction>', response.content)\n",
    "    if instruction_match:\n",
    "        instruction = instruction_match.group(1)\n",
    "    else:\n",
    "        instruction = \"\"\n",
    "        \n",
    "    print(f\"\\n\\n-- START OF OUTPUT (SUPERVISOR) --\\n\\n{response.content}\\n\\n-- END OF OUTPUT (NEXT: {goto} - INSTRUCTION: {instruction}) --\\n\\n\")\n",
    "    \n",
    "    return state[\"messages\"] + [response]\n",
    "\n",
    "messages = supervisor({\"messages\": [{\"role\": \"system\", \"content\": system_prompt}, {\"role\": \"user\", \"content\": text}], \"text\": text})\n",
    "messages = supervisor({\"messages\": messages + [{\"role\": \"assistant\", \"content\": \"Output of entity_extraction_agent: [Olaf Scholz, chancellor, Germany]\"}], \"text\": text})\n",
    "messages = supervisor({\"messages\": messages + [{\"role\": \"assistant\", \"content\": \"Output of relation_extraction_agent: <relation>Olaf Scholz;is chancellor of; Germany</relation><relation>Olaf Scholz;has job;chancellor</relation>\"}], \"text\": text})"
   ],
   "id": "575f739c7e7ec05f",
   "outputs": [
    {
     "name": "stdout",
     "output_type": "stream",
     "text": [
      "\n",
      "\n",
      "-- START OF OUTPUT (SUPERVISOR) --\n",
      "\n",
      "<goto>entity_extraction_agent</goto>\n",
      "\n",
      "-- END OF OUTPUT (NEXT: entity_extraction_agent - INSTRCUTION: ) --\n",
      "\n",
      "\n",
      "\n",
      "\n",
      "-- START OF OUTPUT (SUPERVISOR) --\n",
      "\n",
      "<instruction>Olaf Scholz</instruction><goto>uri_detection_agent</goto>\n",
      "\n",
      "-- END OF OUTPUT (NEXT: uri_detection_agent - INSTRCUTION: Olaf Scholz) --\n",
      "\n",
      "\n",
      "\n",
      "\n",
      "-- START OF OUTPUT (SUPERVISOR) --\n",
      "\n",
      "<instruction>chancellor</instruction><goto>uri_detection_agent</goto>\n",
      "\n",
      "-- END OF OUTPUT (NEXT: uri_detection_agent - INSTRCUTION: chancellor) --\n",
      "\n",
      "\n"
     ]
    }
   ],
   "execution_count": 14
  },
  {
   "metadata": {},
   "cell_type": "markdown",
   "source": "# URI Detection Agent",
   "id": "8419635f9b6d8fad"
  },
  {
   "metadata": {
    "ExecuteTime": {
     "end_time": "2025-02-19T09:13:34.582046Z",
     "start_time": "2025-02-19T09:13:30.901954Z"
    }
   },
   "cell_type": "code",
   "source": [
    "import faiss\n",
    "from langchain_community.docstore.in_memory import InMemoryDocstore\n",
    "from langchain_community.vectorstores import FAISS\n",
    "from langchain_core.documents import Document\n",
    "\n",
    "index = faiss.IndexFlatL2(len(embeddings.embed_query(\"hello world\")))\n",
    "\n",
    "vector_store = FAISS(\n",
    "    embedding_function=embeddings,\n",
    "    index=index,\n",
    "    docstore=InMemoryDocstore(),\n",
    "    index_to_docstore_id={},\n",
    ")\n",
    "\n",
    "documents = []\n",
    "entity_set = entity_df[['entity', 'entity_uri']].drop_duplicates()\n",
    "for index, row in entity_set.iterrows():\n",
    "    documents.append(Document(\n",
    "        page_content=row[\"entity\"],\n",
    "        metadata={\"uri\": row[\"entity_uri\"]},\n",
    "    ))\n",
    "    \n",
    "vector_store.add_documents(documents=documents)"
   ],
   "id": "a55ea9be3413cdf8",
   "outputs": [
    {
     "data": {
      "text/plain": [
       "['200f9179-a5bb-4d9d-9e3b-d365aaf45647',\n",
       " '3fff9238-8c40-4a35-a3dc-ce999e212ba6',\n",
       " '5a9df054-83b1-474a-976e-180ba877d3df',\n",
       " '0e06fe7f-2a20-4f06-a479-d1e37663f11e',\n",
       " 'f168453e-c72d-4b9e-84a4-08791d41e230',\n",
       " 'ed80ca3d-8bc2-4c7d-819f-07c0269315ca',\n",
       " '103f7ac7-efee-4050-82e5-4bf325bf6275',\n",
       " 'aed4317e-9598-4370-b788-36f8622d0c98',\n",
       " '4581f1d0-aae1-4a74-b023-e2b2d78b501e',\n",
       " '316ee8a8-263b-4819-8995-a471526a4cd7',\n",
       " '4124c4f4-952b-4e7a-8373-bb3424853657',\n",
       " '4788f180-c8a4-436e-9c4d-b7ed769162ec',\n",
       " '104b6652-871a-45e1-9b0b-0d3c66431892',\n",
       " 'c58b8fc8-61a8-4b5c-be67-cb27f18ded96',\n",
       " '0019bc92-d2fd-44b8-8dd4-e9e9d727e5ca',\n",
       " 'af3445a1-e027-46f4-83c6-4d94bcd1e682',\n",
       " 'e1c2c699-549b-469b-9bd4-bba8a1b06e41',\n",
       " '073f18f8-0bb5-456a-a616-ee4b90541d50',\n",
       " '61179e3b-09ef-43a3-82a0-507dfb04508d',\n",
       " '3eb3f450-2e25-485a-9640-2ea0de0ebe8b',\n",
       " '7bd18465-ea60-437b-a6a6-0252cd2e8e75',\n",
       " '709d2572-6d74-476b-81f0-3ccd6f1807ba',\n",
       " 'e39e356b-39fe-4405-b28e-05990eec03a7',\n",
       " '1db81d3c-6552-4056-ab9b-9bba2a2787a8',\n",
       " 'dda9e061-ed02-4778-962d-5b8ab760f97a',\n",
       " '4e98b4ff-797b-405c-b094-4064f91e3647',\n",
       " '0552d4c3-75f2-4cad-bad6-5f6b24fd793f',\n",
       " '74eec93e-36c8-45c7-8149-49a27c43d5c4',\n",
       " '6aa2b8ec-7b67-4249-a187-4ac5f4473cf6',\n",
       " '16cf32a3-91af-4ca1-b347-37e7c0054834',\n",
       " '32729150-0c86-4d8f-a188-7281fa480867',\n",
       " 'a082e855-1c5e-428b-846b-c07244836260',\n",
       " 'f59f393b-8a75-44b4-9a5b-957bafac17f1',\n",
       " 'd7c52e08-ca4d-4bfc-82d0-d40457e0681b',\n",
       " '3ee53503-4c2d-458e-8b5a-788d97e71335',\n",
       " '125cb68f-9856-427b-8d6e-848e80629931',\n",
       " '073a3114-ee95-4650-8b68-fe8ae1c11b56',\n",
       " '3678187e-17f9-4b43-9c35-5c63ddc6ce2c',\n",
       " '81c39f17-44a7-474c-a9c3-43494379bd95',\n",
       " 'e15e7cce-d02c-466d-91fe-4a06969e5aa0',\n",
       " '691e6abe-03fb-4253-9f9f-8a718f94db8c',\n",
       " '3d529ab4-e1c5-463b-8d75-c28e47af2aaa',\n",
       " '8e173f60-8d60-477a-8680-bdc640fb077e',\n",
       " 'f60515d8-7fd7-4d0b-a675-66649f275247',\n",
       " '9b80b8fd-e977-41c6-80c3-4d2aa02e1e18',\n",
       " 'a3ba254e-ea3d-4756-b615-022357707827',\n",
       " 'eb1940d3-f78c-4df0-a2d4-16c8fe1a5355',\n",
       " '60300c69-8913-4b2d-a19a-67dc181e920f',\n",
       " '5e1901f5-c72c-41a0-b05d-cf77c86e313e',\n",
       " '40476e2d-8d47-4db0-8a92-39847e6cbac5',\n",
       " '9577bfac-9de7-4d23-9881-d9e1db57162a',\n",
       " 'b30f3e64-2a59-455a-b807-6c52dcc3e041',\n",
       " 'd744507a-afd2-482e-8bba-54732abc3d0f',\n",
       " '1ee5f719-02f8-4a33-80ed-1b30f7ee74dd',\n",
       " 'cc44fa54-57ef-4fbc-b9c5-b67bbe28ab85',\n",
       " '5ab37ee6-0ae4-4e43-89db-ae0f83619c7c',\n",
       " 'b77929bb-3b9f-4609-9dfc-8e111a930d1b',\n",
       " 'ab5b913d-b6a1-4c1f-8507-5ef6863ea795',\n",
       " '942d3406-a6c8-4f11-9f7e-2ee4e09edb73',\n",
       " '580906b4-43ec-4808-b56d-1a9cd20980f9',\n",
       " '3e940cf0-e8ec-433d-a859-13d3ff5babd4',\n",
       " '49f54f03-888b-4d49-a4a4-cbf3cd66f427',\n",
       " '330cf9cd-2e5c-48be-b3ad-6be97b266c1e',\n",
       " '2f05a8ef-56f8-4fd1-a1aa-c769464abfb1',\n",
       " '0c1c14ab-e717-4e1b-b468-87aafa012428',\n",
       " '6b1c6b77-3b8e-49e9-ae9e-6c898e67682d',\n",
       " 'e3f33148-5506-422e-baa2-5bca7b7be488',\n",
       " '23647544-0c80-4286-80c9-1b8a2263cf31',\n",
       " '4a21cb1d-ed40-443e-bf2e-e9952e18c776',\n",
       " 'ce59e57a-7469-43d8-aecb-cef3fab6af19',\n",
       " 'b5924eea-c509-4536-a749-a2f9b9c71a5f',\n",
       " 'c945f6f1-0ed4-4c89-90b8-065ee3b32513',\n",
       " '8008b723-4b1c-4830-b287-77d548870be7',\n",
       " '097a7015-347e-46c3-8550-e1da67c543e8',\n",
       " 'a7058132-74e4-4a07-a35f-143a5a10ebfb',\n",
       " '35ec10e7-6495-4c9e-86a4-bcf4518320dd',\n",
       " '46a1e175-ee17-4fc2-a5cb-7977b89d1774',\n",
       " 'fa0fa25a-021b-4841-a2da-53cc16d7b004',\n",
       " '96183e1d-8f1c-40ed-adc3-107875a8d005',\n",
       " 'df50989b-478b-4975-8275-bbb9aa02a3a3',\n",
       " '13406c12-340d-4e35-ae23-6b89c6d7b0da',\n",
       " '252dea95-c791-4b4c-b2f5-6ffd8c22e4aa',\n",
       " '061925d2-2898-4a6a-8d81-a4709d3b345f',\n",
       " '19d37817-61af-4f35-875b-64a8f903a5ca',\n",
       " 'b7cdb03d-37f7-4ad2-afa9-35e56746f7ee',\n",
       " '6b305fd3-b730-40ba-a0c6-4fd78da907d3',\n",
       " 'f2f4c175-58c8-4615-be08-ee8df16c9280',\n",
       " 'd7431a91-7467-4dbc-92f0-2f8fae58bfaa',\n",
       " '0fa7dc86-14e0-450c-8fa0-e18184b649a9',\n",
       " '59841da7-eae6-412f-ad43-ad39e295aea1',\n",
       " '82e86dae-83db-47eb-89b5-a911592b5259',\n",
       " '515b640e-6dd4-4083-a2db-9113b49bab93',\n",
       " '73362d57-2d05-433b-a30c-c240b70ed9f0',\n",
       " '45f5356d-1677-44f2-9033-183f3f39d7e3',\n",
       " 'da8dc5fa-a684-4d61-9472-e27d4c72bd74',\n",
       " '98365843-4f42-45f9-b605-91f8fbfd9020',\n",
       " '2eca3f16-ff72-42f3-be0a-4c558cc30aa7',\n",
       " '55b02fa1-76d9-426f-843e-3e401d3c370d',\n",
       " 'c79d390f-02ba-4739-a374-dc247aa12cbd',\n",
       " 'fb8c33ea-f461-4d7f-be26-34235f3b29b5',\n",
       " 'c9b4de7b-6e31-4452-ad59-a01fd4c344af',\n",
       " 'f02e5f0b-b927-4594-a09d-6f97f7273597']"
      ]
     },
     "execution_count": 4,
     "metadata": {},
     "output_type": "execute_result"
    }
   ],
   "execution_count": 4
  },
  {
   "metadata": {
    "ExecuteTime": {
     "end_time": "2025-02-19T09:20:54.101982Z",
     "start_time": "2025-02-19T09:20:53.760654Z"
    }
   },
   "cell_type": "code",
   "source": [
    "def uri_detection_agent(state):\n",
    "    response = vector_store.similarity_search_with_score(state[\"instructions\"], search_type=\"similarity\", k=5)\n",
    "    response = [{\"entity_label\": doc.page_content, \"uri\": doc.metadata[\"uri\"], \"similarity_score\": score} for doc, score in response]\n",
    "    return response\n",
    "\n",
    "uri_detection_agent({\"instructions\": \"Olaf Scholz is the chancellor of Germany.\"})"
   ],
   "id": "9a893984ec248417",
   "outputs": [
    {
     "data": {
      "text/plain": [
       "[{'entity_label': 'Emperor Franz Joseph I',\n",
       "  'uri': 'Q51056',\n",
       "  'score': 1.5264382},\n",
       " {'entity_label': 'Strobl', 'uri': 'Q667278', 'score': 1.5280107},\n",
       " {'entity_label': 'Austria', 'uri': 'Q40', 'score': 1.5771217},\n",
       " {'entity_label': 'Linz', 'uri': 'Q41329', 'score': 1.5819702},\n",
       " {'entity_label': 'Upper Austria', 'uri': 'Q41967', 'score': 1.6097589}]"
      ]
     },
     "execution_count": 11,
     "metadata": {},
     "output_type": "execute_result"
    }
   ],
   "execution_count": 11
  },
  {
   "metadata": {},
   "cell_type": "code",
   "outputs": [],
   "execution_count": null,
   "source": "",
   "id": "43f0b62ce3b020bf"
  }
 ],
 "metadata": {
  "kernelspec": {
   "display_name": "Python 3",
   "language": "python",
   "name": "python3"
  },
  "language_info": {
   "codemirror_mode": {
    "name": "ipython",
    "version": 2
   },
   "file_extension": ".py",
   "mimetype": "text/x-python",
   "name": "python",
   "nbconvert_exporter": "python",
   "pygments_lexer": "ipython2",
   "version": "2.7.6"
  }
 },
 "nbformat": 4,
 "nbformat_minor": 5
}
