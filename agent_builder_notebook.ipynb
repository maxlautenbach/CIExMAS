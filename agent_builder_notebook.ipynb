{
 "cells": [
  {
   "cell_type": "code",
   "id": "initial_id",
   "metadata": {
    "collapsed": true,
    "ExecuteTime": {
     "end_time": "2025-02-17T09:21:51.187953Z",
     "start_time": "2025-02-17T09:21:49.554878Z"
    }
   },
   "source": [
    "import helper_tools.parser as parser\n",
    "import importlib\n",
    "import pandas as pd\n",
    "\n",
    "importlib.reload(parser)\n",
    "\n",
    "relation_df, entity_df, docs = parser.redfm_parser(\"train\")\n",
    "predicate_set_df = relation_df[[\"predicate\", \"predicate_uri\"]].drop_duplicates()"
   ],
   "outputs": [
    {
     "data": {
      "text/plain": [
       "Fetching 22 files:   0%|          | 0/22 [00:00<?, ?it/s]"
      ],
      "application/vnd.jupyter.widget-view+json": {
       "version_major": 2,
       "version_minor": 0,
       "model_id": "61f1108076be4158a6c8e10869462ad4"
      }
     },
     "metadata": {},
     "output_type": "display_data"
    },
    {
     "name": "stderr",
     "output_type": "stream",
     "text": [
      "100%|██████████| 10/10 [00:00<00:00, 12303.62it/s]\n"
     ]
    }
   ],
   "execution_count": 1
  },
  {
   "metadata": {
    "ExecuteTime": {
     "end_time": "2025-02-17T09:32:59.294972Z",
     "start_time": "2025-02-17T09:32:59.265792Z"
    }
   },
   "cell_type": "code",
   "source": [
    "from dotenv import load_dotenv\n",
    "from gen_ai_hub.proxy.langchain.openai import ChatOpenAI\n",
    "from gen_ai_hub.proxy.core.proxy_clients import get_proxy_client\n",
    "\n",
    "load_dotenv()\n",
    "\n",
    "proxy_client = get_proxy_client('gen-ai-hub')\n",
    "model = ChatOpenAI(proxy_model_name='meta--llama3-70b-instruct', proxy_client=proxy_client)"
   ],
   "id": "ce03b6964a4f3bc",
   "outputs": [],
   "execution_count": 6
  },
  {
   "metadata": {},
   "cell_type": "markdown",
   "source": "# Supervisor Agent",
   "id": "93bbd4c7c03dea58"
  },
  {
   "metadata": {
    "ExecuteTime": {
     "end_time": "2025-02-17T09:33:04.647453Z",
     "start_time": "2025-02-17T09:33:00.834702Z"
    }
   },
   "cell_type": "code",
   "source": [
    "import re\n",
    "\n",
    "text = \"Olaf Scholz is the chancellor of Germany.\"\n",
    "system_prompt = f\"\"\"\n",
    "You are the Supervisor coordinating a conversation between two agents: entity_extraction_agent and relation_extraction_agent. Your goal is to extract information from the given text and convert it into triples for insertion into a knowledge graph.\n",
    "\n",
    "You can use exactly one of the following actions per response:\n",
    "1. Call an agent using: <goto>agent_name</goto> (where agent_name is either entity_extraction_agent or relation_extraction_agent).\n",
    "2. Finish the conversation using: <goto>FINISH</goto> and include the final result.\n",
    "\n",
    "Guidelines:\n",
    "- Do not provide any extraction information yourself; rely solely on the agents.\n",
    "- The very first <goto> tag in your response will be executed.\n",
    "- Only include one agent call in your response.\n",
    "- Providing no output will result in a NoneType Error.\n",
    "\n",
    "This is the text to process: {text}\n",
    "\"\"\"\n",
    "\n",
    "\n",
    "def supervisor(state):\n",
    "    # Stream the response and accumulate the tokens\n",
    "    response = model.invoke(state[\"messages\"])\n",
    "        \n",
    "    \n",
    "    \n",
    "    # Now extract the <goto> tag from the accumulated response\n",
    "    goto_match = re.search(r'<goto>(.*?)</goto>', response.content)\n",
    "    if goto_match:\n",
    "        goto = goto_match.group(1)\n",
    "    else:\n",
    "        goto = \"supervisor\"\n",
    "        \n",
    "    print(f\"\\n\\n-- START OF OUTPUT (SUPERVISOR) --\\n\\n{response.content}\\n\\n-- END OF OUTPUT (NEXT: {goto}) --\\n\\n\")\n",
    "    \n",
    "    return state[\"messages\"] + [response]\n",
    "\n",
    "messages = supervisor({\"messages\": [{\"role\": \"system\", \"content\": system_prompt}], \"text\": text})\n",
    "messages = supervisor({\"messages\": messages + [{\"role\": \"assistant\", \"content\": \"Output of entity_extraction_agent: [Olaf Scholz, chancellor, Germany]\"}], \"text\": text})\n",
    "messages = supervisor({\"messages\": messages + [{\"role\": \"assistant\", \"content\": \"Output of relation_extraction_agent: [[Olaf Scholz,is chancellor of, Germany], [Olaf Scholz, has job, chancellor]]\"}], \"text\": text})"
   ],
   "id": "575f739c7e7ec05f",
   "outputs": [
    {
     "name": "stdout",
     "output_type": "stream",
     "text": [
      "\n",
      "\n",
      "-- START OF OUTPUT (SUPERVISOR) --\n",
      "\n",
      "<goto>entity_extraction_agent</goto>\n",
      "\n",
      "-- END OF OUTPUT (NEXT: entity_extraction_agent) --\n",
      "\n",
      "\n",
      "\n",
      "\n",
      "-- START OF OUTPUT (SUPERVISOR) --\n",
      "\n",
      "<goto>relation_extraction_agent</goto>\n",
      "\n",
      "-- END OF OUTPUT (NEXT: relation_extraction_agent) --\n",
      "\n",
      "\n",
      "\n",
      "\n",
      "-- START OF OUTPUT (SUPERVISOR) --\n",
      "\n",
      "<goto>FINISH</goto> The final result is: [[Olaf Scholz,is chancellor of, Germany], [Olaf Scholz, has job, chancellor]]\n",
      "\n",
      "-- END OF OUTPUT (NEXT: FINISH) --\n",
      "\n",
      "\n"
     ]
    }
   ],
   "execution_count": 7
  },
  {
   "metadata": {},
   "cell_type": "code",
   "source": "",
   "id": "a55ea9be3413cdf8",
   "outputs": [],
   "execution_count": null
  }
 ],
 "metadata": {
  "kernelspec": {
   "display_name": "Python 3",
   "language": "python",
   "name": "python3"
  },
  "language_info": {
   "codemirror_mode": {
    "name": "ipython",
    "version": 2
   },
   "file_extension": ".py",
   "mimetype": "text/x-python",
   "name": "python",
   "nbconvert_exporter": "python",
   "pygments_lexer": "ipython2",
   "version": "2.7.6"
  }
 },
 "nbformat": 4,
 "nbformat_minor": 5
}
