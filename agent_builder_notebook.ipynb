{
 "cells": [
  {
   "cell_type": "code",
   "id": "initial_id",
   "metadata": {
    "collapsed": true,
    "ExecuteTime": {
     "end_time": "2025-02-17T07:51:09.038642Z",
     "start_time": "2025-02-17T07:51:06.101224Z"
    }
   },
   "source": [
    "import helper_tools.parser as parser\n",
    "import importlib\n",
    "import pandas as pd\n",
    "\n",
    "importlib.reload(parser)\n",
    "\n",
    "relation_df, entity_df, docs = parser.redfm_parser(\"train\")\n",
    "predicate_set_df = relation_df[[\"predicate\", \"predicate_uri\"]].drop_duplicates()"
   ],
   "outputs": [
    {
     "data": {
      "text/plain": [
       "Fetching 22 files:   0%|          | 0/22 [00:00<?, ?it/s]"
      ],
      "application/vnd.jupyter.widget-view+json": {
       "version_major": 2,
       "version_minor": 0,
       "model_id": "bcb56ed26d754725b87d4f3b6fac9680"
      }
     },
     "metadata": {},
     "output_type": "display_data"
    },
    {
     "name": "stderr",
     "output_type": "stream",
     "text": [
      "100%|██████████| 10/10 [00:00<00:00, 16506.51it/s]\n"
     ]
    }
   ],
   "execution_count": 1
  },
  {
   "metadata": {
    "ExecuteTime": {
     "end_time": "2025-02-17T07:51:12.812008Z",
     "start_time": "2025-02-17T07:51:10.508503Z"
    }
   },
   "cell_type": "code",
   "source": [
    "from langchain_ollama.chat_models import ChatOllama\n",
    "from langchain_ollama import OllamaEmbeddings\n",
    "import os\n",
    "from dotenv import load_dotenv\n",
    "\n",
    "load_dotenv()\n",
    "\n",
    "ollama_base_url = os.getenv(\"OLLAMA_BASE_URL\")\n",
    "\n",
    "model = ChatOllama(base_url=ollama_base_url, model=\"phi4\")\n",
    "embeddings = OllamaEmbeddings(base_url=ollama_base_url, model=\"nomic-embed-text\")"
   ],
   "id": "ce03b6964a4f3bc",
   "outputs": [],
   "execution_count": 2
  },
  {
   "metadata": {
    "ExecuteTime": {
     "end_time": "2025-02-17T08:01:33.773747Z",
     "start_time": "2025-02-17T08:01:23.073767Z"
    }
   },
   "cell_type": "code",
   "source": [
    "import re\n",
    "\n",
    "system_prompt = \"\"\"\n",
    "You are the Supervisor of a conversation among two agents: entity_extraction_agent and relation_extraction_agent.\n",
    "The conversation is about extracting information (Closed Information Extraction) from a user-provided text.\n",
    "\n",
    "You have two options:\n",
    "1. Call an agent using <goto>agent_name</goto>. Replace agent_name with either entity_extraction_agent or relation_extraction_agent. I.e. <goto>entity_extraction_agent</goto>.\n",
    "2. Finish the conversation using <goto>FINISH</goto>. Please also output the final result.\n",
    "\n",
    "Note:\n",
    "- Do not provide any information yourself, instead use the agents for this.\n",
    "- The first <goto> tag in your response will be executed.\n",
    "- Therefore, do include exactly one agent call in your response.\n",
    "- If you output nothing, this will result in a NoneType Error.\n",
    "\"\"\"\n",
    "\n",
    "messages = [{\"role\": \"system\", \"content\": system_prompt}]\n",
    "\n",
    "# Stream the response and accumulate the tokens\n",
    "full_response = \"\"\n",
    "response = model.stream(messages)\n",
    "for s in response:\n",
    "    print(s.content, end=\"\")  # Optionally print tokens as they arrive\n",
    "    full_response += s.content\n",
    "\n",
    "# Now extract the <goto> tag from the accumulated response\n",
    "goto_match = re.search(r'<goto>(.*?)</goto>', full_response)\n",
    "if goto_match:\n",
    "    goto = goto_match.group(1)\n",
    "    print(f\"\\n\\nGoto: {goto}\")"
   ],
   "id": "575f739c7e7ec05f",
   "outputs": [
    {
     "name": "stdout",
     "output_type": "stream",
     "text": [
      "To proceed with extracting information from the provided text, I will start by identifying and extracting relevant entities within the text. This will allow us to understand what key elements are present before exploring their relationships.\n",
      "\n",
      "<goto>entity_extraction_agent</goto>  \n",
      "Please provide the text you would like analyzed for entity extraction.\n",
      "\n",
      "Goto: entity_extraction_agent\n"
     ]
    }
   ],
   "execution_count": 8
  },
  {
   "metadata": {},
   "cell_type": "code",
   "outputs": [],
   "execution_count": null,
   "source": "",
   "id": "a55ea9be3413cdf8"
  }
 ],
 "metadata": {
  "kernelspec": {
   "display_name": "Python 3",
   "language": "python",
   "name": "python3"
  },
  "language_info": {
   "codemirror_mode": {
    "name": "ipython",
    "version": 2
   },
   "file_extension": ".py",
   "mimetype": "text/x-python",
   "name": "python",
   "nbconvert_exporter": "python",
   "pygments_lexer": "ipython2",
   "version": "2.7.6"
  }
 },
 "nbformat": 4,
 "nbformat_minor": 5
}
