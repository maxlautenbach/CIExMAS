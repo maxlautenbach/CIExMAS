{
 "cells": [
  {
   "metadata": {},
   "cell_type": "markdown",
   "source": "# Set up the environment",
   "id": "ee2562c4c6131147"
  },
  {
   "cell_type": "code",
   "id": "initial_id",
   "metadata": {
    "collapsed": true,
    "ExecuteTime": {
     "end_time": "2025-02-27T07:58:31.806637Z",
     "start_time": "2025-02-27T07:58:31.215762Z"
    }
   },
   "source": [
    "import helper_tools.parser as parser\n",
    "import importlib\n",
    "import pandas as pd\n",
    "\n",
    "importlib.reload(parser)\n",
    "\n",
    "relation_df, entity_df, docs = parser.redfm_parser(\"train\")\n",
    "predicate_set_df = relation_df[[\"predicate\", \"predicate_uri\"]].drop_duplicates()"
   ],
   "outputs": [
    {
     "data": {
      "text/plain": [
       "Fetching 22 files:   0%|          | 0/22 [00:00<?, ?it/s]"
      ],
      "application/vnd.jupyter.widget-view+json": {
       "version_major": 2,
       "version_minor": 0,
       "model_id": "5b2486437c3d413c9f171fa8c2aea9bb"
      }
     },
     "metadata": {},
     "output_type": "display_data"
    },
    {
     "name": "stderr",
     "output_type": "stream",
     "text": [
      "100%|██████████| 10/10 [00:00<00:00, 3187.65it/s]\n"
     ]
    }
   ],
   "execution_count": 27
  },
  {
   "metadata": {
    "ExecuteTime": {
     "end_time": "2025-02-27T07:58:32.706979Z",
     "start_time": "2025-02-27T07:58:32.476815Z"
    }
   },
   "cell_type": "code",
   "source": [
    "from gen_ai_hub.proxy.langchain import init_embedding_model\n",
    "from dotenv import load_dotenv\n",
    "from langchain_sambanova import ChatSambaNovaCloud\n",
    "\n",
    "load_dotenv()\n",
    "\n",
    "model = ChatSambaNovaCloud(\n",
    "    model=\"Meta-Llama-3.3-70B-Instruct\",\n",
    "    max_tokens=8192\n",
    ")\n",
    "embeddings = init_embedding_model('text-embedding-3-large')"
   ],
   "id": "ce03b6964a4f3bc",
   "outputs": [],
   "execution_count": 28
  },
  {
   "metadata": {
    "ExecuteTime": {
     "end_time": "2025-02-27T07:58:34.360333Z",
     "start_time": "2025-02-27T07:58:34.349382Z"
    }
   },
   "cell_type": "code",
   "source": [
    "target_doc = docs.iloc[2]\n",
    "doc_id = target_doc[\"docid\"]\n",
    "text = target_doc[\"text\"]\n",
    "text"
   ],
   "id": "8b1d9f4988461344",
   "outputs": [
    {
     "data": {
      "text/plain": [
       "'Club Sportivo Cienciano is a professional football club based in Cusco, Peru. The club was founded in 1901 and was originally the team of the students of the \"Ciencias y Artes\" School (Ciencias meaning science in Spanish), from which it takes its name. It gained worldwide recognition after defeating River Plate from Argentina in the finals of the 2003 Copa Sudamericana and Boca Juniors in the 2004 Recopa Sudamericana.'"
      ]
     },
     "execution_count": 29,
     "metadata": {},
     "output_type": "execute_result"
    }
   ],
   "execution_count": 29
  },
  {
   "metadata": {},
   "cell_type": "markdown",
   "source": "# Supervisor Agent",
   "id": "93bbd4c7c03dea58"
  },
  {
   "metadata": {
    "ExecuteTime": {
     "end_time": "2025-02-27T07:58:40.551239Z",
     "start_time": "2025-02-27T07:58:35.887893Z"
    }
   },
   "cell_type": "code",
   "source": [
    "import re\n",
    "\n",
    "system_prompt = f\"\"\"\n",
    "You are the Supervisor of a conversation among multiple agents.\n",
    "The conversation is about extracting information (Closed Information Extraction) from a user-provided text. The final output should only contain URIs isntead of labels or descriptions of entities or relations.\n",
    "\n",
    "Agent Descriptions:\n",
    "- entity_extraction_agent: Extracts entities from the text. Can not take any instructions.\n",
    "- relation_extraction_agent: Extracts relations from the text. Can not take any instructions.\n",
    "- uri_detection_agent: Detects URIs for entities based on similarity search. The instruction is the search term, which the uri detection agent is searching for.\n",
    "\n",
    "You have two options:\n",
    "1. Call an agent using <goto>agent_name</goto>. Replace agent_name with either entity_extraction_agent or relation_extraction_agent. I.e. <goto>entity_extraction_agent</goto>.\n",
    "2. Finish the conversation using <goto>FINISH</goto>. Please output the final relations in <relation> tags alongside with the <goto> tag.\n",
    "\n",
    "In addition to the options you can provide additional information to the agents using the <instruction> tag. I.e. <instruction>Search additional for entities that are not obvious.</instruction>.\n",
    "\n",
    "Note:\n",
    "- Do not provide any information yourself, instead use the agents for this.\n",
    "- The first <goto> tag in your response will be executed.\n",
    "- Therefore, do include exact one agent call in your response.\n",
    "- If you output nothing, this will result in a NoneType Error.\n",
    "\n",
    "\n",
    "\"\"\"\n",
    "\n",
    "\n",
    "def supervisor(state):\n",
    "    # Stream the response and accumulate the tokens\n",
    "    response = model.invoke(state[\"messages\"])\n",
    "          \n",
    "    # Now extract the <goto> tag from the accumulated response\n",
    "    goto_match = re.search(r'<goto>(.*?)</goto>', response.content)\n",
    "    if goto_match:\n",
    "        goto = goto_match.group(1)\n",
    "    else:\n",
    "        goto = \"supervisor\"\n",
    "        \n",
    "    instruction_match = re.search(r'<instruction>(.*?)</instruction>', response.content)\n",
    "    if instruction_match:\n",
    "        instruction = instruction_match.group(1)\n",
    "    else:\n",
    "        instruction = \"\"\n",
    "        \n",
    "    print(f\"\\n\\n-- START OF OUTPUT (SUPERVISOR) --\\n\\n{response.content}\\n\\n-- END OF OUTPUT (NEXT: {goto} - INSTRUCTION: {instruction}) --\\n\\n\")\n",
    "    \n",
    "    return state[\"messages\"] + [response]\n",
    "\n",
    "messages = supervisor({\"messages\": [{\"role\": \"system\", \"content\": system_prompt}, {\"role\": \"user\", \"content\": text}], \"text\": text})\n",
    "messages = supervisor({\"messages\": messages + [{\"role\": \"assistant\", \"content\": \"Output of entity_extraction_agent: [Olaf Scholz, chancellor, Germany]\"}], \"text\": text})\n",
    "messages = supervisor({\"messages\": messages + [{\"role\": \"assistant\", \"content\": \"Output of relation_extraction_agent: <relation>Olaf Scholz;is chancellor of; Germany</relation><relation>Olaf Scholz;has job;chancellor</relation>\"}], \"text\": text})"
   ],
   "id": "575f739c7e7ec05f",
   "outputs": [
    {
     "name": "stdout",
     "output_type": "stream",
     "text": [
      "\n",
      "\n",
      "-- START OF OUTPUT (SUPERVISOR) --\n",
      "\n",
      "<goto>entity_extraction_agent</goto>\n",
      "<instruction>Extract all entities from the provided text.</instruction>\n",
      "\n",
      "-- END OF OUTPUT (NEXT: entity_extraction_agent - INSTRUCTION: Extract all entities from the provided text.) --\n",
      "\n",
      "\n",
      "\n",
      "\n",
      "-- START OF OUTPUT (SUPERVISOR) --\n",
      "\n",
      "<goto>uri_detection_agent</goto>\n",
      "<instruction>Search for URIs of the entities: Club Sportivo Cienciano, Cusco, Peru, Ciencias y Artes, River Plate, Argentina, Copa Sudamericana, Boca Juniors, Recopa Sudamericana, 1901, 2003, 2004</instruction>\n",
      "\n",
      "-- END OF OUTPUT (NEXT: uri_detection_agent - INSTRUCTION: Search for URIs of the entities: Club Sportivo Cienciano, Cusco, Peru, Ciencias y Artes, River Plate, Argentina, Copa Sudamericana, Boca Juniors, Recopa Sudamericana, 1901, 2003, 2004) --\n",
      "\n",
      "\n",
      "\n",
      "\n",
      "-- START OF OUTPUT (SUPERVISOR) --\n",
      "\n",
      "<goto>relation_extraction_agent</goto>\n",
      "<instruction>Extract relations between entities from the provided text.</instruction>\n",
      "\n",
      "-- END OF OUTPUT (NEXT: relation_extraction_agent - INSTRUCTION: Extract relations between entities from the provided text.) --\n",
      "\n",
      "\n"
     ]
    }
   ],
   "execution_count": 30
  },
  {
   "metadata": {},
   "cell_type": "markdown",
   "source": "# URI Detection Agent",
   "id": "8419635f9b6d8fad"
  },
  {
   "metadata": {
    "ExecuteTime": {
     "end_time": "2025-02-26T12:45:32.822553Z",
     "start_time": "2025-02-26T12:45:28.824052Z"
    }
   },
   "cell_type": "code",
   "source": [
    "import faiss\n",
    "from langchain_community.docstore.in_memory import InMemoryDocstore\n",
    "from langchain_community.vectorstores import FAISS\n",
    "from langchain_core.documents import Document\n",
    "\n",
    "index = faiss.IndexFlatL2(len(embeddings.embed_query(\"hello world\")))\n",
    "\n",
    "vector_store = FAISS(\n",
    "    embedding_function=embeddings,\n",
    "    index=index,\n",
    "    docstore=InMemoryDocstore(),\n",
    "    index_to_docstore_id={},\n",
    ")\n",
    "\n",
    "documents = []\n",
    "entity_set = entity_df[['entity', 'entity_uri']].drop_duplicates()\n",
    "for index, row in entity_set.iterrows():\n",
    "    documents.append(Document(\n",
    "        page_content=row[\"entity\"],\n",
    "        metadata={\"uri\": row[\"entity_uri\"]},\n",
    "    ))\n",
    "    \n",
    "predicate_set_df = relation_df[[\"predicate\", \"predicate_uri\"]].drop_duplicates()\n",
    "for index, row in predicate_set_df.iterrows():\n",
    "    documents.append(Document(\n",
    "        page_content=row[\"predicate\"],\n",
    "        metadata={\"uri\": row[\"predicate_uri\"]},\n",
    "    ))\n",
    "    \n",
    "faiss_document_ids = vector_store.add_documents(documents=documents)"
   ],
   "id": "a55ea9be3413cdf8",
   "outputs": [],
   "execution_count": 14
  },
  {
   "metadata": {
    "ExecuteTime": {
     "end_time": "2025-02-26T12:48:19.022854Z",
     "start_time": "2025-02-26T12:48:18.601702Z"
    }
   },
   "cell_type": "code",
   "source": [
    "def uri_detection_agent(state):\n",
    "    search_terms = state[\"instruction\"].split(\",\")\n",
    "    response = \"\"\n",
    "    for term in search_terms:\n",
    "        response += f'Detection Result for {term}:{[{\"label\": doc.page_content, \"uri\": doc.metadata[\"uri\"], \"score\": score} for doc, score in vector_store.similarity_search_with_score(term, search_type=\"similarity\", k=3)]}\\n\\n'\n",
    "    response = response.replace(\"},\", \"},\\n\")\n",
    "    return Command(goto=\"supervisor\", update={\"messages\": state[\"messages\"] + [response], \"instruction\": \"\"})\n",
    "\n",
    "print(uri_detection_agent({\"instruction\": \"Peru, Cusco\", \"messages\": []}).update[\"messages\"][-1])"
   ],
   "id": "9a893984ec248417",
   "outputs": [
    {
     "name": "stdout",
     "output_type": "stream",
     "text": [
      "Detection Result for Peru:[{'label': 'Cusco', 'uri': 'http://www.wikidata.org/entity/Q5582862', 'score': 0.75133276},\n",
      " {'label': 'Argentina', 'uri': 'http://www.wikidata.org/entity/Q414', 'score': 1.1657093},\n",
      " {'label': 'Austria', 'uri': 'http://www.wikidata.org/entity/Q40', 'score': 1.348447}]\n",
      "\n",
      "Detection Result for  Cusco:[{'label': 'Cusco', 'uri': 'http://www.wikidata.org/entity/Q5582862', 'score': 0.17139363},\n",
      " {'label': 'Cienciano', 'uri': 'http://www.wikidata.org/entity/Q602482', 'score': 1.1785243},\n",
      " {'label': 'Argentina', 'uri': 'http://www.wikidata.org/entity/Q414', 'score': 1.3753572}]\n",
      "\n",
      "\n"
     ]
    }
   ],
   "execution_count": 21
  },
  {
   "metadata": {},
   "cell_type": "markdown",
   "source": "# Entity Extraction Agent",
   "id": "126c4c31ad9c3872"
  },
  {
   "metadata": {
    "ExecuteTime": {
     "end_time": "2025-02-21T08:57:13.639895Z",
     "start_time": "2025-02-21T08:57:10.022879Z"
    }
   },
   "cell_type": "code",
   "source": [
    "from langgraph.types import Command\n",
    "from langchain_core.prompts import PromptTemplate\n",
    "\n",
    "\n",
    "def entity_extraction_agent(state):\n",
    "    prompt_template = PromptTemplate.from_template(\"\"\"\n",
    "    You are an agent tasked with extracting entities from a given text for linking to a knowledge graph. Your job is to capture every entity—both explicit and implicit—and return them as an array. This includes composite entities with modifiers (e.g., \"professional football club\"). Please output the entities as an array of strings. Do not include any further information or comment in the output.\n",
    "    \n",
    "    Example Output: [Olaf Scholz, chancellor, Germany]\n",
    "    \n",
    "    Guidelines:\n",
    "    - An entity is a unique real-world object or concept represented as a node with its properties and relationships.\n",
    "    - Extract every entity mentioned in the text, including those that are not immediately obvious.\n",
    "    - For composite entities, include the full descriptive phrase and break it into its core components when appropriate. For example, \"chancellor of Germany\" should yield [chancellor, Germany] and \"professional football club\" should capture the descriptive phrase as needed.\n",
    "    - For composite entities that include a date at the beginning or end, extract the date separately, the entity without the date, and the full composite (e.g., \"2022 Winter Olympics\" should result in [2022, 2022 Winter Olympics, Winter Olympics]).\n",
    "    - Also, ensure that dates are extracted as entities.\n",
    "    \n",
    "    Instruction: {instruction}\n",
    "    \n",
    "    Text: {text}\n",
    "    \"\"\")\n",
    "\n",
    "\n",
    "\n",
    "    chain = prompt_template | model\n",
    "    \n",
    "    response = chain.invoke({\"text\": state[\"text\"], \"instruction\": state[\"instruction\"]})\n",
    "    \n",
    "    print(f\"-- START OF OUTPUT (entity_extraction_agent) --\\n\\n\", response.content, \"\\n\\n-- END OF OUTPUT --\\n\\n\")\n",
    "    \n",
    "    return Command(goto=\"supervisor\", update={\"messages\": state[\"messages\"] + [response], \"instruction\": \"\"})\n",
    "\n",
    "response = entity_extraction_agent({\"text\": text, \"messages\": [], \"instruction\": \"Extract entities from the text.\"})\n",
    "\n",
    "text"
   ],
   "id": "c2c72e59037a5037",
   "outputs": [
    {
     "name": "stdout",
     "output_type": "stream",
     "text": [
      "-- START OF OUTPUT (entity_extraction_agent) --\n",
      "\n",
      " [Club Sportivo Cienciano, professional football club, Cusco, Peru, 1901, Ciencias y Artes School, River Plate, Argentina, 2003, Copa Sudamericana, Boca Juniors, 2004, Recopa Sudamericana] \n",
      "\n",
      "-- END OF OUTPUT --\n",
      "\n",
      "\n"
     ]
    },
    {
     "data": {
      "text/plain": [
       "'Club Sportivo Cienciano is a professional football club based in Cusco, Peru. The club was founded in 1901 and was originally the team of the students of the \"Ciencias y Artes\" School (Ciencias meaning science in Spanish), from which it takes its name. It gained worldwide recognition after defeating River Plate from Argentina in the finals of the 2003 Copa Sudamericana and Boca Juniors in the 2004 Recopa Sudamericana.'"
      ]
     },
     "execution_count": 39,
     "metadata": {},
     "output_type": "execute_result"
    }
   ],
   "execution_count": 39
  },
  {
   "metadata": {
    "ExecuteTime": {
     "end_time": "2025-02-21T08:52:11.294683Z",
     "start_time": "2025-02-21T08:52:11.284737Z"
    }
   },
   "cell_type": "code",
   "source": "sorted(entity_df[entity_df[\"docid\"] == doc_id][\"entity\"].to_list())",
   "id": "6c18a9bd983af6eb",
   "outputs": [
    {
     "data": {
      "text/plain": [
       "['1901',\n",
       " '2003',\n",
       " '2004',\n",
       " '2004 Recopa Sudamericana',\n",
       " 'Argentina',\n",
       " 'Boca Juniors',\n",
       " 'Cienciano',\n",
       " 'Copa Sudamericana',\n",
       " 'Cusco',\n",
       " 'River Plate',\n",
       " 'football']"
      ]
     },
     "execution_count": 37,
     "metadata": {},
     "output_type": "execute_result"
    }
   ],
   "execution_count": 37
  },
  {
   "metadata": {},
   "cell_type": "markdown",
   "source": "# Relation Extraction Agent",
   "id": "a64e2206f3a746fb"
  },
  {
   "metadata": {
    "ExecuteTime": {
     "end_time": "2025-02-26T10:22:02.552791Z",
     "start_time": "2025-02-26T10:21:56.435966Z"
    }
   },
   "cell_type": "code",
   "source": [
    "from langgraph.types import Command\n",
    "from langchain_core.prompts import PromptTemplate\n",
    "\n",
    "def relation_extraction_agent(state):\n",
    "    prompt_template = PromptTemplate.from_template(\n",
    "    \"\"\"\n",
    "    You are a relation extraction agent. Your task is to analyze the provided text and extract all semantic relations present. Each relation must be output in the exact format:\n",
    "    \n",
    "    <relation>subject;predicate;object</relation>\n",
    "    \n",
    "    (For example: <relation>Olaf Scholz;is chancellor of;Germany</relation>).\n",
    "    \n",
    "    Guidelines:\n",
    "    - **Extraction Scope:** Extract only the relations explicitly mentioned in the text. Additionally, if the text implies a relation or if a relation can be inferred using the provided entity list, include that relation.\n",
    "    - **Utilize Provided Entities:** Use the provided list of extracted entities to ensure that all relevant relations are captured. For example, if \"technology\" is in the list and the text indicates that the subject is a technology company, you must output: <relation>Apple;industry;technology</relation>.\n",
    "    - **Attribute Relations:** If an entity is described by a characteristic or category (e.g., renowned film director, prestigious university), automatically extract the corresponding attribute relation. For example, if the text states \"Steven Spielberg is a renowned film director\", extract: <relation>Steven Spielberg;profession;film director</relation>.\n",
    "    - **Formatting:** Each relation must strictly follow the format <relation>subject;predicate;object</relation> with no additional text or commentary.\n",
    "    - **Accuracy:** Only include relations that are clearly supported by the text or can be confidently inferred using the provided entity list.\n",
    "    \n",
    "    Instruction: {instruction}\n",
    "    \n",
    "    Text: {text}\n",
    "    \"\"\"\n",
    "    )\n",
    "\n",
    "    chain = prompt_template | model\n",
    "    response = chain.invoke({\"text\": state[\"text\"], \"instruction\": state[\"instruction\"]})\n",
    "    \n",
    "    print(f\"-- START OF OUTPUT (relation_extraction_agent) --\\n\\n\", response.content, \"\\n\\n-- END OF OUTPUT --\\n\\n\")\n",
    "    \n",
    "    return Command(goto=\"supervisor\", update={\"messages\": state[\"messages\"] + [response], \"instruction\": \"\"})\n",
    "\n",
    "response = relation_extraction_agent({\"text\": text, \"messages\": [], \"instruction\": \"Please use the already extracted entities: ['1901', '2003','2004','2004 Recopa Sudamericana','Argentina','Boca Juniors','Cienciano','Copa Sudamericana','Cusco','River Plate','football']\"})"
   ],
   "id": "f738c264a10d771",
   "outputs": [
    {
     "name": "stdout",
     "output_type": "stream",
     "text": [
      "-- START OF OUTPUT (relation_extraction_agent) --\n",
      "\n",
      " <relation>Club Sportivo Cienciano;industry;football</relation>\n",
      "<relation>Club Sportivo Cienciano;founding year;1901</relation>\n",
      "<relation>Club Sportivo Cienciano;headquarters;Cusco</relation>\n",
      "<relation>Club Sportivo Cienciano;location;Peru</relation>\n",
      "<relation>Ciencias y Artes School;type;school</relation>\n",
      "<relation>Ciencias y Artes School;science category;science</relation>\n",
      "<relation>Club Sportivo Cienciano;team;students</relation>\n",
      "<relation>Club Sportivo Cienciano;tournament;2003 Copa Sudamericana</relation>\n",
      "<relation>Club Sportivo Cienciano;tournament;2004 Recopa Sudamericana</relation>\n",
      "<relation>Club Sportivo Cienciano;opponent;River Plate</relation>\n",
      "<relation>Club Sportivo Cienciano;opponent country;Argentina</relation>\n",
      "<relation>Club Sportivo Cienciano;match outcome;defeated</relation>\n",
      "<relation>River Plate;country;Argentina</relation>\n",
      "<relation>Club Sportivo Cienciano;opponent;Boca Juniors</relation>\n",
      "<relation>Boca Juniors;finalist team;2004 Recopa Sudamericana</relation>\n",
      "<relation>Club Sportivo Cienciano;award;worldwide recognition</relation>\n",
      "<relation>Club Sportivo Cienciano;basis of award;2003 Copa Sudamericana</relation>\n",
      "<relation>Club Sportivo Cienciano;basis of award;2004 Recopa Sudamericana</relation> \n",
      "\n",
      "-- END OF OUTPUT --\n",
      "\n",
      "\n"
     ]
    }
   ],
   "execution_count": 13
  },
  {
   "metadata": {
    "ExecuteTime": {
     "end_time": "2025-02-26T10:20:24.717412Z",
     "start_time": "2025-02-26T10:20:24.680576Z"
    }
   },
   "cell_type": "code",
   "source": "relation_df[relation_df[\"docid\"] == doc_id][[\"subject\", \"predicate\", \"object\"]]",
   "id": "e3dbf761bfa8f1bf",
   "outputs": [
    {
     "data": {
      "text/plain": [
       "       subject              predicate     object\n",
       "3    Cienciano                  sport   football\n",
       "4    Cienciano  headquarters location      Cusco\n",
       "5    Cienciano              inception       1901\n",
       "6  River Plate                country  Argentina"
      ],
      "text/html": [
       "<div>\n",
       "<style scoped>\n",
       "    .dataframe tbody tr th:only-of-type {\n",
       "        vertical-align: middle;\n",
       "    }\n",
       "\n",
       "    .dataframe tbody tr th {\n",
       "        vertical-align: top;\n",
       "    }\n",
       "\n",
       "    .dataframe thead th {\n",
       "        text-align: right;\n",
       "    }\n",
       "</style>\n",
       "<table border=\"1\" class=\"dataframe\">\n",
       "  <thead>\n",
       "    <tr style=\"text-align: right;\">\n",
       "      <th></th>\n",
       "      <th>subject</th>\n",
       "      <th>predicate</th>\n",
       "      <th>object</th>\n",
       "    </tr>\n",
       "  </thead>\n",
       "  <tbody>\n",
       "    <tr>\n",
       "      <th>3</th>\n",
       "      <td>Cienciano</td>\n",
       "      <td>sport</td>\n",
       "      <td>football</td>\n",
       "    </tr>\n",
       "    <tr>\n",
       "      <th>4</th>\n",
       "      <td>Cienciano</td>\n",
       "      <td>headquarters location</td>\n",
       "      <td>Cusco</td>\n",
       "    </tr>\n",
       "    <tr>\n",
       "      <th>5</th>\n",
       "      <td>Cienciano</td>\n",
       "      <td>inception</td>\n",
       "      <td>1901</td>\n",
       "    </tr>\n",
       "    <tr>\n",
       "      <th>6</th>\n",
       "      <td>River Plate</td>\n",
       "      <td>country</td>\n",
       "      <td>Argentina</td>\n",
       "    </tr>\n",
       "  </tbody>\n",
       "</table>\n",
       "</div>"
      ]
     },
     "execution_count": 11,
     "metadata": {},
     "output_type": "execute_result"
    }
   ],
   "execution_count": 11
  },
  {
   "metadata": {},
   "cell_type": "code",
   "outputs": [],
   "execution_count": null,
   "source": "",
   "id": "fb108b41dff454b2"
  }
 ],
 "metadata": {
  "kernelspec": {
   "display_name": "Python 3",
   "language": "python",
   "name": "python3"
  },
  "language_info": {
   "codemirror_mode": {
    "name": "ipython",
    "version": 2
   },
   "file_extension": ".py",
   "mimetype": "text/x-python",
   "name": "python",
   "nbconvert_exporter": "python",
   "pygments_lexer": "ipython2",
   "version": "2.7.6"
  }
 },
 "nbformat": 4,
 "nbformat_minor": 5
}
